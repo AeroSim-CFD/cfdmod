{
 "cells": [
  {
   "cell_type": "markdown",
   "metadata": {},
   "source": [
    "# Generate pressure coefficients"
   ]
  },
  {
   "cell_type": "markdown",
   "metadata": {},
   "source": [
    "The following steps are performed to obtain all the artifacts for pressure coefficient use case:\n",
    "\n",
    "1. Read parameters file\n",
    "2. Read Mesh description\n",
    "   * Its path can be specified\n",
    "   * Or it can be obtained from the simulation configuration file\n",
    "3. Read data\n",
    "   * For reference static pressure\n",
    "   * For body pressure data\n",
    "   * Slice from timestep range specified\n",
    "4. Transform pressure data into pressure coefficient\n",
    "5. Calculate pressure coefficient statistics\n",
    "6. Merge coefficient statistics with mesh description into VTK\n",
    "  \n",
    "  "
   ]
  },
  {
   "cell_type": "markdown",
   "metadata": {},
   "source": [
    "Initialize Path Manager"
   ]
  },
  {
   "cell_type": "code",
   "execution_count": 12,
   "metadata": {},
   "outputs": [],
   "source": [
    "from cfdmod.use_cases.pressure.path_manager import CpPathManager, copy_input_artifacts\n",
    "import pathlib\n",
    "\n",
    "path_manager = CpPathManager(output_path=pathlib.Path(\"./output/pressure\"))"
   ]
  },
  {
   "cell_type": "markdown",
   "metadata": {},
   "source": [
    "Read post-processing Cp config file"
   ]
  },
  {
   "cell_type": "code",
   "execution_count": 13,
   "metadata": {},
   "outputs": [
    {
     "data": {
      "text/plain": [
       "CpCaseConfig(pressure_coefficient={'default': CpConfig(number_of_chunks=10, timestep_range=(10000.0, 20000.0), reference_pressure='average', U_H=0.05, U_H_correction_factor=1, statistics=['min', 'max', 'std', 'mean', 'skewness', 'kurtosis', 'xtr_min', 'xtr_max', 'mean_qs'])}, extreme_values=ExtremeValuesParameters(CST_real=0.56, CST_sim=16.89, t=0.3, T0=6.0, T1=60.0, yR=1.4, time_scale_correction_factor=0.48))"
      ]
     },
     "execution_count": 13,
     "metadata": {},
     "output_type": "execute_result"
    }
   ],
   "source": [
    "from cfdmod.use_cases.pressure.cp_config import CpCaseConfig\n",
    "\n",
    "cfg_path = pathlib.Path(\"./fixtures/tests/pressure/cp_params.yaml\")\n",
    "post_proc_cfg = CpCaseConfig.from_file(cfg_path)\n",
    "cfg_lbl = \"default\"\n",
    "cfg = post_proc_cfg.pressure_coefficient[cfg_lbl]\n",
    "\n",
    "post_proc_cfg"
   ]
  },
  {
   "cell_type": "markdown",
   "metadata": {},
   "source": [
    "Read LNAS Mesh"
   ]
  },
  {
   "cell_type": "code",
   "execution_count": 14,
   "metadata": {},
   "outputs": [
    {
     "data": {
      "text/plain": [
       "('galpao', (1549, 3), (2915, 3))"
      ]
     },
     "execution_count": 14,
     "metadata": {},
     "output_type": "execute_result"
    }
   ],
   "source": [
    "from lnas import LnasFormat\n",
    "\n",
    "mesh_path = pathlib.Path(\"./fixtures/tests/pressure/galpao/galpao.lnas\")\n",
    "mesh = LnasFormat.from_file(mesh_path)\n",
    "\n",
    "mesh.name, mesh.geometry.vertices.shape, mesh.geometry.triangles.shape"
   ]
  },
  {
   "cell_type": "markdown",
   "metadata": {},
   "source": [
    "Read hist series and slice from the time range"
   ]
  },
  {
   "cell_type": "code",
   "execution_count": 15,
   "metadata": {},
   "outputs": [
    {
     "data": {
      "text/plain": [
       "(      point_idx       rho  time_step\n",
       " 2915          0  1.002515    10000.0\n",
       " 2915          0  1.002532    10001.0\n",
       " 2915          0  1.002549    10002.0\n",
       " 2915          0  1.002566    10003.0\n",
       " 2915          0  1.002583    10004.0\n",
       " ...         ...       ...        ...\n",
       " 2915          0  1.003020    10096.0\n",
       " 2915          0  1.003010    10097.0\n",
       " 2915          0  1.002998    10098.0\n",
       " 2915          0  1.002987    10099.0\n",
       " 2915          0  1.002974    10100.0\n",
       " \n",
       " [101 rows x 3 columns],\n",
       "       point_idx       rho  time_step\n",
       " 0             0  1.001819    10000.0\n",
       " 1             1  1.001838    10000.0\n",
       " 2             2  1.001808    10000.0\n",
       " 3             3  1.001851    10000.0\n",
       " 4             4  1.001835    10000.0\n",
       " ...         ...       ...        ...\n",
       " 2910       2910  1.002633    10100.0\n",
       " 2911       2911  1.002594    10100.0\n",
       " 2912       2912  1.002504    10100.0\n",
       " 2913       2913  1.002828    10100.0\n",
       " 2914       2914  1.002812    10100.0\n",
       " \n",
       " [294415 rows x 3 columns])"
      ]
     },
     "execution_count": 15,
     "metadata": {},
     "output_type": "execute_result"
    }
   ],
   "source": [
    "from cfdmod.use_cases.pressure.cp_data import filter_pressure_data\n",
    "import pandas as pd\n",
    "\n",
    "static_data_path = pathlib.Path(\n",
    "    \"./fixtures/tests/pressure/data/points.static_pressure.data.resampled.h5\"\n",
    ")\n",
    "body_data_path = pathlib.Path(\"./fixtures/tests/pressure/data/bodies.galpao.data.resampled.h5\")\n",
    "\n",
    "press_data: pd.DataFrame = pd.read_hdf(static_data_path)  # type: ignore\n",
    "body_data: pd.DataFrame = pd.read_hdf(body_data_path)  # type: ignore\n",
    "\n",
    "press_data, body_data = filter_pressure_data(press_data, body_data, cfg.timestep_range)\n",
    "\n",
    "press_data, body_data"
   ]
  },
  {
   "cell_type": "markdown",
   "metadata": {},
   "source": [
    "Transform pressure data into coefficient"
   ]
  },
  {
   "cell_type": "code",
   "execution_count": 16,
   "metadata": {},
   "outputs": [
    {
     "data": {
      "text/html": [
       "<div>\n",
       "<style scoped>\n",
       "    .dataframe tbody tr th:only-of-type {\n",
       "        vertical-align: middle;\n",
       "    }\n",
       "\n",
       "    .dataframe tbody tr th {\n",
       "        vertical-align: top;\n",
       "    }\n",
       "\n",
       "    .dataframe thead th {\n",
       "        text-align: right;\n",
       "    }\n",
       "</style>\n",
       "<table border=\"1\" class=\"dataframe\">\n",
       "  <thead>\n",
       "    <tr style=\"text-align: right;\">\n",
       "      <th></th>\n",
       "      <th>time_step</th>\n",
       "      <th>point_idx</th>\n",
       "      <th>cp</th>\n",
       "    </tr>\n",
       "  </thead>\n",
       "  <tbody>\n",
       "    <tr>\n",
       "      <th>0</th>\n",
       "      <td>10000.0</td>\n",
       "      <td>0</td>\n",
       "      <td>-0.311587</td>\n",
       "    </tr>\n",
       "    <tr>\n",
       "      <th>1</th>\n",
       "      <td>10000.0</td>\n",
       "      <td>1</td>\n",
       "      <td>-0.306326</td>\n",
       "    </tr>\n",
       "    <tr>\n",
       "      <th>2</th>\n",
       "      <td>10000.0</td>\n",
       "      <td>2</td>\n",
       "      <td>-0.314535</td>\n",
       "    </tr>\n",
       "    <tr>\n",
       "      <th>3</th>\n",
       "      <td>10000.0</td>\n",
       "      <td>3</td>\n",
       "      <td>-0.302966</td>\n",
       "    </tr>\n",
       "    <tr>\n",
       "      <th>4</th>\n",
       "      <td>10000.0</td>\n",
       "      <td>4</td>\n",
       "      <td>-0.307277</td>\n",
       "    </tr>\n",
       "    <tr>\n",
       "      <th>...</th>\n",
       "      <td>...</td>\n",
       "      <td>...</td>\n",
       "      <td>...</td>\n",
       "    </tr>\n",
       "    <tr>\n",
       "      <th>294410</th>\n",
       "      <td>10100.0</td>\n",
       "      <td>2910</td>\n",
       "      <td>-0.094988</td>\n",
       "    </tr>\n",
       "    <tr>\n",
       "      <th>294411</th>\n",
       "      <td>10100.0</td>\n",
       "      <td>2911</td>\n",
       "      <td>-0.105542</td>\n",
       "    </tr>\n",
       "    <tr>\n",
       "      <th>294412</th>\n",
       "      <td>10100.0</td>\n",
       "      <td>2912</td>\n",
       "      <td>-0.129440</td>\n",
       "    </tr>\n",
       "    <tr>\n",
       "      <th>294413</th>\n",
       "      <td>10100.0</td>\n",
       "      <td>2913</td>\n",
       "      <td>-0.043326</td>\n",
       "    </tr>\n",
       "    <tr>\n",
       "      <th>294414</th>\n",
       "      <td>10100.0</td>\n",
       "      <td>2914</td>\n",
       "      <td>-0.047446</td>\n",
       "    </tr>\n",
       "  </tbody>\n",
       "</table>\n",
       "<p>294415 rows × 3 columns</p>\n",
       "</div>"
      ],
      "text/plain": [
       "        time_step  point_idx        cp\n",
       "0         10000.0          0 -0.311587\n",
       "1         10000.0          1 -0.306326\n",
       "2         10000.0          2 -0.314535\n",
       "3         10000.0          3 -0.302966\n",
       "4         10000.0          4 -0.307277\n",
       "...           ...        ...       ...\n",
       "294410    10100.0       2910 -0.094988\n",
       "294411    10100.0       2911 -0.105542\n",
       "294412    10100.0       2912 -0.129440\n",
       "294413    10100.0       2913 -0.043326\n",
       "294414    10100.0       2914 -0.047446\n",
       "\n",
       "[294415 rows x 3 columns]"
      ]
     },
     "execution_count": 16,
     "metadata": {},
     "output_type": "execute_result"
    }
   ],
   "source": [
    "from cfdmod.use_cases.pressure.cp_data import transform_to_cp\n",
    "from cfdmod.utils import create_folders_for_file\n",
    "from cfdmod.use_cases.pressure.chunking import split_into_chunks\n",
    "\n",
    "cp_data = transform_to_cp(\n",
    "    press_data,\n",
    "    body_data,\n",
    "    reference_vel=cfg.U_H,\n",
    "    ref_press_mode=cfg.reference_pressure,\n",
    "    correction_factor=cfg.U_H_correction_factor,\n",
    ")\n",
    "\n",
    "timeseries_path = path_manager.get_cp_t_path(cfg_label=cfg_lbl)\n",
    "create_folders_for_file(timeseries_path)\n",
    "\n",
    "split_into_chunks(\n",
    "    time_series_df=cp_data,\n",
    "    number_of_chunks=cfg.number_of_chunks,\n",
    "    output_path=timeseries_path,\n",
    ")\n",
    "\n",
    "cp_data"
   ]
  },
  {
   "cell_type": "markdown",
   "metadata": {},
   "source": [
    "Calculate pressure coefficient statistics"
   ]
  },
  {
   "cell_type": "code",
   "execution_count": 17,
   "metadata": {},
   "outputs": [
    {
     "data": {
      "text/html": [
       "<div>\n",
       "<style scoped>\n",
       "    .dataframe tbody tr th:only-of-type {\n",
       "        vertical-align: middle;\n",
       "    }\n",
       "\n",
       "    .dataframe tbody tr th {\n",
       "        vertical-align: top;\n",
       "    }\n",
       "\n",
       "    .dataframe thead th {\n",
       "        text-align: right;\n",
       "    }\n",
       "</style>\n",
       "<table border=\"1\" class=\"dataframe\">\n",
       "  <thead>\n",
       "    <tr style=\"text-align: right;\">\n",
       "      <th></th>\n",
       "      <th>point_idx</th>\n",
       "      <th>cp_mean</th>\n",
       "      <th>cp_min</th>\n",
       "      <th>cp_max</th>\n",
       "      <th>cp_std</th>\n",
       "      <th>cp_skewness</th>\n",
       "      <th>cp_kurtosis</th>\n",
       "      <th>cp_xtr_min</th>\n",
       "      <th>cp_xtr_max</th>\n",
       "      <th>cp_mean_qs</th>\n",
       "    </tr>\n",
       "  </thead>\n",
       "  <tbody>\n",
       "    <tr>\n",
       "      <th>0</th>\n",
       "      <td>0</td>\n",
       "      <td>-0.090791</td>\n",
       "      <td>-0.311587</td>\n",
       "      <td>0.073436</td>\n",
       "      <td>0.112404</td>\n",
       "      <td>-0.289693</td>\n",
       "      <td>-1.070327</td>\n",
       "      <td>-0.600349</td>\n",
       "      <td>0.137658</td>\n",
       "      <td>-0.288167</td>\n",
       "    </tr>\n",
       "    <tr>\n",
       "      <th>1</th>\n",
       "      <td>1</td>\n",
       "      <td>-0.085373</td>\n",
       "      <td>-0.306326</td>\n",
       "      <td>0.078444</td>\n",
       "      <td>0.112650</td>\n",
       "      <td>-0.288853</td>\n",
       "      <td>-1.076454</td>\n",
       "      <td>-0.589541</td>\n",
       "      <td>0.148744</td>\n",
       "      <td>-0.282979</td>\n",
       "    </tr>\n",
       "    <tr>\n",
       "      <th>2</th>\n",
       "      <td>2</td>\n",
       "      <td>-0.092939</td>\n",
       "      <td>-0.314535</td>\n",
       "      <td>0.072865</td>\n",
       "      <td>0.112820</td>\n",
       "      <td>-0.284845</td>\n",
       "      <td>-1.066670</td>\n",
       "      <td>-0.606166</td>\n",
       "      <td>0.135865</td>\n",
       "      <td>-0.290960</td>\n",
       "    </tr>\n",
       "    <tr>\n",
       "      <th>3</th>\n",
       "      <td>3</td>\n",
       "      <td>-0.082793</td>\n",
       "      <td>-0.302966</td>\n",
       "      <td>0.079394</td>\n",
       "      <td>0.112221</td>\n",
       "      <td>-0.294024</td>\n",
       "      <td>-1.079342</td>\n",
       "      <td>-0.582874</td>\n",
       "      <td>0.151371</td>\n",
       "      <td>-0.279780</td>\n",
       "    </tr>\n",
       "    <tr>\n",
       "      <th>4</th>\n",
       "      <td>4</td>\n",
       "      <td>-0.086478</td>\n",
       "      <td>-0.307277</td>\n",
       "      <td>0.077303</td>\n",
       "      <td>0.112585</td>\n",
       "      <td>-0.289346</td>\n",
       "      <td>-1.076362</td>\n",
       "      <td>-0.591626</td>\n",
       "      <td>0.146256</td>\n",
       "      <td>-0.283981</td>\n",
       "    </tr>\n",
       "    <tr>\n",
       "      <th>...</th>\n",
       "      <td>...</td>\n",
       "      <td>...</td>\n",
       "      <td>...</td>\n",
       "      <td>...</td>\n",
       "      <td>...</td>\n",
       "      <td>...</td>\n",
       "      <td>...</td>\n",
       "      <td>...</td>\n",
       "      <td>...</td>\n",
       "      <td>...</td>\n",
       "    </tr>\n",
       "    <tr>\n",
       "      <th>2910</th>\n",
       "      <td>2910</td>\n",
       "      <td>-0.259323</td>\n",
       "      <td>-0.437477</td>\n",
       "      <td>-0.094988</td>\n",
       "      <td>0.107410</td>\n",
       "      <td>-0.078239</td>\n",
       "      <td>-1.323681</td>\n",
       "      <td>-0.886444</td>\n",
       "      <td>-0.213651</td>\n",
       "      <td>-0.425493</td>\n",
       "    </tr>\n",
       "    <tr>\n",
       "      <th>2911</th>\n",
       "      <td>2911</td>\n",
       "      <td>-0.213272</td>\n",
       "      <td>-0.343250</td>\n",
       "      <td>-0.105542</td>\n",
       "      <td>0.077080</td>\n",
       "      <td>-0.113505</td>\n",
       "      <td>-1.393316</td>\n",
       "      <td>-0.693567</td>\n",
       "      <td>-0.223940</td>\n",
       "      <td>-0.332912</td>\n",
       "    </tr>\n",
       "    <tr>\n",
       "      <th>2912</th>\n",
       "      <td>2912</td>\n",
       "      <td>-0.236093</td>\n",
       "      <td>-0.362013</td>\n",
       "      <td>-0.129440</td>\n",
       "      <td>0.076500</td>\n",
       "      <td>-0.115368</td>\n",
       "      <td>-1.420711</td>\n",
       "      <td>-0.735577</td>\n",
       "      <td>-0.273912</td>\n",
       "      <td>-0.353077</td>\n",
       "    </tr>\n",
       "    <tr>\n",
       "      <th>2913</th>\n",
       "      <td>2913</td>\n",
       "      <td>-0.228121</td>\n",
       "      <td>-0.474877</td>\n",
       "      <td>-0.043326</td>\n",
       "      <td>0.138243</td>\n",
       "      <td>-0.243726</td>\n",
       "      <td>-1.306376</td>\n",
       "      <td>-0.948914</td>\n",
       "      <td>-0.097602</td>\n",
       "      <td>-0.455479</td>\n",
       "    </tr>\n",
       "    <tr>\n",
       "      <th>2914</th>\n",
       "      <td>2914</td>\n",
       "      <td>-0.236111</td>\n",
       "      <td>-0.468474</td>\n",
       "      <td>-0.047446</td>\n",
       "      <td>0.133638</td>\n",
       "      <td>-0.175246</td>\n",
       "      <td>-1.320147</td>\n",
       "      <td>-0.939394</td>\n",
       "      <td>-0.110327</td>\n",
       "      <td>-0.450909</td>\n",
       "    </tr>\n",
       "  </tbody>\n",
       "</table>\n",
       "<p>2915 rows × 10 columns</p>\n",
       "</div>"
      ],
      "text/plain": [
       "      point_idx   cp_mean    cp_min    cp_max    cp_std  cp_skewness  \\\n",
       "0             0 -0.090791 -0.311587  0.073436  0.112404    -0.289693   \n",
       "1             1 -0.085373 -0.306326  0.078444  0.112650    -0.288853   \n",
       "2             2 -0.092939 -0.314535  0.072865  0.112820    -0.284845   \n",
       "3             3 -0.082793 -0.302966  0.079394  0.112221    -0.294024   \n",
       "4             4 -0.086478 -0.307277  0.077303  0.112585    -0.289346   \n",
       "...         ...       ...       ...       ...       ...          ...   \n",
       "2910       2910 -0.259323 -0.437477 -0.094988  0.107410    -0.078239   \n",
       "2911       2911 -0.213272 -0.343250 -0.105542  0.077080    -0.113505   \n",
       "2912       2912 -0.236093 -0.362013 -0.129440  0.076500    -0.115368   \n",
       "2913       2913 -0.228121 -0.474877 -0.043326  0.138243    -0.243726   \n",
       "2914       2914 -0.236111 -0.468474 -0.047446  0.133638    -0.175246   \n",
       "\n",
       "      cp_kurtosis  cp_xtr_min  cp_xtr_max  cp_mean_qs  \n",
       "0       -1.070327   -0.600349    0.137658   -0.288167  \n",
       "1       -1.076454   -0.589541    0.148744   -0.282979  \n",
       "2       -1.066670   -0.606166    0.135865   -0.290960  \n",
       "3       -1.079342   -0.582874    0.151371   -0.279780  \n",
       "4       -1.076362   -0.591626    0.146256   -0.283981  \n",
       "...           ...         ...         ...         ...  \n",
       "2910    -1.323681   -0.886444   -0.213651   -0.425493  \n",
       "2911    -1.393316   -0.693567   -0.223940   -0.332912  \n",
       "2912    -1.420711   -0.735577   -0.273912   -0.353077  \n",
       "2913    -1.306376   -0.948914   -0.097602   -0.455479  \n",
       "2914    -1.320147   -0.939394   -0.110327   -0.450909  \n",
       "\n",
       "[2915 rows x 10 columns]"
      ]
     },
     "execution_count": 17,
     "metadata": {},
     "output_type": "execute_result"
    }
   ],
   "source": [
    "from cfdmod.use_cases.pressure.zoning.processing import calculate_statistics\n",
    "\n",
    "cp_stats = calculate_statistics(\n",
    "    historical_data=cp_data,\n",
    "    statistics_to_apply=cfg.statistics,\n",
    "    variables=[\"cp\"],\n",
    "    group_by_key=\"point_idx\",\n",
    "    extreme_params=post_proc_cfg.extreme_values,\n",
    ")\n",
    "\n",
    "cp_stats"
   ]
  },
  {
   "cell_type": "markdown",
   "metadata": {},
   "source": [
    "Combine statistics with mesh and create a VTK object"
   ]
  },
  {
   "cell_type": "code",
   "execution_count": 18,
   "metadata": {},
   "outputs": [],
   "source": [
    "from cfdmod.api.vtk.write_vtk import write_polydata, create_polydata_for_cell_data\n",
    "\n",
    "polydata = create_polydata_for_cell_data(data=cp_stats, mesh=mesh.geometry)\n",
    "\n",
    "# OUTPUT 3: VTK cp_stats\n",
    "write_polydata(path_manager.get_vtp_path(cfg_label=\"default\"), polydata)"
   ]
  },
  {
   "cell_type": "markdown",
   "metadata": {},
   "source": [
    "Copy Input artifacts to output folder"
   ]
  },
  {
   "cell_type": "code",
   "execution_count": 19,
   "metadata": {},
   "outputs": [],
   "source": [
    "copy_input_artifacts(\n",
    "    cfg_path=cfg_path,\n",
    "    mesh_path=mesh_path,\n",
    "    static_data_path=static_data_path,\n",
    "    body_data_path=body_data_path,\n",
    "    path_manager=path_manager,\n",
    ")"
   ]
  }
 ],
 "metadata": {
  "kernelspec": {
   "display_name": "cfdmod-6zl7i90Q-py3.11",
   "language": "python",
   "name": "python3"
  },
  "language_info": {
   "codemirror_mode": {
    "name": "ipython",
    "version": 3
   },
   "file_extension": ".py",
   "mimetype": "text/x-python",
   "name": "python",
   "nbconvert_exporter": "python",
   "pygments_lexer": "ipython3",
   "version": "3.10.12"
  },
  "orig_nbformat": 4
 },
 "nbformat": 4,
 "nbformat_minor": 2
}
