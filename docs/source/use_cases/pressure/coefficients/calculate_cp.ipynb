{
 "cells": [
  {
   "cell_type": "markdown",
   "metadata": {},
   "source": [
    "# Generate pressure coefficients"
   ]
  },
  {
   "cell_type": "markdown",
   "metadata": {},
   "source": [
    "Initialize Path Manager"
   ]
  },
  {
   "cell_type": "code",
   "execution_count": 1,
   "metadata": {},
   "outputs": [],
   "source": [
    "from cfdmod.use_cases.pressure.path_manager import CpPathManager\n",
    "import pathlib\n",
    "\n",
    "path_manager = CpPathManager(output_path=pathlib.Path(\"./output/pressure\"))"
   ]
  },
  {
   "cell_type": "markdown",
   "metadata": {},
   "source": [
    "Read post-processing Cp config file"
   ]
  },
  {
   "cell_type": "code",
   "execution_count": 2,
   "metadata": {},
   "outputs": [
    {
     "data": {
      "text/plain": [
       "CpCaseConfig(pressure_coefficient={'default': CpConfig(number_of_chunks=10, timestep_range=(10000.0, 20000.0), reference_pressure='average', U_H=0.05, U_H_correction_factor=1, statistics=[BasicStatisticModel(stats='mean'), BasicStatisticModel(stats='rms'), BasicStatisticModel(stats='skewness'), BasicStatisticModel(stats='kurtosis'), ParameterizedStatisticModel(stats='min', params=ExtremeAbsoluteParamsModel(method_type='Absolute')), ParameterizedStatisticModel(stats='max', params=ExtremeAbsoluteParamsModel(method_type='Absolute')), ParameterizedStatisticModel(stats='max', params=ExtremeGumbelParamsModel(method_type='Gumbel', peak_duration=3.0, event_duration=600.0, n_subdivisions=10, non_exceedance_probability=1.4)), ParameterizedStatisticModel(stats='max', params=ExtremePeakParamsModel(method_type='Peak', peak_factor=3.0)), ParameterizedStatisticModel(stats='max', params=ExtremeMovingAverageParamsModel(method_type='Moving Average', window_size_real_scale=3.0)), ParameterizedStatisticModel(stats='mean_eq', params=MeanEquivalentParamsModel(time_scale_factor=0.61))])}, time_scale_conversion=TimeScaleParameters(CST_real=0.56, CST_sim=16.89))"
      ]
     },
     "execution_count": 2,
     "metadata": {},
     "output_type": "execute_result"
    }
   ],
   "source": [
    "from cfdmod.use_cases.pressure.cp_config import CpCaseConfig\n",
    "\n",
    "cfg_path = pathlib.Path(\"./fixtures/tests/pressure/cp_params.yaml\")\n",
    "post_proc_cfg = CpCaseConfig.from_file(cfg_path)\n",
    "\n",
    "post_proc_cfg"
   ]
  },
  {
   "cell_type": "markdown",
   "metadata": {},
   "source": [
    "Read LNAS Mesh"
   ]
  },
  {
   "cell_type": "code",
   "execution_count": 3,
   "metadata": {},
   "outputs": [
    {
     "data": {
      "text/plain": [
       "((1549, 3), (2915, 3))"
      ]
     },
     "execution_count": 3,
     "metadata": {},
     "output_type": "execute_result"
    }
   ],
   "source": [
    "from lnas import LnasFormat\n",
    "\n",
    "mesh_path = pathlib.Path(\"./fixtures/tests/pressure/galpao/galpao.lnas\")\n",
    "mesh = LnasFormat.from_file(mesh_path)\n",
    "\n",
    "mesh.geometry.vertices.shape, mesh.geometry.triangles.shape"
   ]
  },
  {
   "cell_type": "markdown",
   "metadata": {},
   "source": [
    "Read hist series"
   ]
  },
  {
   "cell_type": "code",
   "execution_count": 4,
   "metadata": {},
   "outputs": [],
   "source": [
    "import pandas as pd\n",
    "\n",
    "static_data_path = pathlib.Path(\n",
    "    \"./fixtures/tests/pressure/data/points.static_pressure.data.resampled.h5\"\n",
    ")\n",
    "body_data_path = pathlib.Path(\"./fixtures/tests/pressure/data/bodies.galpao.data.resampled.h5\")"
   ]
  },
  {
   "cell_type": "markdown",
   "metadata": {},
   "source": [
    "Process pressure coefficient use case"
   ]
  },
  {
   "cell_type": "code",
   "execution_count": 5,
   "metadata": {},
   "outputs": [
    {
     "ename": "ImportError",
     "evalue": "cannot import name 'ExtremeValuesParameters' from 'cfdmod.use_cases.pressure.extreme_values' (a:\\Aerosim\\Repositories\\cfdmod\\cfdmod\\use_cases\\pressure\\extreme_values.py)",
     "output_type": "error",
     "traceback": [
      "\u001b[1;31m---------------------------------------------------------------------------\u001b[0m",
      "\u001b[1;31mImportError\u001b[0m                               Traceback (most recent call last)",
      "Cell \u001b[1;32mIn[5], line 2\u001b[0m\n\u001b[0;32m      1\u001b[0m \u001b[38;5;28;01mfrom\u001b[39;00m \u001b[38;5;21;01mcfdmod\u001b[39;00m\u001b[38;5;21;01m.\u001b[39;00m\u001b[38;5;21;01mlogger\u001b[39;00m \u001b[38;5;28;01mimport\u001b[39;00m logger\n\u001b[1;32m----> 2\u001b[0m \u001b[38;5;28;01mfrom\u001b[39;00m \u001b[38;5;21;01mcfdmod\u001b[39;00m\u001b[38;5;21;01m.\u001b[39;00m\u001b[38;5;21;01muse_cases\u001b[39;00m\u001b[38;5;21;01m.\u001b[39;00m\u001b[38;5;21;01mpressure\u001b[39;00m\u001b[38;5;21;01m.\u001b[39;00m\u001b[38;5;21;01mcp_data\u001b[39;00m \u001b[38;5;28;01mimport\u001b[39;00m process_cp\n\u001b[0;32m      3\u001b[0m \u001b[38;5;28;01mfrom\u001b[39;00m \u001b[38;5;21;01mcfdmod\u001b[39;00m\u001b[38;5;21;01m.\u001b[39;00m\u001b[38;5;21;01muse_cases\u001b[39;00m\u001b[38;5;21;01m.\u001b[39;00m\u001b[38;5;21;01mpressure\u001b[39;00m\u001b[38;5;21;01m.\u001b[39;00m\u001b[38;5;21;01mpath_manager\u001b[39;00m \u001b[38;5;28;01mimport\u001b[39;00m copy_input_artifacts\n\u001b[0;32m      5\u001b[0m \u001b[38;5;28;01mfor\u001b[39;00m cfg_lbl, cfg \u001b[38;5;129;01min\u001b[39;00m post_proc_cfg\u001b[38;5;241m.\u001b[39mpressure_coefficient\u001b[38;5;241m.\u001b[39mitems():\n",
      "File \u001b[1;32ma:\\Aerosim\\Repositories\\cfdmod\\cfdmod\\use_cases\\pressure\\cp_data.py:10\u001b[0m\n\u001b[0;32m      8\u001b[0m \u001b[38;5;28;01mfrom\u001b[39;00m \u001b[38;5;21;01mcfdmod\u001b[39;00m\u001b[38;5;21;01m.\u001b[39;00m\u001b[38;5;21;01mapi\u001b[39;00m\u001b[38;5;21;01m.\u001b[39;00m\u001b[38;5;21;01mvtk\u001b[39;00m\u001b[38;5;21;01m.\u001b[39;00m\u001b[38;5;21;01mwrite_vtk\u001b[39;00m \u001b[38;5;28;01mimport\u001b[39;00m create_polydata_for_cell_data, write_polydata\n\u001b[0;32m      9\u001b[0m \u001b[38;5;28;01mfrom\u001b[39;00m \u001b[38;5;21;01mcfdmod\u001b[39;00m\u001b[38;5;21;01m.\u001b[39;00m\u001b[38;5;21;01mlogger\u001b[39;00m \u001b[38;5;28;01mimport\u001b[39;00m logger\n\u001b[1;32m---> 10\u001b[0m \u001b[38;5;28;01mfrom\u001b[39;00m \u001b[38;5;21;01mcfdmod\u001b[39;00m\u001b[38;5;21;01m.\u001b[39;00m\u001b[38;5;21;01muse_cases\u001b[39;00m\u001b[38;5;21;01m.\u001b[39;00m\u001b[38;5;21;01mpressure\u001b[39;00m\u001b[38;5;21;01m.\u001b[39;00m\u001b[38;5;21;01mchunking\u001b[39;00m \u001b[38;5;28;01mimport\u001b[39;00m (\n\u001b[0;32m     11\u001b[0m     HDFGroupInterface,\n\u001b[0;32m     12\u001b[0m     calculate_statistics_for_groups,\n\u001b[0;32m     13\u001b[0m     divide_timeseries_in_groups,\n\u001b[0;32m     14\u001b[0m )\n\u001b[0;32m     15\u001b[0m \u001b[38;5;28;01mfrom\u001b[39;00m \u001b[38;5;21;01mcfdmod\u001b[39;00m\u001b[38;5;21;01m.\u001b[39;00m\u001b[38;5;21;01muse_cases\u001b[39;00m\u001b[38;5;21;01m.\u001b[39;00m\u001b[38;5;21;01mpressure\u001b[39;00m\u001b[38;5;21;01m.\u001b[39;00m\u001b[38;5;21;01mcp_config\u001b[39;00m \u001b[38;5;28;01mimport\u001b[39;00m CpConfig\n\u001b[0;32m     16\u001b[0m \u001b[38;5;28;01mfrom\u001b[39;00m \u001b[38;5;21;01mcfdmod\u001b[39;00m\u001b[38;5;21;01m.\u001b[39;00m\u001b[38;5;21;01muse_cases\u001b[39;00m\u001b[38;5;21;01m.\u001b[39;00m\u001b[38;5;21;01mpressure\u001b[39;00m\u001b[38;5;21;01m.\u001b[39;00m\u001b[38;5;21;01mextreme_values\u001b[39;00m \u001b[38;5;28;01mimport\u001b[39;00m ExtremeValuesParameters\n",
      "File \u001b[1;32ma:\\Aerosim\\Repositories\\cfdmod\\cfdmod\\use_cases\\pressure\\chunking.py:9\u001b[0m\n\u001b[0;32m      6\u001b[0m \u001b[38;5;28;01mimport\u001b[39;00m \u001b[38;5;21;01mpandas\u001b[39;00m \u001b[38;5;28;01mas\u001b[39;00m \u001b[38;5;21;01mpd\u001b[39;00m\n\u001b[0;32m      7\u001b[0m \u001b[38;5;28;01mfrom\u001b[39;00m \u001b[38;5;21;01mlnas\u001b[39;00m \u001b[38;5;28;01mimport\u001b[39;00m LnasGeometry\n\u001b[1;32m----> 9\u001b[0m \u001b[38;5;28;01mfrom\u001b[39;00m \u001b[38;5;21;01mcfdmod\u001b[39;00m\u001b[38;5;21;01m.\u001b[39;00m\u001b[38;5;21;01muse_cases\u001b[39;00m\u001b[38;5;21;01m.\u001b[39;00m\u001b[38;5;21;01mpressure\u001b[39;00m\u001b[38;5;21;01m.\u001b[39;00m\u001b[38;5;21;01mextreme_values\u001b[39;00m \u001b[38;5;28;01mimport\u001b[39;00m ExtremeValuesParameters\n\u001b[0;32m     10\u001b[0m \u001b[38;5;28;01mfrom\u001b[39;00m \u001b[38;5;21;01mcfdmod\u001b[39;00m\u001b[38;5;21;01m.\u001b[39;00m\u001b[38;5;21;01muse_cases\u001b[39;00m\u001b[38;5;21;01m.\u001b[39;00m\u001b[38;5;21;01mpressure\u001b[39;00m\u001b[38;5;21;01m.\u001b[39;00m\u001b[38;5;21;01mstatistics\u001b[39;00m \u001b[38;5;28;01mimport\u001b[39;00m Statistics\n\u001b[0;32m     11\u001b[0m \u001b[38;5;28;01mfrom\u001b[39;00m \u001b[38;5;21;01mcfdmod\u001b[39;00m\u001b[38;5;21;01m.\u001b[39;00m\u001b[38;5;21;01muse_cases\u001b[39;00m\u001b[38;5;21;01m.\u001b[39;00m\u001b[38;5;21;01mpressure\u001b[39;00m\u001b[38;5;21;01m.\u001b[39;00m\u001b[38;5;21;01mzoning\u001b[39;00m\u001b[38;5;21;01m.\u001b[39;00m\u001b[38;5;21;01mprocessing\u001b[39;00m \u001b[38;5;28;01mimport\u001b[39;00m calculate_statistics\n",
      "\u001b[1;31mImportError\u001b[0m: cannot import name 'ExtremeValuesParameters' from 'cfdmod.use_cases.pressure.extreme_values' (a:\\Aerosim\\Repositories\\cfdmod\\cfdmod\\use_cases\\pressure\\extreme_values.py)"
     ]
    }
   ],
   "source": [
    "from cfdmod.logger import logger\n",
    "from cfdmod.use_cases.pressure.cp_data import process_cp\n",
    "from cfdmod.use_cases.pressure.path_manager import copy_input_artifacts\n",
    "\n",
    "for cfg_lbl, cfg in post_proc_cfg.pressure_coefficient.items():\n",
    "    logger.info(f\"Processing pressure coefficients for config {cfg_lbl} ...\")\n",
    "    process_cp(\n",
    "        pressure_data_path=static_data_path,\n",
    "        body_data_path=body_data_path,\n",
    "        cfg_label=cfg_lbl,\n",
    "        cfg=cfg,\n",
    "        mesh=mesh.geometry,\n",
    "        path_manager=path_manager,\n",
    "        extreme_params=post_proc_cfg.extreme_values,\n",
    "    )\n",
    "\n",
    "    logger.info(\"Copying input artifacts\")\n",
    "    copy_input_artifacts(\n",
    "        cfg_path=cfg_path,\n",
    "        mesh_path=mesh_path,\n",
    "        static_data_path=static_data_path,\n",
    "        body_data_path=body_data_path,\n",
    "        path_manager=path_manager,\n",
    "    )\n",
    "\n",
    "    logger.info(f\"Processed pressure coefficients for config {cfg_lbl}!\")"
   ]
  }
 ],
 "metadata": {
  "kernelspec": {
   "display_name": "cfdmod-6zl7i90Q-py3.11",
   "language": "python",
   "name": "python3"
  },
  "language_info": {
   "codemirror_mode": {
    "name": "ipython",
    "version": 3
   },
   "file_extension": ".py",
   "mimetype": "text/x-python",
   "name": "python",
   "nbconvert_exporter": "python",
   "pygments_lexer": "ipython3",
   "version": "3.10.11"
  },
  "orig_nbformat": 4
 },
 "nbformat": 4,
 "nbformat_minor": 2
}
