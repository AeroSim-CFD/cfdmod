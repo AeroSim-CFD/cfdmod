{
 "cells": [
  {
   "cell_type": "markdown",
   "metadata": {},
   "source": [
    "# Generate pressure coefficients"
   ]
  },
  {
   "cell_type": "markdown",
   "metadata": {},
   "source": [
    "Initialize Path Manager"
   ]
  },
  {
   "cell_type": "code",
   "execution_count": 13,
   "metadata": {},
   "outputs": [],
   "source": [
    "from cfdmod.use_cases.pressure.path_manager import CpPathManager, copy_input_artifacts\n",
    "import pathlib\n",
    "\n",
    "path_manager = CpPathManager(output_path=pathlib.Path(\"./output/pressure\"))"
   ]
  },
  {
   "cell_type": "markdown",
   "metadata": {},
   "source": [
    "Read post-processing Cp config file"
   ]
  },
  {
   "cell_type": "code",
   "execution_count": 14,
   "metadata": {},
   "outputs": [
    {
     "data": {
      "text/plain": [
       "CpCaseConfig(pressure_coefficient={'default': CpConfig(number_of_chunks=10, timestep_range=(10000.0, 20000.0), reference_pressure='average', U_H=0.05, U_H_correction_factor=1, statistics=['min', 'max', 'std', 'mean', 'skewness', 'kurtosis', 'xtr_min', 'xtr_max', 'mean_eq'])}, extreme_values=ExtremeValuesParameters(CST_real=0.56, CST_sim=16.89, extreme_model='Moving average', parameters={'window_size_real': 3}, time_scale_correction_factor=0.61))"
      ]
     },
     "execution_count": 14,
     "metadata": {},
     "output_type": "execute_result"
    }
   ],
   "source": [
    "from cfdmod.use_cases.pressure.cp_config import CpCaseConfig\n",
    "\n",
    "cfg_path = pathlib.Path(\"./fixtures/tests/pressure/cp_params.yaml\")\n",
    "post_proc_cfg = CpCaseConfig.from_file(cfg_path)\n",
    "\n",
    "post_proc_cfg"
   ]
  },
  {
   "cell_type": "markdown",
   "metadata": {},
   "source": [
    "Read LNAS Mesh"
   ]
  },
  {
   "cell_type": "code",
   "execution_count": 15,
   "metadata": {},
   "outputs": [
    {
     "data": {
      "text/plain": [
       "((1549, 3), (2915, 3))"
      ]
     },
     "execution_count": 15,
     "metadata": {},
     "output_type": "execute_result"
    }
   ],
   "source": [
    "from lnas import LnasFormat\n",
    "\n",
    "mesh_path = pathlib.Path(\"./fixtures/tests/pressure/galpao/galpao.lnas\")\n",
    "mesh = LnasFormat.from_file(mesh_path)\n",
    "\n",
    "mesh.geometry.vertices.shape, mesh.geometry.triangles.shape"
   ]
  },
  {
   "cell_type": "markdown",
   "metadata": {},
   "source": [
    "Read hist series"
   ]
  },
  {
   "cell_type": "code",
   "execution_count": 16,
   "metadata": {},
   "outputs": [],
   "source": [
    "import pandas as pd\n",
    "\n",
    "static_data_path = pathlib.Path(\n",
    "    \"./fixtures/tests/pressure/data/points.static_pressure.data.resampled.h5\"\n",
    ")\n",
    "body_data_path = pathlib.Path(\"./fixtures/tests/pressure/data/bodies.galpao.data.resampled.h5\")"
   ]
  },
  {
   "cell_type": "markdown",
   "metadata": {},
   "source": [
    "Process pressure coefficient use case"
   ]
  },
  {
   "cell_type": "code",
   "execution_count": 17,
   "metadata": {},
   "outputs": [
    {
     "name": "stdout",
     "output_type": "stream",
     "text": [
      "\u001b[37m[2024-04-18 11:17:59,358] [INFO] - cfdmod - Processing pressure coefficients for config default ... (891451574.py:6)\u001b[39m\n",
      "\u001b[37m[2024-04-18 11:17:59,361] [INFO] - cfdmod - Transforming into pressure coefficient (cp_data.py:164)\u001b[39m\n",
      "\u001b[37m[2024-04-18 11:17:59,419] [INFO] - cfdmod - Dividing into point groups (cp_data.py:181)\u001b[39m\n",
      "\u001b[37m[2024-04-18 11:17:59,524] [INFO] - cfdmod - Calculating statistics (cp_data.py:188)\u001b[39m\n"
     ]
    },
    {
     "name": "stderr",
     "output_type": "stream",
     "text": [
      "/home/ubuntu/Documentos/Repositories/cfdmod/cfdmod/use_cases/pressure/cp_data.py:158: RuntimeWarning: Path for time series already exists output/pressure/cp/default/dc51b167d253368f161800ada22e8cc253820d9ef7b3339281fe628c5177e492/time_series.h5. Deleted old file\n",
      "  warnings.warn(\n",
      "/home/ubuntu/Documentos/Repositories/cfdmod/cfdmod/use_cases/pressure/cp_data.py:175: RuntimeWarning: Path for grouped time series already exists output/pressure/cp/default/dc51b167d253368f161800ada22e8cc253820d9ef7b3339281fe628c5177e492/time_series.grouped.h5. Deleted old file\n",
      "  warnings.warn(\n"
     ]
    },
    {
     "name": "stdout",
     "output_type": "stream",
     "text": [
      "\u001b[37m[2024-04-18 11:18:00,722] [INFO] - cfdmod - Copying input artifacts (891451574.py:17)\u001b[39m\n",
      "\u001b[37m[2024-04-18 11:18:00,728] [INFO] - cfdmod - Processed pressure coefficients for config default! (891451574.py:26)\u001b[39m\n"
     ]
    }
   ],
   "source": [
    "from cfdmod.logger import logger\n",
    "from cfdmod.use_cases.pressure.cp_data import process_cp\n",
    "from cfdmod.use_cases.pressure.path_manager import copy_input_artifacts\n",
    "\n",
    "for cfg_lbl, cfg in post_proc_cfg.pressure_coefficient.items():\n",
    "    logger.info(f\"Processing pressure coefficients for config {cfg_lbl} ...\")\n",
    "    process_cp(\n",
    "        pressure_data_path=static_data_path,\n",
    "        body_data_path=body_data_path,\n",
    "        cfg_label=cfg_lbl,\n",
    "        cfg=cfg,\n",
    "        mesh=mesh.geometry,\n",
    "        path_manager=path_manager,\n",
    "        extreme_params=post_proc_cfg.extreme_values,\n",
    "    )\n",
    "\n",
    "    logger.info(\"Copying input artifacts\")\n",
    "    copy_input_artifacts(\n",
    "        cfg_path=cfg_path,\n",
    "        mesh_path=mesh_path,\n",
    "        static_data_path=static_data_path,\n",
    "        body_data_path=body_data_path,\n",
    "        path_manager=path_manager,\n",
    "    )\n",
    "\n",
    "    logger.info(f\"Processed pressure coefficients for config {cfg_lbl}!\")"
   ]
  },
  {
   "cell_type": "markdown",
   "metadata": {},
   "source": [
    "Copy Input artifacts to output folder"
   ]
  }
 ],
 "metadata": {
  "kernelspec": {
   "display_name": "cfdmod-6zl7i90Q-py3.11",
   "language": "python",
   "name": "python3"
  },
  "language_info": {
   "codemirror_mode": {
    "name": "ipython",
    "version": 3
   },
   "file_extension": ".py",
   "mimetype": "text/x-python",
   "name": "python",
   "nbconvert_exporter": "python",
   "pygments_lexer": "ipython3",
   "version": "3.10.12"
  },
  "orig_nbformat": 4
 },
 "nbformat": 4,
 "nbformat_minor": 2
}
