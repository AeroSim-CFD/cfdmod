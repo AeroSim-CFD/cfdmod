{
 "cells": [
  {
   "cell_type": "markdown",
   "metadata": {},
   "source": [
    "# Generate pressure coefficients"
   ]
  },
  {
   "cell_type": "markdown",
   "metadata": {},
   "source": [
    "The following steps are performed to obtain all the artifacts for pressure coefficient use case:\n",
    "\n",
    "1. Read parameters file\n",
    "2. Read Mesh description\n",
    "   * Its path can be specified\n",
    "   * Or it can be obtained from the simulation configuration file\n",
    "3. Read data\n",
    "   * For reference static pressure\n",
    "   * For body pressure data\n",
    "   * Slice from timestep range specified\n",
    "4. Transform pressure data into pressure coefficient\n",
    "5. Calculate pressure coefficient statistics\n",
    "6. Merge coefficient statistics with mesh description into VTK\n",
    "  \n",
    "  "
   ]
  },
  {
   "cell_type": "markdown",
   "metadata": {},
   "source": [
    "Read post-processing Cp config file"
   ]
  },
  {
   "cell_type": "code",
   "execution_count": 1,
   "metadata": {},
   "outputs": [
    {
     "data": {
      "text/plain": [
       "CpConfig(timestep_range=(10000.0, 20000.0), reference_pressure='average', U_H=0.05, statistics=['min', 'max', 'std', 'avg', 'skewness', 'kurtosis'])"
      ]
     },
     "execution_count": 1,
     "metadata": {},
     "output_type": "execute_result"
    }
   ],
   "source": [
    "from cfdmod.use_cases.pressure.cp_config import CpConfig\n",
    "import pathlib\n",
    "\n",
    "post_proc_cfg_path = pathlib.Path(\"./fixtures/tests/pressure/cp_params.yaml\") \n",
    "post_proc_cfg = CpConfig.from_file(post_proc_cfg_path)\n",
    "\n",
    "post_proc_cfg"
   ]
  },
  {
   "cell_type": "markdown",
   "metadata": {},
   "source": [
    "Read simulation config file"
   ]
  },
  {
   "cell_type": "code",
   "execution_count": 2,
   "metadata": {},
   "outputs": [
    {
     "ename": "NassuOSError",
     "evalue": "Filename A:/Aerosim/Repositories/nassu/tests/validation/results/test_simulation/setup_nassu_case_v1.5.yaml not found. Unable to load configurations",
     "output_type": "error",
     "traceback": [
      "\u001b[0;31m---------------------------------------------------------------------------\u001b[0m",
      "\u001b[0;31mNassuOSError\u001b[0m                              Traceback (most recent call last)",
      "\u001b[1;32m/home/waine/Documents/Codigos/AeroSim/cfdmod/docs/source/use_cases/pressure/calculate_cp.ipynb Cell 6\u001b[0m line \u001b[0;36m5\n\u001b[1;32m      <a href='vscode-notebook-cell:/home/waine/Documents/Codigos/AeroSim/cfdmod/docs/source/use_cases/pressure/calculate_cp.ipynb#W5sZmlsZQ%3D%3D?line=0'>1</a>\u001b[0m \u001b[39mfrom\u001b[39;00m \u001b[39mnassu\u001b[39;00m\u001b[39m.\u001b[39;00m\u001b[39mcfg\u001b[39;00m\u001b[39m.\u001b[39;00m\u001b[39mmodel\u001b[39;00m \u001b[39mimport\u001b[39;00m ConfigScheme\n\u001b[1;32m      <a href='vscode-notebook-cell:/home/waine/Documents/Codigos/AeroSim/cfdmod/docs/source/use_cases/pressure/calculate_cp.ipynb#W5sZmlsZQ%3D%3D?line=2'>3</a>\u001b[0m sim_cfg_path \u001b[39m=\u001b[39m pathlib\u001b[39m.\u001b[39mPath(\u001b[39m\"\u001b[39m\u001b[39mA:/Aerosim/Repositories/nassu/tests/validation/results/test_simulation/setup_nassu_case_v1.5.yaml\u001b[39m\u001b[39m\"\u001b[39m)\n\u001b[0;32m----> <a href='vscode-notebook-cell:/home/waine/Documents/Codigos/AeroSim/cfdmod/docs/source/use_cases/pressure/calculate_cp.ipynb#W5sZmlsZQ%3D%3D?line=4'>5</a>\u001b[0m sim_cfg \u001b[39m=\u001b[39m ConfigScheme\u001b[39m.\u001b[39;49mfrom_file(sim_cfg_path)\u001b[39m.\u001b[39mload_sim_cfgs()[\u001b[39m0\u001b[39m]\n\u001b[1;32m      <a href='vscode-notebook-cell:/home/waine/Documents/Codigos/AeroSim/cfdmod/docs/source/use_cases/pressure/calculate_cp.ipynb#W5sZmlsZQ%3D%3D?line=6'>7</a>\u001b[0m sim_cfg\n",
      "File \u001b[0;32m~/.cache/pypoetry/virtualenvs/cfdmod-IufxECV9-py3.11/lib/python3.11/site-packages/nassu/cfg/model.py:48\u001b[0m, in \u001b[0;36mConfigScheme.from_file\u001b[0;34m(cls, filename)\u001b[0m\n\u001b[1;32m     44\u001b[0m \u001b[39m@classmethod\u001b[39m\n\u001b[1;32m     45\u001b[0m \u001b[39mdef\u001b[39;00m \u001b[39mfrom_file\u001b[39m(\u001b[39mcls\u001b[39m, filename: pathlib\u001b[39m.\u001b[39mPath) \u001b[39m-\u001b[39m\u001b[39m>\u001b[39m ConfigScheme:\n\u001b[1;32m     46\u001b[0m \u001b[39m    \u001b[39m\u001b[39m\"\"\"Load configs from file\"\"\"\u001b[39;00m\n\u001b[0;32m---> 48\u001b[0m     dct_from_file \u001b[39m=\u001b[39m load_cfg_yaml(filename)\n\u001b[1;32m     49\u001b[0m     dct_from_file[\u001b[39m\"\u001b[39m\u001b[39mfilename\u001b[39m\u001b[39m\"\u001b[39m] \u001b[39m=\u001b[39m filename\n\u001b[1;32m     51\u001b[0m     \u001b[39mtry\u001b[39;00m:\n",
      "File \u001b[0;32m~/.cache/pypoetry/virtualenvs/cfdmod-IufxECV9-py3.11/lib/python3.11/site-packages/nassu/cfg/loader.py:63\u001b[0m, in \u001b[0;36mload_cfg_yaml\u001b[0;34m(filename)\u001b[0m\n\u001b[1;32m     61\u001b[0m \u001b[39m# Check if file exists\u001b[39;00m\n\u001b[1;32m     62\u001b[0m \u001b[39mif\u001b[39;00m \u001b[39mnot\u001b[39;00m filename\u001b[39m.\u001b[39mexists():\n\u001b[0;32m---> 63\u001b[0m     \u001b[39mraise\u001b[39;00m NassuOSError(\u001b[39mf\u001b[39m\u001b[39m\"\u001b[39m\u001b[39mFilename \u001b[39m\u001b[39m{\u001b[39;00mfilename\u001b[39m}\u001b[39;00m\u001b[39m not found. Unable to load configurations\u001b[39m\u001b[39m\"\u001b[39m)\n\u001b[1;32m     65\u001b[0m yaml \u001b[39m=\u001b[39m YAML(typ\u001b[39m=\u001b[39m\u001b[39m\"\u001b[39m\u001b[39msafe\u001b[39m\u001b[39m\"\u001b[39m)\n\u001b[1;32m     66\u001b[0m yaml\u001b[39m.\u001b[39mconstructor\u001b[39m.\u001b[39madd_constructor(\u001b[39m\"\u001b[39m\u001b[39m!unroll\u001b[39m\u001b[39m\"\u001b[39m, unroll_constructor)\n",
      "\u001b[0;31mNassuOSError\u001b[0m: Filename A:/Aerosim/Repositories/nassu/tests/validation/results/test_simulation/setup_nassu_case_v1.5.yaml not found. Unable to load configurations"
     ]
    }
   ],
   "source": [
    "from nassu.cfg.model import ConfigScheme\n",
    "\n",
    "sim_cfg_path = pathlib.Path(\"A:/Aerosim/Repositories/nassu/tests/validation/results/test_simulation/setup_nassu_case_v1.5.yaml\")\n",
    "\n",
    "sim_cfg = ConfigScheme.from_file(sim_cfg_path).load_sim_cfgs()[0]\n",
    "\n",
    "sim_cfg"
   ]
  },
  {
   "cell_type": "markdown",
   "metadata": {},
   "source": [
    "Read LNAS Mesh"
   ]
  },
  {
   "cell_type": "code",
   "execution_count": null,
   "metadata": {},
   "outputs": [
    {
     "data": {
      "text/plain": [
       "('galpao', (1549, 3), (2915, 3))"
      ]
     },
     "execution_count": 65,
     "metadata": {},
     "output_type": "execute_result"
    }
   ],
   "source": [
    "from nassu.lnas import LagrangianFormat\n",
    "\n",
    "body_cfg = sim_cfg.domain.bodies[\"galpao\"]\n",
    "\n",
    "mesh = LagrangianFormat.from_folder(body_cfg.lagrangian_path)\n",
    "\n",
    "mesh.name, mesh.geometry.vertices.shape, mesh.geometry.triangles.shape"
   ]
  },
  {
   "cell_type": "markdown",
   "metadata": {},
   "source": [
    "Get data path from simulation configs"
   ]
  },
  {
   "cell_type": "code",
   "execution_count": null,
   "metadata": {},
   "outputs": [
    {
     "name": "stdout",
     "output_type": "stream",
     "text": [
      "\u001b[37m[2023-10-06 14:34:50.27] [INFO] Updated '.env' path to WindowsPath('../nassu/.env')\u001b[37m\n"
     ]
    },
    {
     "data": {
      "text/plain": [
       "(WindowsPath('../nassu/tests/validation/results/test_simulation/test_simulation/000/probes/hist_series/default/points.static_pressure.data.h5'),\n",
       " WindowsPath('../nassu/tests/validation/results/test_simulation/test_simulation/000/probes/hist_series/default/bodies.galpao.data.h5'))"
      ]
     },
     "execution_count": 66,
     "metadata": {},
     "output_type": "execute_result"
    }
   ],
   "source": [
    "from nassu.utils import Environment\n",
    "import pandas as pd\n",
    "\n",
    "root_path = pathlib.Path(\"../nassu\")\n",
    "\n",
    "Environment.set_path(pathlib.Path(\"../nassu/.env\"))\n",
    "\n",
    "sim_output = sim_cfg.output\n",
    "\n",
    "press_data_path = root_path / sim_output.series[\"default\"].points[\"static_pressure\"].data_filename\n",
    "body_data_path = root_path / sim_output.series[\"default\"].bodies[\"galpao\"].data_filename\n",
    "\n",
    "press_data_path, body_data_path"
   ]
  },
  {
   "cell_type": "markdown",
   "metadata": {},
   "source": [
    "Read hist series and slice from the time range"
   ]
  },
  {
   "cell_type": "code",
   "execution_count": null,
   "metadata": {},
   "outputs": [
    {
     "data": {
      "text/plain": [
       "(      point_idx       rho  time_step\n",
       " 2915          0  1.002515    10000.0\n",
       " 2915          0  1.002532    10001.0\n",
       " 2915          0  1.002549    10002.0\n",
       " 2915          0  1.002566    10003.0\n",
       " 2915          0  1.002583    10004.0\n",
       " ...         ...       ...        ...\n",
       " 2915          0  1.002908    19996.0\n",
       " 2915          0  1.002887    19997.0\n",
       " 2915          0  1.002865    19998.0\n",
       " 2915          0  1.002845    19999.0\n",
       " 2915          0  1.002825    20000.0\n",
       " \n",
       " [10001 rows x 3 columns],\n",
       "       point_idx       rho  time_step\n",
       " 0             0  1.001819    10000.0\n",
       " 1             1  1.001838    10000.0\n",
       " 2             2  1.001808    10000.0\n",
       " 3             3  1.001851    10000.0\n",
       " 4             4  1.001835    10000.0\n",
       " ...         ...       ...        ...\n",
       " 2910       2910  1.004277    20000.0\n",
       " 2911       2911  1.004619    20000.0\n",
       " 2912       2912  1.004608    20000.0\n",
       " 2913       2913  1.004116    20000.0\n",
       " 2914       2914  1.004155    20000.0\n",
       " \n",
       " [29152915 rows x 3 columns])"
      ]
     },
     "execution_count": 67,
     "metadata": {},
     "output_type": "execute_result"
    }
   ],
   "source": [
    "from cfdmod.use_cases.pressure.cp_data import filter_pressure_data\n",
    "\n",
    "press_data: pd.DataFrame = pd.read_hdf(press_data_path) # type: ignore\n",
    "body_data: pd.DataFrame = pd.read_hdf(body_data_path) # type: ignore\n",
    "\n",
    "press_data, body_data = filter_pressure_data(\n",
    "    press_data, body_data, post_proc_cfg.timestep_range\n",
    ")\n",
    "\n",
    "press_data, body_data"
   ]
  },
  {
   "cell_type": "markdown",
   "metadata": {},
   "source": [
    "Transform pressure data into coefficient"
   ]
  },
  {
   "cell_type": "code",
   "execution_count": null,
   "metadata": {},
   "outputs": [
    {
     "data": {
      "text/html": [
       "<div>\n",
       "<style scoped>\n",
       "    .dataframe tbody tr th:only-of-type {\n",
       "        vertical-align: middle;\n",
       "    }\n",
       "\n",
       "    .dataframe tbody tr th {\n",
       "        vertical-align: top;\n",
       "    }\n",
       "\n",
       "    .dataframe thead th {\n",
       "        text-align: right;\n",
       "    }\n",
       "</style>\n",
       "<table border=\"1\" class=\"dataframe\">\n",
       "  <thead>\n",
       "    <tr style=\"text-align: right;\">\n",
       "      <th></th>\n",
       "      <th>time_step</th>\n",
       "      <th>point_idx</th>\n",
       "      <th>cp</th>\n",
       "    </tr>\n",
       "  </thead>\n",
       "  <tbody>\n",
       "    <tr>\n",
       "      <th>0</th>\n",
       "      <td>10000.0</td>\n",
       "      <td>0</td>\n",
       "      <td>0.268273</td>\n",
       "    </tr>\n",
       "    <tr>\n",
       "      <th>1</th>\n",
       "      <td>10000.0</td>\n",
       "      <td>1</td>\n",
       "      <td>0.273546</td>\n",
       "    </tr>\n",
       "    <tr>\n",
       "      <th>2</th>\n",
       "      <td>10000.0</td>\n",
       "      <td>2</td>\n",
       "      <td>0.265319</td>\n",
       "    </tr>\n",
       "    <tr>\n",
       "      <th>3</th>\n",
       "      <td>10000.0</td>\n",
       "      <td>3</td>\n",
       "      <td>0.276913</td>\n",
       "    </tr>\n",
       "    <tr>\n",
       "      <th>4</th>\n",
       "      <td>10000.0</td>\n",
       "      <td>4</td>\n",
       "      <td>0.272593</td>\n",
       "    </tr>\n",
       "    <tr>\n",
       "      <th>...</th>\n",
       "      <td>...</td>\n",
       "      <td>...</td>\n",
       "      <td>...</td>\n",
       "    </tr>\n",
       "    <tr>\n",
       "      <th>29152910</th>\n",
       "      <td>20000.0</td>\n",
       "      <td>2910</td>\n",
       "      <td>0.923266</td>\n",
       "    </tr>\n",
       "    <tr>\n",
       "      <th>29152911</th>\n",
       "      <td>20000.0</td>\n",
       "      <td>2911</td>\n",
       "      <td>1.014458</td>\n",
       "    </tr>\n",
       "    <tr>\n",
       "      <th>29152912</th>\n",
       "      <td>20000.0</td>\n",
       "      <td>2912</td>\n",
       "      <td>1.011409</td>\n",
       "    </tr>\n",
       "    <tr>\n",
       "      <th>29152913</th>\n",
       "      <td>20000.0</td>\n",
       "      <td>2913</td>\n",
       "      <td>0.880417</td>\n",
       "    </tr>\n",
       "    <tr>\n",
       "      <th>29152914</th>\n",
       "      <td>20000.0</td>\n",
       "      <td>2914</td>\n",
       "      <td>0.890740</td>\n",
       "    </tr>\n",
       "  </tbody>\n",
       "</table>\n",
       "<p>29152915 rows × 3 columns</p>\n",
       "</div>"
      ],
      "text/plain": [
       "          time_step  point_idx        cp\n",
       "0           10000.0          0  0.268273\n",
       "1           10000.0          1  0.273546\n",
       "2           10000.0          2  0.265319\n",
       "3           10000.0          3  0.276913\n",
       "4           10000.0          4  0.272593\n",
       "...             ...        ...       ...\n",
       "29152910    20000.0       2910  0.923266\n",
       "29152911    20000.0       2911  1.014458\n",
       "29152912    20000.0       2912  1.011409\n",
       "29152913    20000.0       2913  0.880417\n",
       "29152914    20000.0       2914  0.890740\n",
       "\n",
       "[29152915 rows x 3 columns]"
      ]
     },
     "execution_count": 68,
     "metadata": {},
     "output_type": "execute_result"
    }
   ],
   "source": [
    "from cfdmod.use_cases.pressure.cp_data import transform_to_cp\n",
    "\n",
    "cp_data = transform_to_cp(\n",
    "    press_data,\n",
    "    body_data,\n",
    "    reference_vel=post_proc_cfg.U_H,\n",
    "    ref_press_mode=post_proc_cfg.reference_pressure,\n",
    ")\n",
    "\n",
    "cp_data"
   ]
  },
  {
   "cell_type": "markdown",
   "metadata": {},
   "source": [
    "Calculate pressure coefficient statistics"
   ]
  },
  {
   "cell_type": "code",
   "execution_count": null,
   "metadata": {},
   "outputs": [
    {
     "data": {
      "text/html": [
       "<div>\n",
       "<style scoped>\n",
       "    .dataframe tbody tr th:only-of-type {\n",
       "        vertical-align: middle;\n",
       "    }\n",
       "\n",
       "    .dataframe tbody tr th {\n",
       "        vertical-align: top;\n",
       "    }\n",
       "\n",
       "    .dataframe thead th {\n",
       "        text-align: right;\n",
       "    }\n",
       "</style>\n",
       "<table border=\"1\" class=\"dataframe\">\n",
       "  <thead>\n",
       "    <tr style=\"text-align: right;\">\n",
       "      <th></th>\n",
       "      <th>point_idx</th>\n",
       "      <th>cp_avg</th>\n",
       "      <th>cp_min</th>\n",
       "      <th>cp_max</th>\n",
       "      <th>cp_rms</th>\n",
       "      <th>cp_skewness</th>\n",
       "      <th>cp_kurtosis</th>\n",
       "    </tr>\n",
       "  </thead>\n",
       "  <tbody>\n",
       "    <tr>\n",
       "      <th>0</th>\n",
       "      <td>0</td>\n",
       "      <td>-0.021076</td>\n",
       "      <td>-2.392591</td>\n",
       "      <td>2.145996</td>\n",
       "      <td>0.975655</td>\n",
       "      <td>0.007537</td>\n",
       "      <td>-0.644743</td>\n",
       "    </tr>\n",
       "    <tr>\n",
       "      <th>1</th>\n",
       "      <td>1</td>\n",
       "      <td>-0.019863</td>\n",
       "      <td>-2.389510</td>\n",
       "      <td>2.147012</td>\n",
       "      <td>0.974600</td>\n",
       "      <td>0.005196</td>\n",
       "      <td>-0.641696</td>\n",
       "    </tr>\n",
       "    <tr>\n",
       "      <th>2</th>\n",
       "      <td>2</td>\n",
       "      <td>-0.021279</td>\n",
       "      <td>-2.394671</td>\n",
       "      <td>2.139135</td>\n",
       "      <td>0.975093</td>\n",
       "      <td>0.006027</td>\n",
       "      <td>-0.645222</td>\n",
       "    </tr>\n",
       "    <tr>\n",
       "      <th>3</th>\n",
       "      <td>3</td>\n",
       "      <td>-0.019417</td>\n",
       "      <td>-2.387731</td>\n",
       "      <td>2.152889</td>\n",
       "      <td>0.975021</td>\n",
       "      <td>0.005858</td>\n",
       "      <td>-0.640871</td>\n",
       "    </tr>\n",
       "    <tr>\n",
       "      <th>4</th>\n",
       "      <td>4</td>\n",
       "      <td>-0.020308</td>\n",
       "      <td>-2.389669</td>\n",
       "      <td>2.148188</td>\n",
       "      <td>0.974958</td>\n",
       "      <td>0.006443</td>\n",
       "      <td>-0.642380</td>\n",
       "    </tr>\n",
       "    <tr>\n",
       "      <th>...</th>\n",
       "      <td>...</td>\n",
       "      <td>...</td>\n",
       "      <td>...</td>\n",
       "      <td>...</td>\n",
       "      <td>...</td>\n",
       "      <td>...</td>\n",
       "      <td>...</td>\n",
       "    </tr>\n",
       "    <tr>\n",
       "      <th>2910</th>\n",
       "      <td>2910</td>\n",
       "      <td>0.065866</td>\n",
       "      <td>-2.437123</td>\n",
       "      <td>2.166579</td>\n",
       "      <td>0.996299</td>\n",
       "      <td>-0.073992</td>\n",
       "      <td>-0.699826</td>\n",
       "    </tr>\n",
       "    <tr>\n",
       "      <th>2911</th>\n",
       "      <td>2911</td>\n",
       "      <td>0.025314</td>\n",
       "      <td>-2.499840</td>\n",
       "      <td>2.120172</td>\n",
       "      <td>0.984458</td>\n",
       "      <td>-0.098281</td>\n",
       "      <td>-0.592226</td>\n",
       "    </tr>\n",
       "    <tr>\n",
       "      <th>2912</th>\n",
       "      <td>2912</td>\n",
       "      <td>0.032308</td>\n",
       "      <td>-2.501142</td>\n",
       "      <td>2.110929</td>\n",
       "      <td>0.985440</td>\n",
       "      <td>-0.100940</td>\n",
       "      <td>-0.606598</td>\n",
       "    </tr>\n",
       "    <tr>\n",
       "      <th>2913</th>\n",
       "      <td>2913</td>\n",
       "      <td>0.078103</td>\n",
       "      <td>-2.352251</td>\n",
       "      <td>2.193546</td>\n",
       "      <td>1.003240</td>\n",
       "      <td>-0.043307</td>\n",
       "      <td>-0.751864</td>\n",
       "    </tr>\n",
       "    <tr>\n",
       "      <th>2914</th>\n",
       "      <td>2914</td>\n",
       "      <td>0.077528</td>\n",
       "      <td>-2.372628</td>\n",
       "      <td>2.194435</td>\n",
       "      <td>1.001790</td>\n",
       "      <td>-0.049997</td>\n",
       "      <td>-0.739006</td>\n",
       "    </tr>\n",
       "  </tbody>\n",
       "</table>\n",
       "<p>2915 rows × 7 columns</p>\n",
       "</div>"
      ],
      "text/plain": [
       "      point_idx    cp_avg    cp_min    cp_max    cp_rms  cp_skewness  \\\n",
       "0             0 -0.021076 -2.392591  2.145996  0.975655     0.007537   \n",
       "1             1 -0.019863 -2.389510  2.147012  0.974600     0.005196   \n",
       "2             2 -0.021279 -2.394671  2.139135  0.975093     0.006027   \n",
       "3             3 -0.019417 -2.387731  2.152889  0.975021     0.005858   \n",
       "4             4 -0.020308 -2.389669  2.148188  0.974958     0.006443   \n",
       "...         ...       ...       ...       ...       ...          ...   \n",
       "2910       2910  0.065866 -2.437123  2.166579  0.996299    -0.073992   \n",
       "2911       2911  0.025314 -2.499840  2.120172  0.984458    -0.098281   \n",
       "2912       2912  0.032308 -2.501142  2.110929  0.985440    -0.100940   \n",
       "2913       2913  0.078103 -2.352251  2.193546  1.003240    -0.043307   \n",
       "2914       2914  0.077528 -2.372628  2.194435  1.001790    -0.049997   \n",
       "\n",
       "      cp_kurtosis  \n",
       "0       -0.644743  \n",
       "1       -0.641696  \n",
       "2       -0.645222  \n",
       "3       -0.640871  \n",
       "4       -0.642380  \n",
       "...           ...  \n",
       "2910    -0.699826  \n",
       "2911    -0.592226  \n",
       "2912    -0.606598  \n",
       "2913    -0.751864  \n",
       "2914    -0.739006  \n",
       "\n",
       "[2915 rows x 7 columns]"
      ]
     },
     "execution_count": 69,
     "metadata": {},
     "output_type": "execute_result"
    }
   ],
   "source": [
    "from cfdmod.use_cases.pressure.cp_data import calculate_statistics\n",
    "\n",
    "cp_stats = calculate_statistics(cp_data, statistics_to_apply=post_proc_cfg.statistics)\n",
    "\n",
    "cp_stats"
   ]
  },
  {
   "cell_type": "markdown",
   "metadata": {},
   "source": [
    "Combine statistics with mesh and create a VTK object"
   ]
  },
  {
   "cell_type": "code",
   "execution_count": null,
   "metadata": {},
   "outputs": [],
   "source": [
    "from cfdmod.api.vtk.write_vtk import write_polydata, create_polydata_for_cell_data\n",
    "\n",
    "output_path = pathlib.Path(\"./output/pressure\")\n",
    "vtk_path = output_path / \"cp_stats.vtp\"\n",
    "\n",
    "polydata = create_polydata_for_cell_data(data=cp_stats, mesh=mesh.geometry)\n",
    "\n",
    "# OUTPUT 3: VTK cp_stats\n",
    "write_polydata(vtk_path, polydata)"
   ]
  }
 ],
 "metadata": {
  "kernelspec": {
   "display_name": "cfdmod-6zl7i90Q-py3.11",
   "language": "python",
   "name": "python3"
  },
  "language_info": {
   "codemirror_mode": {
    "name": "ipython",
    "version": 3
   },
   "file_extension": ".py",
   "mimetype": "text/x-python",
   "name": "python",
   "nbconvert_exporter": "python",
   "pygments_lexer": "ipython3",
   "version": "3.11.5"
  },
  "orig_nbformat": 4
 },
 "nbformat": 4,
 "nbformat_minor": 2
}
