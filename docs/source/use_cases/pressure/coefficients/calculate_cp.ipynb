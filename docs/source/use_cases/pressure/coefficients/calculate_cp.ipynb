{
 "cells": [
  {
   "cell_type": "markdown",
   "metadata": {},
   "source": [
    "# Generate pressure coefficients"
   ]
  },
  {
   "cell_type": "markdown",
   "metadata": {},
   "source": [
    "Initialize Path Manager"
   ]
  },
  {
   "cell_type": "code",
   "execution_count": 1,
   "metadata": {},
   "outputs": [],
   "source": [
    "from cfdmod.use_cases.pressure.path_manager import CpPathManager\n",
    "import pathlib\n",
    "\n",
    "path_manager = CpPathManager(output_path=pathlib.Path(\"./output/pressure\"))"
   ]
  },
  {
   "cell_type": "markdown",
   "metadata": {},
   "source": [
    "Read post-processing Cp config file"
   ]
  },
  {
   "cell_type": "code",
   "execution_count": 2,
   "metadata": {},
   "outputs": [
    {
     "data": {
      "text/plain": [
       "CpCaseConfig(pressure_coefficient={'default': CpConfig(number_of_chunks=10, timestep_range=(10000.0, 20000.0), reference_pressure='average', U_H=0.05, U_H_correction_factor=1, statistics=[BasicStatisticModel(stats='mean'), BasicStatisticModel(stats='rms'), BasicStatisticModel(stats='skewness'), BasicStatisticModel(stats='kurtosis'), ParameterizedStatisticModel(stats='mean_eq', params=MeanEquivalentParamsModel(scale_factor=0.61)), ParameterizedStatisticModel(stats='min', params=ExtremeAbsoluteParamsModel(method_type='Absolute')), ParameterizedStatisticModel(stats='max', params=ExtremeGumbelParamsModel(method_type='Gumbel', peak_duration=3.0, event_duration=600.0, n_subdivisions=10, non_exceedance_probability=0.9))])}, time_scale_conversion=TimeScaleParameters(CST_real=0.56, CST_sim=16.89))"
      ]
     },
     "execution_count": 2,
     "metadata": {},
     "output_type": "execute_result"
    }
   ],
   "source": [
    "from cfdmod.use_cases.pressure.cp_config import CpCaseConfig\n",
    "\n",
    "cfg_path = pathlib.Path(\"./fixtures/tests/pressure/cp_params.yaml\")\n",
    "post_proc_cfg = CpCaseConfig.from_file(cfg_path)\n",
    "\n",
    "post_proc_cfg"
   ]
  },
  {
   "cell_type": "markdown",
   "metadata": {},
   "source": [
    "Read LNAS Mesh"
   ]
  },
  {
   "cell_type": "code",
   "execution_count": 3,
   "metadata": {},
   "outputs": [
    {
     "data": {
      "text/plain": [
       "((1549, 3), (2915, 3))"
      ]
     },
     "execution_count": 3,
     "metadata": {},
     "output_type": "execute_result"
    }
   ],
   "source": [
    "from lnas import LnasFormat\n",
    "\n",
    "mesh_path = pathlib.Path(\"./fixtures/tests/pressure/galpao/galpao.lnas\")\n",
    "mesh = LnasFormat.from_file(mesh_path)\n",
    "\n",
    "mesh.geometry.vertices.shape, mesh.geometry.triangles.shape"
   ]
  },
  {
   "cell_type": "markdown",
   "metadata": {},
   "source": [
    "Read hist series"
   ]
  },
  {
   "cell_type": "code",
   "execution_count": 4,
   "metadata": {},
   "outputs": [],
   "source": [
    "import pandas as pd\n",
    "\n",
    "static_data_path = pathlib.Path(\n",
    "    \"./fixtures/tests/pressure/data/new.points.static_pressure.data.resampled.h5\"\n",
    ")\n",
    "body_data_path = pathlib.Path(\"./fixtures/tests/pressure/data/new.bodies.galpao.data.resampled.h5\")"
   ]
  },
  {
   "cell_type": "markdown",
   "metadata": {},
   "source": [
    "Process pressure coefficient use case"
   ]
  },
  {
   "cell_type": "code",
   "execution_count": 5,
   "metadata": {},
   "outputs": [
    {
     "name": "stdout",
     "output_type": "stream",
     "text": [
      "\u001b[37m[2024-05-15 16:04:58,295] [INFO] - cfdmod - Processing pressure coefficients for config default ... (113073770.py:6)\u001b[39m\n",
      "\u001b[37m[2024-05-15 16:04:58,297] [INFO] - cfdmod - Transforming into pressure coefficient (cp_data.py:181)\u001b[39m\n"
     ]
    },
    {
     "name": "stderr",
     "output_type": "stream",
     "text": [
      "a:\\Aerosim\\Repositories\\cfdmod\\cfdmod\\use_cases\\pressure\\cp_data.py:175: RuntimeWarning: Path for time series already exists output\\pressure\\cp\\default\\time_series.h5. Deleted old file\n",
      "  warnings.warn(\n"
     ]
    },
    {
     "name": "stdout",
     "output_type": "stream",
     "text": [
      "\u001b[37m[2024-05-15 16:05:05,332] [INFO] - cfdmod - Dividing into point groups (cp_data.py:198)\u001b[39m\n"
     ]
    },
    {
     "name": "stderr",
     "output_type": "stream",
     "text": [
      "a:\\Aerosim\\Repositories\\cfdmod\\cfdmod\\use_cases\\pressure\\cp_data.py:192: RuntimeWarning: Path for grouped time series already exists output\\pressure\\cp\\default\\time_series.grouped.h5. Deleted old file\n",
      "  warnings.warn(\n"
     ]
    },
    {
     "name": "stdout",
     "output_type": "stream",
     "text": [
      "\u001b[37m[2024-05-15 16:05:09,757] [INFO] - cfdmod - Calculating statistics (cp_data.py:205)\u001b[39m\n",
      "1548\n"
     ]
    },
    {
     "ename": "TypeError",
     "evalue": "InsertTuple1 argument 2: must be real number, not str",
     "output_type": "error",
     "traceback": [
      "\u001b[1;31m---------------------------------------------------------------------------\u001b[0m",
      "\u001b[1;31mTypeError\u001b[0m                                 Traceback (most recent call last)",
      "Cell \u001b[1;32mIn[5], line 7\u001b[0m\n\u001b[0;32m      5\u001b[0m \u001b[38;5;28;01mfor\u001b[39;00m cfg_lbl, cfg \u001b[38;5;129;01min\u001b[39;00m post_proc_cfg\u001b[38;5;241m.\u001b[39mpressure_coefficient\u001b[38;5;241m.\u001b[39mitems():\n\u001b[0;32m      6\u001b[0m     logger\u001b[38;5;241m.\u001b[39minfo(\u001b[38;5;124mf\u001b[39m\u001b[38;5;124m\"\u001b[39m\u001b[38;5;124mProcessing pressure coefficients for config \u001b[39m\u001b[38;5;132;01m{\u001b[39;00mcfg_lbl\u001b[38;5;132;01m}\u001b[39;00m\u001b[38;5;124m ...\u001b[39m\u001b[38;5;124m\"\u001b[39m)\n\u001b[1;32m----> 7\u001b[0m     \u001b[43mprocess_cp\u001b[49m\u001b[43m(\u001b[49m\n\u001b[0;32m      8\u001b[0m \u001b[43m        \u001b[49m\u001b[43mpressure_data_path\u001b[49m\u001b[38;5;241;43m=\u001b[39;49m\u001b[43mstatic_data_path\u001b[49m\u001b[43m,\u001b[49m\n\u001b[0;32m      9\u001b[0m \u001b[43m        \u001b[49m\u001b[43mbody_data_path\u001b[49m\u001b[38;5;241;43m=\u001b[39;49m\u001b[43mbody_data_path\u001b[49m\u001b[43m,\u001b[49m\n\u001b[0;32m     10\u001b[0m \u001b[43m        \u001b[49m\u001b[43mcfg_label\u001b[49m\u001b[38;5;241;43m=\u001b[39;49m\u001b[43mcfg_lbl\u001b[49m\u001b[43m,\u001b[49m\n\u001b[0;32m     11\u001b[0m \u001b[43m        \u001b[49m\u001b[43mcfg\u001b[49m\u001b[38;5;241;43m=\u001b[39;49m\u001b[43mcfg\u001b[49m\u001b[43m,\u001b[49m\n\u001b[0;32m     12\u001b[0m \u001b[43m        \u001b[49m\u001b[43mmesh\u001b[49m\u001b[38;5;241;43m=\u001b[39;49m\u001b[43mmesh\u001b[49m\u001b[38;5;241;43m.\u001b[39;49m\u001b[43mgeometry\u001b[49m\u001b[43m,\u001b[49m\n\u001b[0;32m     13\u001b[0m \u001b[43m        \u001b[49m\u001b[43mpath_manager\u001b[49m\u001b[38;5;241;43m=\u001b[39;49m\u001b[43mpath_manager\u001b[49m\u001b[43m,\u001b[49m\n\u001b[0;32m     14\u001b[0m \u001b[43m        \u001b[49m\u001b[43mtime_scale_factor\u001b[49m\u001b[38;5;241;43m=\u001b[39;49m\u001b[43mpost_proc_cfg\u001b[49m\u001b[38;5;241;43m.\u001b[39;49m\u001b[43mtime_scale_conversion\u001b[49m\u001b[38;5;241;43m.\u001b[39;49m\u001b[43mtime_scale\u001b[49m\u001b[43m,\u001b[49m\n\u001b[0;32m     15\u001b[0m \u001b[43m    \u001b[49m\u001b[43m)\u001b[49m\n\u001b[0;32m     17\u001b[0m     logger\u001b[38;5;241m.\u001b[39minfo(\u001b[38;5;124m\"\u001b[39m\u001b[38;5;124mCopying input artifacts\u001b[39m\u001b[38;5;124m\"\u001b[39m)\n\u001b[0;32m     18\u001b[0m     copy_input_artifacts(\n\u001b[0;32m     19\u001b[0m         cfg_path\u001b[38;5;241m=\u001b[39mcfg_path,\n\u001b[0;32m     20\u001b[0m         mesh_path\u001b[38;5;241m=\u001b[39mmesh_path,\n\u001b[1;32m   (...)\u001b[0m\n\u001b[0;32m     23\u001b[0m         path_manager\u001b[38;5;241m=\u001b[39mpath_manager,\n\u001b[0;32m     24\u001b[0m     )\n",
      "File \u001b[1;32ma:\\Aerosim\\Repositories\\cfdmod\\cfdmod\\use_cases\\pressure\\cp_data.py:215\u001b[0m, in \u001b[0;36mprocess_cp\u001b[1;34m(pressure_data_path, body_data_path, cfg_label, cfg, mesh, path_manager, time_scale_factor)\u001b[0m\n\u001b[0;32m    212\u001b[0m cp_stats\u001b[38;5;241m.\u001b[39mto_hdf(path_or_buf\u001b[38;5;241m=\u001b[39mstats_path, key\u001b[38;5;241m=\u001b[39m\u001b[38;5;124m\"\u001b[39m\u001b[38;5;124mstats\u001b[39m\u001b[38;5;124m\"\u001b[39m, mode\u001b[38;5;241m=\u001b[39m\u001b[38;5;124m\"\u001b[39m\u001b[38;5;124mw\u001b[39m\u001b[38;5;124m\"\u001b[39m, index\u001b[38;5;241m=\u001b[39m\u001b[38;5;28;01mFalse\u001b[39;00m, \u001b[38;5;28mformat\u001b[39m\u001b[38;5;241m=\u001b[39m\u001b[38;5;124m\"\u001b[39m\u001b[38;5;124mtable\u001b[39m\u001b[38;5;124m\"\u001b[39m)\n\u001b[0;32m    214\u001b[0m vtp_path \u001b[38;5;241m=\u001b[39m path_manager\u001b[38;5;241m.\u001b[39mget_vtp_path(cfg_lbl\u001b[38;5;241m=\u001b[39mcfg_label)\n\u001b[1;32m--> 215\u001b[0m polydata \u001b[38;5;241m=\u001b[39m \u001b[43mcreate_polydata_for_cell_data\u001b[49m\u001b[43m(\u001b[49m\u001b[43mdata\u001b[49m\u001b[38;5;241;43m=\u001b[39;49m\u001b[43mcp_stats\u001b[49m\u001b[43m,\u001b[49m\u001b[43m \u001b[49m\u001b[43mmesh\u001b[49m\u001b[38;5;241;43m=\u001b[39;49m\u001b[43mmesh\u001b[49m\u001b[43m)\u001b[49m\n\u001b[0;32m    216\u001b[0m write_polydata(vtp_path, polydata)\n",
      "File \u001b[1;32ma:\\Aerosim\\Repositories\\cfdmod\\cfdmod\\api\\vtk\\write_vtk.py:81\u001b[0m, in \u001b[0;36mcreate_polydata_for_cell_data\u001b[1;34m(data, mesh)\u001b[0m\n\u001b[0;32m     79\u001b[0m         scalar_data \u001b[38;5;241m=\u001b[39m data\u001b[38;5;241m.\u001b[39miloc[scalar_index]\u001b[38;5;241m.\u001b[39mto_numpy()\n\u001b[0;32m     80\u001b[0m     \u001b[38;5;28;01mfor\u001b[39;00m i, value \u001b[38;5;129;01min\u001b[39;00m \u001b[38;5;28mzip\u001b[39m(point_idx, scalar_data):\n\u001b[1;32m---> 81\u001b[0m         \u001b[43mscalars\u001b[49m\u001b[38;5;241;43m.\u001b[39;49m\u001b[43mInsertTuple1\u001b[49m\u001b[43m(\u001b[49m\u001b[43mi\u001b[49m\u001b[43m,\u001b[49m\u001b[43m \u001b[49m\u001b[43mvalue\u001b[49m\u001b[43m)\u001b[49m\n\u001b[0;32m     82\u001b[0m     polyData\u001b[38;5;241m.\u001b[39mGetCellData()\u001b[38;5;241m.\u001b[39mAddArray(scalars)\n\u001b[0;32m     84\u001b[0m \u001b[38;5;28;01mreturn\u001b[39;00m polyData\n",
      "\u001b[1;31mTypeError\u001b[0m: InsertTuple1 argument 2: must be real number, not str"
     ]
    }
   ],
   "source": [
    "from cfdmod.logger import logger\n",
    "from cfdmod.use_cases.pressure.cp_data import process_cp\n",
    "from cfdmod.use_cases.pressure.path_manager import copy_input_artifacts\n",
    "\n",
    "for cfg_lbl, cfg in post_proc_cfg.pressure_coefficient.items():\n",
    "    logger.info(f\"Processing pressure coefficients for config {cfg_lbl} ...\")\n",
    "    process_cp(\n",
    "        pressure_data_path=static_data_path,\n",
    "        body_data_path=body_data_path,\n",
    "        cfg_label=cfg_lbl,\n",
    "        cfg=cfg,\n",
    "        mesh=mesh.geometry,\n",
    "        path_manager=path_manager,\n",
    "        time_scale_factor=post_proc_cfg.time_scale_conversion.time_scale,\n",
    "    )\n",
    "\n",
    "    logger.info(\"Copying input artifacts\")\n",
    "    copy_input_artifacts(\n",
    "        cfg_path=cfg_path,\n",
    "        mesh_path=mesh_path,\n",
    "        static_data_path=static_data_path,\n",
    "        body_data_path=body_data_path,\n",
    "        path_manager=path_manager,\n",
    "    )\n",
    "\n",
    "    logger.info(f\"Processed pressure coefficients for config {cfg_lbl}!\")"
   ]
  }
 ],
 "metadata": {
  "kernelspec": {
   "display_name": "cfdmod-6zl7i90Q-py3.11",
   "language": "python",
   "name": "python3"
  },
  "language_info": {
   "codemirror_mode": {
    "name": "ipython",
    "version": 3
   },
   "file_extension": ".py",
   "mimetype": "text/x-python",
   "name": "python",
   "nbconvert_exporter": "python",
   "pygments_lexer": "ipython3",
   "version": "3.10.11"
  },
  "orig_nbformat": 4
 },
 "nbformat": 4,
 "nbformat_minor": 2
}
