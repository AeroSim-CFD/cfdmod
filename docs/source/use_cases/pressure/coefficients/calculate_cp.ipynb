{
 "cells": [
  {
   "cell_type": "markdown",
   "metadata": {},
   "source": [
    "# Generate pressure coefficients"
   ]
  },
  {
   "cell_type": "markdown",
   "metadata": {},
   "source": [
    "The following steps are performed to obtain all the artifacts for pressure coefficient use case:\n",
    "\n",
    "1. Read parameters file\n",
    "2. Read Mesh description\n",
    "   * Its path can be specified\n",
    "   * Or it can be obtained from the simulation configuration file\n",
    "3. Read data\n",
    "   * For reference static pressure\n",
    "   * For body pressure data\n",
    "   * Slice from timestep range specified\n",
    "4. Transform pressure data into pressure coefficient\n",
    "5. Calculate pressure coefficient statistics\n",
    "6. Merge coefficient statistics with mesh description into VTK\n",
    "  \n",
    "  "
   ]
  },
  {
   "cell_type": "markdown",
   "metadata": {},
   "source": [
    "Initialize Path Manager"
   ]
  },
  {
   "cell_type": "code",
   "execution_count": 4,
   "metadata": {},
   "outputs": [],
   "source": [
    "from cfdmod.use_cases.pressure.path_manager import CpPathManager, copy_input_artifacts\n",
    "import pathlib\n",
    "\n",
    "path_manager = CpPathManager(output_path=pathlib.Path(\"./output/pressure\"))"
   ]
  },
  {
   "cell_type": "markdown",
   "metadata": {},
   "source": [
    "Read post-processing Cp config file"
   ]
  },
  {
   "cell_type": "code",
   "execution_count": 5,
   "metadata": {},
   "outputs": [
    {
     "data": {
      "text/plain": [
       "CpCaseConfig(pressure_coefficient={'default': CpConfig(number_of_chunks=10, timestep_range=(10000.0, 20000.0), reference_pressure='average', U_H=0.05, U_H_correction_factor=1, statistics=['min', 'max', 'std', 'mean', 'skewness', 'kurtosis', 'xtr_min', 'xtr_max', 'mean_qs'])}, extreme_values=ExtremeValuesParameters(CST_real=0.56, CST_sim=16.89, t=0.3, T0=6.0, T1=60.0, yR=1.4, time_scale_correction_factor=0.48))"
      ]
     },
     "execution_count": 5,
     "metadata": {},
     "output_type": "execute_result"
    }
   ],
   "source": [
    "from cfdmod.use_cases.pressure.cp_config import CpCaseConfig\n",
    "\n",
    "cfg_path = pathlib.Path(\"./fixtures/tests/pressure/cp_params.yaml\")\n",
    "post_proc_cfg = CpCaseConfig.from_file(cfg_path)\n",
    "\n",
    "post_proc_cfg"
   ]
  },
  {
   "cell_type": "markdown",
   "metadata": {},
   "source": [
    "Read LNAS Mesh"
   ]
  },
  {
   "cell_type": "code",
   "execution_count": 6,
   "metadata": {},
   "outputs": [
    {
     "data": {
      "text/plain": [
       "((1549, 3), (2915, 3))"
      ]
     },
     "execution_count": 6,
     "metadata": {},
     "output_type": "execute_result"
    }
   ],
   "source": [
    "from lnas import LnasFormat\n",
    "\n",
    "mesh_path = pathlib.Path(\"./fixtures/tests/pressure/galpao/galpao.lnas\")\n",
    "mesh = LnasFormat.from_file(mesh_path)\n",
    "\n",
    "mesh.geometry.vertices.shape, mesh.geometry.triangles.shape"
   ]
  },
  {
   "cell_type": "markdown",
   "metadata": {},
   "source": [
    "Read hist series"
   ]
  },
  {
   "cell_type": "code",
   "execution_count": 7,
   "metadata": {},
   "outputs": [
    {
     "name": "stderr",
     "output_type": "stream",
     "text": [
      "/tmp/ipykernel_35340/487441141.py:1: DeprecationWarning: \n",
      "Pyarrow will become a required dependency of pandas in the next major release of pandas (pandas 3.0),\n",
      "(to allow more performant data types, such as the Arrow string type, and better interoperability with other libraries)\n",
      "but was not found to be installed on your system.\n",
      "If this would cause problems for you,\n",
      "please provide us feedback at https://github.com/pandas-dev/pandas/issues/54466\n",
      "        \n",
      "  import pandas as pd\n"
     ]
    },
    {
     "data": {
      "text/plain": [
       "(      point_idx       rho  time_step\n",
       " 2915          0  1.002515    10000.0\n",
       " 2915          0  1.002532    10001.0\n",
       " 2915          0  1.002549    10002.0\n",
       " 2915          0  1.002566    10003.0\n",
       " 2915          0  1.002583    10004.0\n",
       " ...         ...       ...        ...\n",
       " 2915          0  1.003020    10096.0\n",
       " 2915          0  1.003010    10097.0\n",
       " 2915          0  1.002998    10098.0\n",
       " 2915          0  1.002987    10099.0\n",
       " 2915          0  1.002974    10100.0\n",
       " \n",
       " [101 rows x 3 columns],\n",
       "       point_idx       rho  time_step\n",
       " 0             0  1.001819    10000.0\n",
       " 1             1  1.001838    10000.0\n",
       " 2             2  1.001808    10000.0\n",
       " 3             3  1.001851    10000.0\n",
       " 4             4  1.001835    10000.0\n",
       " ...         ...       ...        ...\n",
       " 2910       2910  1.002633    10100.0\n",
       " 2911       2911  1.002594    10100.0\n",
       " 2912       2912  1.002504    10100.0\n",
       " 2913       2913  1.002828    10100.0\n",
       " 2914       2914  1.002812    10100.0\n",
       " \n",
       " [294415 rows x 3 columns])"
      ]
     },
     "execution_count": 7,
     "metadata": {},
     "output_type": "execute_result"
    }
   ],
   "source": [
    "import pandas as pd\n",
    "\n",
    "static_data_path = pathlib.Path(\n",
    "    \"./fixtures/tests/pressure/data/points.static_pressure.data.resampled.h5\"\n",
    ")\n",
    "body_data_path = pathlib.Path(\"./fixtures/tests/pressure/data/bodies.galpao.data.resampled.h5\")\n",
    "\n",
    "press_data: pd.DataFrame = pd.read_hdf(static_data_path)  # type: ignore\n",
    "body_data: pd.DataFrame = pd.read_hdf(body_data_path)  # type: ignore\n",
    "\n",
    "press_data, body_data"
   ]
  },
  {
   "cell_type": "markdown",
   "metadata": {},
   "source": [
    "Process pressure coefficient use case"
   ]
  },
  {
   "cell_type": "code",
   "execution_count": 8,
   "metadata": {},
   "outputs": [
    {
     "name": "stdout",
     "output_type": "stream",
     "text": [
      "\u001b[37m[2024-01-30 16:01:26,707] [INFO] - cfdmod - Processing pressure coefficients for config default ... (1486552892.py:6)\u001b[39m\n",
      "\u001b[37m[2024-01-30 16:01:28,097] [INFO] - cfdmod - Processed pressure coefficients for config default! (1486552892.py:17)\u001b[39m\n"
     ]
    }
   ],
   "source": [
    "from cfdmod.logger import logger\n",
    "from cfdmod.use_cases.pressure.cp_data import process_cp\n",
    "from cfdmod.use_cases.pressure.path_manager import copy_input_artifacts\n",
    "\n",
    "for cfg_lbl, cfg in post_proc_cfg.pressure_coefficient.items():\n",
    "    logger.info(f\"Processing pressure coefficients for config {cfg_lbl} ...\")\n",
    "\n",
    "    cp_output = process_cp(\n",
    "        pressure_data=press_data,\n",
    "        body_data=body_data,\n",
    "        cfg=cfg,\n",
    "        mesh=mesh.geometry,\n",
    "        extreme_params=post_proc_cfg.extreme_values,\n",
    "    )\n",
    "    cp_output.save_outputs(cfg=cfg, cfg_label=cfg_lbl, path_manager=path_manager)\n",
    "\n",
    "    logger.info(f\"Processed pressure coefficients for config {cfg_lbl}!\")\n"
   ]
  },
  {
   "cell_type": "markdown",
   "metadata": {},
   "source": [
    "Copy Input artifacts to output folder"
   ]
  },
  {
   "cell_type": "code",
   "execution_count": 9,
   "metadata": {},
   "outputs": [],
   "source": [
    "copy_input_artifacts(\n",
    "    cfg_path=cfg_path,\n",
    "    mesh_path=mesh_path,\n",
    "    static_data_path=static_data_path,\n",
    "    body_data_path=body_data_path,\n",
    "    path_manager=path_manager,\n",
    ")"
   ]
  }
 ],
 "metadata": {
  "kernelspec": {
   "display_name": "cfdmod-6zl7i90Q-py3.11",
   "language": "python",
   "name": "python3"
  },
  "language_info": {
   "codemirror_mode": {
    "name": "ipython",
    "version": 3
   },
   "file_extension": ".py",
   "mimetype": "text/x-python",
   "name": "python",
   "nbconvert_exporter": "python",
   "pygments_lexer": "ipython3",
   "version": "3.10.12"
  },
  "orig_nbformat": 4
 },
 "nbformat": 4,
 "nbformat_minor": 2
}
