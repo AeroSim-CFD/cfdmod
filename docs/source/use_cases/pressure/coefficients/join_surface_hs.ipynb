{
 "cells": [
  {
   "cell_type": "markdown",
   "metadata": {},
   "source": [
    "Read Mesh"
   ]
  },
  {
   "cell_type": "code",
   "execution_count": 3,
   "metadata": {},
   "outputs": [],
   "source": [
    "from nassu.lnas import LagrangianFormat\n",
    "import pathlib\n",
    "\n",
    "mesh = LagrangianFormat.from_file(pathlib.Path(\"./fixtures/tests/simulation_test/lnas/G200/G200.transformed.lnas\"))"
   ]
  },
  {
   "cell_type": "markdown",
   "metadata": {},
   "source": [
    "Read historic series"
   ]
  },
  {
   "cell_type": "code",
   "execution_count": 6,
   "metadata": {},
   "outputs": [],
   "source": [
    "import pandas as pd\n",
    "\n",
    "data_path = pathlib.Path(\"./fixtures/tests/simulation_test/probes/hist_series/series1\")\n",
    "\n",
    "body_hist_series = pd.read_hdf(data_path / \"bodies.G200.data.h5\")\n",
    "sfc1_data = pd.read_hdf(data_path / \"bodies.m1_inferior.data.h5\")\n",
    "sfc2_data = pd.read_hdf(data_path / \"bodies.m2_inferior.data.h5\")\n",
    "sfc3_data = pd.read_hdf(data_path / \"bodies.m3_inferior.data.h5\")"
   ]
  },
  {
   "cell_type": "markdown",
   "metadata": {},
   "source": [
    "Read points"
   ]
  },
  {
   "cell_type": "code",
   "execution_count": 32,
   "metadata": {},
   "outputs": [],
   "source": [
    "body_points = pd.read_csv(data_path / \"bodies.G200.points.csv\")\n",
    "sfc1_points = pd.read_csv(data_path / \"bodies.m1_inferior.points.csv\")\n",
    "sfc2_points = pd.read_csv(data_path / \"bodies.m2_inferior.points.csv\")\n",
    "sfc3_points = pd.read_csv(data_path / \"bodies.m3_inferior.points.csv\")\n",
    "\n",
    "last_index = body_points.idx.max()\n",
    "sfc1_points.idx += last_index + 1\n",
    "\n",
    "last_index = sfc1_points.idx.max()\n",
    "sfc2_points.idx += last_index + 1\n",
    "\n",
    "last_index = sfc2_points.idx.max()\n",
    "sfc3_points.idx += last_index + 1"
   ]
  },
  {
   "cell_type": "markdown",
   "metadata": {},
   "source": [
    "Mask the points to the body idx"
   ]
  },
  {
   "cell_type": "code",
   "execution_count": 46,
   "metadata": {},
   "outputs": [
    {
     "name": "stdout",
     "output_type": "stream",
     "text": [
      "29 29\n",
      "0 837\n",
      "27 27\n"
     ]
    }
   ],
   "source": [
    "result1 = pd.merge(body_points, sfc1_points, on=['x', 'y'])\n",
    "result2 = pd.merge(body_points, sfc2_points, on=['x', 'y'])\n",
    "result3 = pd.merge(body_points, sfc3_points, on=['x', 'y'])\n",
    "\n",
    "print(result1.idx_x.nunique(), sfc1_points.idx.nunique())\n",
    "print(result2.idx_x.nunique(), sfc2_points.idx.nunique())\n",
    "print(result3.idx_x.nunique(), sfc3_points.idx.nunique())"
   ]
  }
 ],
 "metadata": {
  "kernelspec": {
   "display_name": "cfdmod-XMkUSlb0-py3.10",
   "language": "python",
   "name": "python3"
  },
  "language_info": {
   "codemirror_mode": {
    "name": "ipython",
    "version": 3
   },
   "file_extension": ".py",
   "mimetype": "text/x-python",
   "name": "python",
   "nbconvert_exporter": "python",
   "pygments_lexer": "ipython3",
   "version": "3.10.11"
  }
 },
 "nbformat": 4,
 "nbformat_minor": 2
}
