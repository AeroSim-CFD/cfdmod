{
 "cells": [
  {
   "cell_type": "markdown",
   "metadata": {},
   "source": [
    "# Generate shape coefficients"
   ]
  },
  {
   "cell_type": "markdown",
   "metadata": {},
   "source": [
    "The following steps are performed to obtain all the artifacts for force coefficient use case:\n",
    "\n",
    "1. Read parameters file\n",
    "2. Read Mesh description\n",
    "   * Its path can be specified\n",
    "   * Or it can be obtained from the simulation configuration file\n",
    "3. Read data for pressure coefficient"
   ]
  },
  {
   "cell_type": "markdown",
   "metadata": {},
   "source": [
    "Read parameters file"
   ]
  },
  {
   "cell_type": "code",
   "execution_count": 1,
   "metadata": {},
   "outputs": [
    {
     "data": {
      "text/plain": [
       "{'measurement_1': CfConfig(bodies={'building': Body(surfaces=[], sub_bodies=SubBodyIntervals(x_intervals=[-inf, inf], y_intervals=[-inf, inf], z_intervals=[0.0, 10.0, 20.0]))}, variables=['Cfx', 'Cfy', 'Cfz'], statistics=['min', 'max', 'std', 'avg', 'skewness', 'kurtosis']),\n",
       " 'measurement_2': CfConfig(bodies={'lanternim': Body(surfaces=['L1_xp', 'L2_yp', 'L3_zp_yp', 'L4_zp_ym', 'L5_ym', 'L6_xm'], sub_bodies=SubBodyIntervals(x_intervals=[-inf, inf], y_intervals=[-inf, inf], z_intervals=[-inf, inf]))}, variables=['Cfx', 'Cfy', 'Cfz'], statistics=['min', 'max', 'std', 'avg', 'skewness', 'kurtosis'])}"
      ]
     },
     "execution_count": 1,
     "metadata": {},
     "output_type": "execute_result"
    }
   ],
   "source": [
    "from cfdmod.use_cases.pressure.force.Cf_config import CfConfig\n",
    "import pathlib\n",
    "\n",
    "config_path=pathlib.Path(\"./fixtures/tests/pressure/Cf_params.yaml\")\n",
    "post_proc_cfg = CfConfig.from_file(config_path)\n",
    "\n",
    "post_proc_cfg"
   ]
  },
  {
   "cell_type": "markdown",
   "metadata": {},
   "source": [
    "Read Mesh from file"
   ]
  },
  {
   "cell_type": "code",
   "execution_count": 2,
   "metadata": {},
   "outputs": [
    {
     "data": {
      "text/plain": [
       "('galpao', (1549, 3), (2915, 3))"
      ]
     },
     "execution_count": 2,
     "metadata": {},
     "output_type": "execute_result"
    }
   ],
   "source": [
    "from nassu.lnas import LagrangianFormat\n",
    "\n",
    "mesh_path=pathlib.Path(\"./fixtures/tests/pressure/galpao/galpao.normalized.lnas\")\n",
    "mesh = LagrangianFormat.from_file(mesh_path)\n",
    "\n",
    "mesh.name, mesh.geometry.vertices.shape, mesh.geometry.triangles.shape"
   ]
  },
  {
   "cell_type": "markdown",
   "metadata": {},
   "source": [
    "Read pressure coefficient data"
   ]
  },
  {
   "cell_type": "code",
   "execution_count": 3,
   "metadata": {},
   "outputs": [
    {
     "data": {
      "text/html": [
       "<div>\n",
       "<style scoped>\n",
       "    .dataframe tbody tr th:only-of-type {\n",
       "        vertical-align: middle;\n",
       "    }\n",
       "\n",
       "    .dataframe tbody tr th {\n",
       "        vertical-align: top;\n",
       "    }\n",
       "\n",
       "    .dataframe thead th {\n",
       "        text-align: right;\n",
       "    }\n",
       "</style>\n",
       "<table border=\"1\" class=\"dataframe\">\n",
       "  <thead>\n",
       "    <tr style=\"text-align: right;\">\n",
       "      <th></th>\n",
       "      <th>time_step</th>\n",
       "      <th>point_idx</th>\n",
       "      <th>cp</th>\n",
       "    </tr>\n",
       "  </thead>\n",
       "  <tbody>\n",
       "    <tr>\n",
       "      <th>0</th>\n",
       "      <td>10000.0</td>\n",
       "      <td>0</td>\n",
       "      <td>0.268273</td>\n",
       "    </tr>\n",
       "    <tr>\n",
       "      <th>1</th>\n",
       "      <td>10000.0</td>\n",
       "      <td>1</td>\n",
       "      <td>0.273546</td>\n",
       "    </tr>\n",
       "    <tr>\n",
       "      <th>2</th>\n",
       "      <td>10000.0</td>\n",
       "      <td>2</td>\n",
       "      <td>0.265319</td>\n",
       "    </tr>\n",
       "    <tr>\n",
       "      <th>3</th>\n",
       "      <td>10000.0</td>\n",
       "      <td>3</td>\n",
       "      <td>0.276913</td>\n",
       "    </tr>\n",
       "    <tr>\n",
       "      <th>4</th>\n",
       "      <td>10000.0</td>\n",
       "      <td>4</td>\n",
       "      <td>0.272593</td>\n",
       "    </tr>\n",
       "    <tr>\n",
       "      <th>...</th>\n",
       "      <td>...</td>\n",
       "      <td>...</td>\n",
       "      <td>...</td>\n",
       "    </tr>\n",
       "    <tr>\n",
       "      <th>294410</th>\n",
       "      <td>10100.0</td>\n",
       "      <td>2910</td>\n",
       "      <td>0.485344</td>\n",
       "    </tr>\n",
       "    <tr>\n",
       "      <th>294411</th>\n",
       "      <td>10100.0</td>\n",
       "      <td>2911</td>\n",
       "      <td>0.474767</td>\n",
       "    </tr>\n",
       "    <tr>\n",
       "      <th>294412</th>\n",
       "      <td>10100.0</td>\n",
       "      <td>2912</td>\n",
       "      <td>0.450817</td>\n",
       "    </tr>\n",
       "    <tr>\n",
       "      <th>294413</th>\n",
       "      <td>10100.0</td>\n",
       "      <td>2913</td>\n",
       "      <td>0.537118</td>\n",
       "    </tr>\n",
       "    <tr>\n",
       "      <th>294414</th>\n",
       "      <td>10100.0</td>\n",
       "      <td>2914</td>\n",
       "      <td>0.532989</td>\n",
       "    </tr>\n",
       "  </tbody>\n",
       "</table>\n",
       "<p>294415 rows × 3 columns</p>\n",
       "</div>"
      ],
      "text/plain": [
       "        time_step  point_idx        cp\n",
       "0         10000.0          0  0.268273\n",
       "1         10000.0          1  0.273546\n",
       "2         10000.0          2  0.265319\n",
       "3         10000.0          3  0.276913\n",
       "4         10000.0          4  0.272593\n",
       "...           ...        ...       ...\n",
       "294410    10100.0       2910  0.485344\n",
       "294411    10100.0       2911  0.474767\n",
       "294412    10100.0       2912  0.450817\n",
       "294413    10100.0       2913  0.537118\n",
       "294414    10100.0       2914  0.532989\n",
       "\n",
       "[294415 rows x 3 columns]"
      ]
     },
     "execution_count": 3,
     "metadata": {},
     "output_type": "execute_result"
    }
   ],
   "source": [
    "import pandas as pd\n",
    "\n",
    "cp_data_path=pathlib.Path(\"./fixtures/tests/pressure/data/cp_t.resampled.hdf\")\n",
    "cp_data = pd.read_hdf(cp_data_path)\n",
    "\n",
    "cp_data_to_use = (\n",
    "    cp_data.to_frame() if isinstance(cp_data, pd.Series) else cp_data\n",
    ")\n",
    "cp_data_to_use"
   ]
  },
  {
   "cell_type": "markdown",
   "metadata": {},
   "source": [
    "Add areas to pressure coefficient data"
   ]
  },
  {
   "cell_type": "code",
   "execution_count": 4,
   "metadata": {},
   "outputs": [],
   "source": [
    "areas = mesh.geometry._cross_prod() / 2\n",
    "areas_df = pd.DataFrame({\"Ax\": areas[:, 0], \"Ay\": areas[:, 1], \"Az\": areas[:, 2]})\n",
    "areas_df[\"point_idx\"] = areas_df.index\n",
    "\n",
    "cp_data = pd.merge(cp_data, areas_df,\n",
    "    on=\"point_idx\",\n",
    "    how=\"left\"\n",
    ")"
   ]
  },
  {
   "cell_type": "code",
   "execution_count": 31,
   "metadata": {},
   "outputs": [
    {
     "name": "stdout",
     "output_type": "stream",
     "text": [
      "(2915, 3, 3) (8745, 3) (1549, 3) (8745,)\n"
     ]
    },
    {
     "ename": "ValueError",
     "evalue": "cannot reshape array of size 26235 into shape (8745,3,3)",
     "output_type": "error",
     "traceback": [
      "\u001b[1;31m---------------------------------------------------------------------------\u001b[0m",
      "\u001b[1;31mValueError\u001b[0m                                Traceback (most recent call last)",
      "\u001b[1;32ma:\\Aerosim\\Repositories\\cfdmod\\docs\\source\\use_cases\\pressure\\coefficients\\calculate_Cf.ipynb Cell 11\u001b[0m line \u001b[0;36m3\n\u001b[0;32m     <a href='vscode-notebook-cell:/a%3A/Aerosim/Repositories/cfdmod/docs/source/use_cases/pressure/coefficients/calculate_Cf.ipynb#X11sZmlsZQ%3D%3D?line=29'>30</a>\u001b[0m \u001b[39m# body_geom = LagrangianGeometry(\u001b[39;00m\n\u001b[0;32m     <a href='vscode-notebook-cell:/a%3A/Aerosim/Repositories/cfdmod/docs/source/use_cases/pressure/coefficients/calculate_Cf.ipynb#X11sZmlsZQ%3D%3D?line=30'>31</a>\u001b[0m \u001b[39m#     vertices=mesh.geometry.vertices.copy(),\u001b[39;00m\n\u001b[0;32m     <a href='vscode-notebook-cell:/a%3A/Aerosim/Repositories/cfdmod/docs/source/use_cases/pressure/coefficients/calculate_Cf.ipynb#X11sZmlsZQ%3D%3D?line=31'>32</a>\u001b[0m \u001b[39m#     triangles=mesh.geometry.triangles[geometry_idx].copy()\u001b[39;00m\n\u001b[0;32m     <a href='vscode-notebook-cell:/a%3A/Aerosim/Repositories/cfdmod/docs/source/use_cases/pressure/coefficients/calculate_Cf.ipynb#X11sZmlsZQ%3D%3D?line=32'>33</a>\u001b[0m \u001b[39m# )\u001b[39;00m\n\u001b[0;32m     <a href='vscode-notebook-cell:/a%3A/Aerosim/Repositories/cfdmod/docs/source/use_cases/pressure/coefficients/calculate_Cf.ipynb#X11sZmlsZQ%3D%3D?line=34'>35</a>\u001b[0m df_regions \u001b[39m=\u001b[39m body_cfg\u001b[39m.\u001b[39msub_bodies\u001b[39m.\u001b[39mget_regions_df()\n\u001b[1;32m---> <a href='vscode-notebook-cell:/a%3A/Aerosim/Repositories/cfdmod/docs/source/use_cases/pressure/coefficients/calculate_Cf.ipynb#X11sZmlsZQ%3D%3D?line=36'>37</a>\u001b[0m sub_body_idx_array \u001b[39m=\u001b[39m get_sub_body_index_mask(body_geom, df_regions)\n\u001b[0;32m     <a href='vscode-notebook-cell:/a%3A/Aerosim/Repositories/cfdmod/docs/source/use_cases/pressure/coefficients/calculate_Cf.ipynb#X11sZmlsZQ%3D%3D?line=37'>38</a>\u001b[0m sub_body_idx \u001b[39m=\u001b[39m pd\u001b[39m.\u001b[39mDataFrame({\u001b[39m\"\u001b[39m\u001b[39mpoint_idx\u001b[39m\u001b[39m\"\u001b[39m: geometry_idx, \u001b[39m\"\u001b[39m\u001b[39msub_body_idx\u001b[39m\u001b[39m\"\u001b[39m: areas[:, \u001b[39m2\u001b[39m]})\n\u001b[0;32m     <a href='vscode-notebook-cell:/a%3A/Aerosim/Repositories/cfdmod/docs/source/use_cases/pressure/coefficients/calculate_Cf.ipynb#X11sZmlsZQ%3D%3D?line=39'>40</a>\u001b[0m body_data \u001b[39m=\u001b[39m cp_data[cp_data[\u001b[39m\"\u001b[39m\u001b[39mpoint_idx\u001b[39m\u001b[39m\"\u001b[39m]\u001b[39m.\u001b[39misin(geometry_idx)]\u001b[39m.\u001b[39mcopy()\n",
      "File \u001b[1;32ma:\\Aerosim\\Repositories\\cfdmod\\cfdmod\\use_cases\\pressure\\force\\Cf_data.py:20\u001b[0m, in \u001b[0;36mget_sub_body_index_mask\u001b[1;34m(mesh, df_regions)\u001b[0m\n\u001b[0;32m     10\u001b[0m \u001b[39mdef\u001b[39;00m \u001b[39mget_sub_body_index_mask\u001b[39m(mesh: LagrangianGeometry, df_regions: pd\u001b[39m.\u001b[39mDataFrame) \u001b[39m-\u001b[39m\u001b[39m>\u001b[39m np\u001b[39m.\u001b[39mndarray:\n\u001b[0;32m     11\u001b[0m \u001b[39m    \u001b[39m\u001b[39m\"\"\"Index the sub body of each triangle in the mesh\u001b[39;00m\n\u001b[0;32m     12\u001b[0m \n\u001b[0;32m     13\u001b[0m \u001b[39m    Args:\u001b[39;00m\n\u001b[1;32m   (...)\u001b[0m\n\u001b[0;32m     18\u001b[0m \u001b[39m        np.ndarray: Triangles sub body indexing array\u001b[39;00m\n\u001b[0;32m     19\u001b[0m \u001b[39m    \"\"\"\u001b[39;00m\n\u001b[1;32m---> 20\u001b[0m     triangles \u001b[39m=\u001b[39m mesh\u001b[39m.\u001b[39;49mtriangle_vertices\n\u001b[0;32m     21\u001b[0m     centroids \u001b[39m=\u001b[39m np\u001b[39m.\u001b[39mmean(triangles, axis\u001b[39m=\u001b[39m\u001b[39m1\u001b[39m)\n\u001b[0;32m     23\u001b[0m     triangles_region \u001b[39m=\u001b[39m np\u001b[39m.\u001b[39mfull((triangles\u001b[39m.\u001b[39mshape[\u001b[39m0\u001b[39m],), \u001b[39m-\u001b[39m\u001b[39m1\u001b[39m, dtype\u001b[39m=\u001b[39mnp\u001b[39m.\u001b[39mint32)\n",
      "File \u001b[1;32mc:\\Users\\Pablo\\AppData\\Local\\pypoetry\\Cache\\virtualenvs\\cfdmod-XMkUSlb0-py3.10\\lib\\site-packages\\nassu\\lnas\\lagrangianGeometry.py:51\u001b[0m, in \u001b[0;36mLagrangianGeometry.triangle_vertices\u001b[1;34m(self)\u001b[0m\n\u001b[0;32m     48\u001b[0m \u001b[39m@property\u001b[39m\n\u001b[0;32m     49\u001b[0m \u001b[39mdef\u001b[39;00m \u001b[39mtriangle_vertices\u001b[39m(\u001b[39mself\u001b[39m):\n\u001b[0;32m     50\u001b[0m     \u001b[39mif\u001b[39;00m \u001b[39mnot\u001b[39;00m \u001b[39mhasattr\u001b[39m(\u001b[39mself\u001b[39m, \u001b[39m\"\u001b[39m\u001b[39m_triangles_vertices\u001b[39m\u001b[39m\"\u001b[39m):\n\u001b[1;32m---> 51\u001b[0m         \u001b[39mself\u001b[39;49m\u001b[39m.\u001b[39;49m_update_triangles_vertices()\n\u001b[0;32m     52\u001b[0m     \u001b[39mreturn\u001b[39;00m \u001b[39mself\u001b[39m\u001b[39m.\u001b[39m_triangles_vertices\n",
      "File \u001b[1;32mc:\\Users\\Pablo\\AppData\\Local\\pypoetry\\Cache\\virtualenvs\\cfdmod-XMkUSlb0-py3.10\\lib\\site-packages\\nassu\\lnas\\lagrangianGeometry.py:40\u001b[0m, in \u001b[0;36mLagrangianGeometry._update_triangles_vertices\u001b[1;34m(self)\u001b[0m\n\u001b[0;32m     37\u001b[0m idxs_triangles \u001b[39m=\u001b[39m \u001b[39mself\u001b[39m\u001b[39m.\u001b[39mtriangles\u001b[39m.\u001b[39mflatten(order\u001b[39m=\u001b[39m\u001b[39m\"\u001b[39m\u001b[39mC\u001b[39m\u001b[39m\"\u001b[39m)\n\u001b[0;32m     38\u001b[0m verts \u001b[39m=\u001b[39m \u001b[39mself\u001b[39m\u001b[39m.\u001b[39mvertices[idxs_triangles]\n\u001b[1;32m---> 40\u001b[0m \u001b[39mself\u001b[39m\u001b[39m.\u001b[39m_triangles_vertices \u001b[39m=\u001b[39m verts\u001b[39m.\u001b[39;49mreshape(nt, \u001b[39m3\u001b[39;49m, \u001b[39m3\u001b[39;49m)\n",
      "\u001b[1;31mValueError\u001b[0m: cannot reshape array of size 26235 into shape (8745,3,3)"
     ]
    }
   ],
   "source": [
    "import numpy as np\n",
    "from nassu.lnas import LagrangianGeometry\n",
    "from cfdmod.use_cases.pressure.force.Cf_data import get_sub_body_index_mask\n",
    "\n",
    "for cfg_label, cfg in post_proc_cfg.items():\n",
    "    for body_label, body_cfg in cfg.bodies.items():\n",
    "        if len(body_cfg.surfaces) == 0:\n",
    "            # Include all surfaces\n",
    "            geometry_idx = np.arange(0, len(mesh.geometry.triangles))\n",
    "        else:\n",
    "            # Filter mesh for all surfaces\n",
    "            geometry_idx = np.array([], dtype=np.int32)\n",
    "            for sfc in body_cfg.surfaces:\n",
    "                if sfc not in mesh.surfaces.keys():\n",
    "                    raise Exception(\"Surface defined in body is not separated in the LNAS file.\")\n",
    "                geometry_idx = np.concatenate((geometry_idx, mesh.surfaces[sfc])) \n",
    "                \n",
    "        # verts_idx = np.unique(mesh.geometry.triangles[geometry_idx])\n",
    "        body_triangle_verts = mesh.geometry._triangles_vertices[geometry_idx]\n",
    "        full_verts = body_triangle_verts.reshape(len(body_triangle_verts) * 3, 3)\n",
    "        verts, triangles = np.unique(full_verts, axis=0, return_inverse=True)\n",
    "        \n",
    "        print(body_triangle_verts.shape, full_verts.shape, verts.shape, triangles.shape)\n",
    "        \n",
    "        body_geom = LagrangianGeometry(\n",
    "            vertices=verts,\n",
    "            triangles=triangles\n",
    "        )\n",
    "        \n",
    "        # body_geom = LagrangianGeometry(\n",
    "        #     vertices=mesh.geometry.vertices.copy(),\n",
    "        #     triangles=mesh.geometry.triangles[geometry_idx].copy()\n",
    "        # )\n",
    "        \n",
    "        df_regions = body_cfg.sub_bodies.get_regions_df()\n",
    "        \n",
    "        sub_body_idx_array = get_sub_body_index_mask(body_geom, df_regions)\n",
    "        sub_body_idx = pd.DataFrame({\"point_idx\": geometry_idx, \"sub_body_idx\": areas[:, 2]})\n",
    "        \n",
    "        body_data = cp_data[cp_data[\"point_idx\"].isin(geometry_idx)].copy()\n",
    "        body_data = pd.merge(body_data, sub_body_idx,\n",
    "            on=\"point_idx\",\n",
    "            how=\"left\"\n",
    "        )\n",
    "        \n",
    "        body_data[\"fx\"] = body_data[\"cp\"] * body_data[\"Ax\"]\n",
    "        body_data[\"fy\"] = body_data[\"cp\"] * body_data[\"Ay\"]\n",
    "        body_data[\"fz\"] = body_data[\"cp\"] * body_data[\"Az\"]\n",
    "        \n",
    "        # print(body_data)"
   ]
  }
 ],
 "metadata": {
  "kernelspec": {
   "display_name": "cfdmod-XMkUSlb0-py3.10",
   "language": "python",
   "name": "python3"
  },
  "language_info": {
   "codemirror_mode": {
    "name": "ipython",
    "version": 3
   },
   "file_extension": ".py",
   "mimetype": "text/x-python",
   "name": "python",
   "nbconvert_exporter": "python",
   "pygments_lexer": "ipython3",
   "version": "3.10.11"
  }
 },
 "nbformat": 4,
 "nbformat_minor": 2
}
