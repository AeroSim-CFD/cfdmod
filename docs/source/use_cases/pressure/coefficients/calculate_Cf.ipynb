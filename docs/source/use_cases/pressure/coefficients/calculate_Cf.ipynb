{
 "cells": [
  {
   "cell_type": "markdown",
   "metadata": {},
   "source": [
    "# Generate force coefficients"
   ]
  },
  {
   "cell_type": "markdown",
   "metadata": {},
   "source": [
    "The following steps are performed to obtain all the artifacts for force coefficient use case:\n",
    "\n",
    "1. Read parameters file\n",
    "2. Read Mesh description\n",
    "   * Its path can be specified\n",
    "   * Or it can be obtained from the simulation configuration file\n",
    "3. Read data for pressure coefficient"
   ]
  },
  {
   "cell_type": "markdown",
   "metadata": {},
   "source": [
    "Instantiate path manager"
   ]
  },
  {
   "cell_type": "code",
   "execution_count": 1,
   "metadata": {},
   "outputs": [],
   "source": [
    "from cfdmod.use_cases.pressure.path_manager import CfPathManager\n",
    "import pathlib\n",
    "\n",
    "path_manager = CfPathManager(output_path=pathlib.Path(\"./output/pressure\"))"
   ]
  },
  {
   "cell_type": "markdown",
   "metadata": {},
   "source": [
    "Read parameters file"
   ]
  },
  {
   "cell_type": "code",
   "execution_count": 2,
   "metadata": {},
   "outputs": [
    {
     "data": {
      "text/plain": [
       "{'measurement_1': CfConfig(body='building2', sub_bodies=ZoningModel(x_intervals=[-inf, inf], y_intervals=[-inf, inf], z_intervals=[0.0, 10.0, 20.0]), variables=['Cfx', 'Cfy', 'Cfz'], statistics=['min', 'max', 'std', 'mean', 'skewness', 'kurtosis', 'xtr_min', 'xtr_max', 'mean_qs'], transformation=TransformationConfig(translation=(0, 0, 0), rotation=(0.0, 0.0, 0.0), fixed_point=(0, 0, 0))),\n",
       " 'measurement_2': CfConfig(body='marquise', sub_bodies=ZoningModel(x_intervals=[-inf, inf], y_intervals=[-inf, inf], z_intervals=[-inf, inf]), variables=['Cfx', 'Cfy', 'Cfz'], statistics=['min', 'max', 'std', 'mean', 'skewness', 'kurtosis', 'xtr_min', 'xtr_max', 'mean_qs'], transformation=TransformationConfig(translation=(0, 0, 0), rotation=(0.0, 0.0, 0.0), fixed_point=(0, 0, 0)))}"
      ]
     },
     "execution_count": 2,
     "metadata": {},
     "output_type": "execute_result"
    }
   ],
   "source": [
    "from cfdmod.use_cases.pressure.force.Cf_config import CfCaseConfig\n",
    "\n",
    "config_path = pathlib.Path(\"./fixtures/tests/pressure/Cf_params.yaml\")\n",
    "post_proc_cfg = CfCaseConfig.from_file(config_path)\n",
    "\n",
    "post_proc_cfg.force_coefficient"
   ]
  },
  {
   "cell_type": "markdown",
   "metadata": {},
   "source": [
    "Read Mesh from file"
   ]
  },
  {
   "cell_type": "code",
   "execution_count": 3,
   "metadata": {},
   "outputs": [
    {
     "data": {
      "text/plain": [
       "('galpao', (1549, 3), (2915, 3))"
      ]
     },
     "execution_count": 3,
     "metadata": {},
     "output_type": "execute_result"
    }
   ],
   "source": [
    "from lnas import LnasFormat\n",
    "\n",
    "mesh_path = pathlib.Path(\"./fixtures/tests/pressure/galpao/galpao.normalized.lnas\")\n",
    "mesh = LnasFormat.from_file(mesh_path)\n",
    "\n",
    "mesh.name, mesh.geometry.vertices.shape, mesh.geometry.triangles.shape"
   ]
  },
  {
   "cell_type": "markdown",
   "metadata": {},
   "source": [
    "Calculate force coefficient"
   ]
  },
  {
   "cell_type": "code",
   "execution_count": 4,
   "metadata": {},
   "outputs": [
    {
     "name": "stdout",
     "output_type": "stream",
     "text": [
      "\u001b[37m[2024-01-18 16:16:02,917] [INFO] - cfdmod - Processing body building2 ... (3330637806.py:7)\u001b[39m\n",
      "\u001b[37m[2024-01-18 16:16:04,210] [INFO] - cfdmod - Processed body building2! (3330637806.py:19)\u001b[39m\n",
      "\u001b[37m[2024-01-18 16:16:04,211] [INFO] - cfdmod - Processing body marquise ... (3330637806.py:7)\u001b[39m\n",
      "\u001b[37m[2024-01-18 16:16:04,315] [INFO] - cfdmod - Processed body marquise! (3330637806.py:19)\u001b[39m\n"
     ]
    }
   ],
   "source": [
    "from cfdmod.logger import logger\n",
    "from cfdmod.use_cases.pressure.force.Cf_data import CfOutputs, process_Cf\n",
    "\n",
    "cp_path = pathlib.Path(\"./fixtures/tests/pressure/data/cp_t.resampled.hdf\")\n",
    "\n",
    "for cfg_label, cfg in post_proc_cfg.force_coefficient.items():\n",
    "    logger.info(f\"Processing body {cfg.body} ...\")\n",
    "\n",
    "    cf_output: CfOutputs = process_Cf(\n",
    "        mesh=mesh,\n",
    "        body_cfg=post_proc_cfg.bodies[cfg.body],\n",
    "        cfg=cfg,\n",
    "        cp_path=cp_path,\n",
    "        extreme_params=post_proc_cfg.extreme_values,\n",
    "    )\n",
    "\n",
    "    cf_output.save_outputs(body_label=cfg.body, cfg_label=cfg_label, path_manager=path_manager)\n",
    "\n",
    "    logger.info(f\"Processed body {cfg.body}!\")"
   ]
  }
 ],
 "metadata": {
  "kernelspec": {
   "display_name": "cfdmod-XMkUSlb0-py3.10",
   "language": "python",
   "name": "python3"
  },
  "language_info": {
   "codemirror_mode": {
    "name": "ipython",
    "version": 3
   },
   "file_extension": ".py",
   "mimetype": "text/x-python",
   "name": "python",
   "nbconvert_exporter": "python",
   "pygments_lexer": "ipython3",
   "version": "3.10.12"
  }
 },
 "nbformat": 4,
 "nbformat_minor": 2
}
