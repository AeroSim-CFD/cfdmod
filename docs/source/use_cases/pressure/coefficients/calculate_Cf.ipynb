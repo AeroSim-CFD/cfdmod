{
 "cells": [
  {
   "cell_type": "markdown",
   "metadata": {},
   "source": [
    "# Generate shape coefficients"
   ]
  },
  {
   "cell_type": "markdown",
   "metadata": {},
   "source": [
    "The following steps are performed to obtain all the artifacts for force coefficient use case:\n",
    "\n",
    "1. Read parameters file\n",
    "2. Read Mesh description\n",
    "   * Its path can be specified\n",
    "   * Or it can be obtained from the simulation configuration file\n",
    "3. Read data for pressure coefficient"
   ]
  },
  {
   "cell_type": "markdown",
   "metadata": {},
   "source": [
    "Instantiate path manager"
   ]
  },
  {
   "cell_type": "code",
   "execution_count": 1,
   "metadata": {},
   "outputs": [],
   "source": [
    "from cfdmod.use_cases.pressure.path_manager import CfPathManager\n",
    "import pathlib\n",
    "\n",
    "path_manager = CfPathManager(output_path=pathlib.Path(\"./output/pressure\"))"
   ]
  },
  {
   "cell_type": "markdown",
   "metadata": {},
   "source": [
    "Read parameters file"
   ]
  },
  {
   "cell_type": "code",
   "execution_count": 2,
   "metadata": {},
   "outputs": [
    {
     "data": {
      "text/plain": [
       "{'measurement_1': CfConfig(bodies={'building': BodyConfig(surfaces=[], sub_bodies=ZoningModel(x_intervals=[-inf, inf], y_intervals=[-inf, inf], z_intervals=[0.0, 10.0, 20.0])), 'building2': BodyConfig(surfaces=['p1_xp', 'p2_xp', 'p3_ym', 'p4_ym', 'p5_ym', 'p6c_yp', 'p7_xm', 'p8_yp', 'p9_yp', 't1_ym', 't2_yp'], sub_bodies=ZoningModel(x_intervals=[-inf, inf], y_intervals=[-inf, inf], z_intervals=[0.0, 10.0, 20.0]))}, variables=['Cfx', 'Cfy', 'Cfz'], statistics=['min', 'max', 'std', 'avg', 'skewness', 'kurtosis']),\n",
       " 'measurement_2': CfConfig(bodies={'marquise': BodyConfig(surfaces=['m1_yp', 'm2_zp', 'm3_zm'], sub_bodies=ZoningModel(x_intervals=[-inf, inf], y_intervals=[-inf, inf], z_intervals=[-inf, inf])), 'lanternim': BodyConfig(surfaces=['L1_xp', 'L2_yp', 'L3_zp_yp', 'L4_zp_ym', 'L5_ym', 'L6_xm'], sub_bodies=ZoningModel(x_intervals=[-inf, inf], y_intervals=[-inf, inf], z_intervals=[-inf, inf]))}, variables=['Cfx', 'Cfy', 'Cfz'], statistics=['min', 'max', 'std', 'avg', 'skewness', 'kurtosis'])}"
      ]
     },
     "execution_count": 2,
     "metadata": {},
     "output_type": "execute_result"
    }
   ],
   "source": [
    "from cfdmod.use_cases.pressure.force.Cf_config import CfConfig\n",
    "\n",
    "config_path=pathlib.Path(\"./fixtures/tests/pressure/Cf_params.yaml\")\n",
    "post_proc_cfg = CfConfig.from_file(config_path)\n",
    "\n",
    "post_proc_cfg"
   ]
  },
  {
   "cell_type": "markdown",
   "metadata": {},
   "source": [
    "Read Mesh from file"
   ]
  },
  {
   "cell_type": "code",
   "execution_count": 3,
   "metadata": {},
   "outputs": [
    {
     "data": {
      "text/plain": [
       "('galpao', (1549, 3), (2915, 3))"
      ]
     },
     "execution_count": 3,
     "metadata": {},
     "output_type": "execute_result"
    }
   ],
   "source": [
    "from nassu.lnas import LagrangianFormat\n",
    "\n",
    "mesh_path=pathlib.Path(\"./fixtures/tests/pressure/galpao/galpao.normalized.lnas\")\n",
    "mesh = LagrangianFormat.from_file(mesh_path)\n",
    "\n",
    "mesh.name, mesh.geometry.vertices.shape, mesh.geometry.triangles.shape"
   ]
  },
  {
   "cell_type": "markdown",
   "metadata": {},
   "source": [
    "Read pressure coefficient data"
   ]
  },
  {
   "cell_type": "code",
   "execution_count": 4,
   "metadata": {},
   "outputs": [
    {
     "data": {
      "text/html": [
       "<div>\n",
       "<style scoped>\n",
       "    .dataframe tbody tr th:only-of-type {\n",
       "        vertical-align: middle;\n",
       "    }\n",
       "\n",
       "    .dataframe tbody tr th {\n",
       "        vertical-align: top;\n",
       "    }\n",
       "\n",
       "    .dataframe thead th {\n",
       "        text-align: right;\n",
       "    }\n",
       "</style>\n",
       "<table border=\"1\" class=\"dataframe\">\n",
       "  <thead>\n",
       "    <tr style=\"text-align: right;\">\n",
       "      <th></th>\n",
       "      <th>time_step</th>\n",
       "      <th>point_idx</th>\n",
       "      <th>cp</th>\n",
       "    </tr>\n",
       "  </thead>\n",
       "  <tbody>\n",
       "    <tr>\n",
       "      <th>0</th>\n",
       "      <td>10000.0</td>\n",
       "      <td>0</td>\n",
       "      <td>0.268273</td>\n",
       "    </tr>\n",
       "    <tr>\n",
       "      <th>1</th>\n",
       "      <td>10000.0</td>\n",
       "      <td>1</td>\n",
       "      <td>0.273546</td>\n",
       "    </tr>\n",
       "    <tr>\n",
       "      <th>2</th>\n",
       "      <td>10000.0</td>\n",
       "      <td>2</td>\n",
       "      <td>0.265319</td>\n",
       "    </tr>\n",
       "    <tr>\n",
       "      <th>3</th>\n",
       "      <td>10000.0</td>\n",
       "      <td>3</td>\n",
       "      <td>0.276913</td>\n",
       "    </tr>\n",
       "    <tr>\n",
       "      <th>4</th>\n",
       "      <td>10000.0</td>\n",
       "      <td>4</td>\n",
       "      <td>0.272593</td>\n",
       "    </tr>\n",
       "    <tr>\n",
       "      <th>...</th>\n",
       "      <td>...</td>\n",
       "      <td>...</td>\n",
       "      <td>...</td>\n",
       "    </tr>\n",
       "    <tr>\n",
       "      <th>294410</th>\n",
       "      <td>10100.0</td>\n",
       "      <td>2910</td>\n",
       "      <td>0.485344</td>\n",
       "    </tr>\n",
       "    <tr>\n",
       "      <th>294411</th>\n",
       "      <td>10100.0</td>\n",
       "      <td>2911</td>\n",
       "      <td>0.474767</td>\n",
       "    </tr>\n",
       "    <tr>\n",
       "      <th>294412</th>\n",
       "      <td>10100.0</td>\n",
       "      <td>2912</td>\n",
       "      <td>0.450817</td>\n",
       "    </tr>\n",
       "    <tr>\n",
       "      <th>294413</th>\n",
       "      <td>10100.0</td>\n",
       "      <td>2913</td>\n",
       "      <td>0.537118</td>\n",
       "    </tr>\n",
       "    <tr>\n",
       "      <th>294414</th>\n",
       "      <td>10100.0</td>\n",
       "      <td>2914</td>\n",
       "      <td>0.532989</td>\n",
       "    </tr>\n",
       "  </tbody>\n",
       "</table>\n",
       "<p>294415 rows × 3 columns</p>\n",
       "</div>"
      ],
      "text/plain": [
       "        time_step  point_idx        cp\n",
       "0         10000.0          0  0.268273\n",
       "1         10000.0          1  0.273546\n",
       "2         10000.0          2  0.265319\n",
       "3         10000.0          3  0.276913\n",
       "4         10000.0          4  0.272593\n",
       "...           ...        ...       ...\n",
       "294410    10100.0       2910  0.485344\n",
       "294411    10100.0       2911  0.474767\n",
       "294412    10100.0       2912  0.450817\n",
       "294413    10100.0       2913  0.537118\n",
       "294414    10100.0       2914  0.532989\n",
       "\n",
       "[294415 rows x 3 columns]"
      ]
     },
     "execution_count": 4,
     "metadata": {},
     "output_type": "execute_result"
    }
   ],
   "source": [
    "import pandas as pd\n",
    "\n",
    "cp_data_path=pathlib.Path(\"./fixtures/tests/pressure/data/cp_t.resampled.hdf\")\n",
    "cp_data = pd.read_hdf(cp_data_path)\n",
    "\n",
    "cp_data_to_use = (\n",
    "    cp_data.to_frame() if isinstance(cp_data, pd.Series) else cp_data\n",
    ")\n",
    "cp_data_to_use"
   ]
  },
  {
   "cell_type": "markdown",
   "metadata": {},
   "source": [
    "Add areas to pressure coefficient data"
   ]
  },
  {
   "cell_type": "code",
   "execution_count": 5,
   "metadata": {},
   "outputs": [],
   "source": [
    "vec_areas = mesh.geometry._cross_prod() / 2\n",
    "areas_df = pd.DataFrame({\"Ax\": vec_areas[:, 0], \"Ay\": vec_areas[:, 1], \"Az\": vec_areas[:, 2]})\n",
    "areas_df[\"point_idx\"] = areas_df.index\n",
    "\n",
    "cp_data = pd.merge(cp_data, areas_df,\n",
    "    on=\"point_idx\",\n",
    "    how=\"left\"\n",
    ")"
   ]
  },
  {
   "cell_type": "code",
   "execution_count": 6,
   "metadata": {},
   "outputs": [
    {
     "name": "stdout",
     "output_type": "stream",
     "text": [
      "   region_idx   Cfx_avg   Cfx_min   Cfx_max   Cfx_rms  Cfx_skewness  \\\n",
      "0           0  0.044884  0.002140  0.100371  0.028635      0.278742   \n",
      "1           1  0.043229  0.016525  0.078661  0.017989      0.333512   \n",
      "\n",
      "   Cfx_kurtosis   Cfy_avg   Cfy_min   Cfy_max   Cfy_rms  Cfy_skewness  \\\n",
      "0     -1.078723 -0.037547 -0.044154 -0.034356  0.002883     -0.681069   \n",
      "1     -1.031225 -0.083693 -0.092243 -0.067217  0.008043      0.574987   \n",
      "\n",
      "   Cfy_kurtosis   Cfz_avg   Cfz_min   Cfz_max   Cfz_rms  Cfz_skewness  \\\n",
      "0     -0.799677 -0.029644 -0.034369 -0.019635  0.004647      0.682328   \n",
      "1     -1.063774  0.481142  0.304503  0.582544  0.087437     -0.488848   \n",
      "\n",
      "   Cfz_kurtosis  \n",
      "0     -0.890765  \n",
      "1     -1.085833  \n",
      "   region_idx   Cfx_avg   Cfx_min   Cfx_max   Cfx_rms  Cfx_skewness  \\\n",
      "0           0  0.044884  0.002140  0.100371  0.028635      0.278742   \n",
      "1           1  0.043252  0.016639  0.078498  0.017911      0.331234   \n",
      "\n",
      "   Cfx_kurtosis   Cfy_avg   Cfy_min   Cfy_max   Cfy_rms  Cfy_skewness  \\\n",
      "0     -1.078723 -0.042609 -0.049786 -0.039691  0.002743     -0.860271   \n",
      "1     -1.032945 -0.082899 -0.091514 -0.066453  0.008064      0.564878   \n",
      "\n",
      "   Cfy_kurtosis   Cfz_avg   Cfz_min   Cfz_max   Cfz_rms  Cfz_skewness  \\\n",
      "0     -0.267610 -0.028885 -0.033529 -0.019161  0.004536      0.668882   \n",
      "1     -1.076127  0.469822  0.297024  0.568916  0.085507     -0.489847   \n",
      "\n",
      "   Cfz_kurtosis  \n",
      "0     -0.907576  \n",
      "1     -1.084977  \n",
      "   region_idx  Cfx_avg  Cfx_min  Cfx_max  Cfx_rms  Cfx_skewness  Cfx_kurtosis  \\\n",
      "0           0      0.0      0.0      0.0      0.0           0.0           0.0   \n",
      "\n",
      "    Cfy_avg   Cfy_min   Cfy_max   Cfy_rms  Cfy_skewness  Cfy_kurtosis  \\\n",
      "0  0.005062  0.003129  0.005886  0.000852     -0.823452      -0.66998   \n",
      "\n",
      "   Cfz_avg   Cfz_min   Cfz_max   Cfz_rms  Cfz_skewness  Cfz_kurtosis  \n",
      "0 -0.00076 -0.000871 -0.000474  0.000116       1.00887     -0.243342  \n",
      "   region_idx   Cfx_avg   Cfx_min   Cfx_max   Cfx_rms  Cfx_skewness  \\\n",
      "0           0 -0.000022 -0.000114  0.000163  0.000079      0.839019   \n",
      "\n",
      "   Cfx_kurtosis   Cfy_avg   Cfy_min   Cfy_max   Cfy_rms  Cfy_skewness  \\\n",
      "0     -0.472078 -0.000794 -0.000841 -0.000677  0.000045      0.956878   \n",
      "\n",
      "   Cfy_kurtosis  Cfz_avg   Cfz_min   Cfz_max  Cfz_rms  Cfz_skewness  \\\n",
      "0      -0.08067  0.01132  0.007479  0.013629  0.00193     -0.444063   \n",
      "\n",
      "   Cfz_kurtosis  \n",
      "0     -1.122474  \n"
     ]
    }
   ],
   "source": [
    "from cfdmod.use_cases.pressure.force.Cf_data import get_representative_areas, get_geometry_from_mesh\n",
    "from cfdmod.api.vtk.write_vtk import create_polydata_for_cell_data, write_polydata\n",
    "from cfdmod.use_cases.pressure.zoning.processing import (\n",
    "    calculate_statistics,\n",
    "    combine_stats_data_with_mesh,\n",
    "    get_indexing_mask,\n",
    ")\n",
    "\n",
    "for cfg_label, cfg in post_proc_cfg.items():\n",
    "    for body_label, body_cfg in cfg.bodies.items():\n",
    "        body_geom, geometry_idx = get_geometry_from_mesh(body_cfg=body_cfg, mesh=mesh)\n",
    "\n",
    "        zoning_to_use = body_cfg.sub_bodies.offset_limits(0.1)\n",
    "        df_regions = zoning_to_use.get_regions_df()\n",
    "        \n",
    "        sub_body_idx_array = get_indexing_mask(body_geom, df_regions)\n",
    "        body_cp = cp_data[cp_data[\"point_idx\"].isin(sub_body_idx_array)].copy()\n",
    "        \n",
    "        sub_body_idx = pd.DataFrame({\"point_idx\": geometry_idx, \"region_idx\": sub_body_idx_array})\n",
    "        \n",
    "        body_data = cp_data[cp_data[\"point_idx\"].isin(geometry_idx)].copy()\n",
    "        body_data = pd.merge(body_data, sub_body_idx,\n",
    "            on=\"point_idx\",\n",
    "            how=\"left\"\n",
    "        )\n",
    "        \n",
    "        body_data[\"fx\"] = body_data[\"cp\"] * body_data[\"Ax\"]\n",
    "        body_data[\"fy\"] = body_data[\"cp\"] * body_data[\"Ay\"]\n",
    "        body_data[\"fz\"] = body_data[\"cp\"] * body_data[\"Az\"]\n",
    "        \n",
    "        body_cf = (\n",
    "            body_data.groupby([\"region_idx\", \"time_step\"])  # type: ignore\n",
    "            .agg(\n",
    "                Fx=pd.NamedAgg(column=\"fx\", aggfunc=\"sum\"),\n",
    "                Fy=pd.NamedAgg(column=\"fy\", aggfunc=\"sum\"),\n",
    "                Fz=pd.NamedAgg(column=\"fz\", aggfunc=\"sum\"),\n",
    "            )\n",
    "            .reset_index()\n",
    "        )\n",
    "        \n",
    "        Ax, Ay, Az = get_representative_areas(body_geom)\n",
    "        \n",
    "        body_cf[\"Cfx\"] = body_cf[\"Fx\"] / Ax\n",
    "        body_cf[\"Cfy\"] = body_cf[\"Fy\"] / Ay\n",
    "        body_cf[\"Cfz\"] = body_cf[\"Fz\"] / Az\n",
    "        \n",
    "        body_cf_stats = calculate_statistics(body_cf, cfg.statistics, variables=cfg.variables)\n",
    "        \n",
    "        body_data_df = combine_stats_data_with_mesh(mesh=body_geom, region_idx_array=sub_body_idx_array, data_stats=body_cf_stats)\n",
    "        \n",
    "        polydata = create_polydata_for_cell_data(body_data_df, body_geom)\n",
    "        write_polydata(path_manager.get_vtp_path(body_label=body_label, cfg_label=cfg_label), polydata)\n",
    "        \n",
    "        print(body_cf_stats)"
   ]
  }
 ],
 "metadata": {
  "kernelspec": {
   "display_name": "cfdmod-XMkUSlb0-py3.10",
   "language": "python",
   "name": "python3"
  },
  "language_info": {
   "codemirror_mode": {
    "name": "ipython",
    "version": 3
   },
   "file_extension": ".py",
   "mimetype": "text/x-python",
   "name": "python",
   "nbconvert_exporter": "python",
   "pygments_lexer": "ipython3",
   "version": "3.10.11"
  }
 },
 "nbformat": 4,
 "nbformat_minor": 2
}
