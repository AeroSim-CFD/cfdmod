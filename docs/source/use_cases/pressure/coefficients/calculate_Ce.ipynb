{
 "cells": [
  {
   "cell_type": "markdown",
   "metadata": {},
   "source": [
    "# Generate shape coefficients"
   ]
  },
  {
   "cell_type": "markdown",
   "metadata": {},
   "source": [
    "The following steps are performed to obtain all the artifacts for shape coefficient use case:\n",
    "\n",
    "1. Read parameters file\n",
    "2. Read Mesh description\n",
    "   * Its path can be specified\n",
    "   * Or it can be obtained from the simulation configuration file\n",
    "3. Read data for pressure coefficient"
   ]
  },
  {
   "cell_type": "markdown",
   "metadata": {},
   "source": [
    "Initialize Path Manager"
   ]
  },
  {
   "cell_type": "code",
   "execution_count": 9,
   "metadata": {},
   "outputs": [],
   "source": [
    "from cfdmod.use_cases.pressure.path_manager import CePathManager\n",
    "import pathlib\n",
    "\n",
    "path_manager = CePathManager(output_path=pathlib.Path(\"./output/pressure\"))"
   ]
  },
  {
   "cell_type": "markdown",
   "metadata": {},
   "source": [
    "Read post-processing Ce config file"
   ]
  },
  {
   "cell_type": "code",
   "execution_count": 10,
   "metadata": {},
   "outputs": [
    {
     "data": {
      "text/plain": [
       "CeCaseConfig(shape_coefficient={'measurement_1': CeConfig(zoning=ZoningConfig(global_zoning=ZoningModel(x_intervals=[0.0, 25.0, 50.0, 75.0, 100.0, 125.0, 150.0, 175.0, 200.0, 225.0, 250.0], y_intervals=[0.0, 25.0, 50.0, 75.0, 100.0, 125.0, 150.0, 175.0, 200.0], z_intervals=[0.0, 5.0, 10.0, 15.0, 20.0]), no_zoning=['t1_ym'], exclude=['p1_xp'], exceptions={'zoning1': ExceptionZoningModel(x_intervals=[0.0, 25.0, 50.0, 75.0, 100.0, 125.0, 150.0, 175.0, 200.0, 225.0, 250.0], y_intervals=[0.0, 25.0, 50.0, 75.0, 100.0, 125.0, 150.0, 175.0, 200.0], z_intervals=[0.0, 20.0], surfaces=['t2_yp'])}), statistics=['min', 'max', 'std', 'avg', 'skewness', 'kurtosis'], sets={'lanternim': ['L1_xp', 'L2_yp', 'L3_zp_yp', 'L4_zp_ym', 'L5_ym', 'L6_xm']}), 'measurement_2': CeConfig(zoning=ZoningConfig(global_zoning=ZoningModel(x_intervals=[0.0, 250.0], y_intervals=[0.0, 200.0], z_intervals=[0.0, 20.0]), no_zoning=['t2_yp'], exclude=['lanternim', 't1_ym'], exceptions={}), statistics=['min', 'max', 'std', 'avg', 'skewness', 'kurtosis'], sets={'lanternim': ['L1_xp', 'L2_yp', 'L3_zp_yp', 'L4_zp_ym', 'L5_ym', 'L6_xm']}), 'measurement_3': CeConfig(zoning=ZoningConfig(global_zoning=ZoningModel(x_intervals=[0.0, 125.0, 250.0], y_intervals=[-inf, inf], z_intervals=[-inf, inf]), no_zoning=[], exclude=[], exceptions={}), statistics=['min', 'max', 'std', 'avg', 'skewness', 'kurtosis'], sets={})})"
      ]
     },
     "execution_count": 10,
     "metadata": {},
     "output_type": "execute_result"
    }
   ],
   "source": [
    "from cfdmod.use_cases.pressure.shape.Ce_config import CeCaseConfig\n",
    "\n",
    "config_path = pathlib.Path(\"./fixtures/tests/pressure/Ce_params.yaml\")\n",
    "post_proc_cfg = CeCaseConfig.from_file(config_path)\n",
    "\n",
    "post_proc_cfg"
   ]
  },
  {
   "cell_type": "markdown",
   "metadata": {},
   "source": [
    "Normalize LNAS Mesh [Example]"
   ]
  },
  {
   "cell_type": "code",
   "execution_count": 11,
   "metadata": {},
   "outputs": [
    {
     "name": "stdout",
     "output_type": "stream",
     "text": [
      "galpao (1549, 3) (2915, 3)\n"
     ]
    },
    {
     "data": {
      "text/plain": [
       "(0.0, 0.0, 0.0)"
      ]
     },
     "execution_count": 11,
     "metadata": {},
     "output_type": "execute_result"
    }
   ],
   "source": [
    "from nassu.lnas import LagrangianFormat\n",
    "\n",
    "original_mesh_path = pathlib.Path(\"./fixtures/tests/pressure/galpao/galpao.lnas\")\n",
    "original_mesh = LagrangianFormat.from_file(original_mesh_path)\n",
    "\n",
    "new_verts = original_mesh.geometry.vertices.copy()\n",
    "\n",
    "new_verts[:, 0] -= new_verts[:, 0].min()\n",
    "new_verts[:, 1] -= new_verts[:, 1].min()\n",
    "new_verts[:, 2] -= new_verts[:, 2].min()\n",
    "\n",
    "original_mesh.geometry.vertices = new_verts\n",
    "\n",
    "original_mesh.to_file(original_mesh_path.parent / f\"{original_mesh.name}.normalized.lnas\")\n",
    "\n",
    "print(\n",
    "    original_mesh.name,\n",
    "    original_mesh.geometry.vertices.shape,\n",
    "    original_mesh.geometry.triangles.shape,\n",
    ")\n",
    "\n",
    "original_mesh.geometry.vertices[:, 0].min(), original_mesh.geometry.vertices[\n",
    "    :, 1\n",
    "].min(), original_mesh.geometry.vertices[:, 2].min()"
   ]
  },
  {
   "cell_type": "markdown",
   "metadata": {},
   "source": [
    "Read Normalized LNAS Mesh"
   ]
  },
  {
   "cell_type": "code",
   "execution_count": 12,
   "metadata": {},
   "outputs": [
    {
     "data": {
      "text/plain": [
       "('galpao', (1549, 3), (2915, 3))"
      ]
     },
     "execution_count": 12,
     "metadata": {},
     "output_type": "execute_result"
    }
   ],
   "source": [
    "from nassu.lnas import LagrangianFormat\n",
    "\n",
    "mesh_path = pathlib.Path(\"./fixtures/tests/pressure/galpao/galpao.normalized.lnas\")\n",
    "mesh = LagrangianFormat.from_file(mesh_path)\n",
    "\n",
    "mesh.name, mesh.geometry.vertices.shape, mesh.geometry.triangles.shape"
   ]
  },
  {
   "cell_type": "markdown",
   "metadata": {},
   "source": [
    "Read Pressure Coefficient data"
   ]
  },
  {
   "cell_type": "code",
   "execution_count": 13,
   "metadata": {},
   "outputs": [],
   "source": [
    "import pandas as pd\n",
    "\n",
    "cp_data_path = pathlib.Path(\"./fixtures/tests/pressure/data/cp_t.resampled.hdf\")\n",
    "cp_data = pd.read_hdf(cp_data_path)\n",
    "\n",
    "cp_data_to_use = cp_data.to_frame() if isinstance(cp_data, pd.Series) else cp_data"
   ]
  },
  {
   "cell_type": "markdown",
   "metadata": {},
   "source": [
    "Add region index to pressure coefficient data"
   ]
  },
  {
   "cell_type": "code",
   "execution_count": 14,
   "metadata": {},
   "outputs": [
    {
     "name": "stdout",
     "output_type": "stream",
     "text": [
      "\u001b[37m[2023-11-09 10:37:51,287] [INFO] - cfdmod - Processing measurement_1 ... (416359679.py:10)\u001b[39m\n",
      "\u001b[37m[2023-11-09 10:37:51,290] [INFO] - cfdmod - Surface p1_xp ignored! (Ce_data.py:77)\u001b[39m\n",
      "\u001b[37m[2023-11-09 10:37:51,293] [INFO] - cfdmod - Processing surface lanternim (416359679.py:18)\u001b[39m\n",
      "\u001b[37m[2023-11-09 10:37:51,597] [INFO] - cfdmod - Processed surface lanternim (416359679.py:28)\u001b[39m\n",
      "\u001b[37m[2023-11-09 10:37:51,598] [INFO] - cfdmod - Processing surface m1_yp (416359679.py:18)\u001b[39m\n",
      "\u001b[37m[2023-11-09 10:37:51,647] [INFO] - cfdmod - Processed surface m1_yp (416359679.py:28)\u001b[39m\n",
      "\u001b[37m[2023-11-09 10:37:51,648] [INFO] - cfdmod - Processing surface m2_zp (416359679.py:18)\u001b[39m\n",
      "\u001b[37m[2023-11-09 10:37:51,707] [INFO] - cfdmod - Processed surface m2_zp (416359679.py:28)\u001b[39m\n",
      "\u001b[37m[2023-11-09 10:37:51,707] [INFO] - cfdmod - Processing surface m3_zm (416359679.py:18)\u001b[39m\n",
      "\u001b[37m[2023-11-09 10:37:51,765] [INFO] - cfdmod - Processed surface m3_zm (416359679.py:28)\u001b[39m\n",
      "\u001b[37m[2023-11-09 10:37:51,766] [INFO] - cfdmod - Processing surface p2_xp (416359679.py:18)\u001b[39m\n",
      "\u001b[33m[2023-11-09 10:37:51,807] [WARNING] - cfdmod - Region refinement is greater than data refinement. Resulted in NaN values (Ce_data.py:183)\u001b[39m\n",
      "\u001b[37m[2023-11-09 10:37:51,811] [INFO] - cfdmod - Processed surface p2_xp (416359679.py:28)\u001b[39m\n",
      "\u001b[37m[2023-11-09 10:37:51,812] [INFO] - cfdmod - Processing surface p3_ym (416359679.py:18)\u001b[39m\n",
      "\u001b[33m[2023-11-09 10:37:51,870] [WARNING] - cfdmod - Region refinement is greater than data refinement. Resulted in NaN values (Ce_data.py:183)\u001b[39m\n",
      "\u001b[37m[2023-11-09 10:37:51,872] [INFO] - cfdmod - Processed surface p3_ym (416359679.py:28)\u001b[39m\n",
      "\u001b[37m[2023-11-09 10:37:51,872] [INFO] - cfdmod - Processing surface p4_ym (416359679.py:18)\u001b[39m\n",
      "\u001b[37m[2023-11-09 10:37:51,932] [INFO] - cfdmod - Processed surface p4_ym (416359679.py:28)\u001b[39m\n",
      "\u001b[37m[2023-11-09 10:37:51,933] [INFO] - cfdmod - Processing surface p5_ym (416359679.py:18)\u001b[39m\n",
      "\u001b[37m[2023-11-09 10:37:51,992] [INFO] - cfdmod - Processed surface p5_ym (416359679.py:28)\u001b[39m\n",
      "\u001b[37m[2023-11-09 10:37:51,992] [INFO] - cfdmod - Processing surface p6c_yp (416359679.py:18)\u001b[39m\n",
      "\u001b[33m[2023-11-09 10:37:52,025] [WARNING] - cfdmod - Region refinement is greater than data refinement. Resulted in NaN values (Ce_data.py:183)\u001b[39m\n",
      "\u001b[37m[2023-11-09 10:37:52,026] [INFO] - cfdmod - Processed surface p6c_yp (416359679.py:28)\u001b[39m\n",
      "\u001b[37m[2023-11-09 10:37:52,027] [INFO] - cfdmod - Processing surface p7_xm (416359679.py:18)\u001b[39m\n",
      "\u001b[33m[2023-11-09 10:37:52,080] [WARNING] - cfdmod - Region refinement is greater than data refinement. Resulted in NaN values (Ce_data.py:183)\u001b[39m\n",
      "\u001b[37m[2023-11-09 10:37:52,083] [INFO] - cfdmod - Processed surface p7_xm (416359679.py:28)\u001b[39m\n",
      "\u001b[37m[2023-11-09 10:37:52,084] [INFO] - cfdmod - Processing surface p8_yp (416359679.py:18)\u001b[39m\n",
      "\u001b[37m[2023-11-09 10:37:52,147] [INFO] - cfdmod - Processed surface p8_yp (416359679.py:28)\u001b[39m\n",
      "\u001b[37m[2023-11-09 10:37:52,148] [INFO] - cfdmod - Processing surface p9_yp (416359679.py:18)\u001b[39m\n",
      "\u001b[33m[2023-11-09 10:37:52,206] [WARNING] - cfdmod - Region refinement is greater than data refinement. Resulted in NaN values (Ce_data.py:183)\u001b[39m\n",
      "\u001b[37m[2023-11-09 10:37:52,209] [INFO] - cfdmod - Processed surface p9_yp (416359679.py:28)\u001b[39m\n",
      "\u001b[37m[2023-11-09 10:37:52,211] [INFO] - cfdmod - Processing surface t1_ym (416359679.py:18)\u001b[39m\n",
      "\u001b[37m[2023-11-09 10:37:52,249] [INFO] - cfdmod - Processed surface t1_ym (416359679.py:28)\u001b[39m\n",
      "\u001b[37m[2023-11-09 10:37:52,250] [INFO] - cfdmod - Processing surface t2_yp (416359679.py:18)\u001b[39m\n",
      "\u001b[37m[2023-11-09 10:37:52,506] [INFO] - cfdmod - Processed surface t2_yp (416359679.py:28)\u001b[39m\n",
      "\u001b[37m[2023-11-09 10:37:52,546] [INFO] - cfdmod - Merged polydata for measurement_1 (416359679.py:50)\u001b[39m\n",
      "\u001b[37m[2023-11-09 10:37:52,547] [INFO] - cfdmod - Processing measurement_2 ... (416359679.py:10)\u001b[39m\n",
      "\u001b[37m[2023-11-09 10:37:52,548] [INFO] - cfdmod - Surface lanternim ignored! (Ce_data.py:77)\u001b[39m\n",
      "\u001b[37m[2023-11-09 10:37:52,553] [INFO] - cfdmod - Surface t1_ym ignored! (Ce_data.py:77)\u001b[39m\n",
      "\u001b[37m[2023-11-09 10:37:52,554] [INFO] - cfdmod - Processing surface m1_yp (416359679.py:18)\u001b[39m\n",
      "\u001b[37m[2023-11-09 10:37:52,577] [INFO] - cfdmod - Processed surface m1_yp (416359679.py:28)\u001b[39m\n",
      "\u001b[37m[2023-11-09 10:37:52,578] [INFO] - cfdmod - Processing surface m2_zp (416359679.py:18)\u001b[39m\n",
      "\u001b[37m[2023-11-09 10:37:52,604] [INFO] - cfdmod - Processed surface m2_zp (416359679.py:28)\u001b[39m\n",
      "\u001b[37m[2023-11-09 10:37:52,605] [INFO] - cfdmod - Processing surface m3_zm (416359679.py:18)\u001b[39m\n",
      "\u001b[37m[2023-11-09 10:37:52,630] [INFO] - cfdmod - Processed surface m3_zm (416359679.py:28)\u001b[39m\n",
      "\u001b[37m[2023-11-09 10:37:52,631] [INFO] - cfdmod - Processing surface p1_xp (416359679.py:18)\u001b[39m\n",
      "\u001b[37m[2023-11-09 10:37:52,657] [INFO] - cfdmod - Processed surface p1_xp (416359679.py:28)\u001b[39m\n",
      "\u001b[37m[2023-11-09 10:37:52,658] [INFO] - cfdmod - Processing surface p2_xp (416359679.py:18)\u001b[39m\n",
      "\u001b[37m[2023-11-09 10:37:52,683] [INFO] - cfdmod - Processed surface p2_xp (416359679.py:28)\u001b[39m\n",
      "\u001b[37m[2023-11-09 10:37:52,684] [INFO] - cfdmod - Processing surface p3_ym (416359679.py:18)\u001b[39m\n",
      "\u001b[37m[2023-11-09 10:37:52,712] [INFO] - cfdmod - Processed surface p3_ym (416359679.py:28)\u001b[39m\n",
      "\u001b[37m[2023-11-09 10:37:52,712] [INFO] - cfdmod - Processing surface p4_ym (416359679.py:18)\u001b[39m\n",
      "\u001b[37m[2023-11-09 10:37:52,736] [INFO] - cfdmod - Processed surface p4_ym (416359679.py:28)\u001b[39m\n",
      "\u001b[37m[2023-11-09 10:37:52,737] [INFO] - cfdmod - Processing surface p5_ym (416359679.py:18)\u001b[39m\n",
      "\u001b[37m[2023-11-09 10:37:52,762] [INFO] - cfdmod - Processed surface p5_ym (416359679.py:28)\u001b[39m\n",
      "\u001b[37m[2023-11-09 10:37:52,763] [INFO] - cfdmod - Processing surface p6c_yp (416359679.py:18)\u001b[39m\n",
      "\u001b[37m[2023-11-09 10:37:52,786] [INFO] - cfdmod - Processed surface p6c_yp (416359679.py:28)\u001b[39m\n",
      "\u001b[37m[2023-11-09 10:37:52,787] [INFO] - cfdmod - Processing surface p7_xm (416359679.py:18)\u001b[39m\n",
      "\u001b[37m[2023-11-09 10:37:52,808] [INFO] - cfdmod - Processed surface p7_xm (416359679.py:28)\u001b[39m\n",
      "\u001b[37m[2023-11-09 10:37:52,808] [INFO] - cfdmod - Processing surface p8_yp (416359679.py:18)\u001b[39m\n",
      "\u001b[37m[2023-11-09 10:37:52,833] [INFO] - cfdmod - Processed surface p8_yp (416359679.py:28)\u001b[39m\n",
      "\u001b[37m[2023-11-09 10:37:52,833] [INFO] - cfdmod - Processing surface p9_yp (416359679.py:18)\u001b[39m\n",
      "\u001b[37m[2023-11-09 10:37:52,856] [INFO] - cfdmod - Processed surface p9_yp (416359679.py:28)\u001b[39m\n",
      "\u001b[37m[2023-11-09 10:37:52,856] [INFO] - cfdmod - Processing surface t2_yp (416359679.py:18)\u001b[39m\n",
      "\u001b[37m[2023-11-09 10:37:52,887] [INFO] - cfdmod - Processed surface t2_yp (416359679.py:28)\u001b[39m\n",
      "\u001b[37m[2023-11-09 10:37:52,948] [INFO] - cfdmod - Merged polydata for measurement_2 (416359679.py:50)\u001b[39m\n",
      "\u001b[37m[2023-11-09 10:37:52,949] [INFO] - cfdmod - Processing measurement_3 ... (416359679.py:10)\u001b[39m\n",
      "\u001b[37m[2023-11-09 10:37:52,956] [INFO] - cfdmod - Processing surface L1_xp (416359679.py:18)\u001b[39m\n",
      "\u001b[37m[2023-11-09 10:37:52,979] [INFO] - cfdmod - Processed surface L1_xp (416359679.py:28)\u001b[39m\n",
      "\u001b[37m[2023-11-09 10:37:52,980] [INFO] - cfdmod - Processing surface L2_yp (416359679.py:18)\u001b[39m\n",
      "\u001b[37m[2023-11-09 10:37:53,015] [INFO] - cfdmod - Processed surface L2_yp (416359679.py:28)\u001b[39m\n",
      "\u001b[37m[2023-11-09 10:37:53,016] [INFO] - cfdmod - Processing surface L3_zp_yp (416359679.py:18)\u001b[39m\n",
      "\u001b[37m[2023-11-09 10:37:53,043] [INFO] - cfdmod - Processed surface L3_zp_yp (416359679.py:28)\u001b[39m\n",
      "\u001b[37m[2023-11-09 10:37:53,045] [INFO] - cfdmod - Processing surface L4_zp_ym (416359679.py:18)\u001b[39m\n",
      "\u001b[37m[2023-11-09 10:37:53,072] [INFO] - cfdmod - Processed surface L4_zp_ym (416359679.py:28)\u001b[39m\n",
      "\u001b[37m[2023-11-09 10:37:53,073] [INFO] - cfdmod - Processing surface L5_ym (416359679.py:18)\u001b[39m\n",
      "\u001b[37m[2023-11-09 10:37:53,108] [INFO] - cfdmod - Processed surface L5_ym (416359679.py:28)\u001b[39m\n",
      "\u001b[37m[2023-11-09 10:37:53,109] [INFO] - cfdmod - Processing surface L6_xm (416359679.py:18)\u001b[39m\n",
      "\u001b[37m[2023-11-09 10:37:53,134] [INFO] - cfdmod - Processed surface L6_xm (416359679.py:28)\u001b[39m\n",
      "\u001b[37m[2023-11-09 10:37:53,135] [INFO] - cfdmod - Processing surface m1_yp (416359679.py:18)\u001b[39m\n",
      "\u001b[37m[2023-11-09 10:37:53,164] [INFO] - cfdmod - Processed surface m1_yp (416359679.py:28)\u001b[39m\n",
      "\u001b[37m[2023-11-09 10:37:53,165] [INFO] - cfdmod - Processing surface m2_zp (416359679.py:18)\u001b[39m\n",
      "\u001b[37m[2023-11-09 10:37:53,191] [INFO] - cfdmod - Processed surface m2_zp (416359679.py:28)\u001b[39m\n",
      "\u001b[37m[2023-11-09 10:37:53,192] [INFO] - cfdmod - Processing surface m3_zm (416359679.py:18)\u001b[39m\n",
      "\u001b[37m[2023-11-09 10:37:53,222] [INFO] - cfdmod - Processed surface m3_zm (416359679.py:28)\u001b[39m\n",
      "\u001b[37m[2023-11-09 10:37:53,222] [INFO] - cfdmod - Processing surface p1_xp (416359679.py:18)\u001b[39m\n",
      "\u001b[37m[2023-11-09 10:37:53,246] [INFO] - cfdmod - Processed surface p1_xp (416359679.py:28)\u001b[39m\n",
      "\u001b[37m[2023-11-09 10:37:53,247] [INFO] - cfdmod - Processing surface p2_xp (416359679.py:18)\u001b[39m\n",
      "\u001b[37m[2023-11-09 10:37:53,270] [INFO] - cfdmod - Processed surface p2_xp (416359679.py:28)\u001b[39m\n",
      "\u001b[37m[2023-11-09 10:37:53,271] [INFO] - cfdmod - Processing surface p3_ym (416359679.py:18)\u001b[39m\n",
      "\u001b[37m[2023-11-09 10:37:53,300] [INFO] - cfdmod - Processed surface p3_ym (416359679.py:28)\u001b[39m\n",
      "\u001b[37m[2023-11-09 10:37:53,301] [INFO] - cfdmod - Processing surface p4_ym (416359679.py:18)\u001b[39m\n",
      "\u001b[37m[2023-11-09 10:37:53,338] [INFO] - cfdmod - Processed surface p4_ym (416359679.py:28)\u001b[39m\n",
      "\u001b[37m[2023-11-09 10:37:53,339] [INFO] - cfdmod - Processing surface p5_ym (416359679.py:18)\u001b[39m\n",
      "\u001b[37m[2023-11-09 10:37:53,366] [INFO] - cfdmod - Processed surface p5_ym (416359679.py:28)\u001b[39m\n",
      "\u001b[37m[2023-11-09 10:37:53,367] [INFO] - cfdmod - Processing surface p6c_yp (416359679.py:18)\u001b[39m\n",
      "\u001b[37m[2023-11-09 10:37:53,395] [INFO] - cfdmod - Processed surface p6c_yp (416359679.py:28)\u001b[39m\n",
      "\u001b[37m[2023-11-09 10:37:53,396] [INFO] - cfdmod - Processing surface p7_xm (416359679.py:18)\u001b[39m\n",
      "\u001b[37m[2023-11-09 10:37:53,418] [INFO] - cfdmod - Processed surface p7_xm (416359679.py:28)\u001b[39m\n",
      "\u001b[37m[2023-11-09 10:37:53,418] [INFO] - cfdmod - Processing surface p8_yp (416359679.py:18)\u001b[39m\n",
      "\u001b[37m[2023-11-09 10:37:53,445] [INFO] - cfdmod - Processed surface p8_yp (416359679.py:28)\u001b[39m\n",
      "\u001b[37m[2023-11-09 10:37:53,446] [INFO] - cfdmod - Processing surface p9_yp (416359679.py:18)\u001b[39m\n",
      "\u001b[37m[2023-11-09 10:37:53,472] [INFO] - cfdmod - Processed surface p9_yp (416359679.py:28)\u001b[39m\n",
      "\u001b[37m[2023-11-09 10:37:53,473] [INFO] - cfdmod - Processing surface t1_ym (416359679.py:18)\u001b[39m\n",
      "\u001b[37m[2023-11-09 10:37:53,533] [INFO] - cfdmod - Processed surface t1_ym (416359679.py:28)\u001b[39m\n",
      "\u001b[37m[2023-11-09 10:37:53,533] [INFO] - cfdmod - Processing surface t2_yp (416359679.py:18)\u001b[39m\n",
      "\u001b[37m[2023-11-09 10:37:53,584] [INFO] - cfdmod - Processed surface t2_yp (416359679.py:28)\u001b[39m\n",
      "\u001b[37m[2023-11-09 10:37:53,617] [INFO] - cfdmod - Merged polydata for measurement_3 (416359679.py:50)\u001b[39m\n"
     ]
    }
   ],
   "source": [
    "from cfdmod.api.vtk.write_vtk import write_polydata, merge_polydata, create_polydata_for_cell_data\n",
    "from cfdmod.logger import logger\n",
    "from cfdmod.use_cases.pressure.shape.Ce_data import process_surface, get_surfaces_raw_data\n",
    "from cfdmod.use_cases.pressure.geometry import get_excluded_surfaces, create_NaN_data_for_mesh\n",
    "\n",
    "n_timesteps = cp_data_to_use[\"time_step\"].unique().shape[0]\n",
    "\n",
    "for cfg_label, cfg in post_proc_cfg.shape_coefficient.items():\n",
    "    processed_polydata = []\n",
    "    logger.info(f\"Processing {cfg_label} ...\")\n",
    "\n",
    "    sfc_dict = {set_lbl: sfc_list for set_lbl, sfc_list in cfg.sets.items()}\n",
    "    sfc_dict |= {sfc: [sfc] for sfc in mesh.surfaces.keys() if sfc not in cfg.surfaces_in_sets}\n",
    "\n",
    "    surfaces_to_process = get_surfaces_raw_data(surface_dict=sfc_dict, cfg=cfg, mesh=mesh)\n",
    "\n",
    "    for sfc_lbl, raw_surface in surfaces_to_process.items():\n",
    "        logger.info(f\"Processing surface {sfc_lbl}\")\n",
    "\n",
    "        processed_surface = process_surface(\n",
    "            raw_surface=raw_surface,\n",
    "            cfg=cfg,\n",
    "            cp_data=cp_data_to_use,\n",
    "            n_timesteps=n_timesteps,\n",
    "        )\n",
    "        processed_polydata.append(processed_surface.polydata)\n",
    "\n",
    "        logger.info(f\"Processed surface {sfc_lbl}\")\n",
    "\n",
    "    sfc_list = [sfc for sfc in cfg.zoning.exclude if sfc in mesh.surfaces.keys()]\n",
    "    sfc_list += [\n",
    "        sfc\n",
    "        for set_lbl, sfc_set in cfg.sets.items()\n",
    "        for sfc in sfc_set\n",
    "        if set_lbl in cfg.zoning.exclude\n",
    "    ]\n",
    "    if len(sfc_list) != 0:\n",
    "        excluded_sfcs = get_excluded_surfaces(mesh=mesh, sfc_list=sfc_list)\n",
    "        excluded_sfcs.export_stl(path_manager.get_excluded_surface_path(cfg_label))\n",
    "        # Include polydata with NaN values\n",
    "        columns = [f\"Ce_{statistic}\" for statistic in cfg.statistics]\n",
    "        excluded_data = create_NaN_data_for_mesh(mesh=excluded_sfcs, column_labels=columns)\n",
    "        excluded_polydata = create_polydata_for_cell_data(data=excluded_data, mesh=excluded_sfcs)\n",
    "        processed_polydata.append(excluded_polydata)\n",
    "        \n",
    "    # Output 5: VTK\n",
    "    merged_polydata = merge_polydata(processed_polydata)\n",
    "    write_polydata(path_manager.get_vtp_path(mesh.name, cfg_label), merged_polydata)\n",
    "\n",
    "    logger.info(f\"Merged polydata for {cfg_label}\")"
   ]
  }
 ],
 "metadata": {
  "kernelspec": {
   "display_name": "cfdmod-6zl7i90Q-py3.11",
   "language": "python",
   "name": "python3"
  },
  "language_info": {
   "codemirror_mode": {
    "name": "ipython",
    "version": 3
   },
   "file_extension": ".py",
   "mimetype": "text/x-python",
   "name": "python",
   "nbconvert_exporter": "python",
   "pygments_lexer": "ipython3",
   "version": "3.11.4"
  }
 },
 "nbformat": 4,
 "nbformat_minor": 2
}
