{
 "cells": [
  {
   "cell_type": "markdown",
   "metadata": {},
   "source": [
    "# Generate shape coefficients"
   ]
  },
  {
   "cell_type": "markdown",
   "metadata": {},
   "source": [
    "The following steps are performed to obtain all the artifacts for shape coefficient use case:\n",
    "\n",
    "1. Read parameters file\n",
    "2. Read Mesh description\n",
    "   * Its path can be specified\n",
    "   * Or it can be obtained from the simulation configuration file\n",
    "3. Read data for pressure coefficient"
   ]
  },
  {
   "cell_type": "markdown",
   "metadata": {},
   "source": [
    "Initialize Path Manager"
   ]
  },
  {
   "cell_type": "code",
   "execution_count": 1,
   "metadata": {},
   "outputs": [],
   "source": [
    "from cfdmod.use_cases.pressure.path_manager import CePathManager\n",
    "import pathlib\n",
    "\n",
    "path_manager = CePathManager(output_path=pathlib.Path(\"./output/pressure\"))"
   ]
  },
  {
   "cell_type": "markdown",
   "metadata": {},
   "source": [
    "Read post-processing Ce config file"
   ]
  },
  {
   "cell_type": "code",
   "execution_count": 2,
   "metadata": {},
   "outputs": [
    {
     "data": {
      "text/plain": [
       "CeCaseConfig(shape_coefficient={'pattern_1': CeConfig(zoning=ZoningConfig(global_zoning=ZoningModel(x_intervals=[0.0, 25.0, 50.0, 75.0, 100.0, 125.0, 150.0, 175.0, 200.0, 225.0, 250.0], y_intervals=[0.0, 25.0, 50.0, 75.0, 100.0, 125.0, 150.0, 175.0, 200.0], z_intervals=[0.0, 5.0, 10.0, 15.0, 20.0]), no_zoning=['sfc1'], exclude=['sfc1'], exceptions={'zoning1': ExceptionZoningModel(x_intervals=[0.0, 25.0, 50.0, 75.0, 100.0, 125.0, 150.0, 175.0, 200.0, 225.0, 250.0], y_intervals=[0.0, 25.0, 50.0, 75.0, 100.0, 125.0, 150.0, 175.0, 200.0], z_intervals=[0.0, 20.0], surfaces=['sfc1'])}), statistics=['min', 'max', 'std', 'avg', 'skewness', 'kurtosis']), 'pattern_2': CeConfig(zoning=ZoningConfig(global_zoning=ZoningModel(x_intervals=[0.0, 250.0], y_intervals=[0.0, 200.0], z_intervals=[0.0, 20.0]), no_zoning=['L2_yp'], exclude=[], exceptions={}), statistics=['min', 'max', 'std', 'avg', 'skewness', 'kurtosis']), 'pattern_3': CeConfig(zoning=ZoningConfig(global_zoning=ZoningModel(x_intervals=[0.0, 125.0, 250.0], y_intervals=[-inf, inf], z_intervals=[-inf, inf]), no_zoning=[], exclude=[], exceptions={}), statistics=['min', 'max', 'std', 'avg', 'skewness', 'kurtosis'])})"
      ]
     },
     "execution_count": 2,
     "metadata": {},
     "output_type": "execute_result"
    }
   ],
   "source": [
    "from cfdmod.use_cases.pressure.shape.Ce_config import CeCaseConfig\n",
    "\n",
    "config_path=pathlib.Path(\"./fixtures/tests/pressure/Ce_params.yaml\")\n",
    "post_proc_cfg = CeCaseConfig.from_file(config_path)\n",
    "\n",
    "post_proc_cfg"
   ]
  },
  {
   "cell_type": "markdown",
   "metadata": {},
   "source": [
    "Normalize LNAS Mesh [Example]"
   ]
  },
  {
   "cell_type": "code",
   "execution_count": 3,
   "metadata": {},
   "outputs": [
    {
     "name": "stdout",
     "output_type": "stream",
     "text": [
      "galpao (1549, 3) (2915, 3)\n"
     ]
    },
    {
     "data": {
      "text/plain": [
       "(0.0, 0.0, 0.0)"
      ]
     },
     "execution_count": 3,
     "metadata": {},
     "output_type": "execute_result"
    }
   ],
   "source": [
    "from nassu.lnas import LagrangianFormat\n",
    "\n",
    "original_mesh_path = pathlib.Path(\"./fixtures/tests/pressure/galpao/galpao.lnas\")\n",
    "original_mesh = LagrangianFormat.from_file(original_mesh_path)\n",
    "\n",
    "new_verts = original_mesh.geometry.vertices.copy()\n",
    "\n",
    "new_verts[:, 0] -= new_verts[:, 0].min()\n",
    "new_verts[:, 1] -= new_verts[:, 1].min()\n",
    "new_verts[:, 2] -= new_verts[:, 2].min()\n",
    "\n",
    "original_mesh.geometry.vertices = new_verts\n",
    "\n",
    "original_mesh.to_file(original_mesh_path.parent / f\"{original_mesh.name}.normalized.lnas\")\n",
    "\n",
    "print(original_mesh.name, original_mesh.geometry.vertices.shape, original_mesh.geometry.triangles.shape)\n",
    "\n",
    "original_mesh.geometry.vertices[:, 0].min(), original_mesh.geometry.vertices[:, 1].min(), original_mesh.geometry.vertices[:, 2].min()"
   ]
  },
  {
   "cell_type": "markdown",
   "metadata": {},
   "source": [
    "Read Normalized LNAS Mesh"
   ]
  },
  {
   "cell_type": "code",
   "execution_count": 4,
   "metadata": {},
   "outputs": [
    {
     "data": {
      "text/plain": [
       "('galpao', (1549, 3), (2915, 3))"
      ]
     },
     "execution_count": 4,
     "metadata": {},
     "output_type": "execute_result"
    }
   ],
   "source": [
    "from nassu.lnas import LagrangianFormat\n",
    "\n",
    "mesh_path=pathlib.Path(\"./fixtures/tests/pressure/galpao/galpao.normalized.lnas\")\n",
    "mesh = LagrangianFormat.from_file(mesh_path)\n",
    "\n",
    "mesh.name, mesh.geometry.vertices.shape, mesh.geometry.triangles.shape"
   ]
  },
  {
   "cell_type": "markdown",
   "metadata": {},
   "source": [
    "Read Pressure Coefficient data"
   ]
  },
  {
   "cell_type": "code",
   "execution_count": 5,
   "metadata": {},
   "outputs": [],
   "source": [
    "import pandas as pd\n",
    "\n",
    "cp_data_path=pathlib.Path(\"./fixtures/tests/pressure/data/cp_t.resampled.hdf\")\n",
    "cp_data = pd.read_hdf(cp_data_path)\n",
    "\n",
    "cp_data_to_use = (\n",
    "    cp_data.to_frame() if isinstance(cp_data, pd.Series) else cp_data\n",
    ")"
   ]
  },
  {
   "cell_type": "markdown",
   "metadata": {},
   "source": [
    "Add region index to pressure coefficient data"
   ]
  },
  {
   "cell_type": "code",
   "execution_count": 6,
   "metadata": {},
   "outputs": [
    {
     "name": "stdout",
     "output_type": "stream",
     "text": [
      "\u001b[37m[2023-10-24 10:01:57,219] [INFO] - cfdmod - Processing pattern_1 ... (3778221764.py:9)\u001b[39m\n",
      "\u001b[37m[2023-10-24 10:01:57,220] [INFO] - cfdmod - Processing surface L1_xp ... (3778221764.py:15)\u001b[39m\n",
      "\u001b[37m[2023-10-24 10:01:57,250] [INFO] - cfdmod - Processed surface L1_xp (3778221764.py:27)\u001b[39m\n",
      "\u001b[37m[2023-10-24 10:01:57,250] [INFO] - cfdmod - Processing surface L2_yp ... (3778221764.py:15)\u001b[39m\n",
      "\u001b[37m[2023-10-24 10:01:57,414] [INFO] - cfdmod - Processed surface L2_yp (3778221764.py:27)\u001b[39m\n",
      "\u001b[37m[2023-10-24 10:01:57,415] [INFO] - cfdmod - Processing surface L3_zp_yp ... (3778221764.py:15)\u001b[39m\n",
      "\u001b[37m[2023-10-24 10:01:57,480] [INFO] - cfdmod - Processed surface L3_zp_yp (3778221764.py:27)\u001b[39m\n",
      "\u001b[37m[2023-10-24 10:01:57,481] [INFO] - cfdmod - Processing surface L4_zp_ym ... (3778221764.py:15)\u001b[39m\n",
      "\u001b[37m[2023-10-24 10:01:57,539] [INFO] - cfdmod - Processed surface L4_zp_ym (3778221764.py:27)\u001b[39m\n",
      "\u001b[37m[2023-10-24 10:01:57,540] [INFO] - cfdmod - Processing surface L5_ym ... (3778221764.py:15)\u001b[39m\n",
      "\u001b[37m[2023-10-24 10:01:57,677] [INFO] - cfdmod - Processed surface L5_ym (3778221764.py:27)\u001b[39m\n",
      "\u001b[37m[2023-10-24 10:01:57,678] [INFO] - cfdmod - Processing surface L6_xm ... (3778221764.py:15)\u001b[39m\n",
      "\u001b[37m[2023-10-24 10:01:57,705] [INFO] - cfdmod - Processed surface L6_xm (3778221764.py:27)\u001b[39m\n",
      "\u001b[37m[2023-10-24 10:01:57,706] [INFO] - cfdmod - Processing surface m1_yp ... (3778221764.py:15)\u001b[39m\n",
      "\u001b[37m[2023-10-24 10:01:57,758] [INFO] - cfdmod - Processed surface m1_yp (3778221764.py:27)\u001b[39m\n",
      "\u001b[37m[2023-10-24 10:01:57,758] [INFO] - cfdmod - Processing surface m2_zp ... (3778221764.py:15)\u001b[39m\n",
      "\u001b[37m[2023-10-24 10:01:57,823] [INFO] - cfdmod - Processed surface m2_zp (3778221764.py:27)\u001b[39m\n",
      "\u001b[37m[2023-10-24 10:01:57,823] [INFO] - cfdmod - Processing surface m3_zm ... (3778221764.py:15)\u001b[39m\n",
      "\u001b[37m[2023-10-24 10:01:57,881] [INFO] - cfdmod - Processed surface m3_zm (3778221764.py:27)\u001b[39m\n",
      "\u001b[37m[2023-10-24 10:01:57,882] [INFO] - cfdmod - Processing surface p1_xp ... (3778221764.py:15)\u001b[39m\n",
      "\u001b[33m[2023-10-24 10:01:57,924] [WARNING] - cfdmod - Region refinement is greater than data refinement. Resulted in NaN values (Ce_data.py:106)\u001b[39m\n",
      "\u001b[37m[2023-10-24 10:01:57,926] [INFO] - cfdmod - Processed surface p1_xp (3778221764.py:27)\u001b[39m\n",
      "\u001b[37m[2023-10-24 10:01:57,927] [INFO] - cfdmod - Processing surface p2_xp ... (3778221764.py:15)\u001b[39m\n",
      "\u001b[33m[2023-10-24 10:01:57,971] [WARNING] - cfdmod - Region refinement is greater than data refinement. Resulted in NaN values (Ce_data.py:106)\u001b[39m\n",
      "\u001b[37m[2023-10-24 10:01:57,973] [INFO] - cfdmod - Processed surface p2_xp (3778221764.py:27)\u001b[39m\n",
      "\u001b[37m[2023-10-24 10:01:57,973] [INFO] - cfdmod - Processing surface p3_ym ... (3778221764.py:15)\u001b[39m\n",
      "\u001b[33m[2023-10-24 10:01:58,036] [WARNING] - cfdmod - Region refinement is greater than data refinement. Resulted in NaN values (Ce_data.py:106)\u001b[39m\n",
      "\u001b[37m[2023-10-24 10:01:58,038] [INFO] - cfdmod - Processed surface p3_ym (3778221764.py:27)\u001b[39m\n",
      "\u001b[37m[2023-10-24 10:01:58,039] [INFO] - cfdmod - Processing surface p4_ym ... (3778221764.py:15)\u001b[39m\n",
      "\u001b[37m[2023-10-24 10:01:58,097] [INFO] - cfdmod - Processed surface p4_ym (3778221764.py:27)\u001b[39m\n",
      "\u001b[37m[2023-10-24 10:01:58,098] [INFO] - cfdmod - Processing surface p5_ym ... (3778221764.py:15)\u001b[39m\n",
      "\u001b[37m[2023-10-24 10:01:58,159] [INFO] - cfdmod - Processed surface p5_ym (3778221764.py:27)\u001b[39m\n",
      "\u001b[37m[2023-10-24 10:01:58,160] [INFO] - cfdmod - Processing surface p6c_yp ... (3778221764.py:15)\u001b[39m\n",
      "\u001b[33m[2023-10-24 10:01:58,192] [WARNING] - cfdmod - Region refinement is greater than data refinement. Resulted in NaN values (Ce_data.py:106)\u001b[39m\n",
      "\u001b[37m[2023-10-24 10:01:58,193] [INFO] - cfdmod - Processed surface p6c_yp (3778221764.py:27)\u001b[39m\n",
      "\u001b[37m[2023-10-24 10:01:58,194] [INFO] - cfdmod - Processing surface p7_xm ... (3778221764.py:15)\u001b[39m\n",
      "\u001b[33m[2023-10-24 10:01:58,252] [WARNING] - cfdmod - Region refinement is greater than data refinement. Resulted in NaN values (Ce_data.py:106)\u001b[39m\n",
      "\u001b[37m[2023-10-24 10:01:58,256] [INFO] - cfdmod - Processed surface p7_xm (3778221764.py:27)\u001b[39m\n",
      "\u001b[37m[2023-10-24 10:01:58,257] [INFO] - cfdmod - Processing surface p8_yp ... (3778221764.py:15)\u001b[39m\n",
      "\u001b[37m[2023-10-24 10:01:58,323] [INFO] - cfdmod - Processed surface p8_yp (3778221764.py:27)\u001b[39m\n",
      "\u001b[37m[2023-10-24 10:01:58,324] [INFO] - cfdmod - Processing surface p9_yp ... (3778221764.py:15)\u001b[39m\n",
      "\u001b[33m[2023-10-24 10:01:58,383] [WARNING] - cfdmod - Region refinement is greater than data refinement. Resulted in NaN values (Ce_data.py:106)\u001b[39m\n",
      "\u001b[37m[2023-10-24 10:01:58,385] [INFO] - cfdmod - Processed surface p9_yp (3778221764.py:27)\u001b[39m\n",
      "\u001b[37m[2023-10-24 10:01:58,386] [INFO] - cfdmod - Processing surface t1_ym ... (3778221764.py:15)\u001b[39m\n",
      "\u001b[37m[2023-10-24 10:01:58,802] [INFO] - cfdmod - Processed surface t1_ym (3778221764.py:27)\u001b[39m\n",
      "\u001b[37m[2023-10-24 10:01:58,803] [INFO] - cfdmod - Processing surface t2_yp ... (3778221764.py:15)\u001b[39m\n",
      "\u001b[37m[2023-10-24 10:01:59,057] [INFO] - cfdmod - Processed surface t2_yp (3778221764.py:27)\u001b[39m\n",
      "\u001b[37m[2023-10-24 10:01:59,086] [INFO] - cfdmod - Merged polydata for pattern_1 (3778221764.py:33)\u001b[39m\n",
      "\u001b[37m[2023-10-24 10:01:59,086] [INFO] - cfdmod - Processing pattern_2 ... (3778221764.py:9)\u001b[39m\n",
      "\u001b[37m[2023-10-24 10:01:59,087] [INFO] - cfdmod - Processing surface L1_xp ... (3778221764.py:15)\u001b[39m\n",
      "\u001b[37m[2023-10-24 10:01:59,109] [INFO] - cfdmod - Processed surface L1_xp (3778221764.py:27)\u001b[39m\n",
      "\u001b[37m[2023-10-24 10:01:59,110] [INFO] - cfdmod - Processing surface L2_yp ... (3778221764.py:15)\u001b[39m\n",
      "\u001b[37m[2023-10-24 10:01:59,138] [INFO] - cfdmod - Processed surface L2_yp (3778221764.py:27)\u001b[39m\n",
      "\u001b[37m[2023-10-24 10:01:59,139] [INFO] - cfdmod - Processing surface L3_zp_yp ... (3778221764.py:15)\u001b[39m\n",
      "\u001b[37m[2023-10-24 10:01:59,161] [INFO] - cfdmod - Processed surface L3_zp_yp (3778221764.py:27)\u001b[39m\n",
      "\u001b[37m[2023-10-24 10:01:59,162] [INFO] - cfdmod - Processing surface L4_zp_ym ... (3778221764.py:15)\u001b[39m\n",
      "\u001b[37m[2023-10-24 10:01:59,185] [INFO] - cfdmod - Processed surface L4_zp_ym (3778221764.py:27)\u001b[39m\n",
      "\u001b[37m[2023-10-24 10:01:59,185] [INFO] - cfdmod - Processing surface L5_ym ... (3778221764.py:15)\u001b[39m\n",
      "\u001b[37m[2023-10-24 10:01:59,209] [INFO] - cfdmod - Processed surface L5_ym (3778221764.py:27)\u001b[39m\n",
      "\u001b[37m[2023-10-24 10:01:59,210] [INFO] - cfdmod - Processing surface L6_xm ... (3778221764.py:15)\u001b[39m\n",
      "\u001b[37m[2023-10-24 10:01:59,231] [INFO] - cfdmod - Processed surface L6_xm (3778221764.py:27)\u001b[39m\n",
      "\u001b[37m[2023-10-24 10:01:59,232] [INFO] - cfdmod - Processing surface m1_yp ... (3778221764.py:15)\u001b[39m\n",
      "\u001b[37m[2023-10-24 10:01:59,254] [INFO] - cfdmod - Processed surface m1_yp (3778221764.py:27)\u001b[39m\n",
      "\u001b[37m[2023-10-24 10:01:59,254] [INFO] - cfdmod - Processing surface m2_zp ... (3778221764.py:15)\u001b[39m\n",
      "\u001b[37m[2023-10-24 10:01:59,276] [INFO] - cfdmod - Processed surface m2_zp (3778221764.py:27)\u001b[39m\n",
      "\u001b[37m[2023-10-24 10:01:59,277] [INFO] - cfdmod - Processing surface m3_zm ... (3778221764.py:15)\u001b[39m\n",
      "\u001b[37m[2023-10-24 10:01:59,299] [INFO] - cfdmod - Processed surface m3_zm (3778221764.py:27)\u001b[39m\n",
      "\u001b[37m[2023-10-24 10:01:59,300] [INFO] - cfdmod - Processing surface p1_xp ... (3778221764.py:15)\u001b[39m\n",
      "\u001b[37m[2023-10-24 10:01:59,331] [INFO] - cfdmod - Processed surface p1_xp (3778221764.py:27)\u001b[39m\n",
      "\u001b[37m[2023-10-24 10:01:59,332] [INFO] - cfdmod - Processing surface p2_xp ... (3778221764.py:15)\u001b[39m\n",
      "\u001b[37m[2023-10-24 10:01:59,356] [INFO] - cfdmod - Processed surface p2_xp (3778221764.py:27)\u001b[39m\n",
      "\u001b[37m[2023-10-24 10:01:59,357] [INFO] - cfdmod - Processing surface p3_ym ... (3778221764.py:15)\u001b[39m\n",
      "\u001b[37m[2023-10-24 10:01:59,380] [INFO] - cfdmod - Processed surface p3_ym (3778221764.py:27)\u001b[39m\n",
      "\u001b[37m[2023-10-24 10:01:59,381] [INFO] - cfdmod - Processing surface p4_ym ... (3778221764.py:15)\u001b[39m\n",
      "\u001b[37m[2023-10-24 10:01:59,402] [INFO] - cfdmod - Processed surface p4_ym (3778221764.py:27)\u001b[39m\n",
      "\u001b[37m[2023-10-24 10:01:59,402] [INFO] - cfdmod - Processing surface p5_ym ... (3778221764.py:15)\u001b[39m\n",
      "\u001b[37m[2023-10-24 10:01:59,425] [INFO] - cfdmod - Processed surface p5_ym (3778221764.py:27)\u001b[39m\n",
      "\u001b[37m[2023-10-24 10:01:59,426] [INFO] - cfdmod - Processing surface p6c_yp ... (3778221764.py:15)\u001b[39m\n",
      "\u001b[37m[2023-10-24 10:01:59,449] [INFO] - cfdmod - Processed surface p6c_yp (3778221764.py:27)\u001b[39m\n",
      "\u001b[37m[2023-10-24 10:01:59,450] [INFO] - cfdmod - Processing surface p7_xm ... (3778221764.py:15)\u001b[39m\n",
      "\u001b[37m[2023-10-24 10:01:59,470] [INFO] - cfdmod - Processed surface p7_xm (3778221764.py:27)\u001b[39m\n",
      "\u001b[37m[2023-10-24 10:01:59,470] [INFO] - cfdmod - Processing surface p8_yp ... (3778221764.py:15)\u001b[39m\n",
      "\u001b[37m[2023-10-24 10:01:59,507] [INFO] - cfdmod - Processed surface p8_yp (3778221764.py:27)\u001b[39m\n",
      "\u001b[37m[2023-10-24 10:01:59,508] [INFO] - cfdmod - Processing surface p9_yp ... (3778221764.py:15)\u001b[39m\n",
      "\u001b[37m[2023-10-24 10:01:59,529] [INFO] - cfdmod - Processed surface p9_yp (3778221764.py:27)\u001b[39m\n",
      "\u001b[37m[2023-10-24 10:01:59,530] [INFO] - cfdmod - Processing surface t1_ym ... (3778221764.py:15)\u001b[39m\n",
      "\u001b[37m[2023-10-24 10:01:59,565] [INFO] - cfdmod - Processed surface t1_ym (3778221764.py:27)\u001b[39m\n",
      "\u001b[37m[2023-10-24 10:01:59,566] [INFO] - cfdmod - Processing surface t2_yp ... (3778221764.py:15)\u001b[39m\n",
      "\u001b[37m[2023-10-24 10:01:59,596] [INFO] - cfdmod - Processed surface t2_yp (3778221764.py:27)\u001b[39m\n",
      "\u001b[37m[2023-10-24 10:01:59,648] [INFO] - cfdmod - Merged polydata for pattern_2 (3778221764.py:33)\u001b[39m\n",
      "\u001b[37m[2023-10-24 10:01:59,649] [INFO] - cfdmod - Processing pattern_3 ... (3778221764.py:9)\u001b[39m\n",
      "\u001b[37m[2023-10-24 10:01:59,649] [INFO] - cfdmod - Processing surface L1_xp ... (3778221764.py:15)\u001b[39m\n",
      "\u001b[37m[2023-10-24 10:01:59,671] [INFO] - cfdmod - Processed surface L1_xp (3778221764.py:27)\u001b[39m\n",
      "\u001b[37m[2023-10-24 10:01:59,672] [INFO] - cfdmod - Processing surface L2_yp ... (3778221764.py:15)\u001b[39m\n",
      "\u001b[37m[2023-10-24 10:01:59,706] [INFO] - cfdmod - Processed surface L2_yp (3778221764.py:27)\u001b[39m\n",
      "\u001b[37m[2023-10-24 10:01:59,707] [INFO] - cfdmod - Processing surface L3_zp_yp ... (3778221764.py:15)\u001b[39m\n",
      "\u001b[37m[2023-10-24 10:01:59,731] [INFO] - cfdmod - Processed surface L3_zp_yp (3778221764.py:27)\u001b[39m\n",
      "\u001b[37m[2023-10-24 10:01:59,732] [INFO] - cfdmod - Processing surface L4_zp_ym ... (3778221764.py:15)\u001b[39m\n",
      "\u001b[37m[2023-10-24 10:01:59,758] [INFO] - cfdmod - Processed surface L4_zp_ym (3778221764.py:27)\u001b[39m\n",
      "\u001b[37m[2023-10-24 10:01:59,759] [INFO] - cfdmod - Processing surface L5_ym ... (3778221764.py:15)\u001b[39m\n",
      "\u001b[37m[2023-10-24 10:01:59,791] [INFO] - cfdmod - Processed surface L5_ym (3778221764.py:27)\u001b[39m\n",
      "\u001b[37m[2023-10-24 10:01:59,792] [INFO] - cfdmod - Processing surface L6_xm ... (3778221764.py:15)\u001b[39m\n",
      "\u001b[37m[2023-10-24 10:01:59,812] [INFO] - cfdmod - Processed surface L6_xm (3778221764.py:27)\u001b[39m\n",
      "\u001b[37m[2023-10-24 10:01:59,813] [INFO] - cfdmod - Processing surface m1_yp ... (3778221764.py:15)\u001b[39m\n",
      "\u001b[37m[2023-10-24 10:01:59,839] [INFO] - cfdmod - Processed surface m1_yp (3778221764.py:27)\u001b[39m\n",
      "\u001b[37m[2023-10-24 10:01:59,840] [INFO] - cfdmod - Processing surface m2_zp ... (3778221764.py:15)\u001b[39m\n",
      "\u001b[37m[2023-10-24 10:01:59,866] [INFO] - cfdmod - Processed surface m2_zp (3778221764.py:27)\u001b[39m\n",
      "\u001b[37m[2023-10-24 10:01:59,866] [INFO] - cfdmod - Processing surface m3_zm ... (3778221764.py:15)\u001b[39m\n",
      "\u001b[37m[2023-10-24 10:01:59,891] [INFO] - cfdmod - Processed surface m3_zm (3778221764.py:27)\u001b[39m\n",
      "\u001b[37m[2023-10-24 10:01:59,891] [INFO] - cfdmod - Processing surface p1_xp ... (3778221764.py:15)\u001b[39m\n",
      "\u001b[37m[2023-10-24 10:01:59,916] [INFO] - cfdmod - Processed surface p1_xp (3778221764.py:27)\u001b[39m\n",
      "\u001b[37m[2023-10-24 10:01:59,917] [INFO] - cfdmod - Processing surface p2_xp ... (3778221764.py:15)\u001b[39m\n",
      "\u001b[37m[2023-10-24 10:01:59,944] [INFO] - cfdmod - Processed surface p2_xp (3778221764.py:27)\u001b[39m\n",
      "\u001b[37m[2023-10-24 10:01:59,944] [INFO] - cfdmod - Processing surface p3_ym ... (3778221764.py:15)\u001b[39m\n",
      "\u001b[37m[2023-10-24 10:01:59,974] [INFO] - cfdmod - Processed surface p3_ym (3778221764.py:27)\u001b[39m\n",
      "\u001b[37m[2023-10-24 10:01:59,975] [INFO] - cfdmod - Processing surface p4_ym ... (3778221764.py:15)\u001b[39m\n",
      "\u001b[37m[2023-10-24 10:02:00,000] [INFO] - cfdmod - Processed surface p4_ym (3778221764.py:27)\u001b[39m\n",
      "\u001b[37m[2023-10-24 10:02:00,000] [INFO] - cfdmod - Processing surface p5_ym ... (3778221764.py:15)\u001b[39m\n",
      "\u001b[37m[2023-10-24 10:02:00,031] [INFO] - cfdmod - Processed surface p5_ym (3778221764.py:27)\u001b[39m\n",
      "\u001b[37m[2023-10-24 10:02:00,032] [INFO] - cfdmod - Processing surface p6c_yp ... (3778221764.py:15)\u001b[39m\n",
      "\u001b[37m[2023-10-24 10:02:00,055] [INFO] - cfdmod - Processed surface p6c_yp (3778221764.py:27)\u001b[39m\n",
      "\u001b[37m[2023-10-24 10:02:00,055] [INFO] - cfdmod - Processing surface p7_xm ... (3778221764.py:15)\u001b[39m\n",
      "\u001b[37m[2023-10-24 10:02:00,077] [INFO] - cfdmod - Processed surface p7_xm (3778221764.py:27)\u001b[39m\n",
      "\u001b[37m[2023-10-24 10:02:00,078] [INFO] - cfdmod - Processing surface p8_yp ... (3778221764.py:15)\u001b[39m\n",
      "\u001b[37m[2023-10-24 10:02:00,104] [INFO] - cfdmod - Processed surface p8_yp (3778221764.py:27)\u001b[39m\n",
      "\u001b[37m[2023-10-24 10:02:00,105] [INFO] - cfdmod - Processing surface p9_yp ... (3778221764.py:15)\u001b[39m\n",
      "\u001b[37m[2023-10-24 10:02:00,133] [INFO] - cfdmod - Processed surface p9_yp (3778221764.py:27)\u001b[39m\n",
      "\u001b[37m[2023-10-24 10:02:00,134] [INFO] - cfdmod - Processing surface t1_ym ... (3778221764.py:15)\u001b[39m\n",
      "\u001b[37m[2023-10-24 10:02:00,198] [INFO] - cfdmod - Processed surface t1_ym (3778221764.py:27)\u001b[39m\n",
      "\u001b[37m[2023-10-24 10:02:00,199] [INFO] - cfdmod - Processing surface t2_yp ... (3778221764.py:15)\u001b[39m\n",
      "\u001b[37m[2023-10-24 10:02:00,244] [INFO] - cfdmod - Processed surface t2_yp (3778221764.py:27)\u001b[39m\n",
      "\u001b[37m[2023-10-24 10:02:00,271] [INFO] - cfdmod - Merged polydata for pattern_3 (3778221764.py:33)\u001b[39m\n"
     ]
    }
   ],
   "source": [
    "from cfdmod.api.vtk.write_vtk import write_polydata, merge_polydata\n",
    "from cfdmod.logger import logger\n",
    "from cfdmod.use_cases.pressure.shape.Ce_data import process_surface\n",
    "\n",
    "n_timesteps = cp_data_to_use[\"time_step\"].unique().shape[0]\n",
    "\n",
    "for cfg_label, cfg in post_proc_cfg.shape_coefficient.items():\n",
    "    processed_polydata = []\n",
    "    logger.info(f\"Processing {cfg_label} ...\")\n",
    "    for sfc in mesh.surfaces.keys():\n",
    "        if sfc in cfg.zoning.exclude: # type: ignore (already validated in class)\n",
    "            logger.info(f\"Surface {sfc} ignored!\")  # Ignore surface\n",
    "            continue\n",
    "\n",
    "        logger.info(f\"Processing surface {sfc} ...\")\n",
    "\n",
    "        processed_surface = process_surface(\n",
    "            body_mesh=mesh,\n",
    "            sfc_label=sfc,\n",
    "            cfg=cfg,\n",
    "            cp_data=cp_data_to_use,\n",
    "            n_timesteps=n_timesteps,\n",
    "        )\n",
    "        \n",
    "        processed_polydata.append(processed_surface.polydata)\n",
    "\n",
    "        logger.info(f\"Processed surface {sfc}\")\n",
    "\n",
    "    # Output 5: VTK\n",
    "    merged_polydata = merge_polydata(processed_polydata)\n",
    "    write_polydata(path_manager.get_vtp_path(mesh.name, cfg_label), merged_polydata)\n",
    "\n",
    "    logger.info(f\"Merged polydata for {cfg_label}\")"
   ]
  }
 ],
 "metadata": {
  "kernelspec": {
   "display_name": "cfdmod-6zl7i90Q-py3.11",
   "language": "python",
   "name": "python3"
  },
  "language_info": {
   "codemirror_mode": {
    "name": "ipython",
    "version": 3
   },
   "file_extension": ".py",
   "mimetype": "text/x-python",
   "name": "python",
   "nbconvert_exporter": "python",
   "pygments_lexer": "ipython3",
   "version": "3.10.11"
  }
 },
 "nbformat": 4,
 "nbformat_minor": 2
}
