{
 "cells": [
  {
   "cell_type": "markdown",
   "metadata": {},
   "source": [
    "# Generate shape coefficients"
   ]
  },
  {
   "cell_type": "markdown",
   "metadata": {},
   "source": [
    "The following steps are performed to obtain all the artifacts for shape coefficient use case:\n",
    "\n",
    "1. Read parameters file\n",
    "2. Read Mesh description\n",
    "   * Its path can be specified\n",
    "   * Or it can be obtained from the simulation configuration file\n",
    "3. Read data for pressure coefficient"
   ]
  },
  {
   "cell_type": "markdown",
   "metadata": {},
   "source": [
    "Initialize Path Manager"
   ]
  },
  {
   "cell_type": "code",
   "execution_count": 1,
   "metadata": {},
   "outputs": [],
   "source": [
    "from cfdmod.use_cases.pressure.path_manager import CePathManager\n",
    "import pathlib\n",
    "\n",
    "path_manager = CePathManager(output_path=pathlib.Path(\"./output/pressure\"))"
   ]
  },
  {
   "cell_type": "markdown",
   "metadata": {},
   "source": [
    "Read post-processing Ce config file"
   ]
  },
  {
   "cell_type": "code",
   "execution_count": 2,
   "metadata": {},
   "outputs": [
    {
     "data": {
      "text/plain": [
       "CeCaseConfig(time_scale_conversion=TimeScaleParameters(CST_real=0.56, CST_sim=16.89), shape_coefficient={'measurement_1': CeConfig(statistics=[BasicStatisticModel(stats='mean'), BasicStatisticModel(stats='rms'), BasicStatisticModel(stats='skewness'), BasicStatisticModel(stats='kurtosis'), ParameterizedStatisticModel(stats='mean_eq', params=MeanEquivalentParamsModel(scale_factor=0.61)), ParameterizedStatisticModel(stats='min', params=ExtremeAbsoluteParamsModel(method_type='Absolute')), ParameterizedStatisticModel(stats='max', params=ExtremePeakParamsModel(method_type='Peak', peak_factor=3.0))], zoning=ZoningConfig(global_zoning=ZoningModel(x_intervals=[0.0, 25.0, 50.0, 75.0, 100.0, 125.0, 150.0, 175.0, 200.0, 225.0, 250.0], y_intervals=[0.0, 25.0, 50.0, 75.0, 100.0, 125.0, 150.0, 175.0, 200.0], z_intervals=[0.0, 5.0, 10.0, 15.0, 20.0]), no_zoning=['t1_ym'], exclude=['p1_xp'], exceptions={'zoning1': ExceptionZoningModel(x_intervals=[0.0, 25.0, 50.0, 75.0, 100.0, 125.0, 150.0, 175.0, 200.0, 225.0, 250.0], y_intervals=[0.0, 25.0, 50.0, 75.0, 100.0, 125.0, 150.0, 175.0, 200.0], z_intervals=[0.0, 20.0], surfaces=['t2_yp'])}), sets={'lanternim': ['L1_xp', 'L2_yp', 'L3_zp_yp', 'L4_zp_ym', 'L5_ym', 'L6_xm']}, transformation=TransformationConfig(translation=(0, 0, 0), rotation=(0.0, 0.0, 0.0), fixed_point=(0, 0, 0))), 'measurement_2': CeConfig(statistics=[BasicStatisticModel(stats='mean'), BasicStatisticModel(stats='rms'), BasicStatisticModel(stats='skewness'), BasicStatisticModel(stats='kurtosis'), ParameterizedStatisticModel(stats='mean_eq', params=MeanEquivalentParamsModel(scale_factor=0.61)), ParameterizedStatisticModel(stats='min', params=ExtremeGumbelParamsModel(method_type='Gumbel', peak_duration=3.0, event_duration=300.0, n_subdivisions=10, non_exceedance_probability=0.78)), ParameterizedStatisticModel(stats='max', params=ExtremeAbsoluteParamsModel(method_type='Absolute'))], zoning=ZoningConfig(global_zoning=ZoningModel(x_intervals=[0.0, 250.0], y_intervals=[0.0, 200.0], z_intervals=[0.0, 20.0]), no_zoning=['t2_yp'], exclude=['lanternim', 't1_ym'], exceptions={}), sets={'lanternim': ['L1_xp', 'L2_yp', 'L3_zp_yp', 'L4_zp_ym', 'L5_ym', 'L6_xm']}, transformation=TransformationConfig(translation=(0, 0, 0), rotation=(0.0, 0.0, 0.0), fixed_point=(0, 0, 0))), 'measurement_3': CeConfig(statistics=[BasicStatisticModel(stats='mean'), BasicStatisticModel(stats='rms'), BasicStatisticModel(stats='skewness'), BasicStatisticModel(stats='kurtosis'), ParameterizedStatisticModel(stats='mean_eq', params=MeanEquivalentParamsModel(scale_factor=0.61)), ParameterizedStatisticModel(stats='min', params=ExtremeMovingAverageParamsModel(method_type='Moving Average', window_size_real_scale=3.0)), ParameterizedStatisticModel(stats='max', params=ExtremeAbsoluteParamsModel(method_type='Absolute'))], zoning=ZoningConfig(global_zoning=ZoningModel(x_intervals=[0.0, 125.0, 250.0], y_intervals=[-inf, inf], z_intervals=[-inf, inf]), no_zoning=[], exclude=[], exceptions={}), sets={}, transformation=TransformationConfig(translation=(0, 0, 0), rotation=(0.0, 0.0, 0.0), fixed_point=(0, 0, 0)))})"
      ]
     },
     "execution_count": 2,
     "metadata": {},
     "output_type": "execute_result"
    }
   ],
   "source": [
    "from cfdmod.use_cases.pressure.shape.Ce_config import CeCaseConfig\n",
    "\n",
    "config_path = pathlib.Path(\"./fixtures/tests/pressure/Ce_params.yaml\")\n",
    "post_proc_cfg = CeCaseConfig.from_file(config_path)\n",
    "\n",
    "post_proc_cfg"
   ]
  },
  {
   "cell_type": "markdown",
   "metadata": {},
   "source": [
    "Read LNAS Mesh"
   ]
  },
  {
   "cell_type": "code",
   "execution_count": 3,
   "metadata": {},
   "outputs": [
    {
     "data": {
      "text/plain": [
       "((1549, 3), (2915, 3))"
      ]
     },
     "execution_count": 3,
     "metadata": {},
     "output_type": "execute_result"
    }
   ],
   "source": [
    "from lnas import LnasFormat\n",
    "\n",
    "mesh_path = pathlib.Path(\"./fixtures/tests/pressure/galpao/galpao.normalized.lnas\")\n",
    "mesh = LnasFormat.from_file(mesh_path)\n",
    "\n",
    "mesh.geometry.vertices.shape, mesh.geometry.triangles.shape"
   ]
  },
  {
   "cell_type": "markdown",
   "metadata": {},
   "source": [
    "Process shape coefficient use case"
   ]
  },
  {
   "cell_type": "code",
   "execution_count": 4,
   "metadata": {},
   "outputs": [
    {
     "name": "stdout",
     "output_type": "stream",
     "text": [
      "\u001b[37m[2024-05-21 11:12:21,695] [INFO] - cfdmod - Processing measurement_1 ... (1748754939.py:7)\u001b[39m\n",
      "\u001b[37m[2024-05-21 11:12:21,697] [INFO] - cfdmod - Getting geometry data... (Ce_data.py:153)\u001b[39m\n",
      "\u001b[95m[2024-05-21 11:12:21,716] [DEBUG] - cfdmod - Surface p1_xp ignored! (Ce_geom.py:52)\u001b[39m\n",
      "\u001b[37m[2024-05-21 11:12:21,756] [INFO] - cfdmod - Tabulating geometry data... (Ce_data.py:156)\u001b[39m\n",
      "\u001b[37m[2024-05-21 11:12:21,912] [INFO] - cfdmod - Processing timesteps groups... (Ce_data.py:163)\u001b[39m\n",
      "\u001b[37m[2024-05-21 11:12:24,353] [INFO] - cfdmod - Calculating statistics... (Ce_data.py:174)\u001b[39m\n",
      "\u001b[37m[2024-05-21 11:12:24,393] [INFO] - cfdmod - Processing surfaces... (Ce_data.py:179)\u001b[39m\n",
      "\u001b[33m[2024-05-21 11:12:24,940] [WARNING] - cfdmod - Region refinement is greater than data refinement. Resulted in NaN values (Ce_data.py:104)\u001b[39m\n",
      "\u001b[33m[2024-05-21 11:12:25,000] [WARNING] - cfdmod - Region refinement is greater than data refinement. Resulted in NaN values (Ce_data.py:104)\u001b[39m\n",
      "\u001b[33m[2024-05-21 11:12:25,112] [WARNING] - cfdmod - Region refinement is greater than data refinement. Resulted in NaN values (Ce_data.py:104)\u001b[39m\n",
      "\u001b[33m[2024-05-21 11:12:25,163] [WARNING] - cfdmod - Region refinement is greater than data refinement. Resulted in NaN values (Ce_data.py:104)\u001b[39m\n",
      "\u001b[33m[2024-05-21 11:12:25,265] [WARNING] - cfdmod - Region refinement is greater than data refinement. Resulted in NaN values (Ce_data.py:104)\u001b[39m\n",
      "\u001b[37m[2024-05-21 11:12:25,589] [INFO] - cfdmod - Processed surfaces! (Ce_data.py:181)\u001b[39m\n",
      "\u001b[37m[2024-05-21 11:12:25,850] [INFO] - cfdmod - Processing measurement_2 ... (1748754939.py:7)\u001b[39m\n",
      "\u001b[37m[2024-05-21 11:12:25,850] [INFO] - cfdmod - Getting geometry data... (Ce_data.py:153)\u001b[39m\n",
      "\u001b[95m[2024-05-21 11:12:25,851] [DEBUG] - cfdmod - Surface lanternim ignored! (Ce_geom.py:52)\u001b[39m\n",
      "\u001b[95m[2024-05-21 11:12:25,874] [DEBUG] - cfdmod - Surface t1_ym ignored! (Ce_geom.py:52)\u001b[39m\n",
      "\u001b[37m[2024-05-21 11:12:25,883] [INFO] - cfdmod - Tabulating geometry data... (Ce_data.py:156)\u001b[39m\n",
      "\u001b[37m[2024-05-21 11:12:25,924] [INFO] - cfdmod - Processing timesteps groups... (Ce_data.py:163)\u001b[39m\n",
      "\u001b[37m[2024-05-21 11:12:26,063] [INFO] - cfdmod - Calculating statistics... (Ce_data.py:174)\u001b[39m\n",
      "\u001b[37m[2024-05-21 11:12:26,076] [INFO] - cfdmod - Processing surfaces... (Ce_data.py:179)\u001b[39m\n",
      "\u001b[37m[2024-05-21 11:12:26,165] [INFO] - cfdmod - Processed surfaces! (Ce_data.py:181)\u001b[39m\n",
      "\u001b[37m[2024-05-21 11:12:26,358] [INFO] - cfdmod - Processing measurement_3 ... (1748754939.py:7)\u001b[39m\n",
      "\u001b[37m[2024-05-21 11:12:26,358] [INFO] - cfdmod - Getting geometry data... (Ce_data.py:153)\u001b[39m\n",
      "\u001b[37m[2024-05-21 11:12:26,417] [INFO] - cfdmod - Tabulating geometry data... (Ce_data.py:156)\u001b[39m\n",
      "\u001b[37m[2024-05-21 11:12:26,491] [INFO] - cfdmod - Processing timesteps groups... (Ce_data.py:163)\u001b[39m\n",
      "\u001b[37m[2024-05-21 11:12:26,664] [INFO] - cfdmod - Calculating statistics... (Ce_data.py:174)\u001b[39m\n",
      "\u001b[37m[2024-05-21 11:12:26,673] [INFO] - cfdmod - Processing surfaces... (Ce_data.py:179)\u001b[39m\n",
      "\u001b[37m[2024-05-21 11:12:26,884] [INFO] - cfdmod - Processed surfaces! (Ce_data.py:181)\u001b[39m\n"
     ]
    }
   ],
   "source": [
    "from cfdmod.logger import logger\n",
    "from cfdmod.use_cases.pressure.shape.Ce_data import CeOutput, process_Ce\n",
    "\n",
    "cp_data_path = pathlib.Path(\"./fixtures/tests/pressure/data/cp_t.resampled.h5\")\n",
    "\n",
    "for cfg_label, cfg in post_proc_cfg.shape_coefficient.items():\n",
    "    logger.info(f\"Processing {cfg_label} ...\")\n",
    "\n",
    "    Ce_output: CeOutput = process_Ce(\n",
    "        mesh=mesh,\n",
    "        cfg=cfg,\n",
    "        cp_path=cp_data_path,\n",
    "        time_scale_factor=post_proc_cfg.time_scale_conversion.time_scale\n",
    "    )\n",
    "\n",
    "    Ce_output.save_region_info(cfg_label=cfg_label, path_manager=path_manager)\n",
    "    Ce_output.save_outputs(cfg_label=cfg_label, path_manager=path_manager)\n",
    "    Ce_output.export_mesh(cfg_label=cfg_label, path_manager=path_manager)"
   ]
  }
 ],
 "metadata": {
  "kernelspec": {
   "display_name": "cfdmod-6zl7i90Q-py3.11",
   "language": "python",
   "name": "python3"
  },
  "language_info": {
   "codemirror_mode": {
    "name": "ipython",
    "version": 3
   },
   "file_extension": ".py",
   "mimetype": "text/x-python",
   "name": "python",
   "nbconvert_exporter": "python",
   "pygments_lexer": "ipython3",
   "version": "3.10.11"
  }
 },
 "nbformat": 4,
 "nbformat_minor": 2
}
