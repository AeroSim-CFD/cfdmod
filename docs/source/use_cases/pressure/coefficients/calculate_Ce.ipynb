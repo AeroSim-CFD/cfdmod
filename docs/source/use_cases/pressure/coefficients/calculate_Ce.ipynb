{
 "cells": [
  {
   "cell_type": "markdown",
   "metadata": {},
   "source": [
    "# Generate shape coefficients"
   ]
  },
  {
   "cell_type": "markdown",
   "metadata": {},
   "source": [
    "The following steps are performed to obtain all the artifacts for shape coefficient use case:\n",
    "\n",
    "1. Read parameters file\n",
    "2. Read Mesh description\n",
    "   * Its path can be specified\n",
    "   * Or it can be obtained from the simulation configuration file\n",
    "3. Read data for pressure coefficient"
   ]
  },
  {
   "cell_type": "markdown",
   "metadata": {},
   "source": [
    "Initialize Path Manager"
   ]
  },
  {
   "cell_type": "code",
   "execution_count": 1,
   "metadata": {},
   "outputs": [],
   "source": [
    "from cfdmod.use_cases.pressure.path_manager import CePathManager\n",
    "import pathlib\n",
    "\n",
    "path_manager = CePathManager(output_path=pathlib.Path(\"./output/pressure\"))"
   ]
  },
  {
   "cell_type": "markdown",
   "metadata": {},
   "source": [
    "Read post-processing Ce config file"
   ]
  },
  {
   "cell_type": "code",
   "execution_count": 6,
   "metadata": {},
   "outputs": [
    {
     "data": {
      "text/plain": [
       "WindowsPath('fixtures/tests/yaml')"
      ]
     },
     "execution_count": 6,
     "metadata": {},
     "output_type": "execute_result"
    }
   ],
   "source": [
    "from cfdmod.use_cases.pressure.shape.Ce_config import CeCaseConfig\n",
    "\n",
    "config_path = pathlib.Path(\"./fixtures/tests/pressure/Ce_params.yaml\")\n",
    "post_proc_cfg = CeCaseConfig.from_file(config_path)\n",
    "\n",
    "post_proc_cfg"
   ]
  },
  {
   "cell_type": "markdown",
   "metadata": {},
   "source": [
    "Normalize LNAS Mesh [Example]"
   ]
  },
  {
   "cell_type": "code",
   "execution_count": 9,
   "metadata": {},
   "outputs": [
    {
     "name": "stdout",
     "output_type": "stream",
     "text": [
      "galpao (1549, 3) (2915, 3)\n"
     ]
    },
    {
     "data": {
      "text/plain": [
       "(0.0, 0.0, 0.0)"
      ]
     },
     "execution_count": 9,
     "metadata": {},
     "output_type": "execute_result"
    }
   ],
   "source": [
    "from nassu.lnas import LagrangianFormat\n",
    "\n",
    "original_mesh_path = pathlib.Path(\"./fixtures/tests/pressure/galpao/galpao.lnas\")\n",
    "original_mesh = LagrangianFormat.from_file(original_mesh_path)\n",
    "\n",
    "new_verts = original_mesh.geometry.vertices.copy()\n",
    "\n",
    "new_verts[:, 0] -= new_verts[:, 0].min()\n",
    "new_verts[:, 1] -= new_verts[:, 1].min()\n",
    "new_verts[:, 2] -= new_verts[:, 2].min()\n",
    "\n",
    "original_mesh.geometry.vertices = new_verts\n",
    "\n",
    "original_mesh.to_file(original_mesh_path.parent / f\"{original_mesh.name}.normalized.lnas\")\n",
    "\n",
    "print(\n",
    "    original_mesh.name,\n",
    "    original_mesh.geometry.vertices.shape,\n",
    "    original_mesh.geometry.triangles.shape,\n",
    ")\n",
    "\n",
    "original_mesh.geometry.vertices[:, 0].min(), original_mesh.geometry.vertices[\n",
    "    :, 1\n",
    "].min(), original_mesh.geometry.vertices[:, 2].min()"
   ]
  },
  {
   "cell_type": "markdown",
   "metadata": {},
   "source": [
    "Read Normalized LNAS Mesh"
   ]
  },
  {
   "cell_type": "code",
   "execution_count": 10,
   "metadata": {},
   "outputs": [
    {
     "data": {
      "text/plain": [
       "('galpao', (1549, 3), (2915, 3))"
      ]
     },
     "execution_count": 10,
     "metadata": {},
     "output_type": "execute_result"
    }
   ],
   "source": [
    "from nassu.lnas import LagrangianFormat\n",
    "\n",
    "mesh_path = pathlib.Path(\"./fixtures/tests/pressure/galpao/galpao.normalized.lnas\")\n",
    "mesh = LagrangianFormat.from_file(mesh_path)\n",
    "\n",
    "mesh.name, mesh.geometry.vertices.shape, mesh.geometry.triangles.shape"
   ]
  },
  {
   "cell_type": "markdown",
   "metadata": {},
   "source": [
    "Read Pressure Coefficient data"
   ]
  },
  {
   "cell_type": "code",
   "execution_count": 11,
   "metadata": {},
   "outputs": [],
   "source": [
    "import pandas as pd\n",
    "\n",
    "cp_data_path = pathlib.Path(\"./fixtures/tests/pressure/data/cp_t.resampled.hdf\")\n",
    "cp_data = pd.read_hdf(cp_data_path)\n",
    "\n",
    "cp_data_to_use = cp_data.to_frame() if isinstance(cp_data, pd.Series) else cp_data"
   ]
  },
  {
   "cell_type": "markdown",
   "metadata": {},
   "source": [
    "Add region index to pressure coefficient data"
   ]
  },
  {
   "cell_type": "code",
   "execution_count": 12,
   "metadata": {},
   "outputs": [
    {
     "name": "stdout",
     "output_type": "stream",
     "text": [
      "\u001b[37m[2023-11-01 11:23:55,805] [INFO] - cfdmod - Processing pattern_1 ... (2198819689.py:11)\u001b[39m\n",
      "\u001b[37m[2023-11-01 11:23:55,809] [INFO] - cfdmod - Surface p1_xp ignored! (Ce_data.py:85)\u001b[39m\n",
      "\u001b[37m[2023-11-01 11:23:55,812] [INFO] - cfdmod - Processing surface lanternim (2198819689.py:19)\u001b[39m\n",
      "\u001b[37m[2023-11-01 11:23:56,142] [INFO] - cfdmod - Processed surface lanternim (2198819689.py:30)\u001b[39m\n",
      "\u001b[37m[2023-11-01 11:23:56,143] [INFO] - cfdmod - Processing surface m1_yp (2198819689.py:19)\u001b[39m\n",
      "\u001b[37m[2023-11-01 11:23:56,195] [INFO] - cfdmod - Processed surface m1_yp (2198819689.py:30)\u001b[39m\n",
      "\u001b[37m[2023-11-01 11:23:56,196] [INFO] - cfdmod - Processing surface m2_zp (2198819689.py:19)\u001b[39m\n",
      "\u001b[37m[2023-11-01 11:23:56,256] [INFO] - cfdmod - Processed surface m2_zp (2198819689.py:30)\u001b[39m\n",
      "\u001b[37m[2023-11-01 11:23:56,259] [INFO] - cfdmod - Processing surface m3_zm (2198819689.py:19)\u001b[39m\n",
      "\u001b[37m[2023-11-01 11:23:56,331] [INFO] - cfdmod - Processed surface m3_zm (2198819689.py:30)\u001b[39m\n",
      "\u001b[37m[2023-11-01 11:23:56,331] [INFO] - cfdmod - Processing surface p2_xp (2198819689.py:19)\u001b[39m\n",
      "\u001b[33m[2023-11-01 11:23:56,375] [WARNING] - cfdmod - Region refinement is greater than data refinement. Resulted in NaN values (Ce_data.py:191)\u001b[39m\n",
      "\u001b[37m[2023-11-01 11:23:56,379] [INFO] - cfdmod - Processed surface p2_xp (2198819689.py:30)\u001b[39m\n",
      "\u001b[37m[2023-11-01 11:23:56,381] [INFO] - cfdmod - Processing surface p3_ym (2198819689.py:19)\u001b[39m\n",
      "\u001b[33m[2023-11-01 11:23:56,446] [WARNING] - cfdmod - Region refinement is greater than data refinement. Resulted in NaN values (Ce_data.py:191)\u001b[39m\n",
      "\u001b[37m[2023-11-01 11:23:56,449] [INFO] - cfdmod - Processed surface p3_ym (2198819689.py:30)\u001b[39m\n",
      "\u001b[37m[2023-11-01 11:23:56,449] [INFO] - cfdmod - Processing surface p4_ym (2198819689.py:19)\u001b[39m\n",
      "\u001b[37m[2023-11-01 11:23:56,508] [INFO] - cfdmod - Processed surface p4_ym (2198819689.py:30)\u001b[39m\n",
      "\u001b[37m[2023-11-01 11:23:56,509] [INFO] - cfdmod - Processing surface p5_ym (2198819689.py:19)\u001b[39m\n",
      "\u001b[37m[2023-11-01 11:23:56,568] [INFO] - cfdmod - Processed surface p5_ym (2198819689.py:30)\u001b[39m\n",
      "\u001b[37m[2023-11-01 11:23:56,569] [INFO] - cfdmod - Processing surface p6c_yp (2198819689.py:19)\u001b[39m\n",
      "\u001b[33m[2023-11-01 11:23:56,604] [WARNING] - cfdmod - Region refinement is greater than data refinement. Resulted in NaN values (Ce_data.py:191)\u001b[39m\n",
      "\u001b[37m[2023-11-01 11:23:56,605] [INFO] - cfdmod - Processed surface p6c_yp (2198819689.py:30)\u001b[39m\n",
      "\u001b[37m[2023-11-01 11:23:56,605] [INFO] - cfdmod - Processing surface p7_xm (2198819689.py:19)\u001b[39m\n",
      "\u001b[33m[2023-11-01 11:23:56,666] [WARNING] - cfdmod - Region refinement is greater than data refinement. Resulted in NaN values (Ce_data.py:191)\u001b[39m\n",
      "\u001b[37m[2023-11-01 11:23:56,669] [INFO] - cfdmod - Processed surface p7_xm (2198819689.py:30)\u001b[39m\n",
      "\u001b[37m[2023-11-01 11:23:56,670] [INFO] - cfdmod - Processing surface p8_yp (2198819689.py:19)\u001b[39m\n",
      "\u001b[37m[2023-11-01 11:23:56,736] [INFO] - cfdmod - Processed surface p8_yp (2198819689.py:30)\u001b[39m\n",
      "\u001b[37m[2023-11-01 11:23:56,737] [INFO] - cfdmod - Processing surface p9_yp (2198819689.py:19)\u001b[39m\n",
      "\u001b[33m[2023-11-01 11:23:56,811] [WARNING] - cfdmod - Region refinement is greater than data refinement. Resulted in NaN values (Ce_data.py:191)\u001b[39m\n",
      "\u001b[37m[2023-11-01 11:23:56,815] [INFO] - cfdmod - Processed surface p9_yp (2198819689.py:30)\u001b[39m\n",
      "\u001b[37m[2023-11-01 11:23:56,816] [INFO] - cfdmod - Processing surface t1_ym (2198819689.py:19)\u001b[39m\n",
      "\u001b[37m[2023-11-01 11:23:56,853] [INFO] - cfdmod - Processed surface t1_ym (2198819689.py:30)\u001b[39m\n",
      "\u001b[37m[2023-11-01 11:23:56,854] [INFO] - cfdmod - Processing surface t2_yp (2198819689.py:19)\u001b[39m\n",
      "\u001b[37m[2023-11-01 11:23:57,103] [INFO] - cfdmod - Processed surface t2_yp (2198819689.py:30)\u001b[39m\n",
      "\u001b[37m[2023-11-01 11:23:57,131] [INFO] - cfdmod - Merged polydata for pattern_1 (2198819689.py:43)\u001b[39m\n",
      "\u001b[37m[2023-11-01 11:23:57,132] [INFO] - cfdmod - Processing pattern_2 ... (2198819689.py:11)\u001b[39m\n",
      "\u001b[37m[2023-11-01 11:23:57,132] [INFO] - cfdmod - Surface lanternim ignored! (Ce_data.py:85)\u001b[39m\n",
      "\u001b[37m[2023-11-01 11:23:57,137] [INFO] - cfdmod - Surface t1_ym ignored! (Ce_data.py:85)\u001b[39m\n",
      "\u001b[37m[2023-11-01 11:23:57,138] [INFO] - cfdmod - Processing surface m1_yp (2198819689.py:19)\u001b[39m\n",
      "\u001b[37m[2023-11-01 11:23:57,164] [INFO] - cfdmod - Processed surface m1_yp (2198819689.py:30)\u001b[39m\n",
      "\u001b[37m[2023-11-01 11:23:57,165] [INFO] - cfdmod - Processing surface m2_zp (2198819689.py:19)\u001b[39m\n",
      "\u001b[37m[2023-11-01 11:23:57,189] [INFO] - cfdmod - Processed surface m2_zp (2198819689.py:30)\u001b[39m\n",
      "\u001b[37m[2023-11-01 11:23:57,191] [INFO] - cfdmod - Processing surface m3_zm (2198819689.py:19)\u001b[39m\n",
      "\u001b[37m[2023-11-01 11:23:57,216] [INFO] - cfdmod - Processed surface m3_zm (2198819689.py:30)\u001b[39m\n",
      "\u001b[37m[2023-11-01 11:23:57,217] [INFO] - cfdmod - Processing surface p1_xp (2198819689.py:19)\u001b[39m\n",
      "\u001b[37m[2023-11-01 11:23:57,242] [INFO] - cfdmod - Processed surface p1_xp (2198819689.py:30)\u001b[39m\n",
      "\u001b[37m[2023-11-01 11:23:57,243] [INFO] - cfdmod - Processing surface p2_xp (2198819689.py:19)\u001b[39m\n",
      "\u001b[37m[2023-11-01 11:23:57,267] [INFO] - cfdmod - Processed surface p2_xp (2198819689.py:30)\u001b[39m\n",
      "\u001b[37m[2023-11-01 11:23:57,269] [INFO] - cfdmod - Processing surface p3_ym (2198819689.py:19)\u001b[39m\n",
      "\u001b[37m[2023-11-01 11:23:57,300] [INFO] - cfdmod - Processed surface p3_ym (2198819689.py:30)\u001b[39m\n",
      "\u001b[37m[2023-11-01 11:23:57,301] [INFO] - cfdmod - Processing surface p4_ym (2198819689.py:19)\u001b[39m\n",
      "\u001b[37m[2023-11-01 11:23:57,325] [INFO] - cfdmod - Processed surface p4_ym (2198819689.py:30)\u001b[39m\n",
      "\u001b[37m[2023-11-01 11:23:57,326] [INFO] - cfdmod - Processing surface p5_ym (2198819689.py:19)\u001b[39m\n",
      "\u001b[37m[2023-11-01 11:23:57,352] [INFO] - cfdmod - Processed surface p5_ym (2198819689.py:30)\u001b[39m\n",
      "\u001b[37m[2023-11-01 11:23:57,352] [INFO] - cfdmod - Processing surface p6c_yp (2198819689.py:19)\u001b[39m\n",
      "\u001b[37m[2023-11-01 11:23:57,375] [INFO] - cfdmod - Processed surface p6c_yp (2198819689.py:30)\u001b[39m\n",
      "\u001b[37m[2023-11-01 11:23:57,376] [INFO] - cfdmod - Processing surface p7_xm (2198819689.py:19)\u001b[39m\n",
      "\u001b[37m[2023-11-01 11:23:57,400] [INFO] - cfdmod - Processed surface p7_xm (2198819689.py:30)\u001b[39m\n",
      "\u001b[37m[2023-11-01 11:23:57,400] [INFO] - cfdmod - Processing surface p8_yp (2198819689.py:19)\u001b[39m\n",
      "\u001b[37m[2023-11-01 11:23:57,425] [INFO] - cfdmod - Processed surface p8_yp (2198819689.py:30)\u001b[39m\n",
      "\u001b[37m[2023-11-01 11:23:57,426] [INFO] - cfdmod - Processing surface p9_yp (2198819689.py:19)\u001b[39m\n",
      "\u001b[37m[2023-11-01 11:23:57,453] [INFO] - cfdmod - Processed surface p9_yp (2198819689.py:30)\u001b[39m\n",
      "\u001b[37m[2023-11-01 11:23:57,453] [INFO] - cfdmod - Processing surface t2_yp (2198819689.py:19)\u001b[39m\n",
      "\u001b[37m[2023-11-01 11:23:57,487] [INFO] - cfdmod - Processed surface t2_yp (2198819689.py:30)\u001b[39m\n",
      "\u001b[37m[2023-11-01 11:23:57,530] [INFO] - cfdmod - Merged polydata for pattern_2 (2198819689.py:43)\u001b[39m\n",
      "\u001b[37m[2023-11-01 11:23:57,531] [INFO] - cfdmod - Processing pattern_3 ... (2198819689.py:11)\u001b[39m\n",
      "\u001b[37m[2023-11-01 11:23:57,537] [INFO] - cfdmod - Processing surface L1_xp (2198819689.py:19)\u001b[39m\n",
      "\u001b[37m[2023-11-01 11:23:57,562] [INFO] - cfdmod - Processed surface L1_xp (2198819689.py:30)\u001b[39m\n",
      "\u001b[37m[2023-11-01 11:23:57,562] [INFO] - cfdmod - Processing surface L2_yp (2198819689.py:19)\u001b[39m\n",
      "\u001b[37m[2023-11-01 11:23:57,596] [INFO] - cfdmod - Processed surface L2_yp (2198819689.py:30)\u001b[39m\n",
      "\u001b[37m[2023-11-01 11:23:57,597] [INFO] - cfdmod - Processing surface L3_zp_yp (2198819689.py:19)\u001b[39m\n",
      "\u001b[37m[2023-11-01 11:23:57,626] [INFO] - cfdmod - Processed surface L3_zp_yp (2198819689.py:30)\u001b[39m\n",
      "\u001b[37m[2023-11-01 11:23:57,626] [INFO] - cfdmod - Processing surface L4_zp_ym (2198819689.py:19)\u001b[39m\n",
      "\u001b[37m[2023-11-01 11:23:57,658] [INFO] - cfdmod - Processed surface L4_zp_ym (2198819689.py:30)\u001b[39m\n",
      "\u001b[37m[2023-11-01 11:23:57,659] [INFO] - cfdmod - Processing surface L5_ym (2198819689.py:19)\u001b[39m\n",
      "\u001b[37m[2023-11-01 11:23:57,697] [INFO] - cfdmod - Processed surface L5_ym (2198819689.py:30)\u001b[39m\n",
      "\u001b[37m[2023-11-01 11:23:57,698] [INFO] - cfdmod - Processing surface L6_xm (2198819689.py:19)\u001b[39m\n",
      "\u001b[37m[2023-11-01 11:23:57,726] [INFO] - cfdmod - Processed surface L6_xm (2198819689.py:30)\u001b[39m\n",
      "\u001b[37m[2023-11-01 11:23:57,727] [INFO] - cfdmod - Processing surface m1_yp (2198819689.py:19)\u001b[39m\n",
      "\u001b[37m[2023-11-01 11:23:57,756] [INFO] - cfdmod - Processed surface m1_yp (2198819689.py:30)\u001b[39m\n",
      "\u001b[37m[2023-11-01 11:23:57,758] [INFO] - cfdmod - Processing surface m2_zp (2198819689.py:19)\u001b[39m\n",
      "\u001b[37m[2023-11-01 11:23:57,787] [INFO] - cfdmod - Processed surface m2_zp (2198819689.py:30)\u001b[39m\n",
      "\u001b[37m[2023-11-01 11:23:57,788] [INFO] - cfdmod - Processing surface m3_zm (2198819689.py:19)\u001b[39m\n",
      "\u001b[37m[2023-11-01 11:23:57,816] [INFO] - cfdmod - Processed surface m3_zm (2198819689.py:30)\u001b[39m\n",
      "\u001b[37m[2023-11-01 11:23:57,816] [INFO] - cfdmod - Processing surface p1_xp (2198819689.py:19)\u001b[39m\n",
      "\u001b[37m[2023-11-01 11:23:57,841] [INFO] - cfdmod - Processed surface p1_xp (2198819689.py:30)\u001b[39m\n",
      "\u001b[37m[2023-11-01 11:23:57,842] [INFO] - cfdmod - Processing surface p2_xp (2198819689.py:19)\u001b[39m\n",
      "\u001b[37m[2023-11-01 11:23:57,865] [INFO] - cfdmod - Processed surface p2_xp (2198819689.py:30)\u001b[39m\n",
      "\u001b[37m[2023-11-01 11:23:57,866] [INFO] - cfdmod - Processing surface p3_ym (2198819689.py:19)\u001b[39m\n",
      "\u001b[37m[2023-11-01 11:23:57,895] [INFO] - cfdmod - Processed surface p3_ym (2198819689.py:30)\u001b[39m\n",
      "\u001b[37m[2023-11-01 11:23:57,896] [INFO] - cfdmod - Processing surface p4_ym (2198819689.py:19)\u001b[39m\n",
      "\u001b[37m[2023-11-01 11:23:57,920] [INFO] - cfdmod - Processed surface p4_ym (2198819689.py:30)\u001b[39m\n",
      "\u001b[37m[2023-11-01 11:23:57,921] [INFO] - cfdmod - Processing surface p5_ym (2198819689.py:19)\u001b[39m\n",
      "\u001b[37m[2023-11-01 11:23:57,948] [INFO] - cfdmod - Processed surface p5_ym (2198819689.py:30)\u001b[39m\n",
      "\u001b[37m[2023-11-01 11:23:57,949] [INFO] - cfdmod - Processing surface p6c_yp (2198819689.py:19)\u001b[39m\n",
      "\u001b[37m[2023-11-01 11:23:57,973] [INFO] - cfdmod - Processed surface p6c_yp (2198819689.py:30)\u001b[39m\n",
      "\u001b[37m[2023-11-01 11:23:57,974] [INFO] - cfdmod - Processing surface p7_xm (2198819689.py:19)\u001b[39m\n",
      "\u001b[37m[2023-11-01 11:23:57,996] [INFO] - cfdmod - Processed surface p7_xm (2198819689.py:30)\u001b[39m\n",
      "\u001b[37m[2023-11-01 11:23:57,997] [INFO] - cfdmod - Processing surface p8_yp (2198819689.py:19)\u001b[39m\n",
      "\u001b[37m[2023-11-01 11:23:58,023] [INFO] - cfdmod - Processed surface p8_yp (2198819689.py:30)\u001b[39m\n",
      "\u001b[37m[2023-11-01 11:23:58,023] [INFO] - cfdmod - Processing surface p9_yp (2198819689.py:19)\u001b[39m\n",
      "\u001b[37m[2023-11-01 11:23:58,049] [INFO] - cfdmod - Processed surface p9_yp (2198819689.py:30)\u001b[39m\n",
      "\u001b[37m[2023-11-01 11:23:58,049] [INFO] - cfdmod - Processing surface t1_ym (2198819689.py:19)\u001b[39m\n",
      "\u001b[37m[2023-11-01 11:23:58,108] [INFO] - cfdmod - Processed surface t1_ym (2198819689.py:30)\u001b[39m\n",
      "\u001b[37m[2023-11-01 11:23:58,109] [INFO] - cfdmod - Processing surface t2_yp (2198819689.py:19)\u001b[39m\n",
      "\u001b[37m[2023-11-01 11:23:58,156] [INFO] - cfdmod - Processed surface t2_yp (2198819689.py:30)\u001b[39m\n",
      "\u001b[37m[2023-11-01 11:23:58,184] [INFO] - cfdmod - Merged polydata for pattern_3 (2198819689.py:43)\u001b[39m\n"
     ]
    }
   ],
   "source": [
    "from cfdmod.api.vtk.write_vtk import write_polydata, merge_polydata\n",
    "from cfdmod.logger import logger\n",
    "from cfdmod.use_cases.pressure.shape.Ce_data import process_surface, get_surfaces_raw_data\n",
    "from cfdmod.use_cases.pressure.geometry import get_excluded_surfaces\n",
    "\n",
    "n_timesteps = cp_data_to_use[\"time_step\"].unique().shape[0]\n",
    "\n",
    "for cfg_label, cfg in post_proc_cfg.shape_coefficient.items():\n",
    "    processed_polydata = []\n",
    "    logger.info(f\"Processing {cfg_label} ...\")\n",
    "    \n",
    "    sfc_dict = {set_lbl: sfc_list for set_lbl, sfc_list in cfg.sets.items()}\n",
    "    sfc_dict |= {sfc: [sfc] for sfc in mesh.surfaces.keys() if sfc not in cfg.surfaces_in_sets}\n",
    "    \n",
    "    surfaces_to_process = get_surfaces_raw_data(surface_dict=sfc_dict, cfg=cfg, mesh=mesh)\n",
    "\n",
    "    for sfc_lbl, raw_surface in surfaces_to_process.items():\n",
    "        logger.info(f\"Processing surface {sfc_lbl}\")\n",
    "        \n",
    "        processed_surface = process_surface(\n",
    "            raw_surface=raw_surface,\n",
    "            cfg=cfg,\n",
    "            cp_data=cp_data_to_use,\n",
    "            n_timesteps=n_timesteps,\n",
    "        )\n",
    "\n",
    "        processed_polydata.append(processed_surface.polydata)\n",
    "\n",
    "        logger.info(f\"Processed surface {sfc_lbl}\")\n",
    "\n",
    "    # Output 5: VTK\n",
    "    merged_polydata = merge_polydata(processed_polydata)\n",
    "    write_polydata(path_manager.get_vtp_path(mesh.name, cfg_label), merged_polydata)\n",
    "    \n",
    "    sfc_list = [sfc for sfc in cfg.zoning.exclude if sfc in mesh.surfaces.keys()]\n",
    "    \n",
    "    sfc_list += [sfc for set_lbl, sfc_set in cfg.sets.items() for sfc in sfc_set if set_lbl in cfg.zoning.exclude]\n",
    "    if len(sfc_list) != 0:\n",
    "        excluded_sfcs = get_excluded_surfaces(mesh=mesh, sfc_list=sfc_list)\n",
    "        excluded_sfcs.export_stl(path_manager.get_excluded_surface_path(cfg_label))\n",
    "\n",
    "    logger.info(f\"Merged polydata for {cfg_label}\")"
   ]
  }
 ],
 "metadata": {
  "kernelspec": {
   "display_name": "cfdmod-6zl7i90Q-py3.11",
   "language": "python",
   "name": "python3"
  },
  "language_info": {
   "codemirror_mode": {
    "name": "ipython",
    "version": 3
   },
   "file_extension": ".py",
   "mimetype": "text/x-python",
   "name": "python",
   "nbconvert_exporter": "python",
   "pygments_lexer": "ipython3",
   "version": "3.11.4"
  }
 },
 "nbformat": 4,
 "nbformat_minor": 2
}
