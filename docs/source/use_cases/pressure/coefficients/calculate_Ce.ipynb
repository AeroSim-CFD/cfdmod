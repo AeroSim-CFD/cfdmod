{
 "cells": [
  {
   "cell_type": "markdown",
   "metadata": {},
   "source": [
    "# Generate shape coefficients"
   ]
  },
  {
   "cell_type": "markdown",
   "metadata": {},
   "source": [
    "The following steps are performed to obtain all the artifacts for shape coefficient use case:\n",
    "\n",
    "1. Read parameters file\n",
    "2. Read Mesh description\n",
    "   * Its path can be specified\n",
    "   * Or it can be obtained from the simulation configuration file\n",
    "3. Read data for pressure coefficient"
   ]
  },
  {
   "cell_type": "markdown",
   "metadata": {},
   "source": [
    "Initialize Path Manager"
   ]
  },
  {
   "cell_type": "code",
   "execution_count": 1,
   "metadata": {},
   "outputs": [],
   "source": [
    "from cfdmod.use_cases.pressure.path_manager import CePathManager\n",
    "import pathlib\n",
    "\n",
    "path_manager = CePathManager(output_path=pathlib.Path(\"./output/pressure\"))"
   ]
  },
  {
   "cell_type": "markdown",
   "metadata": {},
   "source": [
    "Read post-processing Ce config file"
   ]
  },
  {
   "cell_type": "code",
   "execution_count": 2,
   "metadata": {},
   "outputs": [
    {
     "data": {
      "text/plain": [
       "CeCaseConfig(time_scale_conversion=TimeScaleParameters(CST_real=0.56, CST_sim=16.89), shape_coefficient={'measurement_1': CeConfig(statistics=[BasicStatisticModel(stats='mean'), BasicStatisticModel(stats='rms'), BasicStatisticModel(stats='skewness'), BasicStatisticModel(stats='kurtosis'), ParameterizedStatisticModel(stats='mean_eq', params=MeanEquivalentParamsModel(scale_factor=0.61)), ParameterizedStatisticModel(stats='min', params=ExtremeAbsoluteParamsModel(method_type='Absolute')), ParameterizedStatisticModel(stats='max', params=ExtremePeakParamsModel(method_type='Peak', peak_factor=3.0))], zoning=ZoningConfig(global_zoning=ZoningModel(x_intervals=[0.0, 25.0, 50.0, 75.0, 100.0, 125.0, 150.0, 175.0, 200.0, 225.0, 250.0], y_intervals=[0.0, 25.0, 50.0, 75.0, 100.0, 125.0, 150.0, 175.0, 200.0], z_intervals=[0.0, 5.0, 10.0, 15.0, 20.0]), no_zoning=['t1_ym'], exclude=['p1_xp'], exceptions={'zoning1': ExceptionZoningModel(x_intervals=[0.0, 25.0, 50.0, 75.0, 100.0, 125.0, 150.0, 175.0, 200.0, 225.0, 250.0], y_intervals=[0.0, 25.0, 50.0, 75.0, 100.0, 125.0, 150.0, 175.0, 200.0], z_intervals=[0.0, 20.0], surfaces=['t2_yp'])}), sets={'lanternim': ['L1_xp', 'L2_yp', 'L3_zp_yp', 'L4_zp_ym', 'L5_ym', 'L6_xm']}, transformation=TransformationConfig(translation=(0, 0, 0), rotation=(0.0, 0.0, 0.0), fixed_point=(0, 0, 0))), 'measurement_2': CeConfig(statistics=[BasicStatisticModel(stats='mean'), BasicStatisticModel(stats='rms'), BasicStatisticModel(stats='skewness'), BasicStatisticModel(stats='kurtosis'), ParameterizedStatisticModel(stats='mean_eq', params=MeanEquivalentParamsModel(scale_factor=0.61)), ParameterizedStatisticModel(stats='min', params=ExtremeGumbelParamsModel(method_type='Gumbel', peak_duration=3.0, event_duration=300.0, n_subdivisions=10, non_exceedance_probability=0.78)), ParameterizedStatisticModel(stats='max', params=ExtremeAbsoluteParamsModel(method_type='Absolute'))], zoning=ZoningConfig(global_zoning=ZoningModel(x_intervals=[0.0, 250.0], y_intervals=[0.0, 200.0], z_intervals=[0.0, 20.0]), no_zoning=['t2_yp'], exclude=['lanternim', 't1_ym'], exceptions={}), sets={'lanternim': ['L1_xp', 'L2_yp', 'L3_zp_yp', 'L4_zp_ym', 'L5_ym', 'L6_xm']}, transformation=TransformationConfig(translation=(0, 0, 0), rotation=(0.0, 0.0, 0.0), fixed_point=(0, 0, 0))), 'measurement_3': CeConfig(statistics=[BasicStatisticModel(stats='mean'), BasicStatisticModel(stats='rms'), BasicStatisticModel(stats='skewness'), BasicStatisticModel(stats='kurtosis'), ParameterizedStatisticModel(stats='mean_eq', params=MeanEquivalentParamsModel(scale_factor=0.61)), ParameterizedStatisticModel(stats='min', params=ExtremeMovingAverageParamsModel(method_type='Moving Average', window_size_real_scale=3.0)), ParameterizedStatisticModel(stats='max', params=ExtremeAbsoluteParamsModel(method_type='Absolute'))], zoning=ZoningConfig(global_zoning=ZoningModel(x_intervals=[0.0, 125.0, 250.0], y_intervals=[-inf, inf], z_intervals=[-inf, inf]), no_zoning=[], exclude=[], exceptions={}), sets={}, transformation=TransformationConfig(translation=(0, 0, 0), rotation=(0.0, 0.0, 0.0), fixed_point=(0, 0, 0)))})"
      ]
     },
     "execution_count": 2,
     "metadata": {},
     "output_type": "execute_result"
    }
   ],
   "source": [
    "from cfdmod.use_cases.pressure.shape.Ce_config import CeCaseConfig\n",
    "\n",
    "config_path = pathlib.Path(\"./fixtures/tests/pressure/Ce_params.yaml\")\n",
    "post_proc_cfg = CeCaseConfig.from_file(config_path)\n",
    "\n",
    "post_proc_cfg"
   ]
  },
  {
   "cell_type": "markdown",
   "metadata": {},
   "source": [
    "Read LNAS Mesh"
   ]
  },
  {
   "cell_type": "code",
   "execution_count": 3,
   "metadata": {},
   "outputs": [
    {
     "data": {
      "text/plain": [
       "((1549, 3), (2915, 3))"
      ]
     },
     "execution_count": 3,
     "metadata": {},
     "output_type": "execute_result"
    }
   ],
   "source": [
    "from lnas import LnasFormat\n",
    "\n",
    "mesh_path = pathlib.Path(\"./fixtures/tests/pressure/galpao/galpao.normalized.lnas\")\n",
    "mesh = LnasFormat.from_file(mesh_path)\n",
    "\n",
    "mesh.geometry.vertices.shape, mesh.geometry.triangles.shape"
   ]
  },
  {
   "cell_type": "markdown",
   "metadata": {},
   "source": [
    "Process shape coefficient use case"
   ]
  },
  {
   "cell_type": "code",
   "execution_count": 4,
   "metadata": {},
   "outputs": [
    {
     "name": "stdout",
     "output_type": "stream",
     "text": [
      "\u001b[37m[2024-05-17 09:46:54,428] [INFO] - cfdmod - Processing measurement_1 ... (2689420235.py:7)\u001b[39m\n",
      "\u001b[37m[2024-05-17 09:46:54,429] [INFO] - cfdmod - Getting geometry data... (Ce_data.py:140)\u001b[39m\n",
      "\u001b[95m[2024-05-17 09:46:54,443] [DEBUG] - cfdmod - Surface p1_xp ignored! (Ce_geom.py:52)\u001b[39m\n",
      "\u001b[37m[2024-05-17 09:46:54,473] [INFO] - cfdmod - Tabulating geometry data... (Ce_data.py:143)\u001b[39m\n",
      "        region_idx  point_idx       area           n_x       n_y       n_z\n",
      "0    303-lanternim          0   0.379758  1.000000e+00 -0.000000  0.000000\n",
      "1    303-lanternim          1   0.562488  1.000000e+00  0.000000  0.000000\n",
      "2    303-lanternim          2   0.112028  1.000000e+00  0.000000  0.000000\n",
      "3    303-lanternim          3   0.098361  1.000000e+00  0.000000  0.000000\n",
      "4    303-lanternim          4   0.641173  1.000000e+00  0.000000  0.000000\n",
      "..             ...        ...        ...           ...       ...       ...\n",
      "557       44-t2_yp       2910  24.822884  3.445718e-07  0.024955  0.999689\n",
      "558       61-t2_yp       2911  31.682699 -1.251417e-06  0.024957  0.999689\n",
      "559       61-t2_yp       2912  28.992073 -3.055059e-06  0.024954  0.999689\n",
      "560       37-t2_yp       2913  35.004192 -2.259597e-06  0.024955  0.999689\n",
      "561       37-t2_yp       2914  27.980085  4.753658e-06  0.024954  0.999689\n",
      "\n",
      "[2891 rows x 6 columns]\n",
      "\u001b[37m[2024-05-17 09:46:54,580] [INFO] - cfdmod - Processing measurement_2 ... (2689420235.py:7)\u001b[39m\n",
      "\u001b[37m[2024-05-17 09:46:54,580] [INFO] - cfdmod - Getting geometry data... (Ce_data.py:140)\u001b[39m\n",
      "\u001b[95m[2024-05-17 09:46:54,580] [DEBUG] - cfdmod - Surface lanternim ignored! (Ce_geom.py:52)\u001b[39m\n",
      "\u001b[95m[2024-05-17 09:46:54,599] [DEBUG] - cfdmod - Surface t1_ym ignored! (Ce_geom.py:52)\u001b[39m\n",
      "\u001b[37m[2024-05-17 09:46:54,614] [INFO] - cfdmod - Tabulating geometry data... (Ce_data.py:143)\u001b[39m\n",
      "    region_idx  point_idx       area           n_x       n_y       n_z\n",
      "0      0-m1_yp        729   0.609582  0.000000e+00  1.000000  0.000000\n",
      "1      0-m1_yp        730   0.547433  0.000000e+00  1.000000 -0.000000\n",
      "2      0-m1_yp        731   0.553653 -0.000000e+00  1.000000  0.000000\n",
      "3      0-m1_yp        732   0.540873 -0.000000e+00  1.000000  0.000000\n",
      "4      0-m1_yp        733   0.566561 -0.000000e+00  1.000000  0.000000\n",
      "..         ...        ...        ...           ...       ...       ...\n",
      "557    0-t2_yp       2910  24.822884  3.445718e-07  0.024955  0.999689\n",
      "558    0-t2_yp       2911  31.682699 -1.251417e-06  0.024957  0.999689\n",
      "559    0-t2_yp       2912  28.992073 -3.055059e-06  0.024954  0.999689\n",
      "560    0-t2_yp       2913  35.004192 -2.259597e-06  0.024955  0.999689\n",
      "561    0-t2_yp       2914  27.980085  4.753658e-06  0.024954  0.999689\n",
      "\n",
      "[1281 rows x 6 columns]\n",
      "\u001b[37m[2024-05-17 09:46:54,667] [INFO] - cfdmod - Processing measurement_3 ... (2689420235.py:7)\u001b[39m\n",
      "\u001b[37m[2024-05-17 09:46:54,667] [INFO] - cfdmod - Getting geometry data... (Ce_data.py:140)\u001b[39m\n",
      "\u001b[37m[2024-05-17 09:46:54,721] [INFO] - cfdmod - Tabulating geometry data... (Ce_data.py:143)\u001b[39m\n",
      "    region_idx  point_idx       area           n_x       n_y       n_z\n",
      "0      0-L1_xp          0   0.379758  1.000000e+00 -0.000000  0.000000\n",
      "1      0-L1_xp          1   0.562488  1.000000e+00  0.000000  0.000000\n",
      "2      0-L1_xp          2   0.112028  1.000000e+00  0.000000  0.000000\n",
      "3      0-L1_xp          3   0.098361  1.000000e+00  0.000000  0.000000\n",
      "4      0-L1_xp          4   0.641173  1.000000e+00  0.000000  0.000000\n",
      "..         ...        ...        ...           ...       ...       ...\n",
      "557    1-t2_yp       2910  24.822884  3.445718e-07  0.024955  0.999689\n",
      "558    1-t2_yp       2911  31.682699 -1.251417e-06  0.024957  0.999689\n",
      "559    1-t2_yp       2912  28.992073 -3.055059e-06  0.024954  0.999689\n",
      "560    0-t2_yp       2913  35.004192 -2.259597e-06  0.024955  0.999689\n",
      "561    0-t2_yp       2914  27.980085  4.753658e-06  0.024954  0.999689\n",
      "\n",
      "[2915 rows x 6 columns]\n"
     ]
    }
   ],
   "source": [
    "from cfdmod.logger import logger\n",
    "from cfdmod.use_cases.pressure.shape.Ce_data import CeOutput, process_Ce\n",
    "\n",
    "cp_data_path = pathlib.Path(\"./fixtures/tests/pressure/data/cp_t.resampled.h5\")\n",
    "\n",
    "for cfg_label, cfg in post_proc_cfg.shape_coefficient.items():\n",
    "    logger.info(f\"Processing {cfg_label} ...\")\n",
    "\n",
    "    Ce_output: CeOutput = process_Ce(\n",
    "        mesh=mesh,\n",
    "        cfg=cfg,\n",
    "        cp_path=cp_data_path,\n",
    "        time_scale_factor=post_proc_cfg.time_scale_conversion.time_scale\n",
    "    )\n",
    "\n",
    "    # Ce_output.save_outputs(file_lbl=\"Ce\", cfg_label=cfg_label, path_manager=path_manager)"
   ]
  }
 ],
 "metadata": {
  "kernelspec": {
   "display_name": "cfdmod-6zl7i90Q-py3.11",
   "language": "python",
   "name": "python3"
  },
  "language_info": {
   "codemirror_mode": {
    "name": "ipython",
    "version": 3
   },
   "file_extension": ".py",
   "mimetype": "text/x-python",
   "name": "python",
   "nbconvert_exporter": "python",
   "pygments_lexer": "ipython3",
   "version": "3.10.12"
  }
 },
 "nbformat": 4,
 "nbformat_minor": 2
}
