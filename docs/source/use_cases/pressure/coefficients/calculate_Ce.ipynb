{
 "cells": [
  {
   "cell_type": "markdown",
   "metadata": {},
   "source": [
    "# Generate shape coefficients"
   ]
  },
  {
   "cell_type": "markdown",
   "metadata": {},
   "source": [
    "The following steps are performed to obtain all the artifacts for shape coefficient use case:\n",
    "\n",
    "1. Read parameters file\n",
    "2. Read Mesh description\n",
    "   * Its path can be specified\n",
    "   * Or it can be obtained from the simulation configuration file\n",
    "3. Read data for pressure coefficient"
   ]
  },
  {
   "cell_type": "markdown",
   "metadata": {},
   "source": [
    "Initialize Path Manager"
   ]
  },
  {
   "cell_type": "code",
   "execution_count": 1,
   "metadata": {},
   "outputs": [],
   "source": [
    "from cfdmod.use_cases.pressure.path_manager import CePathManager\n",
    "import pathlib\n",
    "\n",
    "path_manager = CePathManager(output_path=pathlib.Path(\"./output/pressure\"))"
   ]
  },
  {
   "cell_type": "markdown",
   "metadata": {},
   "source": [
    "Read post-processing Ce config file"
   ]
  },
  {
   "cell_type": "code",
   "execution_count": 2,
   "metadata": {},
   "outputs": [
    {
     "data": {
      "text/plain": [
       "{'pattern_1': CeConfig(zoning=ZoningConfig(global_zoning=ZoningModel(x_intervals=[0.0, 25.0, 50.0, 75.0, 100.0, 125.0, 150.0, 175.0, 200.0, 225.0, 250.0], y_intervals=[0.0, 25.0, 50.0, 75.0, 100.0, 125.0, 150.0, 175.0, 200.0], z_intervals=[0.0, 5.0, 10.0, 15.0, 20.0]), no_zoning=['sfc1'], exclude=['sfc1'], exceptions={'zoning1': ExceptionZoningModel(x_intervals=[0.0, 25.0, 50.0, 75.0, 100.0, 125.0, 150.0, 175.0, 200.0, 225.0, 250.0], y_intervals=[0.0, 25.0, 50.0, 75.0, 100.0, 125.0, 150.0, 175.0, 200.0], z_intervals=[0.0, 20.0], surfaces=['sfc1'])}), statistics=['min', 'max', 'std', 'avg', 'skewness', 'kurtosis']),\n",
       " 'pattern_2': CeConfig(zoning=ZoningConfig(global_zoning=ZoningModel(x_intervals=[0.0, 250.0], y_intervals=[0.0, 200.0], z_intervals=[0.0, 20.0]), no_zoning=[], exclude=[], exceptions={}), statistics=['min', 'max', 'std', 'avg', 'skewness', 'kurtosis']),\n",
       " 'pattern_3': CeConfig(zoning=ZoningConfig(global_zoning=ZoningModel(x_intervals=[0.0, 125.0, 250.0], y_intervals=[-inf, inf], z_intervals=[-inf, inf]), no_zoning=[], exclude=[], exceptions={}), statistics=['min', 'max', 'std', 'avg', 'skewness', 'kurtosis'])}"
      ]
     },
     "execution_count": 2,
     "metadata": {},
     "output_type": "execute_result"
    }
   ],
   "source": [
    "from cfdmod.use_cases.pressure.shape.Ce_config import CeConfig\n",
    "\n",
    "config_path=pathlib.Path(\"./fixtures/tests/pressure/Ce_params.yaml\")\n",
    "post_proc_cfg = CeConfig.from_file(config_path)\n",
    "\n",
    "post_proc_cfg"
   ]
  },
  {
   "cell_type": "markdown",
   "metadata": {},
   "source": [
    "Normalize LNAS Mesh [Example]"
   ]
  },
  {
   "cell_type": "code",
   "execution_count": 3,
   "metadata": {},
   "outputs": [
    {
     "name": "stdout",
     "output_type": "stream",
     "text": [
      "galpao (1549, 3) (2915, 3)\n"
     ]
    },
    {
     "data": {
      "text/plain": [
       "(0.0, 0.0, 0.0)"
      ]
     },
     "execution_count": 3,
     "metadata": {},
     "output_type": "execute_result"
    }
   ],
   "source": [
    "from nassu.lnas import LagrangianFormat\n",
    "\n",
    "original_mesh_path = pathlib.Path(\"./fixtures/tests/pressure/galpao/galpao.lnas\")\n",
    "original_mesh = LagrangianFormat.from_file(original_mesh_path)\n",
    "\n",
    "new_verts = original_mesh.geometry.vertices.copy()\n",
    "\n",
    "new_verts[:, 0] -= new_verts[:, 0].min()\n",
    "new_verts[:, 1] -= new_verts[:, 1].min()\n",
    "new_verts[:, 2] -= new_verts[:, 2].min()\n",
    "\n",
    "original_mesh.geometry.vertices = new_verts\n",
    "\n",
    "original_mesh.to_file(original_mesh_path.parent / f\"{original_mesh.name}.normalized.lnas\")\n",
    "\n",
    "print(original_mesh.name, original_mesh.geometry.vertices.shape, original_mesh.geometry.triangles.shape)\n",
    "\n",
    "original_mesh.geometry.vertices[:, 0].min(), original_mesh.geometry.vertices[:, 1].min(), original_mesh.geometry.vertices[:, 2].min()"
   ]
  },
  {
   "cell_type": "markdown",
   "metadata": {},
   "source": [
    "Read Normalized LNAS Mesh"
   ]
  },
  {
   "cell_type": "code",
   "execution_count": 4,
   "metadata": {},
   "outputs": [
    {
     "data": {
      "text/plain": [
       "('galpao', (1549, 3), (2915, 3))"
      ]
     },
     "execution_count": 4,
     "metadata": {},
     "output_type": "execute_result"
    }
   ],
   "source": [
    "from nassu.lnas import LagrangianFormat\n",
    "\n",
    "mesh_path=pathlib.Path(\"./fixtures/tests/pressure/galpao/galpao.normalized.lnas\")\n",
    "mesh = LagrangianFormat.from_file(mesh_path)\n",
    "\n",
    "mesh.name, mesh.geometry.vertices.shape, mesh.geometry.triangles.shape"
   ]
  },
  {
   "cell_type": "markdown",
   "metadata": {},
   "source": [
    "Read Pressure Coefficient data"
   ]
  },
  {
   "cell_type": "code",
   "execution_count": 5,
   "metadata": {},
   "outputs": [],
   "source": [
    "import pandas as pd\n",
    "\n",
    "cp_data_path=pathlib.Path(\"./fixtures/tests/pressure/data/cp_t.resampled.hdf\")\n",
    "cp_data = pd.read_hdf(cp_data_path)\n",
    "\n",
    "cp_data_to_use = (\n",
    "    cp_data.to_frame() if isinstance(cp_data, pd.Series) else cp_data\n",
    ")"
   ]
  },
  {
   "cell_type": "markdown",
   "metadata": {},
   "source": [
    "Add region index to pressure coefficient data"
   ]
  },
  {
   "cell_type": "code",
   "execution_count": 6,
   "metadata": {},
   "outputs": [
    {
     "name": "stdout",
     "output_type": "stream",
     "text": [
      "\u001b[37m[2023-10-19 15:46:37,303] [INFO] - cfdmod - Processing pattern_1 ... (2943861426.py:9)\u001b[39m\n",
      "\u001b[37m[2023-10-19 15:46:37,304] [INFO] - cfdmod - Processing surface L1_xp ... (2943861426.py:15)\u001b[39m\n",
      "\u001b[37m[2023-10-19 15:46:37,360] [INFO] - cfdmod - Processed surface L1_xp (2943861426.py:27)\u001b[39m\n",
      "\u001b[37m[2023-10-19 15:46:37,361] [INFO] - cfdmod - Processing surface L2_yp ... (2943861426.py:15)\u001b[39m\n",
      "\u001b[37m[2023-10-19 15:46:37,522] [INFO] - cfdmod - Processed surface L2_yp (2943861426.py:27)\u001b[39m\n",
      "\u001b[37m[2023-10-19 15:46:37,523] [INFO] - cfdmod - Processing surface L3_zp_yp ... (2943861426.py:15)\u001b[39m\n",
      "\u001b[37m[2023-10-19 15:46:37,588] [INFO] - cfdmod - Processed surface L3_zp_yp (2943861426.py:27)\u001b[39m\n",
      "\u001b[37m[2023-10-19 15:46:37,589] [INFO] - cfdmod - Processing surface L4_zp_ym ... (2943861426.py:15)\u001b[39m\n",
      "\u001b[37m[2023-10-19 15:46:37,646] [INFO] - cfdmod - Processed surface L4_zp_ym (2943861426.py:27)\u001b[39m\n",
      "\u001b[37m[2023-10-19 15:46:37,647] [INFO] - cfdmod - Processing surface L5_ym ... (2943861426.py:15)\u001b[39m\n",
      "\u001b[37m[2023-10-19 15:46:37,804] [INFO] - cfdmod - Processed surface L5_ym (2943861426.py:27)\u001b[39m\n",
      "\u001b[37m[2023-10-19 15:46:37,805] [INFO] - cfdmod - Processing surface L6_xm ... (2943861426.py:15)\u001b[39m\n",
      "\u001b[37m[2023-10-19 15:46:37,837] [INFO] - cfdmod - Processed surface L6_xm (2943861426.py:27)\u001b[39m\n",
      "\u001b[37m[2023-10-19 15:46:37,838] [INFO] - cfdmod - Processing surface m1_yp ... (2943861426.py:15)\u001b[39m\n",
      "\u001b[37m[2023-10-19 15:46:37,889] [INFO] - cfdmod - Processed surface m1_yp (2943861426.py:27)\u001b[39m\n",
      "\u001b[37m[2023-10-19 15:46:37,890] [INFO] - cfdmod - Processing surface m2_zp ... (2943861426.py:15)\u001b[39m\n",
      "\u001b[37m[2023-10-19 15:46:37,951] [INFO] - cfdmod - Processed surface m2_zp (2943861426.py:27)\u001b[39m\n",
      "\u001b[37m[2023-10-19 15:46:37,952] [INFO] - cfdmod - Processing surface m3_zm ... (2943861426.py:15)\u001b[39m\n",
      "\u001b[37m[2023-10-19 15:46:38,012] [INFO] - cfdmod - Processed surface m3_zm (2943861426.py:27)\u001b[39m\n",
      "\u001b[37m[2023-10-19 15:46:38,013] [INFO] - cfdmod - Processing surface p1_xp ... (2943861426.py:15)\u001b[39m\n",
      "\u001b[33m[2023-10-19 15:46:38,058] [WARNING] - cfdmod - Region refinement is greater than data refinement. Resulted in NaN values (Ce_data.py:101)\u001b[39m\n",
      "\u001b[37m[2023-10-19 15:46:38,061] [INFO] - cfdmod - Processed surface p1_xp (2943861426.py:27)\u001b[39m\n",
      "\u001b[37m[2023-10-19 15:46:38,061] [INFO] - cfdmod - Processing surface p2_xp ... (2943861426.py:15)\u001b[39m\n",
      "\u001b[33m[2023-10-19 15:46:38,104] [WARNING] - cfdmod - Region refinement is greater than data refinement. Resulted in NaN values (Ce_data.py:101)\u001b[39m\n",
      "\u001b[37m[2023-10-19 15:46:38,107] [INFO] - cfdmod - Processed surface p2_xp (2943861426.py:27)\u001b[39m\n",
      "\u001b[37m[2023-10-19 15:46:38,108] [INFO] - cfdmod - Processing surface p3_ym ... (2943861426.py:15)\u001b[39m\n",
      "\u001b[33m[2023-10-19 15:46:38,187] [WARNING] - cfdmod - Region refinement is greater than data refinement. Resulted in NaN values (Ce_data.py:101)\u001b[39m\n",
      "\u001b[37m[2023-10-19 15:46:38,190] [INFO] - cfdmod - Processed surface p3_ym (2943861426.py:27)\u001b[39m\n",
      "\u001b[37m[2023-10-19 15:46:38,191] [INFO] - cfdmod - Processing surface p4_ym ... (2943861426.py:15)\u001b[39m\n",
      "\u001b[37m[2023-10-19 15:46:38,252] [INFO] - cfdmod - Processed surface p4_ym (2943861426.py:27)\u001b[39m\n",
      "\u001b[37m[2023-10-19 15:46:38,253] [INFO] - cfdmod - Processing surface p5_ym ... (2943861426.py:15)\u001b[39m\n",
      "\u001b[37m[2023-10-19 15:46:38,315] [INFO] - cfdmod - Processed surface p5_ym (2943861426.py:27)\u001b[39m\n",
      "\u001b[37m[2023-10-19 15:46:38,315] [INFO] - cfdmod - Processing surface p6c_yp ... (2943861426.py:15)\u001b[39m\n",
      "\u001b[33m[2023-10-19 15:46:38,347] [WARNING] - cfdmod - Region refinement is greater than data refinement. Resulted in NaN values (Ce_data.py:101)\u001b[39m\n",
      "\u001b[37m[2023-10-19 15:46:38,348] [INFO] - cfdmod - Processed surface p6c_yp (2943861426.py:27)\u001b[39m\n",
      "\u001b[37m[2023-10-19 15:46:38,349] [INFO] - cfdmod - Processing surface p7_xm ... (2943861426.py:15)\u001b[39m\n",
      "\u001b[33m[2023-10-19 15:46:38,408] [WARNING] - cfdmod - Region refinement is greater than data refinement. Resulted in NaN values (Ce_data.py:101)\u001b[39m\n",
      "\u001b[37m[2023-10-19 15:46:38,412] [INFO] - cfdmod - Processed surface p7_xm (2943861426.py:27)\u001b[39m\n",
      "\u001b[37m[2023-10-19 15:46:38,412] [INFO] - cfdmod - Processing surface p8_yp ... (2943861426.py:15)\u001b[39m\n",
      "\u001b[37m[2023-10-19 15:46:38,473] [INFO] - cfdmod - Processed surface p8_yp (2943861426.py:27)\u001b[39m\n",
      "\u001b[37m[2023-10-19 15:46:38,474] [INFO] - cfdmod - Processing surface p9_yp ... (2943861426.py:15)\u001b[39m\n",
      "\u001b[33m[2023-10-19 15:46:38,541] [WARNING] - cfdmod - Region refinement is greater than data refinement. Resulted in NaN values (Ce_data.py:101)\u001b[39m\n",
      "\u001b[37m[2023-10-19 15:46:38,544] [INFO] - cfdmod - Processed surface p9_yp (2943861426.py:27)\u001b[39m\n",
      "\u001b[37m[2023-10-19 15:46:38,545] [INFO] - cfdmod - Processing surface t1_ym ... (2943861426.py:15)\u001b[39m\n",
      "\u001b[37m[2023-10-19 15:46:38,951] [INFO] - cfdmod - Processed surface t1_ym (2943861426.py:27)\u001b[39m\n",
      "\u001b[37m[2023-10-19 15:46:38,951] [INFO] - cfdmod - Processing surface t2_yp ... (2943861426.py:15)\u001b[39m\n",
      "\u001b[37m[2023-10-19 15:46:39,210] [INFO] - cfdmod - Processed surface t2_yp (2943861426.py:27)\u001b[39m\n",
      "\u001b[37m[2023-10-19 15:46:39,263] [INFO] - cfdmod - Merged polydata for pattern_1 (2943861426.py:33)\u001b[39m\n",
      "\u001b[37m[2023-10-19 15:46:39,264] [INFO] - cfdmod - Processing pattern_2 ... (2943861426.py:9)\u001b[39m\n",
      "\u001b[37m[2023-10-19 15:46:39,264] [INFO] - cfdmod - Processing surface L1_xp ... (2943861426.py:15)\u001b[39m\n",
      "\u001b[37m[2023-10-19 15:46:39,286] [INFO] - cfdmod - Processed surface L1_xp (2943861426.py:27)\u001b[39m\n",
      "\u001b[37m[2023-10-19 15:46:39,287] [INFO] - cfdmod - Processing surface L2_yp ... (2943861426.py:15)\u001b[39m\n",
      "\u001b[37m[2023-10-19 15:46:39,313] [INFO] - cfdmod - Processed surface L2_yp (2943861426.py:27)\u001b[39m\n",
      "\u001b[37m[2023-10-19 15:46:39,314] [INFO] - cfdmod - Processing surface L3_zp_yp ... (2943861426.py:15)\u001b[39m\n",
      "\u001b[37m[2023-10-19 15:46:39,338] [INFO] - cfdmod - Processed surface L3_zp_yp (2943861426.py:27)\u001b[39m\n",
      "\u001b[37m[2023-10-19 15:46:39,338] [INFO] - cfdmod - Processing surface L4_zp_ym ... (2943861426.py:15)\u001b[39m\n",
      "\u001b[37m[2023-10-19 15:46:39,363] [INFO] - cfdmod - Processed surface L4_zp_ym (2943861426.py:27)\u001b[39m\n",
      "\u001b[37m[2023-10-19 15:46:39,364] [INFO] - cfdmod - Processing surface L5_ym ... (2943861426.py:15)\u001b[39m\n",
      "\u001b[37m[2023-10-19 15:46:39,390] [INFO] - cfdmod - Processed surface L5_ym (2943861426.py:27)\u001b[39m\n",
      "\u001b[37m[2023-10-19 15:46:39,391] [INFO] - cfdmod - Processing surface L6_xm ... (2943861426.py:15)\u001b[39m\n",
      "\u001b[37m[2023-10-19 15:46:39,413] [INFO] - cfdmod - Processed surface L6_xm (2943861426.py:27)\u001b[39m\n",
      "\u001b[37m[2023-10-19 15:46:39,414] [INFO] - cfdmod - Processing surface m1_yp ... (2943861426.py:15)\u001b[39m\n",
      "\u001b[37m[2023-10-19 15:46:39,437] [INFO] - cfdmod - Processed surface m1_yp (2943861426.py:27)\u001b[39m\n",
      "\u001b[37m[2023-10-19 15:46:39,438] [INFO] - cfdmod - Processing surface m2_zp ... (2943861426.py:15)\u001b[39m\n",
      "\u001b[37m[2023-10-19 15:46:39,462] [INFO] - cfdmod - Processed surface m2_zp (2943861426.py:27)\u001b[39m\n",
      "\u001b[37m[2023-10-19 15:46:39,463] [INFO] - cfdmod - Processing surface m3_zm ... (2943861426.py:15)\u001b[39m\n",
      "\u001b[37m[2023-10-19 15:46:39,486] [INFO] - cfdmod - Processed surface m3_zm (2943861426.py:27)\u001b[39m\n",
      "\u001b[37m[2023-10-19 15:46:39,487] [INFO] - cfdmod - Processing surface p1_xp ... (2943861426.py:15)\u001b[39m\n",
      "\u001b[37m[2023-10-19 15:46:39,509] [INFO] - cfdmod - Processed surface p1_xp (2943861426.py:27)\u001b[39m\n",
      "\u001b[37m[2023-10-19 15:46:39,510] [INFO] - cfdmod - Processing surface p2_xp ... (2943861426.py:15)\u001b[39m\n",
      "\u001b[37m[2023-10-19 15:46:39,533] [INFO] - cfdmod - Processed surface p2_xp (2943861426.py:27)\u001b[39m\n",
      "\u001b[37m[2023-10-19 15:46:39,534] [INFO] - cfdmod - Processing surface p3_ym ... (2943861426.py:15)\u001b[39m\n",
      "\u001b[37m[2023-10-19 15:46:39,557] [INFO] - cfdmod - Processed surface p3_ym (2943861426.py:27)\u001b[39m\n",
      "\u001b[37m[2023-10-19 15:46:39,558] [INFO] - cfdmod - Processing surface p4_ym ... (2943861426.py:15)\u001b[39m\n",
      "\u001b[37m[2023-10-19 15:46:39,581] [INFO] - cfdmod - Processed surface p4_ym (2943861426.py:27)\u001b[39m\n",
      "\u001b[37m[2023-10-19 15:46:39,582] [INFO] - cfdmod - Processing surface p5_ym ... (2943861426.py:15)\u001b[39m\n",
      "\u001b[37m[2023-10-19 15:46:39,604] [INFO] - cfdmod - Processed surface p5_ym (2943861426.py:27)\u001b[39m\n",
      "\u001b[37m[2023-10-19 15:46:39,605] [INFO] - cfdmod - Processing surface p6c_yp ... (2943861426.py:15)\u001b[39m\n",
      "\u001b[37m[2023-10-19 15:46:39,628] [INFO] - cfdmod - Processed surface p6c_yp (2943861426.py:27)\u001b[39m\n",
      "\u001b[37m[2023-10-19 15:46:39,629] [INFO] - cfdmod - Processing surface p7_xm ... (2943861426.py:15)\u001b[39m\n",
      "\u001b[37m[2023-10-19 15:46:39,650] [INFO] - cfdmod - Processed surface p7_xm (2943861426.py:27)\u001b[39m\n",
      "\u001b[37m[2023-10-19 15:46:39,651] [INFO] - cfdmod - Processing surface p8_yp ... (2943861426.py:15)\u001b[39m\n",
      "\u001b[37m[2023-10-19 15:46:39,676] [INFO] - cfdmod - Processed surface p8_yp (2943861426.py:27)\u001b[39m\n",
      "\u001b[37m[2023-10-19 15:46:39,677] [INFO] - cfdmod - Processing surface p9_yp ... (2943861426.py:15)\u001b[39m\n",
      "\u001b[37m[2023-10-19 15:46:39,700] [INFO] - cfdmod - Processed surface p9_yp (2943861426.py:27)\u001b[39m\n",
      "\u001b[37m[2023-10-19 15:46:39,701] [INFO] - cfdmod - Processing surface t1_ym ... (2943861426.py:15)\u001b[39m\n",
      "\u001b[37m[2023-10-19 15:46:39,738] [INFO] - cfdmod - Processed surface t1_ym (2943861426.py:27)\u001b[39m\n",
      "\u001b[37m[2023-10-19 15:46:39,739] [INFO] - cfdmod - Processing surface t2_yp ... (2943861426.py:15)\u001b[39m\n",
      "\u001b[37m[2023-10-19 15:46:39,770] [INFO] - cfdmod - Processed surface t2_yp (2943861426.py:27)\u001b[39m\n",
      "\u001b[37m[2023-10-19 15:46:40,142] [INFO] - cfdmod - Merged polydata for pattern_2 (2943861426.py:33)\u001b[39m\n",
      "\u001b[37m[2023-10-19 15:46:40,143] [INFO] - cfdmod - Processing pattern_3 ... (2943861426.py:9)\u001b[39m\n",
      "\u001b[37m[2023-10-19 15:46:40,144] [INFO] - cfdmod - Processing surface L1_xp ... (2943861426.py:15)\u001b[39m\n",
      "\u001b[37m[2023-10-19 15:46:40,167] [INFO] - cfdmod - Processed surface L1_xp (2943861426.py:27)\u001b[39m\n",
      "\u001b[37m[2023-10-19 15:46:40,168] [INFO] - cfdmod - Processing surface L2_yp ... (2943861426.py:15)\u001b[39m\n",
      "\u001b[37m[2023-10-19 15:46:40,203] [INFO] - cfdmod - Processed surface L2_yp (2943861426.py:27)\u001b[39m\n",
      "\u001b[37m[2023-10-19 15:46:40,204] [INFO] - cfdmod - Processing surface L3_zp_yp ... (2943861426.py:15)\u001b[39m\n",
      "\u001b[37m[2023-10-19 15:46:40,232] [INFO] - cfdmod - Processed surface L3_zp_yp (2943861426.py:27)\u001b[39m\n",
      "\u001b[37m[2023-10-19 15:46:40,233] [INFO] - cfdmod - Processing surface L4_zp_ym ... (2943861426.py:15)\u001b[39m\n",
      "\u001b[37m[2023-10-19 15:46:40,259] [INFO] - cfdmod - Processed surface L4_zp_ym (2943861426.py:27)\u001b[39m\n",
      "\u001b[37m[2023-10-19 15:46:40,259] [INFO] - cfdmod - Processing surface L5_ym ... (2943861426.py:15)\u001b[39m\n",
      "\u001b[37m[2023-10-19 15:46:40,292] [INFO] - cfdmod - Processed surface L5_ym (2943861426.py:27)\u001b[39m\n",
      "\u001b[37m[2023-10-19 15:46:40,293] [INFO] - cfdmod - Processing surface L6_xm ... (2943861426.py:15)\u001b[39m\n",
      "\u001b[37m[2023-10-19 15:46:40,318] [INFO] - cfdmod - Processed surface L6_xm (2943861426.py:27)\u001b[39m\n",
      "\u001b[37m[2023-10-19 15:46:40,319] [INFO] - cfdmod - Processing surface m1_yp ... (2943861426.py:15)\u001b[39m\n",
      "\u001b[37m[2023-10-19 15:46:40,345] [INFO] - cfdmod - Processed surface m1_yp (2943861426.py:27)\u001b[39m\n",
      "\u001b[37m[2023-10-19 15:46:40,346] [INFO] - cfdmod - Processing surface m2_zp ... (2943861426.py:15)\u001b[39m\n",
      "\u001b[37m[2023-10-19 15:46:40,372] [INFO] - cfdmod - Processed surface m2_zp (2943861426.py:27)\u001b[39m\n",
      "\u001b[37m[2023-10-19 15:46:40,373] [INFO] - cfdmod - Processing surface m3_zm ... (2943861426.py:15)\u001b[39m\n",
      "\u001b[37m[2023-10-19 15:46:40,414] [INFO] - cfdmod - Processed surface m3_zm (2943861426.py:27)\u001b[39m\n",
      "\u001b[37m[2023-10-19 15:46:40,416] [INFO] - cfdmod - Processing surface p1_xp ... (2943861426.py:15)\u001b[39m\n",
      "\u001b[37m[2023-10-19 15:46:40,440] [INFO] - cfdmod - Processed surface p1_xp (2943861426.py:27)\u001b[39m\n",
      "\u001b[37m[2023-10-19 15:46:40,441] [INFO] - cfdmod - Processing surface p2_xp ... (2943861426.py:15)\u001b[39m\n",
      "\u001b[37m[2023-10-19 15:46:40,466] [INFO] - cfdmod - Processed surface p2_xp (2943861426.py:27)\u001b[39m\n",
      "\u001b[37m[2023-10-19 15:46:40,467] [INFO] - cfdmod - Processing surface p3_ym ... (2943861426.py:15)\u001b[39m\n",
      "\u001b[37m[2023-10-19 15:46:40,497] [INFO] - cfdmod - Processed surface p3_ym (2943861426.py:27)\u001b[39m\n",
      "\u001b[37m[2023-10-19 15:46:40,498] [INFO] - cfdmod - Processing surface p4_ym ... (2943861426.py:15)\u001b[39m\n",
      "\u001b[37m[2023-10-19 15:46:40,524] [INFO] - cfdmod - Processed surface p4_ym (2943861426.py:27)\u001b[39m\n",
      "\u001b[37m[2023-10-19 15:46:40,525] [INFO] - cfdmod - Processing surface p5_ym ... (2943861426.py:15)\u001b[39m\n",
      "\u001b[37m[2023-10-19 15:46:40,552] [INFO] - cfdmod - Processed surface p5_ym (2943861426.py:27)\u001b[39m\n",
      "\u001b[37m[2023-10-19 15:46:40,553] [INFO] - cfdmod - Processing surface p6c_yp ... (2943861426.py:15)\u001b[39m\n",
      "\u001b[37m[2023-10-19 15:46:40,575] [INFO] - cfdmod - Processed surface p6c_yp (2943861426.py:27)\u001b[39m\n",
      "\u001b[37m[2023-10-19 15:46:40,576] [INFO] - cfdmod - Processing surface p7_xm ... (2943861426.py:15)\u001b[39m\n",
      "\u001b[37m[2023-10-19 15:46:40,599] [INFO] - cfdmod - Processed surface p7_xm (2943861426.py:27)\u001b[39m\n",
      "\u001b[37m[2023-10-19 15:46:40,599] [INFO] - cfdmod - Processing surface p8_yp ... (2943861426.py:15)\u001b[39m\n",
      "\u001b[37m[2023-10-19 15:46:40,631] [INFO] - cfdmod - Processed surface p8_yp (2943861426.py:27)\u001b[39m\n",
      "\u001b[37m[2023-10-19 15:46:40,632] [INFO] - cfdmod - Processing surface p9_yp ... (2943861426.py:15)\u001b[39m\n",
      "\u001b[37m[2023-10-19 15:46:40,657] [INFO] - cfdmod - Processed surface p9_yp (2943861426.py:27)\u001b[39m\n",
      "\u001b[37m[2023-10-19 15:46:40,658] [INFO] - cfdmod - Processing surface t1_ym ... (2943861426.py:15)\u001b[39m\n",
      "\u001b[37m[2023-10-19 15:46:40,723] [INFO] - cfdmod - Processed surface t1_ym (2943861426.py:27)\u001b[39m\n",
      "\u001b[37m[2023-10-19 15:46:40,724] [INFO] - cfdmod - Processing surface t2_yp ... (2943861426.py:15)\u001b[39m\n",
      "\u001b[37m[2023-10-19 15:46:40,771] [INFO] - cfdmod - Processed surface t2_yp (2943861426.py:27)\u001b[39m\n",
      "\u001b[37m[2023-10-19 15:46:40,865] [INFO] - cfdmod - Merged polydata for pattern_3 (2943861426.py:33)\u001b[39m\n"
     ]
    }
   ],
   "source": [
    "from cfdmod.api.vtk.write_vtk import write_polydata, merge_polydata\n",
    "from cfdmod.logger import logger\n",
    "from cfdmod.use_cases.pressure.shape.Ce_data import process_surface\n",
    "\n",
    "n_timesteps = cp_data_to_use[\"time_step\"].unique().shape[0]\n",
    "\n",
    "for cfg_label, cfg in post_proc_cfg.items():\n",
    "    processed_polydata = []\n",
    "    logger.info(f\"Processing {cfg_label} ...\")\n",
    "    for sfc in mesh.surfaces.keys():\n",
    "        if sfc in cfg.zoning.exclude:\n",
    "            logger.info(f\"Surface {sfc} ignored!\")  # Ignore surface\n",
    "            continue\n",
    "\n",
    "        logger.info(f\"Processing surface {sfc} ...\")\n",
    "\n",
    "        processed_surface = process_surface(\n",
    "            body_mesh=mesh,\n",
    "            sfc_label=sfc,\n",
    "            cfg=cfg,\n",
    "            cp_data=cp_data_to_use,\n",
    "            n_timesteps=n_timesteps,\n",
    "        )\n",
    "        \n",
    "        processed_polydata.append(processed_surface.polydata)\n",
    "\n",
    "        logger.info(f\"Processed surface {sfc}\")\n",
    "\n",
    "    # Output 5: VTK\n",
    "    merged_polydata = merge_polydata(processed_polydata)\n",
    "    write_polydata(path_manager.get_vtp_path(mesh.name, cfg_label), merged_polydata)\n",
    "\n",
    "    logger.info(f\"Merged polydata for {cfg_label}\")"
   ]
  }
 ],
 "metadata": {
  "kernelspec": {
   "display_name": "cfdmod-6zl7i90Q-py3.11",
   "language": "python",
   "name": "python3"
  },
  "language_info": {
   "codemirror_mode": {
    "name": "ipython",
    "version": 3
   },
   "file_extension": ".py",
   "mimetype": "text/x-python",
   "name": "python",
   "nbconvert_exporter": "python",
   "pygments_lexer": "ipython3",
   "version": "3.10.11"
  }
 },
 "nbformat": 4,
 "nbformat_minor": 2
}
