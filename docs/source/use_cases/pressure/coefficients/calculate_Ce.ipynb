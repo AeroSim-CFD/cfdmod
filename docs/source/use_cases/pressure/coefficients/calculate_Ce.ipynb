{
 "cells": [
  {
   "cell_type": "markdown",
   "metadata": {},
   "source": [
    "# Generate shape coefficients"
   ]
  },
  {
   "cell_type": "markdown",
   "metadata": {},
   "source": [
    "The following steps are performed to obtain all the artifacts for shape coefficient use case:\n",
    "\n",
    "1. Read parameters file\n",
    "2. Read Mesh description\n",
    "   * Its path can be specified\n",
    "   * Or it can be obtained from the simulation configuration file\n",
    "3. Read data for pressure coefficient"
   ]
  },
  {
   "cell_type": "markdown",
   "metadata": {},
   "source": [
    "Initialize Path Manager"
   ]
  },
  {
   "cell_type": "code",
   "execution_count": 1,
   "metadata": {},
   "outputs": [],
   "source": [
    "from cfdmod.use_cases.pressure.path_manager import CePathManager\n",
    "import pathlib\n",
    "\n",
    "path_manager = CePathManager(output_path=pathlib.Path(\"./output/pressure\"))"
   ]
  },
  {
   "cell_type": "markdown",
   "metadata": {},
   "source": [
    "Read post-processing Ce config file"
   ]
  },
  {
   "cell_type": "code",
   "execution_count": 2,
   "metadata": {},
   "outputs": [
    {
     "data": {
      "text/plain": [
       "{'pattern_1': CeConfig(zoning=ZoningConfig(global_zoning=ZoningModel(x_intervals=[0.0, 25.0, 50.0, 75.0, 100.0, 125.0, 150.0, 175.0, 200.0, 225.0, 250.0], y_intervals=[0.0, 25.0, 50.0, 75.0, 100.0, 125.0, 150.0, 175.0, 200.0], z_intervals=[0.0, 5.0, 10.0, 15.0, 20.0]), no_zoning=['sfc1'], exclude=['sfc1'], exceptions={'zoning1': ExceptionZoningModel(x_intervals=[0.0, 25.0, 50.0, 75.0, 100.0, 125.0, 150.0, 175.0, 200.0, 225.0, 250.0], y_intervals=[0.0, 25.0, 50.0, 75.0, 100.0, 125.0, 150.0, 175.0, 200.0], z_intervals=[0.0, 20.0], surfaces=['sfc1'])}), statistics=['min', 'max', 'std', 'avg', 'skewness', 'kurtosis']),\n",
       " 'pattern_2': CeConfig(zoning=ZoningConfig(global_zoning=ZoningModel(x_intervals=[0.0, 250.0], y_intervals=[0.0, 200.0], z_intervals=[0.0, 20.0]), no_zoning=[], exclude=[], exceptions={}), statistics=['min', 'max', 'std', 'avg', 'skewness', 'kurtosis']),\n",
       " 'pattern_3': CeConfig(zoning=ZoningConfig(global_zoning=ZoningModel(x_intervals=[0.0, 125.0, 250.0], y_intervals=[-inf, inf], z_intervals=[-inf, inf]), no_zoning=[], exclude=[], exceptions={}), statistics=['min', 'max', 'std', 'avg', 'skewness', 'kurtosis'])}"
      ]
     },
     "execution_count": 2,
     "metadata": {},
     "output_type": "execute_result"
    }
   ],
   "source": [
    "from cfdmod.use_cases.pressure.shape.Ce_config import CeConfig\n",
    "\n",
    "config_path=pathlib.Path(\"./fixtures/tests/pressure/Ce_params.yaml\")\n",
    "post_proc_cfg = CeConfig.from_file(config_path)\n",
    "\n",
    "post_proc_cfg"
   ]
  },
  {
   "cell_type": "markdown",
   "metadata": {},
   "source": [
    "Normalize LNAS Mesh [Example]"
   ]
  },
  {
   "cell_type": "code",
   "execution_count": 3,
   "metadata": {},
   "outputs": [
    {
     "name": "stdout",
     "output_type": "stream",
     "text": [
      "galpao (1549, 3) (2915, 3)\n"
     ]
    },
    {
     "data": {
      "text/plain": [
       "(0.0, 0.0, 0.0)"
      ]
     },
     "execution_count": 3,
     "metadata": {},
     "output_type": "execute_result"
    }
   ],
   "source": [
    "from nassu.lnas import LagrangianFormat\n",
    "\n",
    "original_mesh_path = pathlib.Path(\"./fixtures/tests/pressure/galpao/galpao.lnas\")\n",
    "original_mesh = LagrangianFormat.from_file(original_mesh_path)\n",
    "\n",
    "new_verts = original_mesh.geometry.vertices.copy()\n",
    "\n",
    "new_verts[:, 0] -= new_verts[:, 0].min()\n",
    "new_verts[:, 1] -= new_verts[:, 1].min()\n",
    "new_verts[:, 2] -= new_verts[:, 2].min()\n",
    "\n",
    "original_mesh.geometry.vertices = new_verts\n",
    "\n",
    "original_mesh.to_file(original_mesh_path.parent / f\"{original_mesh.name}.normalized.lnas\")\n",
    "\n",
    "print(original_mesh.name, original_mesh.geometry.vertices.shape, original_mesh.geometry.triangles.shape)\n",
    "\n",
    "original_mesh.geometry.vertices[:, 0].min(), original_mesh.geometry.vertices[:, 1].min(), original_mesh.geometry.vertices[:, 2].min()"
   ]
  },
  {
   "cell_type": "markdown",
   "metadata": {},
   "source": [
    "Read Normalized LNAS Mesh"
   ]
  },
  {
   "cell_type": "code",
   "execution_count": 4,
   "metadata": {},
   "outputs": [
    {
     "data": {
      "text/plain": [
       "('galpao', (1549, 3), (2915, 3))"
      ]
     },
     "execution_count": 4,
     "metadata": {},
     "output_type": "execute_result"
    }
   ],
   "source": [
    "from nassu.lnas import LagrangianFormat\n",
    "\n",
    "mesh_path=pathlib.Path(\"./fixtures/tests/pressure/galpao/galpao.normalized.lnas\")\n",
    "mesh = LagrangianFormat.from_file(mesh_path)\n",
    "\n",
    "mesh.name, mesh.geometry.vertices.shape, mesh.geometry.triangles.shape"
   ]
  },
  {
   "cell_type": "markdown",
   "metadata": {},
   "source": [
    "Read Pressure Coefficient data"
   ]
  },
  {
   "cell_type": "code",
   "execution_count": 5,
   "metadata": {},
   "outputs": [],
   "source": [
    "import pandas as pd\n",
    "\n",
    "cp_data_path=pathlib.Path(\"./fixtures/tests/pressure/data/cp_t.resampled.hdf\")\n",
    "cp_data = pd.read_hdf(cp_data_path)\n",
    "\n",
    "cp_data_to_use = (\n",
    "    cp_data.to_frame() if isinstance(cp_data, pd.Series) else cp_data\n",
    ")"
   ]
  },
  {
   "cell_type": "markdown",
   "metadata": {},
   "source": [
    "Add region index to pressure coefficient data"
   ]
  },
  {
   "cell_type": "code",
   "execution_count": 6,
   "metadata": {},
   "outputs": [
    {
     "name": "stdout",
     "output_type": "stream",
     "text": [
      "\u001b[37m[2023-10-20 15:48:58,176] [INFO] - cfdmod - Processing pattern_1 ... (2943861426.py:9)\u001b[39m\n",
      "\u001b[37m[2023-10-20 15:48:58,177] [INFO] - cfdmod - Processing surface L1_xp ... (2943861426.py:15)\u001b[39m\n",
      "\u001b[37m[2023-10-20 15:48:58,215] [INFO] - cfdmod - Processed surface L1_xp (2943861426.py:27)\u001b[39m\n",
      "\u001b[37m[2023-10-20 15:48:58,216] [INFO] - cfdmod - Processing surface L2_yp ... (2943861426.py:15)\u001b[39m\n",
      "\u001b[37m[2023-10-20 15:48:58,385] [INFO] - cfdmod - Processed surface L2_yp (2943861426.py:27)\u001b[39m\n",
      "\u001b[37m[2023-10-20 15:48:58,386] [INFO] - cfdmod - Processing surface L3_zp_yp ... (2943861426.py:15)\u001b[39m\n",
      "\u001b[37m[2023-10-20 15:48:58,455] [INFO] - cfdmod - Processed surface L3_zp_yp (2943861426.py:27)\u001b[39m\n",
      "\u001b[37m[2023-10-20 15:48:58,455] [INFO] - cfdmod - Processing surface L4_zp_ym ... (2943861426.py:15)\u001b[39m\n",
      "\u001b[37m[2023-10-20 15:48:58,516] [INFO] - cfdmod - Processed surface L4_zp_ym (2943861426.py:27)\u001b[39m\n",
      "\u001b[37m[2023-10-20 15:48:58,517] [INFO] - cfdmod - Processing surface L5_ym ... (2943861426.py:15)\u001b[39m\n",
      "\u001b[37m[2023-10-20 15:48:58,660] [INFO] - cfdmod - Processed surface L5_ym (2943861426.py:27)\u001b[39m\n",
      "\u001b[37m[2023-10-20 15:48:58,661] [INFO] - cfdmod - Processing surface L6_xm ... (2943861426.py:15)\u001b[39m\n",
      "\u001b[37m[2023-10-20 15:48:58,690] [INFO] - cfdmod - Processed surface L6_xm (2943861426.py:27)\u001b[39m\n",
      "\u001b[37m[2023-10-20 15:48:58,691] [INFO] - cfdmod - Processing surface m1_yp ... (2943861426.py:15)\u001b[39m\n",
      "\u001b[37m[2023-10-20 15:48:58,746] [INFO] - cfdmod - Processed surface m1_yp (2943861426.py:27)\u001b[39m\n",
      "\u001b[37m[2023-10-20 15:48:58,747] [INFO] - cfdmod - Processing surface m2_zp ... (2943861426.py:15)\u001b[39m\n",
      "\u001b[37m[2023-10-20 15:48:58,809] [INFO] - cfdmod - Processed surface m2_zp (2943861426.py:27)\u001b[39m\n",
      "\u001b[37m[2023-10-20 15:48:58,810] [INFO] - cfdmod - Processing surface m3_zm ... (2943861426.py:15)\u001b[39m\n",
      "\u001b[37m[2023-10-20 15:48:58,870] [INFO] - cfdmod - Processed surface m3_zm (2943861426.py:27)\u001b[39m\n",
      "\u001b[37m[2023-10-20 15:48:58,871] [INFO] - cfdmod - Processing surface p1_xp ... (2943861426.py:15)\u001b[39m\n",
      "\u001b[33m[2023-10-20 15:48:58,916] [WARNING] - cfdmod - Region refinement is greater than data refinement. Resulted in NaN values (Ce_data.py:106)\u001b[39m\n",
      "\u001b[37m[2023-10-20 15:48:58,919] [INFO] - cfdmod - Processed surface p1_xp (2943861426.py:27)\u001b[39m\n",
      "\u001b[37m[2023-10-20 15:48:58,920] [INFO] - cfdmod - Processing surface p2_xp ... (2943861426.py:15)\u001b[39m\n",
      "\u001b[33m[2023-10-20 15:48:58,963] [WARNING] - cfdmod - Region refinement is greater than data refinement. Resulted in NaN values (Ce_data.py:106)\u001b[39m\n",
      "\u001b[37m[2023-10-20 15:48:58,965] [INFO] - cfdmod - Processed surface p2_xp (2943861426.py:27)\u001b[39m\n",
      "\u001b[37m[2023-10-20 15:48:58,965] [INFO] - cfdmod - Processing surface p3_ym ... (2943861426.py:15)\u001b[39m\n",
      "\u001b[33m[2023-10-20 15:48:59,025] [WARNING] - cfdmod - Region refinement is greater than data refinement. Resulted in NaN values (Ce_data.py:106)\u001b[39m\n",
      "\u001b[37m[2023-10-20 15:48:59,028] [INFO] - cfdmod - Processed surface p3_ym (2943861426.py:27)\u001b[39m\n",
      "\u001b[37m[2023-10-20 15:48:59,029] [INFO] - cfdmod - Processing surface p4_ym ... (2943861426.py:15)\u001b[39m\n",
      "\u001b[37m[2023-10-20 15:48:59,088] [INFO] - cfdmod - Processed surface p4_ym (2943861426.py:27)\u001b[39m\n",
      "\u001b[37m[2023-10-20 15:48:59,089] [INFO] - cfdmod - Processing surface p5_ym ... (2943861426.py:15)\u001b[39m\n",
      "\u001b[37m[2023-10-20 15:48:59,147] [INFO] - cfdmod - Processed surface p5_ym (2943861426.py:27)\u001b[39m\n",
      "\u001b[37m[2023-10-20 15:48:59,148] [INFO] - cfdmod - Processing surface p6c_yp ... (2943861426.py:15)\u001b[39m\n",
      "\u001b[33m[2023-10-20 15:48:59,180] [WARNING] - cfdmod - Region refinement is greater than data refinement. Resulted in NaN values (Ce_data.py:106)\u001b[39m\n",
      "\u001b[37m[2023-10-20 15:48:59,182] [INFO] - cfdmod - Processed surface p6c_yp (2943861426.py:27)\u001b[39m\n",
      "\u001b[37m[2023-10-20 15:48:59,182] [INFO] - cfdmod - Processing surface p7_xm ... (2943861426.py:15)\u001b[39m\n",
      "\u001b[33m[2023-10-20 15:48:59,237] [WARNING] - cfdmod - Region refinement is greater than data refinement. Resulted in NaN values (Ce_data.py:106)\u001b[39m\n",
      "\u001b[37m[2023-10-20 15:48:59,241] [INFO] - cfdmod - Processed surface p7_xm (2943861426.py:27)\u001b[39m\n",
      "\u001b[37m[2023-10-20 15:48:59,241] [INFO] - cfdmod - Processing surface p8_yp ... (2943861426.py:15)\u001b[39m\n",
      "\u001b[37m[2023-10-20 15:48:59,298] [INFO] - cfdmod - Processed surface p8_yp (2943861426.py:27)\u001b[39m\n",
      "\u001b[37m[2023-10-20 15:48:59,299] [INFO] - cfdmod - Processing surface p9_yp ... (2943861426.py:15)\u001b[39m\n",
      "\u001b[33m[2023-10-20 15:48:59,360] [WARNING] - cfdmod - Region refinement is greater than data refinement. Resulted in NaN values (Ce_data.py:106)\u001b[39m\n",
      "\u001b[37m[2023-10-20 15:48:59,363] [INFO] - cfdmod - Processed surface p9_yp (2943861426.py:27)\u001b[39m\n",
      "\u001b[37m[2023-10-20 15:48:59,364] [INFO] - cfdmod - Processing surface t1_ym ... (2943861426.py:15)\u001b[39m\n",
      "\u001b[37m[2023-10-20 15:48:59,773] [INFO] - cfdmod - Processed surface t1_ym (2943861426.py:27)\u001b[39m\n",
      "\u001b[37m[2023-10-20 15:48:59,773] [INFO] - cfdmod - Processing surface t2_yp ... (2943861426.py:15)\u001b[39m\n",
      "\u001b[37m[2023-10-20 15:49:00,017] [INFO] - cfdmod - Processed surface t2_yp (2943861426.py:27)\u001b[39m\n",
      "\u001b[37m[2023-10-20 15:49:00,075] [INFO] - cfdmod - Merged polydata for pattern_1 (2943861426.py:33)\u001b[39m\n",
      "\u001b[37m[2023-10-20 15:49:00,075] [INFO] - cfdmod - Processing pattern_2 ... (2943861426.py:9)\u001b[39m\n",
      "\u001b[37m[2023-10-20 15:49:00,076] [INFO] - cfdmod - Processing surface L1_xp ... (2943861426.py:15)\u001b[39m\n",
      "\u001b[37m[2023-10-20 15:49:00,096] [INFO] - cfdmod - Processed surface L1_xp (2943861426.py:27)\u001b[39m\n",
      "\u001b[37m[2023-10-20 15:49:00,097] [INFO] - cfdmod - Processing surface L2_yp ... (2943861426.py:15)\u001b[39m\n",
      "\u001b[37m[2023-10-20 15:49:00,124] [INFO] - cfdmod - Processed surface L2_yp (2943861426.py:27)\u001b[39m\n",
      "\u001b[37m[2023-10-20 15:49:00,125] [INFO] - cfdmod - Processing surface L3_zp_yp ... (2943861426.py:15)\u001b[39m\n",
      "\u001b[37m[2023-10-20 15:49:00,150] [INFO] - cfdmod - Processed surface L3_zp_yp (2943861426.py:27)\u001b[39m\n",
      "\u001b[37m[2023-10-20 15:49:00,151] [INFO] - cfdmod - Processing surface L4_zp_ym ... (2943861426.py:15)\u001b[39m\n",
      "\u001b[37m[2023-10-20 15:49:00,174] [INFO] - cfdmod - Processed surface L4_zp_ym (2943861426.py:27)\u001b[39m\n",
      "\u001b[37m[2023-10-20 15:49:00,175] [INFO] - cfdmod - Processing surface L5_ym ... (2943861426.py:15)\u001b[39m\n",
      "\u001b[37m[2023-10-20 15:49:00,200] [INFO] - cfdmod - Processed surface L5_ym (2943861426.py:27)\u001b[39m\n",
      "\u001b[37m[2023-10-20 15:49:00,201] [INFO] - cfdmod - Processing surface L6_xm ... (2943861426.py:15)\u001b[39m\n",
      "\u001b[37m[2023-10-20 15:49:00,222] [INFO] - cfdmod - Processed surface L6_xm (2943861426.py:27)\u001b[39m\n",
      "\u001b[37m[2023-10-20 15:49:00,223] [INFO] - cfdmod - Processing surface m1_yp ... (2943861426.py:15)\u001b[39m\n",
      "\u001b[37m[2023-10-20 15:49:00,245] [INFO] - cfdmod - Processed surface m1_yp (2943861426.py:27)\u001b[39m\n",
      "\u001b[37m[2023-10-20 15:49:00,246] [INFO] - cfdmod - Processing surface m2_zp ... (2943861426.py:15)\u001b[39m\n",
      "\u001b[37m[2023-10-20 15:49:00,270] [INFO] - cfdmod - Processed surface m2_zp (2943861426.py:27)\u001b[39m\n",
      "\u001b[37m[2023-10-20 15:49:00,271] [INFO] - cfdmod - Processing surface m3_zm ... (2943861426.py:15)\u001b[39m\n",
      "\u001b[37m[2023-10-20 15:49:00,294] [INFO] - cfdmod - Processed surface m3_zm (2943861426.py:27)\u001b[39m\n",
      "\u001b[37m[2023-10-20 15:49:00,295] [INFO] - cfdmod - Processing surface p1_xp ... (2943861426.py:15)\u001b[39m\n",
      "\u001b[37m[2023-10-20 15:49:00,319] [INFO] - cfdmod - Processed surface p1_xp (2943861426.py:27)\u001b[39m\n",
      "\u001b[37m[2023-10-20 15:49:00,320] [INFO] - cfdmod - Processing surface p2_xp ... (2943861426.py:15)\u001b[39m\n",
      "\u001b[37m[2023-10-20 15:49:00,345] [INFO] - cfdmod - Processed surface p2_xp (2943861426.py:27)\u001b[39m\n",
      "\u001b[37m[2023-10-20 15:49:00,345] [INFO] - cfdmod - Processing surface p3_ym ... (2943861426.py:15)\u001b[39m\n",
      "\u001b[37m[2023-10-20 15:49:00,373] [INFO] - cfdmod - Processed surface p3_ym (2943861426.py:27)\u001b[39m\n",
      "\u001b[37m[2023-10-20 15:49:00,374] [INFO] - cfdmod - Processing surface p4_ym ... (2943861426.py:15)\u001b[39m\n",
      "\u001b[37m[2023-10-20 15:49:00,398] [INFO] - cfdmod - Processed surface p4_ym (2943861426.py:27)\u001b[39m\n",
      "\u001b[37m[2023-10-20 15:49:00,399] [INFO] - cfdmod - Processing surface p5_ym ... (2943861426.py:15)\u001b[39m\n",
      "\u001b[37m[2023-10-20 15:49:00,422] [INFO] - cfdmod - Processed surface p5_ym (2943861426.py:27)\u001b[39m\n",
      "\u001b[37m[2023-10-20 15:49:00,423] [INFO] - cfdmod - Processing surface p6c_yp ... (2943861426.py:15)\u001b[39m\n",
      "\u001b[37m[2023-10-20 15:49:00,449] [INFO] - cfdmod - Processed surface p6c_yp (2943861426.py:27)\u001b[39m\n",
      "\u001b[37m[2023-10-20 15:49:00,450] [INFO] - cfdmod - Processing surface p7_xm ... (2943861426.py:15)\u001b[39m\n",
      "\u001b[37m[2023-10-20 15:49:00,474] [INFO] - cfdmod - Processed surface p7_xm (2943861426.py:27)\u001b[39m\n",
      "\u001b[37m[2023-10-20 15:49:00,475] [INFO] - cfdmod - Processing surface p8_yp ... (2943861426.py:15)\u001b[39m\n",
      "\u001b[37m[2023-10-20 15:49:00,500] [INFO] - cfdmod - Processed surface p8_yp (2943861426.py:27)\u001b[39m\n",
      "\u001b[37m[2023-10-20 15:49:00,501] [INFO] - cfdmod - Processing surface p9_yp ... (2943861426.py:15)\u001b[39m\n",
      "\u001b[37m[2023-10-20 15:49:00,528] [INFO] - cfdmod - Processed surface p9_yp (2943861426.py:27)\u001b[39m\n",
      "\u001b[37m[2023-10-20 15:49:00,528] [INFO] - cfdmod - Processing surface t1_ym ... (2943861426.py:15)\u001b[39m\n",
      "\u001b[37m[2023-10-20 15:49:00,567] [INFO] - cfdmod - Processed surface t1_ym (2943861426.py:27)\u001b[39m\n",
      "\u001b[37m[2023-10-20 15:49:00,568] [INFO] - cfdmod - Processing surface t2_yp ... (2943861426.py:15)\u001b[39m\n",
      "\u001b[37m[2023-10-20 15:49:00,597] [INFO] - cfdmod - Processed surface t2_yp (2943861426.py:27)\u001b[39m\n",
      "\u001b[37m[2023-10-20 15:49:00,674] [INFO] - cfdmod - Merged polydata for pattern_2 (2943861426.py:33)\u001b[39m\n",
      "\u001b[37m[2023-10-20 15:49:00,675] [INFO] - cfdmod - Processing pattern_3 ... (2943861426.py:9)\u001b[39m\n",
      "\u001b[37m[2023-10-20 15:49:00,676] [INFO] - cfdmod - Processing surface L1_xp ... (2943861426.py:15)\u001b[39m\n",
      "\u001b[37m[2023-10-20 15:49:00,699] [INFO] - cfdmod - Processed surface L1_xp (2943861426.py:27)\u001b[39m\n",
      "\u001b[37m[2023-10-20 15:49:00,699] [INFO] - cfdmod - Processing surface L2_yp ... (2943861426.py:15)\u001b[39m\n",
      "\u001b[37m[2023-10-20 15:49:00,731] [INFO] - cfdmod - Processed surface L2_yp (2943861426.py:27)\u001b[39m\n",
      "\u001b[37m[2023-10-20 15:49:00,732] [INFO] - cfdmod - Processing surface L3_zp_yp ... (2943861426.py:15)\u001b[39m\n",
      "\u001b[37m[2023-10-20 15:49:00,759] [INFO] - cfdmod - Processed surface L3_zp_yp (2943861426.py:27)\u001b[39m\n",
      "\u001b[37m[2023-10-20 15:49:00,760] [INFO] - cfdmod - Processing surface L4_zp_ym ... (2943861426.py:15)\u001b[39m\n",
      "\u001b[37m[2023-10-20 15:49:00,787] [INFO] - cfdmod - Processed surface L4_zp_ym (2943861426.py:27)\u001b[39m\n",
      "\u001b[37m[2023-10-20 15:49:00,788] [INFO] - cfdmod - Processing surface L5_ym ... (2943861426.py:15)\u001b[39m\n",
      "\u001b[37m[2023-10-20 15:49:00,820] [INFO] - cfdmod - Processed surface L5_ym (2943861426.py:27)\u001b[39m\n",
      "\u001b[37m[2023-10-20 15:49:00,821] [INFO] - cfdmod - Processing surface L6_xm ... (2943861426.py:15)\u001b[39m\n",
      "\u001b[37m[2023-10-20 15:49:00,842] [INFO] - cfdmod - Processed surface L6_xm (2943861426.py:27)\u001b[39m\n",
      "\u001b[37m[2023-10-20 15:49:00,842] [INFO] - cfdmod - Processing surface m1_yp ... (2943861426.py:15)\u001b[39m\n",
      "\u001b[37m[2023-10-20 15:49:00,867] [INFO] - cfdmod - Processed surface m1_yp (2943861426.py:27)\u001b[39m\n",
      "\u001b[37m[2023-10-20 15:49:00,868] [INFO] - cfdmod - Processing surface m2_zp ... (2943861426.py:15)\u001b[39m\n",
      "\u001b[37m[2023-10-20 15:49:00,895] [INFO] - cfdmod - Processed surface m2_zp (2943861426.py:27)\u001b[39m\n",
      "\u001b[37m[2023-10-20 15:49:00,896] [INFO] - cfdmod - Processing surface m3_zm ... (2943861426.py:15)\u001b[39m\n",
      "\u001b[37m[2023-10-20 15:49:00,920] [INFO] - cfdmod - Processed surface m3_zm (2943861426.py:27)\u001b[39m\n",
      "\u001b[37m[2023-10-20 15:49:00,921] [INFO] - cfdmod - Processing surface p1_xp ... (2943861426.py:15)\u001b[39m\n",
      "\u001b[37m[2023-10-20 15:49:00,944] [INFO] - cfdmod - Processed surface p1_xp (2943861426.py:27)\u001b[39m\n",
      "\u001b[37m[2023-10-20 15:49:00,945] [INFO] - cfdmod - Processing surface p2_xp ... (2943861426.py:15)\u001b[39m\n",
      "\u001b[37m[2023-10-20 15:49:00,965] [INFO] - cfdmod - Processed surface p2_xp (2943861426.py:27)\u001b[39m\n",
      "\u001b[37m[2023-10-20 15:49:00,967] [INFO] - cfdmod - Processing surface p3_ym ... (2943861426.py:15)\u001b[39m\n",
      "\u001b[37m[2023-10-20 15:49:00,993] [INFO] - cfdmod - Processed surface p3_ym (2943861426.py:27)\u001b[39m\n",
      "\u001b[37m[2023-10-20 15:49:00,993] [INFO] - cfdmod - Processing surface p4_ym ... (2943861426.py:15)\u001b[39m\n",
      "\u001b[37m[2023-10-20 15:49:01,016] [INFO] - cfdmod - Processed surface p4_ym (2943861426.py:27)\u001b[39m\n",
      "\u001b[37m[2023-10-20 15:49:01,016] [INFO] - cfdmod - Processing surface p5_ym ... (2943861426.py:15)\u001b[39m\n",
      "\u001b[37m[2023-10-20 15:49:01,049] [INFO] - cfdmod - Processed surface p5_ym (2943861426.py:27)\u001b[39m\n",
      "\u001b[37m[2023-10-20 15:49:01,050] [INFO] - cfdmod - Processing surface p6c_yp ... (2943861426.py:15)\u001b[39m\n",
      "\u001b[37m[2023-10-20 15:49:01,076] [INFO] - cfdmod - Processed surface p6c_yp (2943861426.py:27)\u001b[39m\n",
      "\u001b[37m[2023-10-20 15:49:01,077] [INFO] - cfdmod - Processing surface p7_xm ... (2943861426.py:15)\u001b[39m\n",
      "\u001b[37m[2023-10-20 15:49:01,098] [INFO] - cfdmod - Processed surface p7_xm (2943861426.py:27)\u001b[39m\n",
      "\u001b[37m[2023-10-20 15:49:01,098] [INFO] - cfdmod - Processing surface p8_yp ... (2943861426.py:15)\u001b[39m\n",
      "\u001b[37m[2023-10-20 15:49:01,123] [INFO] - cfdmod - Processed surface p8_yp (2943861426.py:27)\u001b[39m\n",
      "\u001b[37m[2023-10-20 15:49:01,123] [INFO] - cfdmod - Processing surface p9_yp ... (2943861426.py:15)\u001b[39m\n",
      "\u001b[37m[2023-10-20 15:49:01,148] [INFO] - cfdmod - Processed surface p9_yp (2943861426.py:27)\u001b[39m\n",
      "\u001b[37m[2023-10-20 15:49:01,149] [INFO] - cfdmod - Processing surface t1_ym ... (2943861426.py:15)\u001b[39m\n",
      "\u001b[37m[2023-10-20 15:49:01,221] [INFO] - cfdmod - Processed surface t1_ym (2943861426.py:27)\u001b[39m\n",
      "\u001b[37m[2023-10-20 15:49:01,222] [INFO] - cfdmod - Processing surface t2_yp ... (2943861426.py:15)\u001b[39m\n",
      "\u001b[37m[2023-10-20 15:49:01,268] [INFO] - cfdmod - Processed surface t2_yp (2943861426.py:27)\u001b[39m\n",
      "\u001b[37m[2023-10-20 15:49:01,362] [INFO] - cfdmod - Merged polydata for pattern_3 (2943861426.py:33)\u001b[39m\n"
     ]
    }
   ],
   "source": [
    "from cfdmod.api.vtk.write_vtk import write_polydata, merge_polydata\n",
    "from cfdmod.logger import logger\n",
    "from cfdmod.use_cases.pressure.shape.Ce_data import process_surface\n",
    "\n",
    "n_timesteps = cp_data_to_use[\"time_step\"].unique().shape[0]\n",
    "\n",
    "for cfg_label, cfg in post_proc_cfg.items():\n",
    "    processed_polydata = []\n",
    "    logger.info(f\"Processing {cfg_label} ...\")\n",
    "    for sfc in mesh.surfaces.keys():\n",
    "        if sfc in cfg.zoning.exclude:\n",
    "            logger.info(f\"Surface {sfc} ignored!\")  # Ignore surface\n",
    "            continue\n",
    "\n",
    "        logger.info(f\"Processing surface {sfc} ...\")\n",
    "\n",
    "        processed_surface = process_surface(\n",
    "            body_mesh=mesh,\n",
    "            sfc_label=sfc,\n",
    "            cfg=cfg,\n",
    "            cp_data=cp_data_to_use,\n",
    "            n_timesteps=n_timesteps,\n",
    "        )\n",
    "        \n",
    "        processed_polydata.append(processed_surface.polydata)\n",
    "\n",
    "        logger.info(f\"Processed surface {sfc}\")\n",
    "\n",
    "    # Output 5: VTK\n",
    "    merged_polydata = merge_polydata(processed_polydata)\n",
    "    write_polydata(path_manager.get_vtp_path(mesh.name, cfg_label), merged_polydata)\n",
    "\n",
    "    logger.info(f\"Merged polydata for {cfg_label}\")"
   ]
  }
 ],
 "metadata": {
  "kernelspec": {
   "display_name": "cfdmod-6zl7i90Q-py3.11",
   "language": "python",
   "name": "python3"
  },
  "language_info": {
   "codemirror_mode": {
    "name": "ipython",
    "version": 3
   },
   "file_extension": ".py",
   "mimetype": "text/x-python",
   "name": "python",
   "nbconvert_exporter": "python",
   "pygments_lexer": "ipython3",
   "version": "3.10.11"
  }
 },
 "nbformat": 4,
 "nbformat_minor": 2
}
