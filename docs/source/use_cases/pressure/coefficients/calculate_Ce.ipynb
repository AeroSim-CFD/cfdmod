{
 "cells": [
  {
   "cell_type": "markdown",
   "metadata": {},
   "source": [
    "# Generate shape coefficients"
   ]
  },
  {
   "cell_type": "markdown",
   "metadata": {},
   "source": [
    "The following steps are performed to obtain all the artifacts for shape coefficient use case:\n",
    "\n",
    "1. Read parameters file\n",
    "2. Read Mesh description\n",
    "   * Its path can be specified\n",
    "   * Or it can be obtained from the simulation configuration file\n",
    "3. Read data for pressure coefficient"
   ]
  },
  {
   "cell_type": "markdown",
   "metadata": {},
   "source": [
    "Initialize Path Manager"
   ]
  },
  {
   "cell_type": "code",
   "execution_count": 1,
   "metadata": {},
   "outputs": [],
   "source": [
    "from cfdmod.use_cases.pressure.path_manager import CePathManager\n",
    "import pathlib\n",
    "\n",
    "path_manager = CePathManager(output_path=pathlib.Path(\"./output/pressure\"))"
   ]
  },
  {
   "cell_type": "markdown",
   "metadata": {},
   "source": [
    "Read post-processing Ce config file"
   ]
  },
  {
   "cell_type": "code",
   "execution_count": 2,
   "metadata": {},
   "outputs": [
    {
     "data": {
      "text/plain": [
       "CeCaseConfig(shape_coefficient={'pattern_1': CeConfig(zoning=ZoningConfig(global_zoning=ZoningModel(x_intervals=[0.0, 25.0, 50.0, 75.0, 100.0, 125.0, 150.0, 175.0, 200.0, 225.0, 250.0], y_intervals=[0.0, 25.0, 50.0, 75.0, 100.0, 125.0, 150.0, 175.0, 200.0], z_intervals=[0.0, 5.0, 10.0, 15.0, 20.0]), no_zoning=['sfc1'], exclude=['sfc2'], exceptions={'zoning1': ExceptionZoningModel(x_intervals=[0.0, 25.0, 50.0, 75.0, 100.0, 125.0, 150.0, 175.0, 200.0, 225.0, 250.0], y_intervals=[0.0, 25.0, 50.0, 75.0, 100.0, 125.0, 150.0, 175.0, 200.0], z_intervals=[0.0, 20.0], surfaces=['sfc3'])}), statistics=['min', 'max', 'std', 'avg', 'skewness', 'kurtosis'], sets={'lanternim': ['L1_xp', 'L2_yp', 'L3_zp_yp', 'L4_zp_ym', 'L5_ym', 'L6_xm']}), 'pattern_2': CeConfig(zoning=ZoningConfig(global_zoning=ZoningModel(x_intervals=[0.0, 250.0], y_intervals=[0.0, 200.0], z_intervals=[0.0, 20.0]), no_zoning=['L2_yp'], exclude=[], exceptions={}), statistics=['min', 'max', 'std', 'avg', 'skewness', 'kurtosis'], sets={}), 'pattern_3': CeConfig(zoning=ZoningConfig(global_zoning=ZoningModel(x_intervals=[0.0, 125.0, 250.0], y_intervals=[-inf, inf], z_intervals=[-inf, inf]), no_zoning=[], exclude=[], exceptions={}), statistics=['min', 'max', 'std', 'avg', 'skewness', 'kurtosis'], sets={})})"
      ]
     },
     "execution_count": 2,
     "metadata": {},
     "output_type": "execute_result"
    }
   ],
   "source": [
    "from cfdmod.use_cases.pressure.shape.Ce_config import CeCaseConfig\n",
    "\n",
    "config_path = pathlib.Path(\"./fixtures/tests/pressure/Ce_params.yaml\")\n",
    "post_proc_cfg = CeCaseConfig.from_file(config_path)\n",
    "\n",
    "post_proc_cfg"
   ]
  },
  {
   "cell_type": "markdown",
   "metadata": {},
   "source": [
    "Normalize LNAS Mesh [Example]"
   ]
  },
  {
   "cell_type": "code",
   "execution_count": 3,
   "metadata": {},
   "outputs": [
    {
     "name": "stdout",
     "output_type": "stream",
     "text": [
      "galpao (1549, 3) (2915, 3)\n"
     ]
    },
    {
     "data": {
      "text/plain": [
       "(0.0, 0.0, 0.0)"
      ]
     },
     "execution_count": 3,
     "metadata": {},
     "output_type": "execute_result"
    }
   ],
   "source": [
    "from nassu.lnas import LagrangianFormat\n",
    "\n",
    "original_mesh_path = pathlib.Path(\"./fixtures/tests/pressure/galpao/galpao.lnas\")\n",
    "original_mesh = LagrangianFormat.from_file(original_mesh_path)\n",
    "\n",
    "new_verts = original_mesh.geometry.vertices.copy()\n",
    "\n",
    "new_verts[:, 0] -= new_verts[:, 0].min()\n",
    "new_verts[:, 1] -= new_verts[:, 1].min()\n",
    "new_verts[:, 2] -= new_verts[:, 2].min()\n",
    "\n",
    "original_mesh.geometry.vertices = new_verts\n",
    "\n",
    "original_mesh.to_file(original_mesh_path.parent / f\"{original_mesh.name}.normalized.lnas\")\n",
    "\n",
    "print(\n",
    "    original_mesh.name,\n",
    "    original_mesh.geometry.vertices.shape,\n",
    "    original_mesh.geometry.triangles.shape,\n",
    ")\n",
    "\n",
    "original_mesh.geometry.vertices[:, 0].min(), original_mesh.geometry.vertices[\n",
    "    :, 1\n",
    "].min(), original_mesh.geometry.vertices[:, 2].min()"
   ]
  },
  {
   "cell_type": "markdown",
   "metadata": {},
   "source": [
    "Read Normalized LNAS Mesh"
   ]
  },
  {
   "cell_type": "code",
   "execution_count": 4,
   "metadata": {},
   "outputs": [
    {
     "data": {
      "text/plain": [
       "('galpao', (1549, 3), (2915, 3))"
      ]
     },
     "execution_count": 4,
     "metadata": {},
     "output_type": "execute_result"
    }
   ],
   "source": [
    "from nassu.lnas import LagrangianFormat\n",
    "\n",
    "mesh_path = pathlib.Path(\"./fixtures/tests/pressure/galpao/galpao.normalized.lnas\")\n",
    "mesh = LagrangianFormat.from_file(mesh_path)\n",
    "\n",
    "mesh.name, mesh.geometry.vertices.shape, mesh.geometry.triangles.shape"
   ]
  },
  {
   "cell_type": "markdown",
   "metadata": {},
   "source": [
    "Read Pressure Coefficient data"
   ]
  },
  {
   "cell_type": "code",
   "execution_count": 5,
   "metadata": {},
   "outputs": [],
   "source": [
    "import pandas as pd\n",
    "\n",
    "cp_data_path = pathlib.Path(\"./fixtures/tests/pressure/data/cp_t.resampled.hdf\")\n",
    "cp_data = pd.read_hdf(cp_data_path)\n",
    "\n",
    "cp_data_to_use = cp_data.to_frame() if isinstance(cp_data, pd.Series) else cp_data"
   ]
  },
  {
   "cell_type": "markdown",
   "metadata": {},
   "source": [
    "Add region index to pressure coefficient data"
   ]
  },
  {
   "cell_type": "code",
   "execution_count": 8,
   "metadata": {},
   "outputs": [
    {
     "name": "stdout",
     "output_type": "stream",
     "text": [
      "\u001b[37m[2023-10-26 11:14:54,433] [INFO] - cfdmod - Processing pattern_1 ... (2620978085.py:10)\u001b[39m\n",
      "\u001b[37m[2023-10-26 11:14:54,439] [INFO] - cfdmod - Processing surface lanternim (2620978085.py:25)\u001b[39m\n",
      "\u001b[37m[2023-10-26 11:14:54,712] [INFO] - cfdmod - Processed surface lanternim (2620978085.py:36)\u001b[39m\n",
      "\u001b[37m[2023-10-26 11:14:54,713] [INFO] - cfdmod - Processing surface m1_yp (2620978085.py:25)\u001b[39m\n",
      "\u001b[37m[2023-10-26 11:14:54,757] [INFO] - cfdmod - Processed surface m1_yp (2620978085.py:36)\u001b[39m\n",
      "\u001b[37m[2023-10-26 11:14:54,758] [INFO] - cfdmod - Processing surface m2_zp (2620978085.py:25)\u001b[39m\n",
      "\u001b[37m[2023-10-26 11:14:54,809] [INFO] - cfdmod - Processed surface m2_zp (2620978085.py:36)\u001b[39m\n",
      "\u001b[37m[2023-10-26 11:14:54,809] [INFO] - cfdmod - Processing surface m3_zm (2620978085.py:25)\u001b[39m\n",
      "\u001b[37m[2023-10-26 11:14:54,859] [INFO] - cfdmod - Processed surface m3_zm (2620978085.py:36)\u001b[39m\n",
      "\u001b[37m[2023-10-26 11:14:54,859] [INFO] - cfdmod - Processing surface p1_xp (2620978085.py:25)\u001b[39m\n",
      "\u001b[33m[2023-10-26 11:14:54,896] [WARNING] - cfdmod - Region refinement is greater than data refinement. Resulted in NaN values (Ce_data.py:151)\u001b[39m\n",
      "\u001b[37m[2023-10-26 11:14:54,898] [INFO] - cfdmod - Processed surface p1_xp (2620978085.py:36)\u001b[39m\n",
      "\u001b[37m[2023-10-26 11:14:54,898] [INFO] - cfdmod - Processing surface p2_xp (2620978085.py:25)\u001b[39m\n",
      "\u001b[33m[2023-10-26 11:14:54,939] [WARNING] - cfdmod - Region refinement is greater than data refinement. Resulted in NaN values (Ce_data.py:151)\u001b[39m\n",
      "\u001b[37m[2023-10-26 11:14:54,940] [INFO] - cfdmod - Processed surface p2_xp (2620978085.py:36)\u001b[39m\n",
      "\u001b[37m[2023-10-26 11:14:54,941] [INFO] - cfdmod - Processing surface p3_ym (2620978085.py:25)\u001b[39m\n",
      "\u001b[33m[2023-10-26 11:14:54,994] [WARNING] - cfdmod - Region refinement is greater than data refinement. Resulted in NaN values (Ce_data.py:151)\u001b[39m\n",
      "\u001b[37m[2023-10-26 11:14:54,996] [INFO] - cfdmod - Processed surface p3_ym (2620978085.py:36)\u001b[39m\n",
      "\u001b[37m[2023-10-26 11:14:54,997] [INFO] - cfdmod - Processing surface p4_ym (2620978085.py:25)\u001b[39m\n",
      "\u001b[37m[2023-10-26 11:14:55,046] [INFO] - cfdmod - Processed surface p4_ym (2620978085.py:36)\u001b[39m\n",
      "\u001b[37m[2023-10-26 11:14:55,047] [INFO] - cfdmod - Processing surface p5_ym (2620978085.py:25)\u001b[39m\n",
      "\u001b[37m[2023-10-26 11:14:55,098] [INFO] - cfdmod - Processed surface p5_ym (2620978085.py:36)\u001b[39m\n",
      "\u001b[37m[2023-10-26 11:14:55,098] [INFO] - cfdmod - Processing surface p6c_yp (2620978085.py:25)\u001b[39m\n",
      "\u001b[33m[2023-10-26 11:14:55,124] [WARNING] - cfdmod - Region refinement is greater than data refinement. Resulted in NaN values (Ce_data.py:151)\u001b[39m\n",
      "\u001b[37m[2023-10-26 11:14:55,126] [INFO] - cfdmod - Processed surface p6c_yp (2620978085.py:36)\u001b[39m\n",
      "\u001b[37m[2023-10-26 11:14:55,126] [INFO] - cfdmod - Processing surface p7_xm (2620978085.py:25)\u001b[39m\n",
      "\u001b[33m[2023-10-26 11:14:55,174] [WARNING] - cfdmod - Region refinement is greater than data refinement. Resulted in NaN values (Ce_data.py:151)\u001b[39m\n",
      "\u001b[37m[2023-10-26 11:14:55,177] [INFO] - cfdmod - Processed surface p7_xm (2620978085.py:36)\u001b[39m\n",
      "\u001b[37m[2023-10-26 11:14:55,178] [INFO] - cfdmod - Processing surface p8_yp (2620978085.py:25)\u001b[39m\n",
      "\u001b[37m[2023-10-26 11:14:55,228] [INFO] - cfdmod - Processed surface p8_yp (2620978085.py:36)\u001b[39m\n",
      "\u001b[37m[2023-10-26 11:14:55,229] [INFO] - cfdmod - Processing surface p9_yp (2620978085.py:25)\u001b[39m\n",
      "\u001b[33m[2023-10-26 11:14:55,279] [WARNING] - cfdmod - Region refinement is greater than data refinement. Resulted in NaN values (Ce_data.py:151)\u001b[39m\n",
      "\u001b[37m[2023-10-26 11:14:55,281] [INFO] - cfdmod - Processed surface p9_yp (2620978085.py:36)\u001b[39m\n",
      "\u001b[37m[2023-10-26 11:14:55,281] [INFO] - cfdmod - Processing surface t1_ym (2620978085.py:25)\u001b[39m\n",
      "\u001b[37m[2023-10-26 11:14:55,615] [INFO] - cfdmod - Processed surface t1_ym (2620978085.py:36)\u001b[39m\n",
      "\u001b[37m[2023-10-26 11:14:55,616] [INFO] - cfdmod - Processing surface t2_yp (2620978085.py:25)\u001b[39m\n",
      "\u001b[37m[2023-10-26 11:14:55,833] [INFO] - cfdmod - Processed surface t2_yp (2620978085.py:36)\u001b[39m\n",
      "\u001b[37m[2023-10-26 11:14:55,866] [INFO] - cfdmod - Merged polydata for pattern_1 (2620978085.py:42)\u001b[39m\n",
      "\u001b[37m[2023-10-26 11:14:55,867] [INFO] - cfdmod - Processing pattern_2 ... (2620978085.py:10)\u001b[39m\n",
      "\u001b[37m[2023-10-26 11:14:55,874] [INFO] - cfdmod - Processing surface L1_xp (2620978085.py:25)\u001b[39m\n",
      "\u001b[37m[2023-10-26 11:14:55,892] [INFO] - cfdmod - Processed surface L1_xp (2620978085.py:36)\u001b[39m\n",
      "\u001b[37m[2023-10-26 11:14:55,892] [INFO] - cfdmod - Processing surface L2_yp (2620978085.py:25)\u001b[39m\n",
      "\u001b[37m[2023-10-26 11:14:55,913] [INFO] - cfdmod - Processed surface L2_yp (2620978085.py:36)\u001b[39m\n",
      "\u001b[37m[2023-10-26 11:14:55,914] [INFO] - cfdmod - Processing surface L3_zp_yp (2620978085.py:25)\u001b[39m\n",
      "\u001b[37m[2023-10-26 11:14:55,936] [INFO] - cfdmod - Processed surface L3_zp_yp (2620978085.py:36)\u001b[39m\n",
      "\u001b[37m[2023-10-26 11:14:55,936] [INFO] - cfdmod - Processing surface L4_zp_ym (2620978085.py:25)\u001b[39m\n",
      "\u001b[37m[2023-10-26 11:14:55,957] [INFO] - cfdmod - Processed surface L4_zp_ym (2620978085.py:36)\u001b[39m\n",
      "\u001b[37m[2023-10-26 11:14:55,957] [INFO] - cfdmod - Processing surface L5_ym (2620978085.py:25)\u001b[39m\n",
      "\u001b[37m[2023-10-26 11:14:55,979] [INFO] - cfdmod - Processed surface L5_ym (2620978085.py:36)\u001b[39m\n",
      "\u001b[37m[2023-10-26 11:14:55,979] [INFO] - cfdmod - Processing surface L6_xm (2620978085.py:25)\u001b[39m\n",
      "\u001b[37m[2023-10-26 11:14:55,998] [INFO] - cfdmod - Processed surface L6_xm (2620978085.py:36)\u001b[39m\n",
      "\u001b[37m[2023-10-26 11:14:55,998] [INFO] - cfdmod - Processing surface m1_yp (2620978085.py:25)\u001b[39m\n",
      "\u001b[37m[2023-10-26 11:14:56,017] [INFO] - cfdmod - Processed surface m1_yp (2620978085.py:36)\u001b[39m\n",
      "\u001b[37m[2023-10-26 11:14:56,019] [INFO] - cfdmod - Processing surface m2_zp (2620978085.py:25)\u001b[39m\n",
      "\u001b[37m[2023-10-26 11:14:56,037] [INFO] - cfdmod - Processed surface m2_zp (2620978085.py:36)\u001b[39m\n",
      "\u001b[37m[2023-10-26 11:14:56,038] [INFO] - cfdmod - Processing surface m3_zm (2620978085.py:25)\u001b[39m\n",
      "\u001b[37m[2023-10-26 11:14:56,057] [INFO] - cfdmod - Processed surface m3_zm (2620978085.py:36)\u001b[39m\n",
      "\u001b[37m[2023-10-26 11:14:56,058] [INFO] - cfdmod - Processing surface p1_xp (2620978085.py:25)\u001b[39m\n",
      "\u001b[37m[2023-10-26 11:14:56,078] [INFO] - cfdmod - Processed surface p1_xp (2620978085.py:36)\u001b[39m\n",
      "\u001b[37m[2023-10-26 11:14:56,079] [INFO] - cfdmod - Processing surface p2_xp (2620978085.py:25)\u001b[39m\n",
      "\u001b[37m[2023-10-26 11:14:56,097] [INFO] - cfdmod - Processed surface p2_xp (2620978085.py:36)\u001b[39m\n",
      "\u001b[37m[2023-10-26 11:14:56,097] [INFO] - cfdmod - Processing surface p3_ym (2620978085.py:25)\u001b[39m\n",
      "\u001b[37m[2023-10-26 11:14:56,117] [INFO] - cfdmod - Processed surface p3_ym (2620978085.py:36)\u001b[39m\n",
      "\u001b[37m[2023-10-26 11:14:56,118] [INFO] - cfdmod - Processing surface p4_ym (2620978085.py:25)\u001b[39m\n",
      "\u001b[37m[2023-10-26 11:14:56,136] [INFO] - cfdmod - Processed surface p4_ym (2620978085.py:36)\u001b[39m\n",
      "\u001b[37m[2023-10-26 11:14:56,137] [INFO] - cfdmod - Processing surface p5_ym (2620978085.py:25)\u001b[39m\n",
      "\u001b[37m[2023-10-26 11:14:56,157] [INFO] - cfdmod - Processed surface p5_ym (2620978085.py:36)\u001b[39m\n",
      "\u001b[37m[2023-10-26 11:14:56,158] [INFO] - cfdmod - Processing surface p6c_yp (2620978085.py:25)\u001b[39m\n",
      "\u001b[37m[2023-10-26 11:14:56,175] [INFO] - cfdmod - Processed surface p6c_yp (2620978085.py:36)\u001b[39m\n",
      "\u001b[37m[2023-10-26 11:14:56,176] [INFO] - cfdmod - Processing surface p7_xm (2620978085.py:25)\u001b[39m\n",
      "\u001b[37m[2023-10-26 11:14:56,193] [INFO] - cfdmod - Processed surface p7_xm (2620978085.py:36)\u001b[39m\n",
      "\u001b[37m[2023-10-26 11:14:56,194] [INFO] - cfdmod - Processing surface p8_yp (2620978085.py:25)\u001b[39m\n",
      "\u001b[37m[2023-10-26 11:14:56,217] [INFO] - cfdmod - Processed surface p8_yp (2620978085.py:36)\u001b[39m\n",
      "\u001b[37m[2023-10-26 11:14:56,218] [INFO] - cfdmod - Processing surface p9_yp (2620978085.py:25)\u001b[39m\n",
      "\u001b[37m[2023-10-26 11:14:56,238] [INFO] - cfdmod - Processed surface p9_yp (2620978085.py:36)\u001b[39m\n",
      "\u001b[37m[2023-10-26 11:14:56,239] [INFO] - cfdmod - Processing surface t1_ym (2620978085.py:25)\u001b[39m\n",
      "\u001b[37m[2023-10-26 11:14:56,269] [INFO] - cfdmod - Processed surface t1_ym (2620978085.py:36)\u001b[39m\n",
      "\u001b[37m[2023-10-26 11:14:56,269] [INFO] - cfdmod - Processing surface t2_yp (2620978085.py:25)\u001b[39m\n",
      "\u001b[37m[2023-10-26 11:14:56,294] [INFO] - cfdmod - Processed surface t2_yp (2620978085.py:36)\u001b[39m\n",
      "\u001b[37m[2023-10-26 11:14:56,344] [INFO] - cfdmod - Merged polydata for pattern_2 (2620978085.py:42)\u001b[39m\n",
      "\u001b[37m[2023-10-26 11:14:56,345] [INFO] - cfdmod - Processing pattern_3 ... (2620978085.py:10)\u001b[39m\n",
      "\u001b[37m[2023-10-26 11:14:56,351] [INFO] - cfdmod - Processing surface L1_xp (2620978085.py:25)\u001b[39m\n",
      "\u001b[37m[2023-10-26 11:14:56,369] [INFO] - cfdmod - Processed surface L1_xp (2620978085.py:36)\u001b[39m\n",
      "\u001b[37m[2023-10-26 11:14:56,370] [INFO] - cfdmod - Processing surface L2_yp (2620978085.py:25)\u001b[39m\n",
      "\u001b[37m[2023-10-26 11:14:56,397] [INFO] - cfdmod - Processed surface L2_yp (2620978085.py:36)\u001b[39m\n",
      "\u001b[37m[2023-10-26 11:14:56,398] [INFO] - cfdmod - Processing surface L3_zp_yp (2620978085.py:25)\u001b[39m\n",
      "\u001b[37m[2023-10-26 11:14:56,423] [INFO] - cfdmod - Processed surface L3_zp_yp (2620978085.py:36)\u001b[39m\n",
      "\u001b[37m[2023-10-26 11:14:56,423] [INFO] - cfdmod - Processing surface L4_zp_ym (2620978085.py:25)\u001b[39m\n",
      "\u001b[37m[2023-10-26 11:14:56,445] [INFO] - cfdmod - Processed surface L4_zp_ym (2620978085.py:36)\u001b[39m\n",
      "\u001b[37m[2023-10-26 11:14:56,446] [INFO] - cfdmod - Processing surface L5_ym (2620978085.py:25)\u001b[39m\n",
      "\u001b[37m[2023-10-26 11:14:56,476] [INFO] - cfdmod - Processed surface L5_ym (2620978085.py:36)\u001b[39m\n",
      "\u001b[37m[2023-10-26 11:14:56,476] [INFO] - cfdmod - Processing surface L6_xm (2620978085.py:25)\u001b[39m\n",
      "\u001b[37m[2023-10-26 11:14:56,494] [INFO] - cfdmod - Processed surface L6_xm (2620978085.py:36)\u001b[39m\n",
      "\u001b[37m[2023-10-26 11:14:56,495] [INFO] - cfdmod - Processing surface m1_yp (2620978085.py:25)\u001b[39m\n",
      "\u001b[37m[2023-10-26 11:14:56,528] [INFO] - cfdmod - Processed surface m1_yp (2620978085.py:36)\u001b[39m\n",
      "\u001b[37m[2023-10-26 11:14:56,529] [INFO] - cfdmod - Processing surface m2_zp (2620978085.py:25)\u001b[39m\n",
      "\u001b[37m[2023-10-26 11:14:56,560] [INFO] - cfdmod - Processed surface m2_zp (2620978085.py:36)\u001b[39m\n",
      "\u001b[37m[2023-10-26 11:14:56,561] [INFO] - cfdmod - Processing surface m3_zm (2620978085.py:25)\u001b[39m\n",
      "\u001b[37m[2023-10-26 11:14:56,587] [INFO] - cfdmod - Processed surface m3_zm (2620978085.py:36)\u001b[39m\n",
      "\u001b[37m[2023-10-26 11:14:56,588] [INFO] - cfdmod - Processing surface p1_xp (2620978085.py:25)\u001b[39m\n",
      "\u001b[37m[2023-10-26 11:14:56,607] [INFO] - cfdmod - Processed surface p1_xp (2620978085.py:36)\u001b[39m\n",
      "\u001b[37m[2023-10-26 11:14:56,608] [INFO] - cfdmod - Processing surface p2_xp (2620978085.py:25)\u001b[39m\n",
      "\u001b[37m[2023-10-26 11:14:56,626] [INFO] - cfdmod - Processed surface p2_xp (2620978085.py:36)\u001b[39m\n",
      "\u001b[37m[2023-10-26 11:14:56,627] [INFO] - cfdmod - Processing surface p3_ym (2620978085.py:25)\u001b[39m\n",
      "\u001b[37m[2023-10-26 11:14:56,651] [INFO] - cfdmod - Processed surface p3_ym (2620978085.py:36)\u001b[39m\n",
      "\u001b[37m[2023-10-26 11:14:56,652] [INFO] - cfdmod - Processing surface p4_ym (2620978085.py:25)\u001b[39m\n",
      "\u001b[37m[2023-10-26 11:14:56,672] [INFO] - cfdmod - Processed surface p4_ym (2620978085.py:36)\u001b[39m\n",
      "\u001b[37m[2023-10-26 11:14:56,673] [INFO] - cfdmod - Processing surface p5_ym (2620978085.py:25)\u001b[39m\n",
      "\u001b[37m[2023-10-26 11:14:56,693] [INFO] - cfdmod - Processed surface p5_ym (2620978085.py:36)\u001b[39m\n",
      "\u001b[37m[2023-10-26 11:14:56,693] [INFO] - cfdmod - Processing surface p6c_yp (2620978085.py:25)\u001b[39m\n",
      "\u001b[37m[2023-10-26 11:14:56,714] [INFO] - cfdmod - Processed surface p6c_yp (2620978085.py:36)\u001b[39m\n",
      "\u001b[37m[2023-10-26 11:14:56,715] [INFO] - cfdmod - Processing surface p7_xm (2620978085.py:25)\u001b[39m\n",
      "\u001b[37m[2023-10-26 11:14:56,733] [INFO] - cfdmod - Processed surface p7_xm (2620978085.py:36)\u001b[39m\n",
      "\u001b[37m[2023-10-26 11:14:56,734] [INFO] - cfdmod - Processing surface p8_yp (2620978085.py:25)\u001b[39m\n",
      "\u001b[37m[2023-10-26 11:14:56,757] [INFO] - cfdmod - Processed surface p8_yp (2620978085.py:36)\u001b[39m\n",
      "\u001b[37m[2023-10-26 11:14:56,757] [INFO] - cfdmod - Processing surface p9_yp (2620978085.py:25)\u001b[39m\n",
      "\u001b[37m[2023-10-26 11:14:56,778] [INFO] - cfdmod - Processed surface p9_yp (2620978085.py:36)\u001b[39m\n",
      "\u001b[37m[2023-10-26 11:14:56,779] [INFO] - cfdmod - Processing surface t1_ym (2620978085.py:25)\u001b[39m\n",
      "\u001b[37m[2023-10-26 11:14:56,834] [INFO] - cfdmod - Processed surface t1_ym (2620978085.py:36)\u001b[39m\n",
      "\u001b[37m[2023-10-26 11:14:56,835] [INFO] - cfdmod - Processing surface t2_yp (2620978085.py:25)\u001b[39m\n",
      "\u001b[37m[2023-10-26 11:14:56,876] [INFO] - cfdmod - Processed surface t2_yp (2620978085.py:36)\u001b[39m\n",
      "\u001b[37m[2023-10-26 11:14:56,902] [INFO] - cfdmod - Merged polydata for pattern_3 (2620978085.py:42)\u001b[39m\n"
     ]
    }
   ],
   "source": [
    "from cfdmod.api.vtk.write_vtk import write_polydata, merge_polydata\n",
    "from cfdmod.logger import logger\n",
    "from cfdmod.use_cases.pressure.shape.Ce_data import process_surface, filter_surface\n",
    "\n",
    "n_timesteps = cp_data_to_use[\"time_step\"].unique().shape[0]\n",
    "\n",
    "for cfg_label, cfg in post_proc_cfg.shape_coefficient.items():\n",
    "    processed_polydata = []\n",
    "    surfaces_to_process = {}\n",
    "    logger.info(f\"Processing {cfg_label} ...\")\n",
    "    for set_lbl in cfg.sets.keys():\n",
    "        raw_surface = filter_surface(body_mesh=mesh, sfc_label=set_lbl, cfg=cfg, is_set=True)\n",
    "        surfaces_to_process[set_lbl] = raw_surface\n",
    "\n",
    "    for sfc in mesh.surfaces.keys():\n",
    "        if sfc in cfg.surfaces_in_sets:\n",
    "            continue # Skip surfaces that already are in a set\n",
    "        if sfc in cfg.zoning.exclude:  # type: ignore (already validated in class)\n",
    "            logger.info(f\"Surface {sfc} ignored!\")  # Ignore surface\n",
    "            continue\n",
    "        raw_surface = filter_surface(body_mesh=mesh, sfc_label=sfc, cfg=cfg)\n",
    "        surfaces_to_process[sfc] = raw_surface\n",
    "\n",
    "    for sfc_lbl, raw_surface in surfaces_to_process.items():\n",
    "        logger.info(f\"Processing surface {sfc_lbl}\")\n",
    "        \n",
    "        processed_surface = process_surface(\n",
    "            raw_surface=raw_surface,\n",
    "            cfg=cfg,\n",
    "            cp_data=cp_data_to_use,\n",
    "            n_timesteps=n_timesteps,\n",
    "        )\n",
    "\n",
    "        processed_polydata.append(processed_surface.polydata)\n",
    "\n",
    "        logger.info(f\"Processed surface {sfc_lbl}\")\n",
    "\n",
    "    # Output 5: VTK\n",
    "    merged_polydata = merge_polydata(processed_polydata)\n",
    "    write_polydata(path_manager.get_vtp_path(mesh.name, cfg_label), merged_polydata)\n",
    "\n",
    "    logger.info(f\"Merged polydata for {cfg_label}\")"
   ]
  }
 ],
 "metadata": {
  "kernelspec": {
   "display_name": "cfdmod-6zl7i90Q-py3.11",
   "language": "python",
   "name": "python3"
  },
  "language_info": {
   "codemirror_mode": {
    "name": "ipython",
    "version": 3
   },
   "file_extension": ".py",
   "mimetype": "text/x-python",
   "name": "python",
   "nbconvert_exporter": "python",
   "pygments_lexer": "ipython3",
   "version": "3.11.4"
  }
 },
 "nbformat": 4,
 "nbformat_minor": 2
}
