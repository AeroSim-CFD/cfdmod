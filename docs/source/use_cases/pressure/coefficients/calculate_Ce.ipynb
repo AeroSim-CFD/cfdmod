{
 "cells": [
  {
   "cell_type": "markdown",
   "metadata": {},
   "source": [
    "# Generate shape coefficients"
   ]
  },
  {
   "cell_type": "markdown",
   "metadata": {},
   "source": [
    "The following steps are performed to obtain all the artifacts for shape coefficient use case:\n",
    "\n",
    "1. Read parameters file\n",
    "2. Read Mesh description\n",
    "   * Its path can be specified\n",
    "   * Or it can be obtained from the simulation configuration file\n",
    "3. Read data for pressure coefficient"
   ]
  },
  {
   "cell_type": "markdown",
   "metadata": {},
   "source": [
    "Initialize Path Manager"
   ]
  },
  {
   "cell_type": "code",
   "execution_count": 1,
   "metadata": {},
   "outputs": [],
   "source": [
    "from cfdmod.use_cases.pressure.path_manager import CePathManager\n",
    "import pathlib\n",
    "\n",
    "path_manager = CePathManager(output_path=pathlib.Path(\"./output/pressure\"))"
   ]
  },
  {
   "cell_type": "markdown",
   "metadata": {},
   "source": [
    "Read post-processing Ce config file"
   ]
  },
  {
   "cell_type": "code",
   "execution_count": 2,
   "metadata": {},
   "outputs": [
    {
     "data": {
      "text/plain": [
       "CeCaseConfig(shape_coefficient={'measurement_1': CeConfig(zoning=ZoningConfig(global_zoning=ZoningModel(x_intervals=[0.0, 25.0, 50.0, 75.0, 100.0, 125.0, 150.0, 175.0, 200.0, 225.0, 250.0], y_intervals=[0.0, 25.0, 50.0, 75.0, 100.0, 125.0, 150.0, 175.0, 200.0], z_intervals=[0.0, 5.0, 10.0, 15.0, 20.0]), no_zoning=['t1_ym'], exclude=['p1_xp'], exceptions={'zoning1': ExceptionZoningModel(x_intervals=[0.0, 25.0, 50.0, 75.0, 100.0, 125.0, 150.0, 175.0, 200.0, 225.0, 250.0], y_intervals=[0.0, 25.0, 50.0, 75.0, 100.0, 125.0, 150.0, 175.0, 200.0], z_intervals=[0.0, 20.0], surfaces=['t2_yp'])}), statistics=['min', 'max', 'std', 'avg', 'skewness', 'kurtosis'], sets={'lanternim': ['L1_xp', 'L2_yp', 'L3_zp_yp', 'L4_zp_ym', 'L5_ym', 'L6_xm']}), 'measurement_2': CeConfig(zoning=ZoningConfig(global_zoning=ZoningModel(x_intervals=[0.0, 250.0], y_intervals=[0.0, 200.0], z_intervals=[0.0, 20.0]), no_zoning=['t2_yp'], exclude=['lanternim', 't1_ym'], exceptions={}), statistics=['min', 'max', 'std', 'avg', 'skewness', 'kurtosis'], sets={'lanternim': ['L1_xp', 'L2_yp', 'L3_zp_yp', 'L4_zp_ym', 'L5_ym', 'L6_xm']}), 'measurement_3': CeConfig(zoning=ZoningConfig(global_zoning=ZoningModel(x_intervals=[0.0, 125.0, 250.0], y_intervals=[-inf, inf], z_intervals=[-inf, inf]), no_zoning=[], exclude=[], exceptions={}), statistics=['min', 'max', 'std', 'avg', 'skewness', 'kurtosis'], sets={})})"
      ]
     },
     "execution_count": 2,
     "metadata": {},
     "output_type": "execute_result"
    }
   ],
   "source": [
    "from cfdmod.use_cases.pressure.shape.Ce_config import CeCaseConfig\n",
    "\n",
    "config_path = pathlib.Path(\"./fixtures/tests/pressure/Ce_params.yaml\")\n",
    "post_proc_cfg = CeCaseConfig.from_file(config_path)\n",
    "\n",
    "post_proc_cfg"
   ]
  },
  {
   "cell_type": "markdown",
   "metadata": {},
   "source": [
    "Normalize LNAS Mesh [Example]"
   ]
  },
  {
   "cell_type": "code",
   "execution_count": 3,
   "metadata": {},
   "outputs": [
    {
     "name": "stdout",
     "output_type": "stream",
     "text": [
      "galpao (1549, 3) (2915, 3)\n"
     ]
    },
    {
     "data": {
      "text/plain": [
       "(0.0, 0.0, 0.0)"
      ]
     },
     "execution_count": 3,
     "metadata": {},
     "output_type": "execute_result"
    }
   ],
   "source": [
    "from nassu.lnas import LagrangianFormat\n",
    "\n",
    "original_mesh_path = pathlib.Path(\"./fixtures/tests/pressure/galpao/galpao.lnas\")\n",
    "original_mesh = LagrangianFormat.from_file(original_mesh_path)\n",
    "\n",
    "new_verts = original_mesh.geometry.vertices.copy()\n",
    "\n",
    "new_verts[:, 0] -= new_verts[:, 0].min()\n",
    "new_verts[:, 1] -= new_verts[:, 1].min()\n",
    "new_verts[:, 2] -= new_verts[:, 2].min()\n",
    "\n",
    "original_mesh.geometry.vertices = new_verts\n",
    "\n",
    "original_mesh.to_file(original_mesh_path.parent / f\"{original_mesh.name}.normalized.lnas\")\n",
    "\n",
    "print(\n",
    "    original_mesh.name,\n",
    "    original_mesh.geometry.vertices.shape,\n",
    "    original_mesh.geometry.triangles.shape,\n",
    ")\n",
    "\n",
    "original_mesh.geometry.vertices[:, 0].min(), original_mesh.geometry.vertices[\n",
    "    :, 1\n",
    "].min(), original_mesh.geometry.vertices[:, 2].min()"
   ]
  },
  {
   "cell_type": "markdown",
   "metadata": {},
   "source": [
    "Read Normalized LNAS Mesh"
   ]
  },
  {
   "cell_type": "code",
   "execution_count": 4,
   "metadata": {},
   "outputs": [
    {
     "data": {
      "text/plain": [
       "('galpao', (1549, 3), (2915, 3))"
      ]
     },
     "execution_count": 4,
     "metadata": {},
     "output_type": "execute_result"
    }
   ],
   "source": [
    "from nassu.lnas import LagrangianFormat\n",
    "\n",
    "mesh_path = pathlib.Path(\"./fixtures/tests/pressure/galpao/galpao.normalized.lnas\")\n",
    "mesh = LagrangianFormat.from_file(mesh_path)\n",
    "\n",
    "mesh.name, mesh.geometry.vertices.shape, mesh.geometry.triangles.shape"
   ]
  },
  {
   "cell_type": "markdown",
   "metadata": {},
   "source": [
    "Read Pressure Coefficient data"
   ]
  },
  {
   "cell_type": "code",
   "execution_count": 5,
   "metadata": {},
   "outputs": [],
   "source": [
    "import pandas as pd\n",
    "\n",
    "cp_data_path = pathlib.Path(\"./fixtures/tests/pressure/data/cp_t.resampled.hdf\")\n",
    "cp_data = pd.read_hdf(cp_data_path)\n",
    "\n",
    "cp_data_to_use = cp_data.to_frame() if isinstance(cp_data, pd.Series) else cp_data"
   ]
  },
  {
   "cell_type": "markdown",
   "metadata": {},
   "source": [
    "Add region index to pressure coefficient data"
   ]
  },
  {
   "cell_type": "code",
   "execution_count": 6,
   "metadata": {},
   "outputs": [
    {
     "name": "stdout",
     "output_type": "stream",
     "text": [
      "\u001b[37m[2023-11-09 15:20:27,756] [INFO] - cfdmod - Processing measurement_1 ... (440998233.py:10)\u001b[39m\n",
      "\u001b[37m[2023-11-09 15:20:27,759] [INFO] - cfdmod - Surface p1_xp ignored! (Ce_data.py:77)\u001b[39m\n",
      "\u001b[37m[2023-11-09 15:20:27,762] [INFO] - cfdmod - Processing surface lanternim (440998233.py:18)\u001b[39m\n",
      "\u001b[37m[2023-11-09 15:20:28,063] [INFO] - cfdmod - Processed surface lanternim (440998233.py:29)\u001b[39m\n",
      "\u001b[37m[2023-11-09 15:20:28,063] [INFO] - cfdmod - Processing surface m1_yp (440998233.py:18)\u001b[39m\n",
      "\u001b[37m[2023-11-09 15:20:28,115] [INFO] - cfdmod - Processed surface m1_yp (440998233.py:29)\u001b[39m\n",
      "\u001b[37m[2023-11-09 15:20:28,115] [INFO] - cfdmod - Processing surface m2_zp (440998233.py:18)\u001b[39m\n",
      "\u001b[37m[2023-11-09 15:20:28,175] [INFO] - cfdmod - Processed surface m2_zp (440998233.py:29)\u001b[39m\n",
      "\u001b[37m[2023-11-09 15:20:28,176] [INFO] - cfdmod - Processing surface m3_zm (440998233.py:18)\u001b[39m\n",
      "\u001b[37m[2023-11-09 15:20:28,235] [INFO] - cfdmod - Processed surface m3_zm (440998233.py:29)\u001b[39m\n",
      "\u001b[37m[2023-11-09 15:20:28,236] [INFO] - cfdmod - Processing surface p2_xp (440998233.py:18)\u001b[39m\n",
      "\u001b[33m[2023-11-09 15:20:28,279] [WARNING] - cfdmod - Region refinement is greater than data refinement. Resulted in NaN values (Ce_data.py:183)\u001b[39m\n",
      "\u001b[37m[2023-11-09 15:20:28,282] [INFO] - cfdmod - Processed surface p2_xp (440998233.py:29)\u001b[39m\n",
      "\u001b[37m[2023-11-09 15:20:28,282] [INFO] - cfdmod - Processing surface p3_ym (440998233.py:18)\u001b[39m\n",
      "\u001b[33m[2023-11-09 15:20:28,343] [WARNING] - cfdmod - Region refinement is greater than data refinement. Resulted in NaN values (Ce_data.py:183)\u001b[39m\n",
      "\u001b[37m[2023-11-09 15:20:28,345] [INFO] - cfdmod - Processed surface p3_ym (440998233.py:29)\u001b[39m\n",
      "\u001b[37m[2023-11-09 15:20:28,346] [INFO] - cfdmod - Processing surface p4_ym (440998233.py:18)\u001b[39m\n",
      "\u001b[37m[2023-11-09 15:20:28,418] [INFO] - cfdmod - Processed surface p4_ym (440998233.py:29)\u001b[39m\n",
      "\u001b[37m[2023-11-09 15:20:28,418] [INFO] - cfdmod - Processing surface p5_ym (440998233.py:18)\u001b[39m\n",
      "\u001b[37m[2023-11-09 15:20:28,491] [INFO] - cfdmod - Processed surface p5_ym (440998233.py:29)\u001b[39m\n",
      "\u001b[37m[2023-11-09 15:20:28,492] [INFO] - cfdmod - Processing surface p6c_yp (440998233.py:18)\u001b[39m\n",
      "\u001b[33m[2023-11-09 15:20:28,523] [WARNING] - cfdmod - Region refinement is greater than data refinement. Resulted in NaN values (Ce_data.py:183)\u001b[39m\n",
      "\u001b[37m[2023-11-09 15:20:28,525] [INFO] - cfdmod - Processed surface p6c_yp (440998233.py:29)\u001b[39m\n",
      "\u001b[37m[2023-11-09 15:20:28,525] [INFO] - cfdmod - Processing surface p7_xm (440998233.py:18)\u001b[39m\n",
      "\u001b[33m[2023-11-09 15:20:28,582] [WARNING] - cfdmod - Region refinement is greater than data refinement. Resulted in NaN values (Ce_data.py:183)\u001b[39m\n",
      "\u001b[37m[2023-11-09 15:20:28,584] [INFO] - cfdmod - Processed surface p7_xm (440998233.py:29)\u001b[39m\n",
      "\u001b[37m[2023-11-09 15:20:28,584] [INFO] - cfdmod - Processing surface p8_yp (440998233.py:18)\u001b[39m\n",
      "\u001b[37m[2023-11-09 15:20:28,643] [INFO] - cfdmod - Processed surface p8_yp (440998233.py:29)\u001b[39m\n",
      "\u001b[37m[2023-11-09 15:20:28,645] [INFO] - cfdmod - Processing surface p9_yp (440998233.py:18)\u001b[39m\n",
      "\u001b[33m[2023-11-09 15:20:28,701] [WARNING] - cfdmod - Region refinement is greater than data refinement. Resulted in NaN values (Ce_data.py:183)\u001b[39m\n",
      "\u001b[37m[2023-11-09 15:20:28,703] [INFO] - cfdmod - Processed surface p9_yp (440998233.py:29)\u001b[39m\n",
      "\u001b[37m[2023-11-09 15:20:28,703] [INFO] - cfdmod - Processing surface t1_ym (440998233.py:18)\u001b[39m\n",
      "\u001b[37m[2023-11-09 15:20:28,753] [INFO] - cfdmod - Processed surface t1_ym (440998233.py:29)\u001b[39m\n",
      "\u001b[37m[2023-11-09 15:20:28,754] [INFO] - cfdmod - Processing surface t2_yp (440998233.py:18)\u001b[39m\n",
      "\u001b[37m[2023-11-09 15:20:29,008] [INFO] - cfdmod - Processed surface t2_yp (440998233.py:29)\u001b[39m\n",
      "\u001b[37m[2023-11-09 15:20:29,187] [INFO] - cfdmod - Merged polydata for measurement_1 (440998233.py:50)\u001b[39m\n",
      "\u001b[37m[2023-11-09 15:20:29,188] [INFO] - cfdmod - Processing measurement_2 ... (440998233.py:10)\u001b[39m\n",
      "\u001b[37m[2023-11-09 15:20:29,188] [INFO] - cfdmod - Surface lanternim ignored! (Ce_data.py:77)\u001b[39m\n",
      "\u001b[37m[2023-11-09 15:20:29,195] [INFO] - cfdmod - Surface t1_ym ignored! (Ce_data.py:77)\u001b[39m\n",
      "\u001b[37m[2023-11-09 15:20:29,197] [INFO] - cfdmod - Processing surface m1_yp (440998233.py:18)\u001b[39m\n",
      "\u001b[37m[2023-11-09 15:20:29,225] [INFO] - cfdmod - Processed surface m1_yp (440998233.py:29)\u001b[39m\n",
      "\u001b[37m[2023-11-09 15:20:29,225] [INFO] - cfdmod - Processing surface m2_zp (440998233.py:18)\u001b[39m\n",
      "\u001b[37m[2023-11-09 15:20:29,249] [INFO] - cfdmod - Processed surface m2_zp (440998233.py:29)\u001b[39m\n",
      "\u001b[37m[2023-11-09 15:20:29,250] [INFO] - cfdmod - Processing surface m3_zm (440998233.py:18)\u001b[39m\n",
      "\u001b[37m[2023-11-09 15:20:29,273] [INFO] - cfdmod - Processed surface m3_zm (440998233.py:29)\u001b[39m\n",
      "\u001b[37m[2023-11-09 15:20:29,274] [INFO] - cfdmod - Processing surface p1_xp (440998233.py:18)\u001b[39m\n",
      "\u001b[37m[2023-11-09 15:20:29,303] [INFO] - cfdmod - Processed surface p1_xp (440998233.py:29)\u001b[39m\n",
      "\u001b[37m[2023-11-09 15:20:29,304] [INFO] - cfdmod - Processing surface p2_xp (440998233.py:18)\u001b[39m\n",
      "\u001b[37m[2023-11-09 15:20:29,331] [INFO] - cfdmod - Processed surface p2_xp (440998233.py:29)\u001b[39m\n",
      "\u001b[37m[2023-11-09 15:20:29,332] [INFO] - cfdmod - Processing surface p3_ym (440998233.py:18)\u001b[39m\n",
      "\u001b[37m[2023-11-09 15:20:29,358] [INFO] - cfdmod - Processed surface p3_ym (440998233.py:29)\u001b[39m\n",
      "\u001b[37m[2023-11-09 15:20:29,359] [INFO] - cfdmod - Processing surface p4_ym (440998233.py:18)\u001b[39m\n",
      "\u001b[37m[2023-11-09 15:20:29,381] [INFO] - cfdmod - Processed surface p4_ym (440998233.py:29)\u001b[39m\n",
      "\u001b[37m[2023-11-09 15:20:29,381] [INFO] - cfdmod - Processing surface p5_ym (440998233.py:18)\u001b[39m\n",
      "\u001b[37m[2023-11-09 15:20:29,405] [INFO] - cfdmod - Processed surface p5_ym (440998233.py:29)\u001b[39m\n",
      "\u001b[37m[2023-11-09 15:20:29,405] [INFO] - cfdmod - Processing surface p6c_yp (440998233.py:18)\u001b[39m\n",
      "\u001b[37m[2023-11-09 15:20:29,428] [INFO] - cfdmod - Processed surface p6c_yp (440998233.py:29)\u001b[39m\n",
      "\u001b[37m[2023-11-09 15:20:29,429] [INFO] - cfdmod - Processing surface p7_xm (440998233.py:18)\u001b[39m\n",
      "\u001b[37m[2023-11-09 15:20:29,450] [INFO] - cfdmod - Processed surface p7_xm (440998233.py:29)\u001b[39m\n",
      "\u001b[37m[2023-11-09 15:20:29,451] [INFO] - cfdmod - Processing surface p8_yp (440998233.py:18)\u001b[39m\n",
      "\u001b[37m[2023-11-09 15:20:29,476] [INFO] - cfdmod - Processed surface p8_yp (440998233.py:29)\u001b[39m\n",
      "\u001b[37m[2023-11-09 15:20:29,477] [INFO] - cfdmod - Processing surface p9_yp (440998233.py:18)\u001b[39m\n",
      "\u001b[37m[2023-11-09 15:20:29,499] [INFO] - cfdmod - Processed surface p9_yp (440998233.py:29)\u001b[39m\n",
      "\u001b[37m[2023-11-09 15:20:29,500] [INFO] - cfdmod - Processing surface t2_yp (440998233.py:18)\u001b[39m\n",
      "\u001b[37m[2023-11-09 15:20:29,540] [INFO] - cfdmod - Processed surface t2_yp (440998233.py:29)\u001b[39m\n",
      "\u001b[37m[2023-11-09 15:20:29,597] [INFO] - cfdmod - Merged polydata for measurement_2 (440998233.py:50)\u001b[39m\n",
      "\u001b[37m[2023-11-09 15:20:29,598] [INFO] - cfdmod - Processing measurement_3 ... (440998233.py:10)\u001b[39m\n",
      "\u001b[37m[2023-11-09 15:20:29,605] [INFO] - cfdmod - Processing surface L1_xp (440998233.py:18)\u001b[39m\n",
      "\u001b[37m[2023-11-09 15:20:29,627] [INFO] - cfdmod - Processed surface L1_xp (440998233.py:29)\u001b[39m\n",
      "\u001b[37m[2023-11-09 15:20:29,628] [INFO] - cfdmod - Processing surface L2_yp (440998233.py:18)\u001b[39m\n",
      "\u001b[37m[2023-11-09 15:20:29,663] [INFO] - cfdmod - Processed surface L2_yp (440998233.py:29)\u001b[39m\n",
      "\u001b[37m[2023-11-09 15:20:29,663] [INFO] - cfdmod - Processing surface L3_zp_yp (440998233.py:18)\u001b[39m\n",
      "\u001b[37m[2023-11-09 15:20:29,691] [INFO] - cfdmod - Processed surface L3_zp_yp (440998233.py:29)\u001b[39m\n",
      "\u001b[37m[2023-11-09 15:20:29,692] [INFO] - cfdmod - Processing surface L4_zp_ym (440998233.py:18)\u001b[39m\n",
      "\u001b[37m[2023-11-09 15:20:29,719] [INFO] - cfdmod - Processed surface L4_zp_ym (440998233.py:29)\u001b[39m\n",
      "\u001b[37m[2023-11-09 15:20:29,719] [INFO] - cfdmod - Processing surface L5_ym (440998233.py:18)\u001b[39m\n",
      "\u001b[37m[2023-11-09 15:20:29,754] [INFO] - cfdmod - Processed surface L5_ym (440998233.py:29)\u001b[39m\n",
      "\u001b[37m[2023-11-09 15:20:29,754] [INFO] - cfdmod - Processing surface L6_xm (440998233.py:18)\u001b[39m\n",
      "\u001b[37m[2023-11-09 15:20:29,784] [INFO] - cfdmod - Processed surface L6_xm (440998233.py:29)\u001b[39m\n",
      "\u001b[37m[2023-11-09 15:20:29,785] [INFO] - cfdmod - Processing surface m1_yp (440998233.py:18)\u001b[39m\n",
      "\u001b[37m[2023-11-09 15:20:29,820] [INFO] - cfdmod - Processed surface m1_yp (440998233.py:29)\u001b[39m\n",
      "\u001b[37m[2023-11-09 15:20:29,821] [INFO] - cfdmod - Processing surface m2_zp (440998233.py:18)\u001b[39m\n",
      "\u001b[37m[2023-11-09 15:20:29,850] [INFO] - cfdmod - Processed surface m2_zp (440998233.py:29)\u001b[39m\n",
      "\u001b[37m[2023-11-09 15:20:29,851] [INFO] - cfdmod - Processing surface m3_zm (440998233.py:18)\u001b[39m\n",
      "\u001b[37m[2023-11-09 15:20:29,878] [INFO] - cfdmod - Processed surface m3_zm (440998233.py:29)\u001b[39m\n",
      "\u001b[37m[2023-11-09 15:20:29,878] [INFO] - cfdmod - Processing surface p1_xp (440998233.py:18)\u001b[39m\n",
      "\u001b[37m[2023-11-09 15:20:29,903] [INFO] - cfdmod - Processed surface p1_xp (440998233.py:29)\u001b[39m\n",
      "\u001b[37m[2023-11-09 15:20:29,904] [INFO] - cfdmod - Processing surface p2_xp (440998233.py:18)\u001b[39m\n",
      "\u001b[37m[2023-11-09 15:20:29,925] [INFO] - cfdmod - Processed surface p2_xp (440998233.py:29)\u001b[39m\n",
      "\u001b[37m[2023-11-09 15:20:29,926] [INFO] - cfdmod - Processing surface p3_ym (440998233.py:18)\u001b[39m\n",
      "\u001b[37m[2023-11-09 15:20:29,953] [INFO] - cfdmod - Processed surface p3_ym (440998233.py:29)\u001b[39m\n",
      "\u001b[37m[2023-11-09 15:20:29,954] [INFO] - cfdmod - Processing surface p4_ym (440998233.py:18)\u001b[39m\n",
      "\u001b[37m[2023-11-09 15:20:29,981] [INFO] - cfdmod - Processed surface p4_ym (440998233.py:29)\u001b[39m\n",
      "\u001b[37m[2023-11-09 15:20:29,982] [INFO] - cfdmod - Processing surface p5_ym (440998233.py:18)\u001b[39m\n",
      "\u001b[37m[2023-11-09 15:20:30,017] [INFO] - cfdmod - Processed surface p5_ym (440998233.py:29)\u001b[39m\n",
      "\u001b[37m[2023-11-09 15:20:30,018] [INFO] - cfdmod - Processing surface p6c_yp (440998233.py:18)\u001b[39m\n",
      "\u001b[37m[2023-11-09 15:20:30,044] [INFO] - cfdmod - Processed surface p6c_yp (440998233.py:29)\u001b[39m\n",
      "\u001b[37m[2023-11-09 15:20:30,044] [INFO] - cfdmod - Processing surface p7_xm (440998233.py:18)\u001b[39m\n",
      "\u001b[37m[2023-11-09 15:20:30,068] [INFO] - cfdmod - Processed surface p7_xm (440998233.py:29)\u001b[39m\n",
      "\u001b[37m[2023-11-09 15:20:30,069] [INFO] - cfdmod - Processing surface p8_yp (440998233.py:18)\u001b[39m\n",
      "\u001b[37m[2023-11-09 15:20:30,094] [INFO] - cfdmod - Processed surface p8_yp (440998233.py:29)\u001b[39m\n",
      "\u001b[37m[2023-11-09 15:20:30,095] [INFO] - cfdmod - Processing surface p9_yp (440998233.py:18)\u001b[39m\n",
      "\u001b[37m[2023-11-09 15:20:30,120] [INFO] - cfdmod - Processed surface p9_yp (440998233.py:29)\u001b[39m\n",
      "\u001b[37m[2023-11-09 15:20:30,121] [INFO] - cfdmod - Processing surface t1_ym (440998233.py:18)\u001b[39m\n",
      "\u001b[37m[2023-11-09 15:20:30,183] [INFO] - cfdmod - Processed surface t1_ym (440998233.py:29)\u001b[39m\n",
      "\u001b[37m[2023-11-09 15:20:30,184] [INFO] - cfdmod - Processing surface t2_yp (440998233.py:18)\u001b[39m\n",
      "\u001b[37m[2023-11-09 15:20:30,231] [INFO] - cfdmod - Processed surface t2_yp (440998233.py:29)\u001b[39m\n",
      "\u001b[37m[2023-11-09 15:20:30,257] [INFO] - cfdmod - Merged polydata for measurement_3 (440998233.py:50)\u001b[39m\n"
     ]
    }
   ],
   "source": [
    "from cfdmod.api.vtk.write_vtk import write_polydata, merge_polydata\n",
    "from cfdmod.logger import logger\n",
    "from cfdmod.use_cases.pressure.shape.Ce_data import process_surface, get_surfaces_raw_data\n",
    "from cfdmod.use_cases.pressure.geometry import get_excluded_surfaces, create_NaN_polydata\n",
    "\n",
    "n_timesteps = cp_data_to_use[\"time_step\"].unique().shape[0]\n",
    "\n",
    "for cfg_label, cfg in post_proc_cfg.shape_coefficient.items():\n",
    "    processed_polydata = []\n",
    "    logger.info(f\"Processing {cfg_label} ...\")\n",
    "\n",
    "    sfc_dict = {set_lbl: sfc_list for set_lbl, sfc_list in cfg.sets.items()}\n",
    "    sfc_dict |= {sfc: [sfc] for sfc in mesh.surfaces.keys() if sfc not in cfg.surfaces_in_sets}\n",
    "\n",
    "    data_columns = []\n",
    "    surfaces_to_process = get_surfaces_raw_data(surface_dict=sfc_dict, cfg=cfg, mesh=mesh)\n",
    "    for sfc_lbl, raw_surface in surfaces_to_process.items():\n",
    "        logger.info(f\"Processing surface {sfc_lbl}\")\n",
    "\n",
    "        processed_surface = process_surface(\n",
    "            raw_surface=raw_surface,\n",
    "            cfg=cfg,\n",
    "            cp_data=cp_data_to_use,\n",
    "            n_timesteps=n_timesteps,\n",
    "        )\n",
    "        processed_polydata.append(processed_surface.polydata)\n",
    "        data_columns = processed_surface.surface_ce_stats.columns\n",
    "\n",
    "        logger.info(f\"Processed surface {sfc_lbl}\")\n",
    "\n",
    "    sfc_list = [sfc for sfc in cfg.zoning.exclude if sfc in mesh.surfaces.keys()]\n",
    "    sfc_list += [\n",
    "        sfc\n",
    "        for set_lbl, sfc_set in cfg.sets.items()\n",
    "        for sfc in sfc_set\n",
    "        if set_lbl in cfg.zoning.exclude\n",
    "    ]\n",
    "    if len(sfc_list) != 0:\n",
    "        excluded_sfcs = get_excluded_surfaces(mesh=mesh, sfc_list=sfc_list)\n",
    "        excluded_sfcs.export_stl(path_manager.get_excluded_surface_path(cfg_label))\n",
    "        # Include polydata with NaN values\n",
    "        columns = [col for col in data_columns if col not in [\"point_idx\", \"region_idx\"]]\n",
    "        excluded_polydata = create_NaN_polydata(mesh=excluded_sfcs, column_labels=columns)\n",
    "        processed_polydata.append(excluded_polydata)\n",
    "        \n",
    "    # Output 5: VTK\n",
    "    merged_polydata = merge_polydata(processed_polydata)\n",
    "    write_polydata(path_manager.get_vtp_path(mesh.name, cfg_label), merged_polydata)\n",
    "\n",
    "    logger.info(f\"Merged polydata for {cfg_label}\")"
   ]
  }
 ],
 "metadata": {
  "kernelspec": {
   "display_name": "cfdmod-6zl7i90Q-py3.11",
   "language": "python",
   "name": "python3"
  },
  "language_info": {
   "codemirror_mode": {
    "name": "ipython",
    "version": 3
   },
   "file_extension": ".py",
   "mimetype": "text/x-python",
   "name": "python",
   "nbconvert_exporter": "python",
   "pygments_lexer": "ipython3",
   "version": "3.10.11"
  }
 },
 "nbformat": 4,
 "nbformat_minor": 2
}
