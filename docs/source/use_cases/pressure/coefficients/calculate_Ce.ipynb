{
 "cells": [
  {
   "cell_type": "markdown",
   "metadata": {},
   "source": [
    "# Generate shape coefficients"
   ]
  },
  {
   "cell_type": "markdown",
   "metadata": {},
   "source": [
    "The following steps are performed to obtain all the artifacts for shape coefficient use case:\n",
    "\n",
    "1. Read parameters file\n",
    "2. Read Mesh description\n",
    "   * Its path can be specified\n",
    "   * Or it can be obtained from the simulation configuration file\n",
    "3. Read data for pressure coefficient"
   ]
  },
  {
   "cell_type": "markdown",
   "metadata": {},
   "source": [
    "Initialize Path Manager"
   ]
  },
  {
   "cell_type": "code",
   "execution_count": 1,
   "metadata": {},
   "outputs": [],
   "source": [
    "from cfdmod.use_cases.pressure.path_manager import CePathManager\n",
    "import pathlib\n",
    "\n",
    "path_manager = CePathManager(output_path=pathlib.Path(\"./output/pressure\"))"
   ]
  },
  {
   "cell_type": "markdown",
   "metadata": {},
   "source": [
    "Read post-processing Ce config file"
   ]
  },
  {
   "cell_type": "code",
   "execution_count": 2,
   "metadata": {},
   "outputs": [
    {
     "data": {
      "text/plain": [
       "CeCaseConfig(shape_coefficient={'measurement_1': CeConfig(zoning=ZoningConfig(global_zoning=ZoningModel(x_intervals=[0.0, 25.0, 50.0, 75.0, 100.0, 125.0, 150.0, 175.0, 200.0, 225.0, 250.0], y_intervals=[0.0, 25.0, 50.0, 75.0, 100.0, 125.0, 150.0, 175.0, 200.0], z_intervals=[0.0, 5.0, 10.0, 15.0, 20.0]), no_zoning=['t1_ym'], exclude=['p1_xp'], exceptions={'zoning1': ExceptionZoningModel(x_intervals=[0.0, 25.0, 50.0, 75.0, 100.0, 125.0, 150.0, 175.0, 200.0, 225.0, 250.0], y_intervals=[0.0, 25.0, 50.0, 75.0, 100.0, 125.0, 150.0, 175.0, 200.0], z_intervals=[0.0, 20.0], surfaces=['t2_yp'])}), statistics=['min', 'max', 'std', 'avg', 'skewness', 'kurtosis'], sets={'lanternim': ['L1_xp', 'L2_yp', 'L3_zp_yp', 'L4_zp_ym', 'L5_ym', 'L6_xm']}, transformation=GeometryTransformationConfig(translation=(0, 0, 0), rotation=(0.0, 0.0, 0.0), fixed_point=(0, 0, 0), scale=(1, 1, 1))), 'measurement_2': CeConfig(zoning=ZoningConfig(global_zoning=ZoningModel(x_intervals=[0.0, 250.0], y_intervals=[0.0, 200.0], z_intervals=[0.0, 20.0]), no_zoning=['t2_yp'], exclude=['lanternim', 't1_ym'], exceptions={}), statistics=['min', 'max', 'std', 'avg', 'skewness', 'kurtosis'], sets={'lanternim': ['L1_xp', 'L2_yp', 'L3_zp_yp', 'L4_zp_ym', 'L5_ym', 'L6_xm']}, transformation=GeometryTransformationConfig(translation=(0, 0, 0), rotation=(0.0, 0.0, 0.0), fixed_point=(0, 0, 0), scale=(1, 1, 1))), 'measurement_3': CeConfig(zoning=ZoningConfig(global_zoning=ZoningModel(x_intervals=[0.0, 125.0, 250.0], y_intervals=[-inf, inf], z_intervals=[-inf, inf]), no_zoning=[], exclude=[], exceptions={}), statistics=['min', 'max', 'std', 'avg', 'skewness', 'kurtosis'], sets={}, transformation=GeometryTransformationConfig(translation=(0, 0, 0), rotation=(0.0, 0.0, 0.0), fixed_point=(0, 0, 0), scale=(1, 1, 1)))})"
      ]
     },
     "execution_count": 2,
     "metadata": {},
     "output_type": "execute_result"
    }
   ],
   "source": [
    "from cfdmod.use_cases.pressure.shape.Ce_config import CeCaseConfig\n",
    "\n",
    "config_path = pathlib.Path(\"./fixtures/tests/pressure/Ce_params.yaml\")\n",
    "post_proc_cfg = CeCaseConfig.from_file(config_path)\n",
    "\n",
    "post_proc_cfg"
   ]
  },
  {
   "cell_type": "markdown",
   "metadata": {},
   "source": [
    "Read LNAS Mesh"
   ]
  },
  {
   "cell_type": "code",
   "execution_count": 3,
   "metadata": {},
   "outputs": [
    {
     "data": {
      "text/plain": [
       "('galpao', (1549, 3), (2915, 3))"
      ]
     },
     "execution_count": 3,
     "metadata": {},
     "output_type": "execute_result"
    }
   ],
   "source": [
    "from lnas import LnasFormat\n",
    "\n",
    "mesh_path = pathlib.Path(\"./fixtures/tests/pressure/galpao/galpao.normalized.lnas\")\n",
    "mesh = LnasFormat.from_file(mesh_path)\n",
    "\n",
    "mesh.name, mesh.geometry.vertices.shape, mesh.geometry.triangles.shape"
   ]
  },
  {
   "cell_type": "markdown",
   "metadata": {},
   "source": [
    "Read Pressure Coefficient data"
   ]
  },
  {
   "cell_type": "code",
   "execution_count": 4,
   "metadata": {},
   "outputs": [],
   "source": [
    "import pandas as pd\n",
    "\n",
    "cp_data_path = pathlib.Path(\"./fixtures/tests/pressure/data/cp_t.resampled.hdf\")\n",
    "cp_data = pd.read_hdf(cp_data_path)\n",
    "\n",
    "cp_data_to_use = cp_data.to_frame() if isinstance(cp_data, pd.Series) else cp_data"
   ]
  },
  {
   "cell_type": "markdown",
   "metadata": {},
   "source": [
    "Add region index to pressure coefficient data"
   ]
  },
  {
   "cell_type": "code",
   "execution_count": 5,
   "metadata": {},
   "outputs": [
    {
     "name": "stdout",
     "output_type": "stream",
     "text": [
      "\u001b[37m[2023-11-13 15:03:11,480] [INFO] - cfdmod - Processing measurement_1 ... (440998233.py:10)\u001b[39m\n",
      "\u001b[37m[2023-11-13 15:03:11,483] [INFO] - cfdmod - Surface p1_xp ignored! (Ce_data.py:77)\u001b[39m\n",
      "\u001b[37m[2023-11-13 15:03:11,486] [INFO] - cfdmod - Processing surface lanternim (440998233.py:18)\u001b[39m\n",
      "\u001b[37m[2023-11-13 15:03:11,809] [INFO] - cfdmod - Processed surface lanternim (440998233.py:29)\u001b[39m\n",
      "\u001b[37m[2023-11-13 15:03:11,810] [INFO] - cfdmod - Processing surface m1_yp (440998233.py:18)\u001b[39m\n",
      "\u001b[37m[2023-11-13 15:03:11,865] [INFO] - cfdmod - Processed surface m1_yp (440998233.py:29)\u001b[39m\n",
      "\u001b[37m[2023-11-13 15:03:11,866] [INFO] - cfdmod - Processing surface m2_zp (440998233.py:18)\u001b[39m\n",
      "\u001b[37m[2023-11-13 15:03:11,930] [INFO] - cfdmod - Processed surface m2_zp (440998233.py:29)\u001b[39m\n",
      "\u001b[37m[2023-11-13 15:03:11,930] [INFO] - cfdmod - Processing surface m3_zm (440998233.py:18)\u001b[39m\n",
      "\u001b[37m[2023-11-13 15:03:12,003] [INFO] - cfdmod - Processed surface m3_zm (440998233.py:29)\u001b[39m\n",
      "\u001b[37m[2023-11-13 15:03:12,004] [INFO] - cfdmod - Processing surface p2_xp (440998233.py:18)\u001b[39m\n",
      "\u001b[33m[2023-11-13 15:03:12,052] [WARNING] - cfdmod - Region refinement is greater than data refinement. Resulted in NaN values (Ce_data.py:187)\u001b[39m\n",
      "\u001b[37m[2023-11-13 15:03:12,054] [INFO] - cfdmod - Processed surface p2_xp (440998233.py:29)\u001b[39m\n",
      "\u001b[37m[2023-11-13 15:03:12,055] [INFO] - cfdmod - Processing surface p3_ym (440998233.py:18)\u001b[39m\n",
      "\u001b[33m[2023-11-13 15:03:12,119] [WARNING] - cfdmod - Region refinement is greater than data refinement. Resulted in NaN values (Ce_data.py:187)\u001b[39m\n",
      "\u001b[37m[2023-11-13 15:03:12,122] [INFO] - cfdmod - Processed surface p3_ym (440998233.py:29)\u001b[39m\n",
      "\u001b[37m[2023-11-13 15:03:12,122] [INFO] - cfdmod - Processing surface p4_ym (440998233.py:18)\u001b[39m\n",
      "\u001b[37m[2023-11-13 15:03:12,185] [INFO] - cfdmod - Processed surface p4_ym (440998233.py:29)\u001b[39m\n",
      "\u001b[37m[2023-11-13 15:03:12,186] [INFO] - cfdmod - Processing surface p5_ym (440998233.py:18)\u001b[39m\n",
      "\u001b[37m[2023-11-13 15:03:12,247] [INFO] - cfdmod - Processed surface p5_ym (440998233.py:29)\u001b[39m\n",
      "\u001b[37m[2023-11-13 15:03:12,248] [INFO] - cfdmod - Processing surface p6c_yp (440998233.py:18)\u001b[39m\n",
      "\u001b[33m[2023-11-13 15:03:12,282] [WARNING] - cfdmod - Region refinement is greater than data refinement. Resulted in NaN values (Ce_data.py:187)\u001b[39m\n",
      "\u001b[37m[2023-11-13 15:03:12,284] [INFO] - cfdmod - Processed surface p6c_yp (440998233.py:29)\u001b[39m\n",
      "\u001b[37m[2023-11-13 15:03:12,284] [INFO] - cfdmod - Processing surface p7_xm (440998233.py:18)\u001b[39m\n",
      "\u001b[33m[2023-11-13 15:03:12,343] [WARNING] - cfdmod - Region refinement is greater than data refinement. Resulted in NaN values (Ce_data.py:187)\u001b[39m\n",
      "\u001b[37m[2023-11-13 15:03:12,347] [INFO] - cfdmod - Processed surface p7_xm (440998233.py:29)\u001b[39m\n",
      "\u001b[37m[2023-11-13 15:03:12,347] [INFO] - cfdmod - Processing surface p8_yp (440998233.py:18)\u001b[39m\n",
      "\u001b[37m[2023-11-13 15:03:12,411] [INFO] - cfdmod - Processed surface p8_yp (440998233.py:29)\u001b[39m\n",
      "\u001b[37m[2023-11-13 15:03:12,412] [INFO] - cfdmod - Processing surface p9_yp (440998233.py:18)\u001b[39m\n",
      "\u001b[33m[2023-11-13 15:03:12,472] [WARNING] - cfdmod - Region refinement is greater than data refinement. Resulted in NaN values (Ce_data.py:187)\u001b[39m\n",
      "\u001b[37m[2023-11-13 15:03:12,475] [INFO] - cfdmod - Processed surface p9_yp (440998233.py:29)\u001b[39m\n",
      "\u001b[37m[2023-11-13 15:03:12,476] [INFO] - cfdmod - Processing surface t1_ym (440998233.py:18)\u001b[39m\n",
      "\u001b[37m[2023-11-13 15:03:12,517] [INFO] - cfdmod - Processed surface t1_ym (440998233.py:29)\u001b[39m\n",
      "\u001b[37m[2023-11-13 15:03:12,517] [INFO] - cfdmod - Processing surface t2_yp (440998233.py:18)\u001b[39m\n",
      "\u001b[37m[2023-11-13 15:03:12,779] [INFO] - cfdmod - Processed surface t2_yp (440998233.py:29)\u001b[39m\n",
      "\u001b[37m[2023-11-13 15:03:12,829] [INFO] - cfdmod - Merged polydata for measurement_1 (440998233.py:50)\u001b[39m\n",
      "\u001b[37m[2023-11-13 15:03:12,829] [INFO] - cfdmod - Processing measurement_2 ... (440998233.py:10)\u001b[39m\n",
      "\u001b[37m[2023-11-13 15:03:12,830] [INFO] - cfdmod - Surface lanternim ignored! (Ce_data.py:77)\u001b[39m\n",
      "\u001b[37m[2023-11-13 15:03:12,834] [INFO] - cfdmod - Surface t1_ym ignored! (Ce_data.py:77)\u001b[39m\n",
      "\u001b[37m[2023-11-13 15:03:12,835] [INFO] - cfdmod - Processing surface m1_yp (440998233.py:18)\u001b[39m\n",
      "\u001b[37m[2023-11-13 15:03:12,860] [INFO] - cfdmod - Processed surface m1_yp (440998233.py:29)\u001b[39m\n",
      "\u001b[37m[2023-11-13 15:03:12,861] [INFO] - cfdmod - Processing surface m2_zp (440998233.py:18)\u001b[39m\n",
      "\u001b[37m[2023-11-13 15:03:12,887] [INFO] - cfdmod - Processed surface m2_zp (440998233.py:29)\u001b[39m\n",
      "\u001b[37m[2023-11-13 15:03:12,888] [INFO] - cfdmod - Processing surface m3_zm (440998233.py:18)\u001b[39m\n",
      "\u001b[37m[2023-11-13 15:03:12,914] [INFO] - cfdmod - Processed surface m3_zm (440998233.py:29)\u001b[39m\n",
      "\u001b[37m[2023-11-13 15:03:12,914] [INFO] - cfdmod - Processing surface p1_xp (440998233.py:18)\u001b[39m\n",
      "\u001b[37m[2023-11-13 15:03:12,941] [INFO] - cfdmod - Processed surface p1_xp (440998233.py:29)\u001b[39m\n",
      "\u001b[37m[2023-11-13 15:03:12,942] [INFO] - cfdmod - Processing surface p2_xp (440998233.py:18)\u001b[39m\n",
      "\u001b[37m[2023-11-13 15:03:12,967] [INFO] - cfdmod - Processed surface p2_xp (440998233.py:29)\u001b[39m\n",
      "\u001b[37m[2023-11-13 15:03:12,968] [INFO] - cfdmod - Processing surface p3_ym (440998233.py:18)\u001b[39m\n",
      "\u001b[37m[2023-11-13 15:03:12,995] [INFO] - cfdmod - Processed surface p3_ym (440998233.py:29)\u001b[39m\n",
      "\u001b[37m[2023-11-13 15:03:12,996] [INFO] - cfdmod - Processing surface p4_ym (440998233.py:18)\u001b[39m\n",
      "\u001b[37m[2023-11-13 15:03:13,021] [INFO] - cfdmod - Processed surface p4_ym (440998233.py:29)\u001b[39m\n",
      "\u001b[37m[2023-11-13 15:03:13,022] [INFO] - cfdmod - Processing surface p5_ym (440998233.py:18)\u001b[39m\n",
      "\u001b[37m[2023-11-13 15:03:13,047] [INFO] - cfdmod - Processed surface p5_ym (440998233.py:29)\u001b[39m\n",
      "\u001b[37m[2023-11-13 15:03:13,048] [INFO] - cfdmod - Processing surface p6c_yp (440998233.py:18)\u001b[39m\n",
      "\u001b[37m[2023-11-13 15:03:13,072] [INFO] - cfdmod - Processed surface p6c_yp (440998233.py:29)\u001b[39m\n",
      "\u001b[37m[2023-11-13 15:03:13,073] [INFO] - cfdmod - Processing surface p7_xm (440998233.py:18)\u001b[39m\n",
      "\u001b[37m[2023-11-13 15:03:13,096] [INFO] - cfdmod - Processed surface p7_xm (440998233.py:29)\u001b[39m\n",
      "\u001b[37m[2023-11-13 15:03:13,097] [INFO] - cfdmod - Processing surface p8_yp (440998233.py:18)\u001b[39m\n",
      "\u001b[37m[2023-11-13 15:03:13,122] [INFO] - cfdmod - Processed surface p8_yp (440998233.py:29)\u001b[39m\n",
      "\u001b[37m[2023-11-13 15:03:13,123] [INFO] - cfdmod - Processing surface p9_yp (440998233.py:18)\u001b[39m\n",
      "\u001b[37m[2023-11-13 15:03:13,148] [INFO] - cfdmod - Processed surface p9_yp (440998233.py:29)\u001b[39m\n",
      "\u001b[37m[2023-11-13 15:03:13,149] [INFO] - cfdmod - Processing surface t2_yp (440998233.py:18)\u001b[39m\n",
      "\u001b[37m[2023-11-13 15:03:13,183] [INFO] - cfdmod - Processed surface t2_yp (440998233.py:29)\u001b[39m\n",
      "\u001b[37m[2023-11-13 15:03:13,251] [INFO] - cfdmod - Merged polydata for measurement_2 (440998233.py:50)\u001b[39m\n",
      "\u001b[37m[2023-11-13 15:03:13,252] [INFO] - cfdmod - Processing measurement_3 ... (440998233.py:10)\u001b[39m\n",
      "\u001b[37m[2023-11-13 15:03:13,258] [INFO] - cfdmod - Processing surface L1_xp (440998233.py:18)\u001b[39m\n",
      "\u001b[37m[2023-11-13 15:03:13,283] [INFO] - cfdmod - Processed surface L1_xp (440998233.py:29)\u001b[39m\n",
      "\u001b[37m[2023-11-13 15:03:13,284] [INFO] - cfdmod - Processing surface L2_yp (440998233.py:18)\u001b[39m\n",
      "\u001b[37m[2023-11-13 15:03:13,326] [INFO] - cfdmod - Processed surface L2_yp (440998233.py:29)\u001b[39m\n",
      "\u001b[37m[2023-11-13 15:03:13,327] [INFO] - cfdmod - Processing surface L3_zp_yp (440998233.py:18)\u001b[39m\n",
      "\u001b[37m[2023-11-13 15:03:13,355] [INFO] - cfdmod - Processed surface L3_zp_yp (440998233.py:29)\u001b[39m\n",
      "\u001b[37m[2023-11-13 15:03:13,356] [INFO] - cfdmod - Processing surface L4_zp_ym (440998233.py:18)\u001b[39m\n",
      "\u001b[37m[2023-11-13 15:03:13,385] [INFO] - cfdmod - Processed surface L4_zp_ym (440998233.py:29)\u001b[39m\n",
      "\u001b[37m[2023-11-13 15:03:13,385] [INFO] - cfdmod - Processing surface L5_ym (440998233.py:18)\u001b[39m\n",
      "\u001b[37m[2023-11-13 15:03:13,438] [INFO] - cfdmod - Processed surface L5_ym (440998233.py:29)\u001b[39m\n",
      "\u001b[37m[2023-11-13 15:03:13,439] [INFO] - cfdmod - Processing surface L6_xm (440998233.py:18)\u001b[39m\n",
      "\u001b[37m[2023-11-13 15:03:13,473] [INFO] - cfdmod - Processed surface L6_xm (440998233.py:29)\u001b[39m\n",
      "\u001b[37m[2023-11-13 15:03:13,474] [INFO] - cfdmod - Processing surface m1_yp (440998233.py:18)\u001b[39m\n",
      "\u001b[37m[2023-11-13 15:03:13,503] [INFO] - cfdmod - Processed surface m1_yp (440998233.py:29)\u001b[39m\n",
      "\u001b[37m[2023-11-13 15:03:13,504] [INFO] - cfdmod - Processing surface m2_zp (440998233.py:18)\u001b[39m\n",
      "\u001b[37m[2023-11-13 15:03:13,532] [INFO] - cfdmod - Processed surface m2_zp (440998233.py:29)\u001b[39m\n",
      "\u001b[37m[2023-11-13 15:03:13,533] [INFO] - cfdmod - Processing surface m3_zm (440998233.py:18)\u001b[39m\n",
      "\u001b[37m[2023-11-13 15:03:13,561] [INFO] - cfdmod - Processed surface m3_zm (440998233.py:29)\u001b[39m\n",
      "\u001b[37m[2023-11-13 15:03:13,562] [INFO] - cfdmod - Processing surface p1_xp (440998233.py:18)\u001b[39m\n",
      "\u001b[37m[2023-11-13 15:03:13,590] [INFO] - cfdmod - Processed surface p1_xp (440998233.py:29)\u001b[39m\n",
      "\u001b[37m[2023-11-13 15:03:13,590] [INFO] - cfdmod - Processing surface p2_xp (440998233.py:18)\u001b[39m\n",
      "\u001b[37m[2023-11-13 15:03:13,617] [INFO] - cfdmod - Processed surface p2_xp (440998233.py:29)\u001b[39m\n",
      "\u001b[37m[2023-11-13 15:03:13,617] [INFO] - cfdmod - Processing surface p3_ym (440998233.py:18)\u001b[39m\n",
      "\u001b[37m[2023-11-13 15:03:13,647] [INFO] - cfdmod - Processed surface p3_ym (440998233.py:29)\u001b[39m\n",
      "\u001b[37m[2023-11-13 15:03:13,648] [INFO] - cfdmod - Processing surface p4_ym (440998233.py:18)\u001b[39m\n",
      "\u001b[37m[2023-11-13 15:03:13,674] [INFO] - cfdmod - Processed surface p4_ym (440998233.py:29)\u001b[39m\n",
      "\u001b[37m[2023-11-13 15:03:13,675] [INFO] - cfdmod - Processing surface p5_ym (440998233.py:18)\u001b[39m\n",
      "\u001b[37m[2023-11-13 15:03:13,710] [INFO] - cfdmod - Processed surface p5_ym (440998233.py:29)\u001b[39m\n",
      "\u001b[37m[2023-11-13 15:03:13,711] [INFO] - cfdmod - Processing surface p6c_yp (440998233.py:18)\u001b[39m\n",
      "\u001b[37m[2023-11-13 15:03:13,735] [INFO] - cfdmod - Processed surface p6c_yp (440998233.py:29)\u001b[39m\n",
      "\u001b[37m[2023-11-13 15:03:13,736] [INFO] - cfdmod - Processing surface p7_xm (440998233.py:18)\u001b[39m\n",
      "\u001b[37m[2023-11-13 15:03:13,760] [INFO] - cfdmod - Processed surface p7_xm (440998233.py:29)\u001b[39m\n",
      "\u001b[37m[2023-11-13 15:03:13,761] [INFO] - cfdmod - Processing surface p8_yp (440998233.py:18)\u001b[39m\n",
      "\u001b[37m[2023-11-13 15:03:13,789] [INFO] - cfdmod - Processed surface p8_yp (440998233.py:29)\u001b[39m\n",
      "\u001b[37m[2023-11-13 15:03:13,789] [INFO] - cfdmod - Processing surface p9_yp (440998233.py:18)\u001b[39m\n",
      "\u001b[37m[2023-11-13 15:03:13,818] [INFO] - cfdmod - Processed surface p9_yp (440998233.py:29)\u001b[39m\n",
      "\u001b[37m[2023-11-13 15:03:13,819] [INFO] - cfdmod - Processing surface t1_ym (440998233.py:18)\u001b[39m\n",
      "\u001b[37m[2023-11-13 15:03:13,889] [INFO] - cfdmod - Processed surface t1_ym (440998233.py:29)\u001b[39m\n",
      "\u001b[37m[2023-11-13 15:03:13,890] [INFO] - cfdmod - Processing surface t2_yp (440998233.py:18)\u001b[39m\n",
      "\u001b[37m[2023-11-13 15:03:13,950] [INFO] - cfdmod - Processed surface t2_yp (440998233.py:29)\u001b[39m\n",
      "\u001b[37m[2023-11-13 15:03:13,994] [INFO] - cfdmod - Merged polydata for measurement_3 (440998233.py:50)\u001b[39m\n"
     ]
    }
   ],
   "source": [
    "from cfdmod.api.vtk.write_vtk import write_polydata, merge_polydata\n",
    "from cfdmod.logger import logger\n",
    "from cfdmod.use_cases.pressure.shape.Ce_data import process_surface, get_surfaces_raw_data\n",
    "from cfdmod.use_cases.pressure.geometry import get_excluded_surfaces, create_NaN_polydata\n",
    "\n",
    "n_timesteps = cp_data_to_use[\"time_step\"].unique().shape[0]\n",
    "\n",
    "for cfg_label, cfg in post_proc_cfg.shape_coefficient.items():\n",
    "    processed_polydata = []\n",
    "    logger.info(f\"Processing {cfg_label} ...\")\n",
    "\n",
    "    sfc_dict = {set_lbl: sfc_list for set_lbl, sfc_list in cfg.sets.items()}\n",
    "    sfc_dict |= {sfc: [sfc] for sfc in mesh.surfaces.keys() if sfc not in cfg.surfaces_in_sets}\n",
    "\n",
    "    data_columns = []\n",
    "    surfaces_to_process = get_surfaces_raw_data(surface_dict=sfc_dict, cfg=cfg, mesh=mesh)\n",
    "    for sfc_lbl, raw_surface in surfaces_to_process.items():\n",
    "        logger.info(f\"Processing surface {sfc_lbl}\")\n",
    "\n",
    "        processed_surface = process_surface(\n",
    "            raw_surface=raw_surface,\n",
    "            cfg=cfg,\n",
    "            cp_data=cp_data_to_use,\n",
    "            n_timesteps=n_timesteps,\n",
    "        )\n",
    "        processed_polydata.append(processed_surface.polydata)\n",
    "        data_columns = processed_surface.surface_ce_stats.columns\n",
    "\n",
    "        logger.info(f\"Processed surface {sfc_lbl}\")\n",
    "\n",
    "    sfc_list = [sfc for sfc in cfg.zoning.exclude if sfc in mesh.surfaces.keys()]\n",
    "    sfc_list += [\n",
    "        sfc\n",
    "        for set_lbl, sfc_set in cfg.sets.items()\n",
    "        for sfc in sfc_set\n",
    "        if set_lbl in cfg.zoning.exclude\n",
    "    ]\n",
    "    if len(sfc_list) != 0:\n",
    "        excluded_sfcs = get_excluded_surfaces(mesh=mesh, sfc_list=sfc_list)\n",
    "        excluded_sfcs.export_stl(path_manager.get_excluded_surface_path(cfg_label))\n",
    "        # Include polydata with NaN values\n",
    "        columns = [col for col in data_columns if col not in [\"point_idx\", \"region_idx\"]]\n",
    "        excluded_polydata = create_NaN_polydata(mesh=excluded_sfcs, column_labels=columns)\n",
    "        processed_polydata.append(excluded_polydata)\n",
    "\n",
    "    # Output 5: VTK\n",
    "    merged_polydata = merge_polydata(processed_polydata)\n",
    "    write_polydata(path_manager.get_vtp_path(mesh.name, cfg_label), merged_polydata)\n",
    "\n",
    "    logger.info(f\"Merged polydata for {cfg_label}\")"
   ]
  }
 ],
 "metadata": {
  "kernelspec": {
   "display_name": "cfdmod-6zl7i90Q-py3.11",
   "language": "python",
   "name": "python3"
  },
  "language_info": {
   "codemirror_mode": {
    "name": "ipython",
    "version": 3
   },
   "file_extension": ".py",
   "mimetype": "text/x-python",
   "name": "python",
   "nbconvert_exporter": "python",
   "pygments_lexer": "ipython3",
   "version": "3.10.11"
  }
 },
 "nbformat": 4,
 "nbformat_minor": 2
}
