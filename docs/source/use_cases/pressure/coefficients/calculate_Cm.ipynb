{
 "cells": [
  {
   "cell_type": "markdown",
   "metadata": {},
   "source": [
    "# Generate moment coefficients"
   ]
  },
  {
   "cell_type": "markdown",
   "metadata": {},
   "source": [
    "The following steps are performed to obtain all the artifacts for force coefficient use case:\n",
    "\n",
    "1. Read parameters file\n",
    "2. Read Mesh description\n",
    "   * Its path can be specified\n",
    "   * Or it can be obtained from the simulation configuration file\n",
    "3. Read data for pressure coefficient"
   ]
  },
  {
   "cell_type": "code",
   "execution_count": 1,
   "metadata": {},
   "outputs": [],
   "source": [
    "from cfdmod.use_cases.pressure.path_manager import CmPathManager\n",
    "import pathlib\n",
    "\n",
    "path_manager = CmPathManager(output_path=pathlib.Path(\"./output/pressure\"))"
   ]
  },
  {
   "cell_type": "markdown",
   "metadata": {},
   "source": [
    "Read parameters file"
   ]
  },
  {
   "cell_type": "code",
   "execution_count": 2,
   "metadata": {},
   "outputs": [
    {
     "data": {
      "text/plain": [
       "CmCaseConfig(bodies={'marquise': BodyConfig(surfaces=['m1_yp', 'm2_zp', 'm3_zm']), 'lanternim': BodyConfig(surfaces=['L1_xp', 'L2_yp', 'L3_zp_yp', 'L4_zp_ym', 'L5_ym', 'L6_xm']), 'building': BodyConfig(surfaces=[])}, moment_coefficient={'measurement_1': CmConfig(body='marquise', sub_bodies=ZoningModel(x_intervals=[-inf, inf], y_intervals=[-inf, inf], z_intervals=[-inf, inf]), variables=['Cmx', 'Cmy', 'Cmz'], lever_origin=(0.0, 10.0, 10.0), statistics=['min', 'max', 'std', 'avg', 'skewness', 'kurtosis']), 'measurement_2': CmConfig(body='building', sub_bodies=ZoningModel(x_intervals=[-inf, inf], y_intervals=[-inf, inf], z_intervals=[-inf, inf]), variables=['Cmx', 'Cmy', 'Cmz'], lever_origin=(0.0, 10.0, 10.0), statistics=['min', 'max', 'std', 'avg', 'skewness', 'kurtosis'])})"
      ]
     },
     "execution_count": 2,
     "metadata": {},
     "output_type": "execute_result"
    }
   ],
   "source": [
    "from cfdmod.use_cases.pressure.moment.Cm_config import CmCaseConfig\n",
    "\n",
    "config_path = pathlib.Path(\"./fixtures/tests/pressure/Cm_params.yaml\")\n",
    "post_proc_cfg = CmCaseConfig.from_file(config_path)\n",
    "\n",
    "post_proc_cfg"
   ]
  },
  {
   "cell_type": "markdown",
   "metadata": {},
   "source": [
    "Read mesh from file"
   ]
  },
  {
   "cell_type": "code",
   "execution_count": 3,
   "metadata": {},
   "outputs": [
    {
     "data": {
      "text/plain": [
       "('galpao', (1549, 3), (2915, 3))"
      ]
     },
     "execution_count": 3,
     "metadata": {},
     "output_type": "execute_result"
    }
   ],
   "source": [
    "from nassu.lnas import LagrangianFormat\n",
    "\n",
    "mesh_path = pathlib.Path(\"./fixtures/tests/pressure/galpao/galpao.normalized.lnas\")\n",
    "mesh = LagrangianFormat.from_file(mesh_path)\n",
    "\n",
    "mesh.name, mesh.geometry.vertices.shape, mesh.geometry.triangles.shape"
   ]
  },
  {
   "cell_type": "markdown",
   "metadata": {},
   "source": [
    "Read pressure coefficient data"
   ]
  },
  {
   "cell_type": "code",
   "execution_count": 4,
   "metadata": {},
   "outputs": [
    {
     "data": {
      "text/html": [
       "<div>\n",
       "<style scoped>\n",
       "    .dataframe tbody tr th:only-of-type {\n",
       "        vertical-align: middle;\n",
       "    }\n",
       "\n",
       "    .dataframe tbody tr th {\n",
       "        vertical-align: top;\n",
       "    }\n",
       "\n",
       "    .dataframe thead th {\n",
       "        text-align: right;\n",
       "    }\n",
       "</style>\n",
       "<table border=\"1\" class=\"dataframe\">\n",
       "  <thead>\n",
       "    <tr style=\"text-align: right;\">\n",
       "      <th></th>\n",
       "      <th>time_step</th>\n",
       "      <th>point_idx</th>\n",
       "      <th>cp</th>\n",
       "    </tr>\n",
       "  </thead>\n",
       "  <tbody>\n",
       "    <tr>\n",
       "      <th>0</th>\n",
       "      <td>10000.0</td>\n",
       "      <td>0</td>\n",
       "      <td>0.268273</td>\n",
       "    </tr>\n",
       "    <tr>\n",
       "      <th>1</th>\n",
       "      <td>10000.0</td>\n",
       "      <td>1</td>\n",
       "      <td>0.273546</td>\n",
       "    </tr>\n",
       "    <tr>\n",
       "      <th>2</th>\n",
       "      <td>10000.0</td>\n",
       "      <td>2</td>\n",
       "      <td>0.265319</td>\n",
       "    </tr>\n",
       "    <tr>\n",
       "      <th>3</th>\n",
       "      <td>10000.0</td>\n",
       "      <td>3</td>\n",
       "      <td>0.276913</td>\n",
       "    </tr>\n",
       "    <tr>\n",
       "      <th>4</th>\n",
       "      <td>10000.0</td>\n",
       "      <td>4</td>\n",
       "      <td>0.272593</td>\n",
       "    </tr>\n",
       "    <tr>\n",
       "      <th>...</th>\n",
       "      <td>...</td>\n",
       "      <td>...</td>\n",
       "      <td>...</td>\n",
       "    </tr>\n",
       "    <tr>\n",
       "      <th>294410</th>\n",
       "      <td>10100.0</td>\n",
       "      <td>2910</td>\n",
       "      <td>0.485344</td>\n",
       "    </tr>\n",
       "    <tr>\n",
       "      <th>294411</th>\n",
       "      <td>10100.0</td>\n",
       "      <td>2911</td>\n",
       "      <td>0.474767</td>\n",
       "    </tr>\n",
       "    <tr>\n",
       "      <th>294412</th>\n",
       "      <td>10100.0</td>\n",
       "      <td>2912</td>\n",
       "      <td>0.450817</td>\n",
       "    </tr>\n",
       "    <tr>\n",
       "      <th>294413</th>\n",
       "      <td>10100.0</td>\n",
       "      <td>2913</td>\n",
       "      <td>0.537118</td>\n",
       "    </tr>\n",
       "    <tr>\n",
       "      <th>294414</th>\n",
       "      <td>10100.0</td>\n",
       "      <td>2914</td>\n",
       "      <td>0.532989</td>\n",
       "    </tr>\n",
       "  </tbody>\n",
       "</table>\n",
       "<p>294415 rows × 3 columns</p>\n",
       "</div>"
      ],
      "text/plain": [
       "        time_step  point_idx        cp\n",
       "0         10000.0          0  0.268273\n",
       "1         10000.0          1  0.273546\n",
       "2         10000.0          2  0.265319\n",
       "3         10000.0          3  0.276913\n",
       "4         10000.0          4  0.272593\n",
       "...           ...        ...       ...\n",
       "294410    10100.0       2910  0.485344\n",
       "294411    10100.0       2911  0.474767\n",
       "294412    10100.0       2912  0.450817\n",
       "294413    10100.0       2913  0.537118\n",
       "294414    10100.0       2914  0.532989\n",
       "\n",
       "[294415 rows x 3 columns]"
      ]
     },
     "execution_count": 4,
     "metadata": {},
     "output_type": "execute_result"
    }
   ],
   "source": [
    "import pandas as pd\n",
    "\n",
    "cp_data_path = pathlib.Path(\"./fixtures/tests/pressure/data/cp_t.resampled.hdf\")\n",
    "cp_data = pd.read_hdf(cp_data_path)\n",
    "\n",
    "cp_data_to_use = cp_data.to_frame() if isinstance(cp_data, pd.Series) else cp_data\n",
    "cp_data_to_use"
   ]
  },
  {
   "cell_type": "markdown",
   "metadata": {},
   "source": [
    "Add areas to pressure coefficient data"
   ]
  },
  {
   "cell_type": "code",
   "execution_count": 5,
   "metadata": {},
   "outputs": [],
   "source": [
    "vec_areas = mesh.geometry._cross_prod() / 2\n",
    "areas_df = pd.DataFrame({\"Ax\": vec_areas[:, 0], \"Ay\": vec_areas[:, 1], \"Az\": vec_areas[:, 2]})\n",
    "areas_df[\"point_idx\"] = areas_df.index\n",
    "\n",
    "cp_data = pd.merge(cp_data, areas_df, on=\"point_idx\", how=\"left\")"
   ]
  },
  {
   "cell_type": "markdown",
   "metadata": {},
   "source": [
    "Calculate moment coefficient"
   ]
  },
  {
   "cell_type": "code",
   "execution_count": 6,
   "metadata": {},
   "outputs": [],
   "source": [
    "from cfdmod.use_cases.pressure.moment.Cm_data import process_body\n",
    "from cfdmod.use_cases.pressure.geometry import get_excluded_surfaces, create_NaN_data_for_mesh\n",
    "from cfdmod.api.vtk.write_vtk import create_polydata_for_cell_data, merge_polydata\n",
    "\n",
    "for cfg_label, cfg in post_proc_cfg.moment_coefficient.items():\n",
    "    body_label = cfg.body\n",
    "    body_cfg = post_proc_cfg.bodies[body_label]\n",
    "    processed_body = process_body(mesh=mesh, body_cfg=body_cfg, cp_data=cp_data, cfg=cfg)\n",
    "    \n",
    "    sfc_list = [\n",
    "        sfc for sfc in mesh.surfaces.keys() if sfc not in post_proc_cfg.bodies[body_label].surfaces\n",
    "    ]\n",
    "    \n",
    "    if len(sfc_list) != 0:\n",
    "        excluded_sfcs = get_excluded_surfaces(mesh=mesh, sfc_list=sfc_list)\n",
    "        excluded_sfcs.export_stl(path_manager.get_excluded_surface_path(cfg_label))\n",
    "        # Include polydata with NaN values\n",
    "        columns = [f\"{var}_{statistic}\" for statistic in cfg.statistics for var in cfg.variables]\n",
    "        excluded_data = create_NaN_data_for_mesh(mesh=excluded_sfcs, column_labels=columns)\n",
    "        excluded_polydata = create_polydata_for_cell_data(data=excluded_data, mesh=excluded_sfcs)\n",
    "        processed_body.polydata = merge_polydata([processed_body.polydata, excluded_polydata])\n",
    "        \n",
    "    processed_body.save_outputs(\n",
    "        body_label=body_label, cfg_label=cfg_label, path_manager=path_manager\n",
    "    )"
   ]
  }
 ],
 "metadata": {
  "kernelspec": {
   "display_name": "cfdmod-XMkUSlb0-py3.10",
   "language": "python",
   "name": "python3"
  },
  "language_info": {
   "codemirror_mode": {
    "name": "ipython",
    "version": 3
   },
   "file_extension": ".py",
   "mimetype": "text/x-python",
   "name": "python",
   "nbconvert_exporter": "python",
   "pygments_lexer": "ipython3",
   "version": "3.11.4"
  }
 },
 "nbformat": 4,
 "nbformat_minor": 2
}
