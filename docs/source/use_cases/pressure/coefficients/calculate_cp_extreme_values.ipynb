{
 "cells": [
  {
   "cell_type": "markdown",
   "metadata": {},
   "source": [
    "# Generate pressure coefficients"
   ]
  },
  {
   "cell_type": "markdown",
   "metadata": {},
   "source": [
    "The following steps are performed to obtain all the artifacts for pressure coefficient use case:\n",
    "\n",
    "1. Read parameters file\n",
    "2. Read Mesh description\n",
    "   * Its path can be specified\n",
    "   * Or it can be obtained from the simulation configuration file\n",
    "3. Read data\n",
    "   * For reference static pressure\n",
    "   * For body pressure data\n",
    "   * Slice from timestep range specified\n",
    "4. Transform pressure data into pressure coefficient\n",
    "5. Calculate pressure coefficient statistics\n",
    "6. Merge coefficient statistics with mesh description into VTK\n",
    "  \n",
    "  "
   ]
  },
  {
   "cell_type": "markdown",
   "metadata": {},
   "source": [
    "Initialize Path Manager"
   ]
  },
  {
   "cell_type": "code",
   "execution_count": 1,
   "metadata": {},
   "outputs": [],
   "source": [
    "from cfdmod.use_cases.pressure.path_manager import CpPathManager, copy_input_artifacts\n",
    "import pathlib\n",
    "\n",
    "path_manager = CpPathManager(output_path=pathlib.Path(\"./output/pressure\"))"
   ]
  },
  {
   "cell_type": "markdown",
   "metadata": {},
   "source": [
    "Read post-processing Cp config file"
   ]
  },
  {
   "cell_type": "code",
   "execution_count": 2,
   "metadata": {},
   "outputs": [
    {
     "data": {
      "text/plain": [
       "CpCaseConfig(pressure_coefficient={'default': CpConfig(timestep_range=(10000.0, 20000.0), reference_pressure='average', U_H=0.05, U_H_correction_factor=1, statistics=['min', 'max', 'std', 'mean', 'skewness', 'kurtosis', 'xtr_min', 'xtr_max'])}, extreme_values=ExtremeValuesParameters(CST_real=0.56, CST_sim=16.89, t=3.0, T0=60.0, T1=600.0, yR=1.4))"
      ]
     },
     "execution_count": 2,
     "metadata": {},
     "output_type": "execute_result"
    }
   ],
   "source": [
    "from cfdmod.use_cases.pressure.cp_config import CpCaseConfig\n",
    "\n",
    "cfg_path = pathlib.Path(\"./fixtures/tests/pressure/cp_params.yaml\")\n",
    "post_proc_cfg = CpCaseConfig.from_file(cfg_path)\n",
    "cfg = post_proc_cfg.pressure_coefficient[\"default\"]\n",
    "\n",
    "post_proc_cfg"
   ]
  },
  {
   "cell_type": "markdown",
   "metadata": {},
   "source": [
    "Read LNAS Mesh"
   ]
  },
  {
   "cell_type": "code",
   "execution_count": 3,
   "metadata": {},
   "outputs": [
    {
     "data": {
      "text/plain": [
       "('galpao', (1549, 3), (2915, 3))"
      ]
     },
     "execution_count": 3,
     "metadata": {},
     "output_type": "execute_result"
    }
   ],
   "source": [
    "from lnas import LnasFormat\n",
    "\n",
    "mesh_path = pathlib.Path(\"./fixtures/tests/pressure/galpao/galpao.lnas\")\n",
    "mesh = LnasFormat.from_file(mesh_path)\n",
    "\n",
    "mesh.name, mesh.geometry.vertices.shape, mesh.geometry.triangles.shape"
   ]
  },
  {
   "cell_type": "markdown",
   "metadata": {},
   "source": [
    "Read hist series and slice from the time range"
   ]
  },
  {
   "cell_type": "code",
   "execution_count": 4,
   "metadata": {},
   "outputs": [
    {
     "data": {
      "text/plain": [
       "(      point_idx       rho  time_step\n",
       " 2915          0  1.002515    10000.0\n",
       " 2915          0  1.002532    10001.0\n",
       " 2915          0  1.002549    10002.0\n",
       " 2915          0  1.002566    10003.0\n",
       " 2915          0  1.002583    10004.0\n",
       " ...         ...       ...        ...\n",
       " 2915          0  1.003020    10096.0\n",
       " 2915          0  1.003010    10097.0\n",
       " 2915          0  1.002998    10098.0\n",
       " 2915          0  1.002987    10099.0\n",
       " 2915          0  1.002974    10100.0\n",
       " \n",
       " [101 rows x 3 columns],\n",
       "       point_idx       rho  time_step\n",
       " 0             0  1.001819    10000.0\n",
       " 1             1  1.001838    10000.0\n",
       " 2             2  1.001808    10000.0\n",
       " 3             3  1.001851    10000.0\n",
       " 4             4  1.001835    10000.0\n",
       " ...         ...       ...        ...\n",
       " 2910       2910  1.002633    10100.0\n",
       " 2911       2911  1.002594    10100.0\n",
       " 2912       2912  1.002504    10100.0\n",
       " 2913       2913  1.002828    10100.0\n",
       " 2914       2914  1.002812    10100.0\n",
       " \n",
       " [294415 rows x 3 columns])"
      ]
     },
     "execution_count": 4,
     "metadata": {},
     "output_type": "execute_result"
    }
   ],
   "source": [
    "from cfdmod.use_cases.pressure.cp_data import filter_pressure_data\n",
    "import pandas as pd\n",
    "\n",
    "static_data_path = pathlib.Path(\n",
    "    \"./fixtures/tests/pressure/data/points.static_pressure.data.resampled.h5\"\n",
    ")\n",
    "body_data_path = pathlib.Path(\"./fixtures/tests/pressure/data/bodies.galpao.data.resampled.h5\")\n",
    "\n",
    "press_data: pd.DataFrame = pd.read_hdf(static_data_path)  # type: ignore\n",
    "body_data: pd.DataFrame = pd.read_hdf(body_data_path)  # type: ignore\n",
    "\n",
    "press_data, body_data = filter_pressure_data(press_data, body_data, cfg.timestep_range)\n",
    "\n",
    "press_data, body_data"
   ]
  },
  {
   "cell_type": "markdown",
   "metadata": {},
   "source": [
    "Transform pressure data into coefficient"
   ]
  },
  {
   "cell_type": "code",
   "execution_count": 5,
   "metadata": {},
   "outputs": [
    {
     "data": {
      "text/html": [
       "<div>\n",
       "<style scoped>\n",
       "    .dataframe tbody tr th:only-of-type {\n",
       "        vertical-align: middle;\n",
       "    }\n",
       "\n",
       "    .dataframe tbody tr th {\n",
       "        vertical-align: top;\n",
       "    }\n",
       "\n",
       "    .dataframe thead th {\n",
       "        text-align: right;\n",
       "    }\n",
       "</style>\n",
       "<table border=\"1\" class=\"dataframe\">\n",
       "  <thead>\n",
       "    <tr style=\"text-align: right;\">\n",
       "      <th></th>\n",
       "      <th>time_step</th>\n",
       "      <th>point_idx</th>\n",
       "      <th>cp</th>\n",
       "    </tr>\n",
       "  </thead>\n",
       "  <tbody>\n",
       "    <tr>\n",
       "      <th>0</th>\n",
       "      <td>10000.0</td>\n",
       "      <td>0</td>\n",
       "      <td>-0.311587</td>\n",
       "    </tr>\n",
       "    <tr>\n",
       "      <th>1</th>\n",
       "      <td>10000.0</td>\n",
       "      <td>1</td>\n",
       "      <td>-0.306326</td>\n",
       "    </tr>\n",
       "    <tr>\n",
       "      <th>2</th>\n",
       "      <td>10000.0</td>\n",
       "      <td>2</td>\n",
       "      <td>-0.314535</td>\n",
       "    </tr>\n",
       "    <tr>\n",
       "      <th>3</th>\n",
       "      <td>10000.0</td>\n",
       "      <td>3</td>\n",
       "      <td>-0.302966</td>\n",
       "    </tr>\n",
       "    <tr>\n",
       "      <th>4</th>\n",
       "      <td>10000.0</td>\n",
       "      <td>4</td>\n",
       "      <td>-0.307277</td>\n",
       "    </tr>\n",
       "    <tr>\n",
       "      <th>...</th>\n",
       "      <td>...</td>\n",
       "      <td>...</td>\n",
       "      <td>...</td>\n",
       "    </tr>\n",
       "    <tr>\n",
       "      <th>294410</th>\n",
       "      <td>10100.0</td>\n",
       "      <td>2910</td>\n",
       "      <td>-0.094988</td>\n",
       "    </tr>\n",
       "    <tr>\n",
       "      <th>294411</th>\n",
       "      <td>10100.0</td>\n",
       "      <td>2911</td>\n",
       "      <td>-0.105542</td>\n",
       "    </tr>\n",
       "    <tr>\n",
       "      <th>294412</th>\n",
       "      <td>10100.0</td>\n",
       "      <td>2912</td>\n",
       "      <td>-0.129440</td>\n",
       "    </tr>\n",
       "    <tr>\n",
       "      <th>294413</th>\n",
       "      <td>10100.0</td>\n",
       "      <td>2913</td>\n",
       "      <td>-0.043326</td>\n",
       "    </tr>\n",
       "    <tr>\n",
       "      <th>294414</th>\n",
       "      <td>10100.0</td>\n",
       "      <td>2914</td>\n",
       "      <td>-0.047446</td>\n",
       "    </tr>\n",
       "  </tbody>\n",
       "</table>\n",
       "<p>294415 rows × 3 columns</p>\n",
       "</div>"
      ],
      "text/plain": [
       "        time_step  point_idx        cp\n",
       "0         10000.0          0 -0.311587\n",
       "1         10000.0          1 -0.306326\n",
       "2         10000.0          2 -0.314535\n",
       "3         10000.0          3 -0.302966\n",
       "4         10000.0          4 -0.307277\n",
       "...           ...        ...       ...\n",
       "294410    10100.0       2910 -0.094988\n",
       "294411    10100.0       2911 -0.105542\n",
       "294412    10100.0       2912 -0.129440\n",
       "294413    10100.0       2913 -0.043326\n",
       "294414    10100.0       2914 -0.047446\n",
       "\n",
       "[294415 rows x 3 columns]"
      ]
     },
     "execution_count": 5,
     "metadata": {},
     "output_type": "execute_result"
    }
   ],
   "source": [
    "from cfdmod.use_cases.pressure.cp_data import transform_to_cp\n",
    "import numpy as np\n",
    "\n",
    "cp_data = transform_to_cp(\n",
    "    press_data,\n",
    "    body_data,\n",
    "    reference_vel=cfg.U_H,\n",
    "    ref_press_mode=cfg.reference_pressure,\n",
    "    correction_factor=cfg.U_H_correction_factor,\n",
    ")\n",
    "\n",
    "cp_data"
   ]
  },
  {
   "cell_type": "code",
   "execution_count": 9,
   "metadata": {},
   "outputs": [
    {
     "data": {
      "text/html": [
       "<div>\n",
       "<style scoped>\n",
       "    .dataframe tbody tr th:only-of-type {\n",
       "        vertical-align: middle;\n",
       "    }\n",
       "\n",
       "    .dataframe tbody tr th {\n",
       "        vertical-align: top;\n",
       "    }\n",
       "\n",
       "    .dataframe thead th {\n",
       "        text-align: right;\n",
       "    }\n",
       "</style>\n",
       "<table border=\"1\" class=\"dataframe\">\n",
       "  <thead>\n",
       "    <tr style=\"text-align: right;\">\n",
       "      <th></th>\n",
       "      <th>point_idx</th>\n",
       "      <th>cp_extreme_values_min</th>\n",
       "      <th>cp_extreme_values_max</th>\n",
       "    </tr>\n",
       "  </thead>\n",
       "  <tbody>\n",
       "    <tr>\n",
       "      <th>0</th>\n",
       "      <td>0</td>\n",
       "      <td>-0.528445</td>\n",
       "      <td>0.291392</td>\n",
       "    </tr>\n",
       "    <tr>\n",
       "      <th>1</th>\n",
       "      <td>1</td>\n",
       "      <td>-0.524230</td>\n",
       "      <td>0.297746</td>\n",
       "    </tr>\n",
       "    <tr>\n",
       "      <th>2</th>\n",
       "      <td>2</td>\n",
       "      <td>-0.531617</td>\n",
       "      <td>0.291137</td>\n",
       "    </tr>\n",
       "    <tr>\n",
       "      <th>3</th>\n",
       "      <td>3</td>\n",
       "      <td>-0.520588</td>\n",
       "      <td>0.298339</td>\n",
       "    </tr>\n",
       "    <tr>\n",
       "      <th>4</th>\n",
       "      <td>4</td>\n",
       "      <td>-0.525097</td>\n",
       "      <td>0.296380</td>\n",
       "    </tr>\n",
       "    <tr>\n",
       "      <th>...</th>\n",
       "      <td>...</td>\n",
       "      <td>...</td>\n",
       "      <td>...</td>\n",
       "    </tr>\n",
       "    <tr>\n",
       "      <th>2910</th>\n",
       "      <td>2910</td>\n",
       "      <td>-0.666311</td>\n",
       "      <td>0.130073</td>\n",
       "    </tr>\n",
       "    <tr>\n",
       "      <th>2911</th>\n",
       "      <td>2911</td>\n",
       "      <td>-0.510155</td>\n",
       "      <td>0.063363</td>\n",
       "    </tr>\n",
       "    <tr>\n",
       "      <th>2912</th>\n",
       "      <td>2912</td>\n",
       "      <td>-0.530702</td>\n",
       "      <td>0.038990</td>\n",
       "    </tr>\n",
       "    <tr>\n",
       "      <th>2913</th>\n",
       "      <td>2913</td>\n",
       "      <td>-0.771870</td>\n",
       "      <td>0.248984</td>\n",
       "    </tr>\n",
       "    <tr>\n",
       "      <th>2914</th>\n",
       "      <td>2914</td>\n",
       "      <td>-0.754207</td>\n",
       "      <td>0.235024</td>\n",
       "    </tr>\n",
       "  </tbody>\n",
       "</table>\n",
       "<p>2915 rows × 3 columns</p>\n",
       "</div>"
      ],
      "text/plain": [
       "      point_idx  cp_extreme_values_min  cp_extreme_values_max\n",
       "0             0              -0.528445               0.291392\n",
       "1             1              -0.524230               0.297746\n",
       "2             2              -0.531617               0.291137\n",
       "3             3              -0.520588               0.298339\n",
       "4             4              -0.525097               0.296380\n",
       "...         ...                    ...                    ...\n",
       "2910       2910              -0.666311               0.130073\n",
       "2911       2911              -0.510155               0.063363\n",
       "2912       2912              -0.530702               0.038990\n",
       "2913       2913              -0.771870               0.248984\n",
       "2914       2914              -0.754207               0.235024\n",
       "\n",
       "[2915 rows x 3 columns]"
      ]
     },
     "execution_count": 9,
     "metadata": {},
     "output_type": "execute_result"
    }
   ],
   "source": [
    "from cfdmod.use_cases.pressure.extreme_values import ExtremeValuesParameters, calculate_extreme_values\n",
    "from matplotlib import pyplot as plt\n",
    "\n",
    "params = ExtremeValuesParameters(\n",
    "    CST_real=0.56,\n",
    "    CST_sim=16.89,\n",
    "    t = 0.5,  # (s), duracao do evento extremo\n",
    "    T0 = 0.6,  # (s) actual observation period\n",
    "    T1 = 6,  # (s) target observation period\n",
    "    yR = 1.4, \n",
    ")\n",
    "series = pd.read_csv(\"./fixtures/tests/serie_hist_ponto_do_telhado_separacao.csv\", delimiter=\",\").to_numpy()\n",
    "# timestep = series[:, 0]\n",
    "# parent_cp = series[:, 2]\n",
    "timestep = np.unique(cp_data.time_step.to_numpy())\n",
    "parent_cp = cp_data.loc[cp_data[\"point_idx\"] == 0].cp.to_numpy()\n",
    "calculate_extreme_values(params=params, timestep_arr=timestep, hist_series=parent_cp)\n",
    "# time, new_time, smooth_parent_cp = calculate_extreme_values(params=params, timestep_arr=timestep, hist_series=parent_cp)\n",
    "# parent_cp.min(), parent_cp.max()\n",
    "\n",
    "group_by_point = cp_data.groupby(\"point_idx\")\n",
    "var = \"cp\"\n",
    "\n",
    "statistics_data = pd.DataFrame({\"point_idx\": cp_data[\"point_idx\"].unique()})\n",
    "average = group_by_point[var].apply(lambda x: calculate_extreme_values(params=params, timestep_arr=timestep, hist_series=x)).reset_index(name=\"extreme_values\")\n",
    "# statistics_data[f\"{var}_extreme_values\"] = average[\"extreme_values\"]\n",
    "# statistics_data[['cp_extreme_values_min', 'cp_extreme_values_max']] = statistics_data['cp_extreme_values'].apply(lambda x: pd.Series(x))\n",
    "statistics_data[['cp_extreme_values_min', 'cp_extreme_values_max']] = average[\"extreme_values\"].apply(lambda x: pd.Series(x))\n",
    "# statistics_data = statistics_data.drop('cp_extreme_values', axis=1)\n",
    "\n",
    "statistics_data"
   ]
  },
  {
   "cell_type": "code",
   "execution_count": 7,
   "metadata": {},
   "outputs": [
    {
     "name": "stdout",
     "output_type": "stream",
     "text": [
      "-0.6892896109780232 0.48775980164864813\n"
     ]
    },
    {
     "data": {
      "image/png": "[encoded data removed]",
      "text/plain": [
       "<Figure size 640x480 with 1 Axes>"
      ]
     },
     "metadata": {},
     "output_type": "display_data"
    }
   ],
   "source": [
    "import math\n",
    "\n",
    "import numpy as np\n",
    "import pandas as pd\n",
    "from matplotlib import pyplot as plt\n",
    "\n",
    "# parametros de escala\n",
    "CST_real = 0.56  # (s)\n",
    "CST_sim = 16.89  # (lbm)\n",
    "\n",
    "# parametros estatísticos\n",
    "t = 3  # (s), duracao do evento extremo\n",
    "T0 = 60  # (s) actual observation period\n",
    "T1 = 600  # (s) target observation period\n",
    "yR = 1.4  # variável reduzida correspondente a 78% de probabilidade de não-excedência\n",
    "\n",
    "# 0 - load temporal cp data\n",
    "series = pd.read_csv(\"./fixtures/tests/serie_hist_ponto_do_telhado_separacao.csv\", delimiter=\",\").to_numpy()\n",
    "timestep = series[:, 0]\n",
    "parent_cp = series[:, 2]\n",
    "time = [(timestep[i] - timestep[0]) * (CST_real / CST_sim) for i in range(len(timestep))]\n",
    "\n",
    "# 1 - make moving average with window size equivalent to max event duration\n",
    "window_size = int(t / (time[1] - time[0]))\n",
    "smooth_parent_cp = np.convolve(parent_cp, np.ones(window_size) / window_size, mode=\"valid\")\n",
    "new_time = time[window_size // 2 - 2 : -window_size // 2 - 1]\n",
    "\n",
    "# 2 - make sets of same observation period\n",
    "N = int(round((new_time[-1] - new_time[0]) / T0))  # num_divisions\n",
    "sub_arrays = np.array_split(smooth_parent_cp, N)\n",
    "\n",
    "# 3 - get the extreme values\n",
    "cp_max = np.array([])\n",
    "cp_min = np.array([])\n",
    "for sub_arr in sub_arrays:\n",
    "    cp_max = np.append(cp_max, np.max(sub_arr))\n",
    "    cp_min = np.append(cp_min, np.min(sub_arr))\n",
    "cp_max = np.sort(cp_max)  ######################\n",
    "cp_min = np.sort(cp_min)[::-1]  ################\n",
    "\n",
    "# 4 - Gumbel model for the maximum extreme value\n",
    "y = [-math.log(-math.log(i / (N + 1))) for i in range(1, N + 1)]\n",
    "A = np.vstack([y, np.ones(len(y))]).T\n",
    "a_inv, U_T0 = np.linalg.lstsq(A, cp_max, rcond=None)[0]\n",
    "U_T1 = U_T0 + a_inv * math.log(T1 / T0)\n",
    "max_extreme_val = a_inv * yR + U_T1  # This is the design value\n",
    "\n",
    "# 5 - Gumbel model for the minimum extreme value\n",
    "y = [-math.log(-math.log(i / (N + 1))) for i in range(1, N + 1)]\n",
    "A = np.vstack([y, np.ones(len(y))]).T\n",
    "a_inv, U_T0 = np.linalg.lstsq(A, cp_min, rcond=None)[0]\n",
    "U_T1 = U_T0 + a_inv * math.log(T1 / T0)\n",
    "min_extreme_val = a_inv * yR + U_T1  # This is the design value\n",
    "\n",
    "# plot\n",
    "print(min_extreme_val, max_extreme_val)\n",
    "fig, ax = plt.subplots()\n",
    "ax.plot(time, parent_cp)\n",
    "ax.plot(new_time, smooth_parent_cp, marker=\"o\", ls=\"None\")\n",
    "ax.plot(time, [max_extreme_val for i in range(len(time))], color=\"red\")\n",
    "ax.plot(\n",
    "    time,\n",
    "    [np.mean(smooth_parent_cp) + 3.9 * np.std(smooth_parent_cp) for i in range(len(time))],\n",
    "    color=\"red\",\n",
    "    ls=\"--\",\n",
    ")\n",
    "ax.plot(time, [min_extreme_val for i in range(len(time))], color=\"blue\")\n",
    "ax.plot(\n",
    "    time,\n",
    "    [np.mean(smooth_parent_cp) - 3.9 * np.std(smooth_parent_cp) for i in range(len(time))],\n",
    "    color=\"blue\",\n",
    "    ls=\"--\",\n",
    ")\n",
    "# plt.hist(smooth_parent_cp, bins=30, density=True, alpha=0.7, color='blue', edgecolor='black')\n",
    "plt.show()\n"
   ]
  },
  {
   "cell_type": "markdown",
   "metadata": {},
   "source": [
    "Calculate pressure coefficient statistics"
   ]
  },
  {
   "cell_type": "code",
   "execution_count": 8,
   "metadata": {},
   "outputs": [
    {
     "ename": "TypeError",
     "evalue": "calculate_statistics() missing 1 required positional argument: 'extreme_params'",
     "output_type": "error",
     "traceback": [
      "\u001b[0;31m---------------------------------------------------------------------------\u001b[0m",
      "\u001b[0;31mTypeError\u001b[0m                                 Traceback (most recent call last)",
      "\u001b[1;32m/home/ubuntu/Documentos/Repositories/cfdmod/docs/source/use_cases/pressure/coefficients/calculate_cp_extreme_values.ipynb Célula 16\u001b[0m line \u001b[0;36m3\n\u001b[1;32m      <a href='vscode-notebook-cell:/home/ubuntu/Documentos/Repositories/cfdmod/docs/source/use_cases/pressure/coefficients/calculate_cp_extreme_values.ipynb#X21sZmlsZQ%3D%3D?line=0'>1</a>\u001b[0m \u001b[39mfrom\u001b[39;00m \u001b[39mcfdmod\u001b[39;00m\u001b[39m.\u001b[39;00m\u001b[39muse_cases\u001b[39;00m\u001b[39m.\u001b[39;00m\u001b[39mpressure\u001b[39;00m\u001b[39m.\u001b[39;00m\u001b[39mcp_data\u001b[39;00m \u001b[39mimport\u001b[39;00m calculate_statistics\n\u001b[0;32m----> <a href='vscode-notebook-cell:/home/ubuntu/Documentos/Repositories/cfdmod/docs/source/use_cases/pressure/coefficients/calculate_cp_extreme_values.ipynb#X21sZmlsZQ%3D%3D?line=2'>3</a>\u001b[0m cp_stats \u001b[39m=\u001b[39m calculate_statistics(cp_data, statistics_to_apply\u001b[39m=\u001b[39;49mcfg\u001b[39m.\u001b[39;49mstatistics)\n\u001b[1;32m      <a href='vscode-notebook-cell:/home/ubuntu/Documentos/Repositories/cfdmod/docs/source/use_cases/pressure/coefficients/calculate_cp_extreme_values.ipynb#X21sZmlsZQ%3D%3D?line=4'>5</a>\u001b[0m cp_stats\n",
      "\u001b[0;31mTypeError\u001b[0m: calculate_statistics() missing 1 required positional argument: 'extreme_params'"
     ]
    }
   ],
   "source": [
    "from cfdmod.use_cases.pressure.cp_data import calculate_statistics\n",
    "\n",
    "cp_stats = calculate_statistics(cp_data, statistics_to_apply=cfg.statistics)\n",
    "\n",
    "cp_stats"
   ]
  },
  {
   "cell_type": "markdown",
   "metadata": {},
   "source": [
    "Combine statistics with mesh and create a VTK object"
   ]
  },
  {
   "cell_type": "code",
   "execution_count": null,
   "metadata": {},
   "outputs": [],
   "source": [
    "from cfdmod.api.vtk.write_vtk import write_polydata, create_polydata_for_cell_data\n",
    "\n",
    "polydata = create_polydata_for_cell_data(data=cp_stats, mesh=mesh.geometry)\n",
    "\n",
    "# OUTPUT 3: VTK cp_stats\n",
    "write_polydata(path_manager.vtp_path, polydata)"
   ]
  },
  {
   "cell_type": "markdown",
   "metadata": {},
   "source": [
    "Copy Input artifacts to output folder"
   ]
  },
  {
   "cell_type": "code",
   "execution_count": null,
   "metadata": {},
   "outputs": [],
   "source": [
    "copy_input_artifacts(\n",
    "    cfg_path=cfg_path,\n",
    "    mesh_path=mesh_path,\n",
    "    static_data_path=static_data_path,\n",
    "    body_data_path=body_data_path,\n",
    "    path_manager=path_manager,\n",
    ")"
   ]
  }
 ],
 "metadata": {
  "kernelspec": {
   "display_name": "cfdmod-6zl7i90Q-py3.11",
   "language": "python",
   "name": "python3"
  },
  "language_info": {
   "codemirror_mode": {
    "name": "ipython",
    "version": 3
   },
   "file_extension": ".py",
   "mimetype": "text/x-python",
   "name": "python",
   "nbconvert_exporter": "python",
   "pygments_lexer": "ipython3",
   "version": "3.10.12"
  },
  "orig_nbformat": 4
 },
 "nbformat": 4,
 "nbformat_minor": 2
}
