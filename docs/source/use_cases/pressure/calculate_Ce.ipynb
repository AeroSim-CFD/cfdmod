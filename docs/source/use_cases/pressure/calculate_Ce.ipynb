{
 "cells": [
  {
   "cell_type": "markdown",
   "metadata": {},
   "source": [
    "# Generate shape coefficients"
   ]
  },
  {
   "cell_type": "markdown",
   "metadata": {},
   "source": [
    "The following steps are performed to obtain all the artifacts for shape coefficient use case:\n",
    "\n",
    "1. Read parameters file\n",
    "2. Read Mesh description\n",
    "   * Its path can be specified\n",
    "   * Or it can be obtained from the simulation configuration file\n",
    "3. Read data for pressure coefficient"
   ]
  },
  {
   "cell_type": "markdown",
   "metadata": {},
   "source": [
    "Initialize Path Manager"
   ]
  },
  {
   "cell_type": "code",
   "execution_count": 14,
   "metadata": {},
   "outputs": [],
   "source": [
    "from cfdmod.use_cases.pressure.path_manager import CePathManager\n",
    "import pathlib\n",
    "\n",
    "path_manager = CePathManager(output_path=pathlib.Path(\"./output/pressure\"))"
   ]
  },
  {
   "cell_type": "markdown",
   "metadata": {},
   "source": [
    "Read post-processing Ce config file"
   ]
  },
  {
   "cell_type": "code",
   "execution_count": 15,
   "metadata": {},
   "outputs": [
    {
     "data": {
      "text/plain": [
       "{'pattern_1': CeConfig(zoning=ZoningConfig(global_zoning=ZoningModel(x_intervals=[0.0, 25.0, 50.0, 75.0, 100.0, 125.0, 150.0, 175.0, 200.0, 225.0, 250.0], y_intervals=[0.0, 25.0, 50.0, 75.0, 100.0, 125.0, 150.0, 175.0, 200.0], z_intervals=[0.0, 5.0, 10.0, 15.0, 20.0]), no_zoning=['sfc1'], exclude=['sfc1'], exceptions={'zoning1': ExceptionZoningModel(x_intervals=[0.0, 25.0, 50.0, 75.0, 100.0, 125.0, 150.0, 175.0, 200.0, 225.0, 250.0], y_intervals=[0.0, 25.0, 50.0, 75.0, 100.0, 125.0, 150.0, 175.0, 200.0], z_intervals=[0.0, 20.0], surfaces=['sfc1'])}), statistics=['min', 'max', 'std', 'avg', 'skewness', 'kurtosis']),\n",
       " 'pattern_2': CeConfig(zoning=ZoningConfig(global_zoning=ZoningModel(x_intervals=[0.0, 250.0], y_intervals=[0.0, 200.0], z_intervals=[0.0, 20.0]), no_zoning=[], exclude=[], exceptions={}), statistics=['min', 'max', 'std', 'avg', 'skewness', 'kurtosis']),\n",
       " 'pattern_3': CeConfig(zoning=ZoningConfig(global_zoning=ZoningModel(x_intervals=[0.0, 125.0, 250.0], y_intervals=[-inf, inf], z_intervals=[-inf, inf]), no_zoning=[], exclude=[], exceptions={}), statistics=['min', 'max', 'std', 'avg', 'skewness', 'kurtosis'])}"
      ]
     },
     "execution_count": 15,
     "metadata": {},
     "output_type": "execute_result"
    }
   ],
   "source": [
    "from cfdmod.use_cases.pressure.shape.Ce_config import CeConfig\n",
    "\n",
    "config_path=pathlib.Path(\"./fixtures/tests/pressure/Ce_params.yaml\")\n",
    "post_proc_cfg = CeConfig.from_file(config_path)\n",
    "\n",
    "post_proc_cfg"
   ]
  },
  {
   "cell_type": "markdown",
   "metadata": {},
   "source": [
    "Normalize LNAS Mesh [Example]"
   ]
  },
  {
   "cell_type": "code",
   "execution_count": 16,
   "metadata": {},
   "outputs": [
    {
     "name": "stdout",
     "output_type": "stream",
     "text": [
      "galpao (1549, 3) (2915, 3)\n"
     ]
    },
    {
     "data": {
      "text/plain": [
       "(0.0, 0.0, 0.0)"
      ]
     },
     "execution_count": 16,
     "metadata": {},
     "output_type": "execute_result"
    }
   ],
   "source": [
    "from nassu.lnas import LagrangianFormat\n",
    "\n",
    "original_mesh_path = pathlib.Path(\"./fixtures/tests/pressure/galpao/galpao.lnas\")\n",
    "original_mesh = LagrangianFormat.from_file(original_mesh_path)\n",
    "\n",
    "new_verts = original_mesh.geometry.vertices.copy()\n",
    "\n",
    "new_verts[:, 0] -= new_verts[:, 0].min()\n",
    "new_verts[:, 1] -= new_verts[:, 1].min()\n",
    "new_verts[:, 2] -= new_verts[:, 2].min()\n",
    "\n",
    "original_mesh.geometry.vertices = new_verts\n",
    "\n",
    "original_mesh.to_file(original_mesh_path.parent / f\"{original_mesh.name}.normalized.lnas\")\n",
    "\n",
    "print(original_mesh.name, original_mesh.geometry.vertices.shape, original_mesh.geometry.triangles.shape)\n",
    "\n",
    "original_mesh.geometry.vertices[:, 0].min(), original_mesh.geometry.vertices[:, 1].min(), original_mesh.geometry.vertices[:, 2].min()"
   ]
  },
  {
   "cell_type": "markdown",
   "metadata": {},
   "source": [
    "Read Normalized LNAS Mesh"
   ]
  },
  {
   "cell_type": "code",
   "execution_count": 17,
   "metadata": {},
   "outputs": [
    {
     "data": {
      "text/plain": [
       "('galpao', (1549, 3), (2915, 3))"
      ]
     },
     "execution_count": 17,
     "metadata": {},
     "output_type": "execute_result"
    }
   ],
   "source": [
    "from nassu.lnas import LagrangianFormat\n",
    "\n",
    "mesh_path=pathlib.Path(\"./fixtures/tests/pressure/galpao/galpao.normalized.lnas\")\n",
    "mesh = LagrangianFormat.from_file(mesh_path)\n",
    "\n",
    "mesh.name, mesh.geometry.vertices.shape, mesh.geometry.triangles.shape"
   ]
  },
  {
   "cell_type": "markdown",
   "metadata": {},
   "source": [
    "Read Pressure Coefficient data"
   ]
  },
  {
   "cell_type": "code",
   "execution_count": 18,
   "metadata": {},
   "outputs": [],
   "source": [
    "import pandas as pd\n",
    "\n",
    "cp_data_path=pathlib.Path(\"./fixtures/tests/pressure/data/cp_t.resampled.hdf\")\n",
    "cp_data = pd.read_hdf(cp_data_path)\n",
    "\n",
    "cp_data_to_use = (\n",
    "    cp_data.to_frame() if isinstance(cp_data, pd.Series) else cp_data\n",
    ")"
   ]
  },
  {
   "cell_type": "markdown",
   "metadata": {},
   "source": [
    "Add region index to pressure coefficient data"
   ]
  },
  {
   "cell_type": "code",
   "execution_count": 19,
   "metadata": {},
   "outputs": [
    {
     "name": "stdout",
     "output_type": "stream",
     "text": [
      "\u001b[37m[2023-10-18 15:05:14,368] [INFO] - cfdmod - Processing pattern_1 ... (2943861426.py:9)\u001b[39m\n",
      "\u001b[37m[2023-10-18 15:05:14,369] [INFO] - cfdmod - Processing surface L1_xp ... (2943861426.py:15)\u001b[39m\n",
      "\u001b[37m[2023-10-18 15:05:14,404] [INFO] - cfdmod - Processed surface L1_xp (2943861426.py:27)\u001b[39m\n",
      "\u001b[37m[2023-10-18 15:05:14,405] [INFO] - cfdmod - Processing surface L2_yp ... (2943861426.py:15)\u001b[39m\n",
      "\u001b[37m[2023-10-18 15:05:14,594] [INFO] - cfdmod - Processed surface L2_yp (2943861426.py:27)\u001b[39m\n",
      "\u001b[37m[2023-10-18 15:05:14,596] [INFO] - cfdmod - Processing surface L3_zp_yp ... (2943861426.py:15)\u001b[39m\n",
      "\u001b[37m[2023-10-18 15:05:14,679] [INFO] - cfdmod - Processed surface L3_zp_yp (2943861426.py:27)\u001b[39m\n",
      "\u001b[37m[2023-10-18 15:05:14,680] [INFO] - cfdmod - Processing surface L4_zp_ym ... (2943861426.py:15)\u001b[39m\n",
      "\u001b[37m[2023-10-18 15:05:14,738] [INFO] - cfdmod - Processed surface L4_zp_ym (2943861426.py:27)\u001b[39m\n",
      "\u001b[37m[2023-10-18 15:05:14,738] [INFO] - cfdmod - Processing surface L5_ym ... (2943861426.py:15)\u001b[39m\n",
      "\u001b[37m[2023-10-18 15:05:14,897] [INFO] - cfdmod - Processed surface L5_ym (2943861426.py:27)\u001b[39m\n",
      "\u001b[37m[2023-10-18 15:05:14,897] [INFO] - cfdmod - Processing surface L6_xm ... (2943861426.py:15)\u001b[39m\n",
      "\u001b[37m[2023-10-18 15:05:14,935] [INFO] - cfdmod - Processed surface L6_xm (2943861426.py:27)\u001b[39m\n",
      "\u001b[37m[2023-10-18 15:05:14,935] [INFO] - cfdmod - Processing surface m1_yp ... (2943861426.py:15)\u001b[39m\n",
      "\u001b[37m[2023-10-18 15:05:14,987] [INFO] - cfdmod - Processed surface m1_yp (2943861426.py:27)\u001b[39m\n",
      "\u001b[37m[2023-10-18 15:05:14,987] [INFO] - cfdmod - Processing surface m2_zp ... (2943861426.py:15)\u001b[39m\n",
      "\u001b[37m[2023-10-18 15:05:15,048] [INFO] - cfdmod - Processed surface m2_zp (2943861426.py:27)\u001b[39m\n",
      "\u001b[37m[2023-10-18 15:05:15,049] [INFO] - cfdmod - Processing surface m3_zm ... (2943861426.py:15)\u001b[39m\n",
      "\u001b[37m[2023-10-18 15:05:15,110] [INFO] - cfdmod - Processed surface m3_zm (2943861426.py:27)\u001b[39m\n",
      "\u001b[37m[2023-10-18 15:05:15,111] [INFO] - cfdmod - Processing surface p1_xp ... (2943861426.py:15)\u001b[39m\n",
      "\u001b[33m[2023-10-18 15:05:15,157] [WARNING] - cfdmod - Region refinement is greater than data refinement. Resulted in NaN values (Ce_data.py:101)\u001b[39m\n",
      "\u001b[37m[2023-10-18 15:05:15,159] [INFO] - cfdmod - Processed surface p1_xp (2943861426.py:27)\u001b[39m\n",
      "\u001b[37m[2023-10-18 15:05:15,160] [INFO] - cfdmod - Processing surface p2_xp ... (2943861426.py:15)\u001b[39m\n",
      "\u001b[33m[2023-10-18 15:05:15,201] [WARNING] - cfdmod - Region refinement is greater than data refinement. Resulted in NaN values (Ce_data.py:101)\u001b[39m\n",
      "\u001b[37m[2023-10-18 15:05:15,204] [INFO] - cfdmod - Processed surface p2_xp (2943861426.py:27)\u001b[39m\n",
      "\u001b[37m[2023-10-18 15:05:15,204] [INFO] - cfdmod - Processing surface p3_ym ... (2943861426.py:15)\u001b[39m\n",
      "\u001b[33m[2023-10-18 15:05:15,262] [WARNING] - cfdmod - Region refinement is greater than data refinement. Resulted in NaN values (Ce_data.py:101)\u001b[39m\n",
      "\u001b[37m[2023-10-18 15:05:15,266] [INFO] - cfdmod - Processed surface p3_ym (2943861426.py:27)\u001b[39m\n",
      "\u001b[37m[2023-10-18 15:05:15,266] [INFO] - cfdmod - Processing surface p4_ym ... (2943861426.py:15)\u001b[39m\n",
      "\u001b[37m[2023-10-18 15:05:15,336] [INFO] - cfdmod - Processed surface p4_ym (2943861426.py:27)\u001b[39m\n",
      "\u001b[37m[2023-10-18 15:05:15,337] [INFO] - cfdmod - Processing surface p5_ym ... (2943861426.py:15)\u001b[39m\n",
      "\u001b[37m[2023-10-18 15:05:15,394] [INFO] - cfdmod - Processed surface p5_ym (2943861426.py:27)\u001b[39m\n",
      "\u001b[37m[2023-10-18 15:05:15,395] [INFO] - cfdmod - Processing surface p6c_yp ... (2943861426.py:15)\u001b[39m\n",
      "\u001b[33m[2023-10-18 15:05:15,425] [WARNING] - cfdmod - Region refinement is greater than data refinement. Resulted in NaN values (Ce_data.py:101)\u001b[39m\n",
      "\u001b[37m[2023-10-18 15:05:15,426] [INFO] - cfdmod - Processed surface p6c_yp (2943861426.py:27)\u001b[39m\n",
      "\u001b[37m[2023-10-18 15:05:15,427] [INFO] - cfdmod - Processing surface p7_xm ... (2943861426.py:15)\u001b[39m\n",
      "\u001b[33m[2023-10-18 15:05:15,485] [WARNING] - cfdmod - Region refinement is greater than data refinement. Resulted in NaN values (Ce_data.py:101)\u001b[39m\n",
      "\u001b[37m[2023-10-18 15:05:15,489] [INFO] - cfdmod - Processed surface p7_xm (2943861426.py:27)\u001b[39m\n",
      "\u001b[37m[2023-10-18 15:05:15,490] [INFO] - cfdmod - Processing surface p8_yp ... (2943861426.py:15)\u001b[39m\n",
      "\u001b[37m[2023-10-18 15:05:15,551] [INFO] - cfdmod - Processed surface p8_yp (2943861426.py:27)\u001b[39m\n",
      "\u001b[37m[2023-10-18 15:05:15,551] [INFO] - cfdmod - Processing surface p9_yp ... (2943861426.py:15)\u001b[39m\n",
      "\u001b[33m[2023-10-18 15:05:15,612] [WARNING] - cfdmod - Region refinement is greater than data refinement. Resulted in NaN values (Ce_data.py:101)\u001b[39m\n",
      "\u001b[37m[2023-10-18 15:05:15,615] [INFO] - cfdmod - Processed surface p9_yp (2943861426.py:27)\u001b[39m\n",
      "\u001b[37m[2023-10-18 15:05:15,615] [INFO] - cfdmod - Processing surface t1_ym ... (2943861426.py:15)\u001b[39m\n",
      "\u001b[37m[2023-10-18 15:05:16,012] [INFO] - cfdmod - Processed surface t1_ym (2943861426.py:27)\u001b[39m\n",
      "\u001b[37m[2023-10-18 15:05:16,012] [INFO] - cfdmod - Processing surface t2_yp ... (2943861426.py:15)\u001b[39m\n",
      "\u001b[37m[2023-10-18 15:05:16,263] [INFO] - cfdmod - Processed surface t2_yp (2943861426.py:27)\u001b[39m\n",
      "\u001b[37m[2023-10-18 15:05:16,293] [INFO] - cfdmod - Merged polydata for pattern_1 (2943861426.py:33)\u001b[39m\n",
      "\u001b[37m[2023-10-18 15:05:16,294] [INFO] - cfdmod - Processing pattern_2 ... (2943861426.py:9)\u001b[39m\n",
      "\u001b[37m[2023-10-18 15:05:16,295] [INFO] - cfdmod - Processing surface L1_xp ... (2943861426.py:15)\u001b[39m\n",
      "\u001b[37m[2023-10-18 15:05:16,317] [INFO] - cfdmod - Processed surface L1_xp (2943861426.py:27)\u001b[39m\n",
      "\u001b[37m[2023-10-18 15:05:16,318] [INFO] - cfdmod - Processing surface L2_yp ... (2943861426.py:15)\u001b[39m\n",
      "\u001b[37m[2023-10-18 15:05:16,344] [INFO] - cfdmod - Processed surface L2_yp (2943861426.py:27)\u001b[39m\n",
      "\u001b[37m[2023-10-18 15:05:16,345] [INFO] - cfdmod - Processing surface L3_zp_yp ... (2943861426.py:15)\u001b[39m\n",
      "\u001b[37m[2023-10-18 15:05:16,368] [INFO] - cfdmod - Processed surface L3_zp_yp (2943861426.py:27)\u001b[39m\n",
      "\u001b[37m[2023-10-18 15:05:16,369] [INFO] - cfdmod - Processing surface L4_zp_ym ... (2943861426.py:15)\u001b[39m\n",
      "\u001b[37m[2023-10-18 15:05:16,395] [INFO] - cfdmod - Processed surface L4_zp_ym (2943861426.py:27)\u001b[39m\n",
      "\u001b[37m[2023-10-18 15:05:16,396] [INFO] - cfdmod - Processing surface L5_ym ... (2943861426.py:15)\u001b[39m\n",
      "\u001b[37m[2023-10-18 15:05:16,423] [INFO] - cfdmod - Processed surface L5_ym (2943861426.py:27)\u001b[39m\n",
      "\u001b[37m[2023-10-18 15:05:16,424] [INFO] - cfdmod - Processing surface L6_xm ... (2943861426.py:15)\u001b[39m\n",
      "\u001b[37m[2023-10-18 15:05:16,445] [INFO] - cfdmod - Processed surface L6_xm (2943861426.py:27)\u001b[39m\n",
      "\u001b[37m[2023-10-18 15:05:16,446] [INFO] - cfdmod - Processing surface m1_yp ... (2943861426.py:15)\u001b[39m\n",
      "\u001b[37m[2023-10-18 15:05:16,468] [INFO] - cfdmod - Processed surface m1_yp (2943861426.py:27)\u001b[39m\n",
      "\u001b[37m[2023-10-18 15:05:16,469] [INFO] - cfdmod - Processing surface m2_zp ... (2943861426.py:15)\u001b[39m\n",
      "\u001b[37m[2023-10-18 15:05:16,505] [INFO] - cfdmod - Processed surface m2_zp (2943861426.py:27)\u001b[39m\n",
      "\u001b[37m[2023-10-18 15:05:16,510] [INFO] - cfdmod - Processing surface m3_zm ... (2943861426.py:15)\u001b[39m\n",
      "\u001b[37m[2023-10-18 15:05:16,548] [INFO] - cfdmod - Processed surface m3_zm (2943861426.py:27)\u001b[39m\n",
      "\u001b[37m[2023-10-18 15:05:16,550] [INFO] - cfdmod - Processing surface p1_xp ... (2943861426.py:15)\u001b[39m\n",
      "\u001b[37m[2023-10-18 15:05:16,577] [INFO] - cfdmod - Processed surface p1_xp (2943861426.py:27)\u001b[39m\n",
      "\u001b[37m[2023-10-18 15:05:16,577] [INFO] - cfdmod - Processing surface p2_xp ... (2943861426.py:15)\u001b[39m\n",
      "\u001b[37m[2023-10-18 15:05:16,600] [INFO] - cfdmod - Processed surface p2_xp (2943861426.py:27)\u001b[39m\n",
      "\u001b[37m[2023-10-18 15:05:16,601] [INFO] - cfdmod - Processing surface p3_ym ... (2943861426.py:15)\u001b[39m\n",
      "\u001b[37m[2023-10-18 15:05:16,628] [INFO] - cfdmod - Processed surface p3_ym (2943861426.py:27)\u001b[39m\n",
      "\u001b[37m[2023-10-18 15:05:16,628] [INFO] - cfdmod - Processing surface p4_ym ... (2943861426.py:15)\u001b[39m\n",
      "\u001b[37m[2023-10-18 15:05:16,651] [INFO] - cfdmod - Processed surface p4_ym (2943861426.py:27)\u001b[39m\n",
      "\u001b[37m[2023-10-18 15:05:16,652] [INFO] - cfdmod - Processing surface p5_ym ... (2943861426.py:15)\u001b[39m\n",
      "\u001b[37m[2023-10-18 15:05:16,678] [INFO] - cfdmod - Processed surface p5_ym (2943861426.py:27)\u001b[39m\n",
      "\u001b[37m[2023-10-18 15:05:16,679] [INFO] - cfdmod - Processing surface p6c_yp ... (2943861426.py:15)\u001b[39m\n",
      "\u001b[37m[2023-10-18 15:05:16,701] [INFO] - cfdmod - Processed surface p6c_yp (2943861426.py:27)\u001b[39m\n",
      "\u001b[37m[2023-10-18 15:05:16,702] [INFO] - cfdmod - Processing surface p7_xm ... (2943861426.py:15)\u001b[39m\n",
      "\u001b[37m[2023-10-18 15:05:16,722] [INFO] - cfdmod - Processed surface p7_xm (2943861426.py:27)\u001b[39m\n",
      "\u001b[37m[2023-10-18 15:05:16,723] [INFO] - cfdmod - Processing surface p8_yp ... (2943861426.py:15)\u001b[39m\n",
      "\u001b[37m[2023-10-18 15:05:16,745] [INFO] - cfdmod - Processed surface p8_yp (2943861426.py:27)\u001b[39m\n",
      "\u001b[37m[2023-10-18 15:05:16,746] [INFO] - cfdmod - Processing surface p9_yp ... (2943861426.py:15)\u001b[39m\n",
      "\u001b[37m[2023-10-18 15:05:16,768] [INFO] - cfdmod - Processed surface p9_yp (2943861426.py:27)\u001b[39m\n",
      "\u001b[37m[2023-10-18 15:05:16,768] [INFO] - cfdmod - Processing surface t1_ym ... (2943861426.py:15)\u001b[39m\n",
      "\u001b[37m[2023-10-18 15:05:16,802] [INFO] - cfdmod - Processed surface t1_ym (2943861426.py:27)\u001b[39m\n",
      "\u001b[37m[2023-10-18 15:05:16,803] [INFO] - cfdmod - Processing surface t2_yp ... (2943861426.py:15)\u001b[39m\n",
      "\u001b[37m[2023-10-18 15:05:16,832] [INFO] - cfdmod - Processed surface t2_yp (2943861426.py:27)\u001b[39m\n",
      "\u001b[37m[2023-10-18 15:05:16,885] [INFO] - cfdmod - Merged polydata for pattern_2 (2943861426.py:33)\u001b[39m\n",
      "\u001b[37m[2023-10-18 15:05:16,886] [INFO] - cfdmod - Processing pattern_3 ... (2943861426.py:9)\u001b[39m\n",
      "\u001b[37m[2023-10-18 15:05:16,886] [INFO] - cfdmod - Processing surface L1_xp ... (2943861426.py:15)\u001b[39m\n",
      "\u001b[37m[2023-10-18 15:05:16,909] [INFO] - cfdmod - Processed surface L1_xp (2943861426.py:27)\u001b[39m\n",
      "\u001b[37m[2023-10-18 15:05:16,909] [INFO] - cfdmod - Processing surface L2_yp ... (2943861426.py:15)\u001b[39m\n",
      "\u001b[37m[2023-10-18 15:05:16,941] [INFO] - cfdmod - Processed surface L2_yp (2943861426.py:27)\u001b[39m\n",
      "\u001b[37m[2023-10-18 15:05:16,942] [INFO] - cfdmod - Processing surface L3_zp_yp ... (2943861426.py:15)\u001b[39m\n",
      "\u001b[37m[2023-10-18 15:05:16,966] [INFO] - cfdmod - Processed surface L3_zp_yp (2943861426.py:27)\u001b[39m\n",
      "\u001b[37m[2023-10-18 15:05:16,967] [INFO] - cfdmod - Processing surface L4_zp_ym ... (2943861426.py:15)\u001b[39m\n",
      "\u001b[37m[2023-10-18 15:05:17,004] [INFO] - cfdmod - Processed surface L4_zp_ym (2943861426.py:27)\u001b[39m\n",
      "\u001b[37m[2023-10-18 15:05:17,005] [INFO] - cfdmod - Processing surface L5_ym ... (2943861426.py:15)\u001b[39m\n",
      "\u001b[37m[2023-10-18 15:05:17,040] [INFO] - cfdmod - Processed surface L5_ym (2943861426.py:27)\u001b[39m\n",
      "\u001b[37m[2023-10-18 15:05:17,040] [INFO] - cfdmod - Processing surface L6_xm ... (2943861426.py:15)\u001b[39m\n",
      "\u001b[37m[2023-10-18 15:05:17,062] [INFO] - cfdmod - Processed surface L6_xm (2943861426.py:27)\u001b[39m\n",
      "\u001b[37m[2023-10-18 15:05:17,063] [INFO] - cfdmod - Processing surface m1_yp ... (2943861426.py:15)\u001b[39m\n",
      "\u001b[37m[2023-10-18 15:05:17,088] [INFO] - cfdmod - Processed surface m1_yp (2943861426.py:27)\u001b[39m\n",
      "\u001b[37m[2023-10-18 15:05:17,088] [INFO] - cfdmod - Processing surface m2_zp ... (2943861426.py:15)\u001b[39m\n",
      "\u001b[37m[2023-10-18 15:05:17,115] [INFO] - cfdmod - Processed surface m2_zp (2943861426.py:27)\u001b[39m\n",
      "\u001b[37m[2023-10-18 15:05:17,115] [INFO] - cfdmod - Processing surface m3_zm ... (2943861426.py:15)\u001b[39m\n",
      "\u001b[37m[2023-10-18 15:05:17,139] [INFO] - cfdmod - Processed surface m3_zm (2943861426.py:27)\u001b[39m\n",
      "\u001b[37m[2023-10-18 15:05:17,140] [INFO] - cfdmod - Processing surface p1_xp ... (2943861426.py:15)\u001b[39m\n",
      "\u001b[37m[2023-10-18 15:05:17,163] [INFO] - cfdmod - Processed surface p1_xp (2943861426.py:27)\u001b[39m\n",
      "\u001b[37m[2023-10-18 15:05:17,164] [INFO] - cfdmod - Processing surface p2_xp ... (2943861426.py:15)\u001b[39m\n",
      "\u001b[37m[2023-10-18 15:05:17,184] [INFO] - cfdmod - Processed surface p2_xp (2943861426.py:27)\u001b[39m\n",
      "\u001b[37m[2023-10-18 15:05:17,185] [INFO] - cfdmod - Processing surface p3_ym ... (2943861426.py:15)\u001b[39m\n",
      "\u001b[37m[2023-10-18 15:05:17,210] [INFO] - cfdmod - Processed surface p3_ym (2943861426.py:27)\u001b[39m\n",
      "\u001b[37m[2023-10-18 15:05:17,211] [INFO] - cfdmod - Processing surface p4_ym ... (2943861426.py:15)\u001b[39m\n",
      "\u001b[37m[2023-10-18 15:05:17,233] [INFO] - cfdmod - Processed surface p4_ym (2943861426.py:27)\u001b[39m\n",
      "\u001b[37m[2023-10-18 15:05:17,234] [INFO] - cfdmod - Processing surface p5_ym ... (2943861426.py:15)\u001b[39m\n",
      "\u001b[37m[2023-10-18 15:05:17,258] [INFO] - cfdmod - Processed surface p5_ym (2943861426.py:27)\u001b[39m\n",
      "\u001b[37m[2023-10-18 15:05:17,259] [INFO] - cfdmod - Processing surface p6c_yp ... (2943861426.py:15)\u001b[39m\n",
      "\u001b[37m[2023-10-18 15:05:17,279] [INFO] - cfdmod - Processed surface p6c_yp (2943861426.py:27)\u001b[39m\n",
      "\u001b[37m[2023-10-18 15:05:17,280] [INFO] - cfdmod - Processing surface p7_xm ... (2943861426.py:15)\u001b[39m\n",
      "\u001b[37m[2023-10-18 15:05:17,301] [INFO] - cfdmod - Processed surface p7_xm (2943861426.py:27)\u001b[39m\n",
      "\u001b[37m[2023-10-18 15:05:17,302] [INFO] - cfdmod - Processing surface p8_yp ... (2943861426.py:15)\u001b[39m\n",
      "\u001b[37m[2023-10-18 15:05:17,325] [INFO] - cfdmod - Processed surface p8_yp (2943861426.py:27)\u001b[39m\n",
      "\u001b[37m[2023-10-18 15:05:17,326] [INFO] - cfdmod - Processing surface p9_yp ... (2943861426.py:15)\u001b[39m\n",
      "\u001b[37m[2023-10-18 15:05:17,352] [INFO] - cfdmod - Processed surface p9_yp (2943861426.py:27)\u001b[39m\n",
      "\u001b[37m[2023-10-18 15:05:17,352] [INFO] - cfdmod - Processing surface t1_ym ... (2943861426.py:15)\u001b[39m\n",
      "\u001b[37m[2023-10-18 15:05:17,413] [INFO] - cfdmod - Processed surface t1_ym (2943861426.py:27)\u001b[39m\n",
      "\u001b[37m[2023-10-18 15:05:17,414] [INFO] - cfdmod - Processing surface t2_yp ... (2943861426.py:15)\u001b[39m\n",
      "\u001b[37m[2023-10-18 15:05:17,459] [INFO] - cfdmod - Processed surface t2_yp (2943861426.py:27)\u001b[39m\n",
      "\u001b[37m[2023-10-18 15:05:17,486] [INFO] - cfdmod - Merged polydata for pattern_3 (2943861426.py:33)\u001b[39m\n"
     ]
    }
   ],
   "source": [
    "from cfdmod.api.vtk.write_vtk import write_polydata, merge_polydata\n",
    "from cfdmod.logger import logger\n",
    "from cfdmod.use_cases.pressure.shape.Ce_data import process_surface\n",
    "\n",
    "n_timesteps = cp_data_to_use[\"time_step\"].unique().shape[0]\n",
    "\n",
    "for cfg_label, cfg in post_proc_cfg.items():\n",
    "    processed_polydata = []\n",
    "    logger.info(f\"Processing {cfg_label} ...\")\n",
    "    for sfc in mesh.surfaces.keys():\n",
    "        if sfc in cfg.zoning.exclude:\n",
    "            logger.info(f\"Surface {sfc} ignored!\")  # Ignore surface\n",
    "            continue\n",
    "\n",
    "        logger.info(f\"Processing surface {sfc} ...\")\n",
    "\n",
    "        processed_surface = process_surface(\n",
    "            body_mesh=mesh,\n",
    "            sfc_label=sfc,\n",
    "            cfg=cfg,\n",
    "            cp_data=cp_data_to_use,\n",
    "            n_timesteps=n_timesteps,\n",
    "        )\n",
    "        \n",
    "        processed_polydata.append(processed_surface.polydata)\n",
    "\n",
    "        logger.info(f\"Processed surface {sfc}\")\n",
    "\n",
    "    # Output 5: VTK\n",
    "    merged_polydata = merge_polydata(processed_polydata)\n",
    "    write_polydata(path_manager.get_vtp_path(mesh.name, cfg_label), merged_polydata)\n",
    "\n",
    "    logger.info(f\"Merged polydata for {cfg_label}\")"
   ]
  }
 ],
 "metadata": {
  "kernelspec": {
   "display_name": "cfdmod-6zl7i90Q-py3.11",
   "language": "python",
   "name": "python3"
  },
  "language_info": {
   "codemirror_mode": {
    "name": "ipython",
    "version": 3
   },
   "file_extension": ".py",
   "mimetype": "text/x-python",
   "name": "python",
   "nbconvert_exporter": "python",
   "pygments_lexer": "ipython3",
   "version": "3.10.11"
  }
 },
 "nbformat": 4,
 "nbformat_minor": 2
}
