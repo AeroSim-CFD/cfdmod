{
 "cells": [
  {
   "cell_type": "markdown",
   "metadata": {},
   "source": [
    "# Generate shape coefficients"
   ]
  },
  {
   "cell_type": "markdown",
   "metadata": {},
   "source": [
    "The following steps are performed to obtain all the artifacts for shape coefficient use case:\n",
    "\n",
    "1. Read parameters file\n",
    "2. Read Mesh description\n",
    "   * Its path can be specified\n",
    "   * Or it can be obtained from the simulation configuration file\n",
    "3. Read data for pressure coefficient"
   ]
  },
  {
   "cell_type": "markdown",
   "metadata": {},
   "source": [
    "Read post-processing Ce config file"
   ]
  },
  {
   "cell_type": "code",
   "execution_count": 1,
   "metadata": {},
   "outputs": [
    {
     "data": {
      "text/plain": [
       "{'pattern_1': CeConfig(zoning=ZoningConfig(global_zoning=ZoningModel(x_intervals=[0.0, 125.0, 250.0], y_intervals=[0.0, 100.0, 200.0], z_intervals=[0.0, 10.0, 20.0]), no_zoning=['surface1'], exclude=['surface1'], exceptions={'zoning1': ExceptionZoningModel(x_intervals=[0.0, 100.0], y_intervals=[0.0, 50.0], z_intervals=[0.0, 20.0], surfaces=['surface1'])}), statistics=['min', 'max', 'std', 'avg', 'skewness', 'kurtosis']),\n",
       " 'pattern_2': CeConfig(zoning=ZoningConfig(global_zoning=ZoningModel(x_intervals=[0.0, 250.0], y_intervals=[0.0, 200.0], z_intervals=[0.0, 20.0]), no_zoning=[], exclude=[], exceptions={}), statistics=['min', 'max', 'std', 'avg', 'skewness', 'kurtosis'])}"
      ]
     },
     "execution_count": 1,
     "metadata": {},
     "output_type": "execute_result"
    }
   ],
   "source": [
    "from cfdmod.use_cases.pressure.shape.Ce_config import CeConfig\n",
    "import pathlib\n",
    "\n",
    "post_proc_cfg_path = pathlib.Path(\"./fixtures/tests/pressure/Ce_params.yaml\") \n",
    "post_proc_cfg = CeConfig.from_file(post_proc_cfg_path)\n",
    "\n",
    "post_proc_cfg"
   ]
  },
  {
   "cell_type": "markdown",
   "metadata": {},
   "source": [
    "Read simulation config file"
   ]
  },
  {
   "cell_type": "code",
   "execution_count": 2,
   "metadata": {},
   "outputs": [
    {
     "name": "stdout",
     "output_type": "stream",
     "text": [
      "\u001b[37m[2023-10-09 20:37:08.48] [INFO] Loaded from '..\\nassu\\tests\\validation\\results\\test_simulation\\test_simulation\\setup_nassu_case_v1.5.yaml' 1 simulations ['test_simulation:000']\u001b[37m\n"
     ]
    },
    {
     "data": {
      "text/plain": [
       "SimulationConfigs(sim_id=0, name='test_simulation', parent=None, n_steps=20000, save_path=WindowsPath('tests/validation/results/test_simulation'), report=RuntimeFrequencyConfigsEnd(start_step=0, end_step=0, frequency=1000), data=DataConfigs(instantaneous={'default': MacrsExportConfigs(interval=RuntimeFrequencyConfigsStartEnd(start_step=0, end_step=0, frequency=5000), area_export=AreaModel(start=(0.0, 0.0, 0.0), end=(1.0, 1.0, 1.0), is_abs=False), max_lvl=-1, macrs=['rho', 'u'])}, probes=ProbesConfigs(historic_series={'default': SeriesConfigs(macrs=['rho'], interval=RuntimeFrequencyLevelConfigsDefault(start_step=0, end_step=0, frequency=1, lvl=0), lines={}, csvs={}, points={'static_pressure': PointConfigs(pos=(197.0, 40.0, 15.0))}, bodies={'galpao': BodySeriesConfigs(body_name='galpao', normal_offset=0.0625, element_type='cell')})}, spectrum_analysis=SpectrumAnalysisConfigs(macrs=[], points={})), export_IBM_nodes=ExportIBMNodesConfigs(start_step=0, end_step=0, frequency=0), divergence=DivergenceConfigs(start_step=0, end_step=0, frequency=10), statistics=StatisticsConfigs(interval=RuntimeFrequencyConfigsDefault(start_step=0, end_step=0, frequency=0), macrs_1st_order=[], macrs_2nd_order=[], exports={})), domain=DomainConfigs(domain_size=PositiveIntZOptional(x=480, y=80, z=48), block_size=16, refinement=RefinementConfigs(static=RefinementStaticConfigs(areas=[RefinementAreaConfigs(start=(45.0, 16.0, 0.0), end=(350.0, 64.0, 32.0), is_abs=True, lvl=1)], bodies=[])), bodies={'galpao': BodyConfig(lagrangian_path=WindowsPath('../nassuArtifacts/lnas/test_simulation/galpao'), small_triangles='add', area=BodyAreaConfig(min=0.25, max=1), interval_run=StartEndStep(start_step=0, end_step=0), transformation=GeometryTransformationConfig(translation=(0, 0, 0), rotation=(0, 0, 0), fixed_point=(0, 0, 0), scale=(1, 1, 1))), 'terreno': BodyConfig(lagrangian_path=WindowsPath('../nassuArtifacts/lnas/test_simulation/terreno'), small_triangles='add', area=BodyAreaConfig(min=0.25, max=1), interval_run=StartEndStep(start_step=0, end_step=0), transformation=GeometryTransformationConfig(translation=(0, 0, 0), rotation=(0, 0, 0), fixed_point=(0, 0, 0), scale=(1, 1, 1)))}, bodies_domain_limits=AreaModel(start=(4.0, 4.0, 0.0), end=(396.0, 76.0, 44.0), is_abs=True), global_transformations=[GlobalTransformationConfig(transformation=GeometryTransformationConfig(translation=(200.0, 40.0, -16.0), rotation=(0, 0, 0), fixed_point=(0, 0, 0), scale=(0.03125, 0.03125, 0.03125)), bodies_apply=['galpao', 'terreno'], probes_apply=[])]), models=ModelConfigs(engine=EngineConfigs(name='CUDA', n_devices=1, devices_numbers=None), precision=PrecisionConfigs(default='single', calculations='default', populations='default', macroscopics='default'), memory_scheme='AA', multiblock=MultiblockConfigs(overlap_F2C=1), initialization=InitializationConfig(filename=None, load_macrs=False, resize_scheme='linear_interp', rho=1.0, u=FloatModel3DAllOptionalDefault0(x=0.05, y=0.0, z=0.0)), LES=LESConfigs(model='Smagorinsky', sgs_cte=0.17), LBM=LBMConfigs(tau=0.50000325, vel_set='D3Q27', coll_oper='RRBGK', F=FloatModel3DAllOptionalDefault0(x=0, y=0, z=0)), IBM=IBMConfigs(dirac_delta='3_points', n_iterations=1, forces_relaxation_factor=1, forces_accomodate_time=500, reset_forces=0), BC=BCConfigs(WM_cfg=WallModelConfigs(roughness_height=0.0001, TDMA_n_div=25, TDMA_max_iters=50, TDMA_max_error=5e-06), BC_map=[BCModel(pos='W', BC='UniformFlow', wall_normal='W', order=2, rho=1, ux=0.05, uy=0, uz=0), BCModel(pos='E', BC='RegularizedNeumannOutlet', wall_normal='E', order=2, rho=1.0), BCModel(pos='F', BC='Neumann', wall_normal='F', order=1), BCModel(pos='B', BC='RegularizedHWBB', wall_normal='B', order=1), BCModel(pos='N', BC='Neumann', wall_normal='N', order=0), BCModel(pos='S', BC='Neumann', wall_normal='S', order=0)], periodic_dims=(False, False, False), SEM=SEMConfigs(N_x=28, K=1.0, lengthscale=14.0, csv_eddys_positions=WindowsPath('fixture/SEM/category_II/eddys.csv'), csv_profile_data=WindowsPath('fixture/SEM/category_II/real_profile.csv')))), debug=DebugConfigs(profile=False, output_only=False, output_IBM_nodes=False, LBM=DebugConfigsLBM(streaming_only=False, collision_only=False, no_collision_optimization=False, no_macrs_export=False), IBM=DebugConfigsIBM(no_force_spread=False, sync_interblock_nodes=True, no_nodes_export=False), multiblock=DebugConfigsMultiblock(sync_border_nodes_on_init=True, run_communication=True, run_sync=True, rescale_populations=True, export_comm_vtk=False), code_generation=DebugCodeGeneration(load_generated_files=False)))"
      ]
     },
     "execution_count": 2,
     "metadata": {},
     "output_type": "execute_result"
    }
   ],
   "source": [
    "from nassu.cfg.model import ConfigScheme\n",
    "\n",
    "sim_cfg_path = pathlib.Path(\"../nassu/tests/validation/results/test_simulation/test_simulation/setup_nassu_case_v1.5.yaml\")\n",
    "\n",
    "sim_cfg = ConfigScheme.from_file(sim_cfg_path).load_sim_cfgs()[0]\n",
    "\n",
    "sim_cfg"
   ]
  },
  {
   "cell_type": "markdown",
   "metadata": {},
   "source": [
    "Normalize LNAS Mesh"
   ]
  },
  {
   "cell_type": "code",
   "execution_count": 3,
   "metadata": {},
   "outputs": [
    {
     "name": "stdout",
     "output_type": "stream",
     "text": [
      "galpao (1549, 3) (2915, 3)\n"
     ]
    },
    {
     "data": {
      "text/plain": [
       "(0.0, 0.0, 0.0)"
      ]
     },
     "execution_count": 3,
     "metadata": {},
     "output_type": "execute_result"
    }
   ],
   "source": [
    "from nassu.lnas import LagrangianFormat\n",
    "\n",
    "body_cfg = sim_cfg.domain.bodies[\"galpao\"]\n",
    "\n",
    "original_mesh = LagrangianFormat.from_folder(body_cfg.lagrangian_path)\n",
    "\n",
    "new_verts = original_mesh.geometry.vertices.copy()\n",
    "\n",
    "new_verts[:, 0] -= new_verts[:, 0].min()\n",
    "new_verts[:, 1] -= new_verts[:, 1].min()\n",
    "new_verts[:, 2] -= new_verts[:, 2].min()\n",
    "\n",
    "original_mesh.geometry.vertices = new_verts\n",
    "\n",
    "original_mesh.to_file(body_cfg.lagrangian_path / f\"{original_mesh.name}.normalized.lnas\")\n",
    "\n",
    "print(original_mesh.name, original_mesh.geometry.vertices.shape, original_mesh.geometry.triangles.shape)\n",
    "\n",
    "original_mesh.geometry.vertices[:, 0].min(), original_mesh.geometry.vertices[:, 1].min(), original_mesh.geometry.vertices[:, 2].min()"
   ]
  },
  {
   "cell_type": "markdown",
   "metadata": {},
   "source": [
    "Read Normalized LNAS Mesh"
   ]
  },
  {
   "cell_type": "code",
   "execution_count": 4,
   "metadata": {},
   "outputs": [
    {
     "data": {
      "text/plain": [
       "('galpao', (1549, 3), (2915, 3))"
      ]
     },
     "execution_count": 4,
     "metadata": {},
     "output_type": "execute_result"
    }
   ],
   "source": [
    "from nassu.lnas import LagrangianFormat\n",
    "\n",
    "mesh = LagrangianFormat.from_file(body_cfg.lagrangian_path / f\"{original_mesh.name}.normalized.lnas\")\n",
    "# mesh.export_stl(body_cfg.lagrangian_path / f\"{original_mesh.name}.normalized.stl\")\n",
    "mesh.name, mesh.geometry.vertices.shape, mesh.geometry.triangles.shape"
   ]
  },
  {
   "cell_type": "markdown",
   "metadata": {},
   "source": [
    "Read Pressure Coefficient data"
   ]
  },
  {
   "cell_type": "code",
   "execution_count": 5,
   "metadata": {},
   "outputs": [],
   "source": [
    "import pandas as pd\n",
    "\n",
    "cp_path = pathlib.Path(\"./output/pressure/cp_t.hdf\")\n",
    "cp_data = pd.read_hdf(cp_path)\n",
    "\n",
    "cp_data_to_use = (\n",
    "    cp_data.to_frame() if isinstance(cp_data, pd.Series) else cp_data\n",
    ")"
   ]
  },
  {
   "cell_type": "markdown",
   "metadata": {},
   "source": [
    "Add region index to pressure coefficient data"
   ]
  },
  {
   "cell_type": "code",
   "execution_count": 6,
   "metadata": {},
   "outputs": [],
   "source": [
    "from cfdmod.use_cases.pressure.shape.regions import get_region_index_mask\n",
    "from cfdmod.use_cases.pressure.shape.Ce_data import calculate_statistics, transform_to_Ce\n",
    "import numpy as np\n",
    "\n",
    "n_timesteps = cp_data[\"time_step\"].unique().shape[0]\n",
    "\n",
    "for cfg_label, cfg in post_proc_cfg.items():\n",
    "    for sfc in mesh.surfaces.keys():\n",
    "        if sfc in cfg.zoning.exclude:\n",
    "            # TODO\n",
    "            continue\n",
    "        if sfc in cfg.zoning.no_zoning:\n",
    "            # TODO\n",
    "            continue\n",
    "        sfc_mesh = mesh.geometry_from_surface(sfc)\n",
    "        \n",
    "        if sfc in cfg.zoning.surfaces_in_exception:\n",
    "            zoning_to_use = [cfg for cfg in cfg.zoning.exceptions.values() if sfc in cfg.surfaces][0]\n",
    "        else:\n",
    "            zoning_to_use = cfg.zoning.global_zoning\n",
    "            \n",
    "        zoning_to_use.offset_limits(0.1)\n",
    "        \n",
    "        # Output 1: Ce_regions\n",
    "        df_regions, triangles_region = get_region_index_mask(\n",
    "            mesh=sfc_mesh, \n",
    "            zoning=zoning_to_use\n",
    "        )\n",
    "\n",
    "        sfc_triangles_idxs = mesh.surfaces[sfc].copy()\n",
    "        \n",
    "        # # Output 2: Ce(t)\n",
    "        surface_ce = transform_to_Ce(\n",
    "            surface_mesh=sfc_mesh,\n",
    "            cp_data=cp_data_to_use,\n",
    "            sfc_triangles_idxs=sfc_triangles_idxs,\n",
    "            triangles_region=triangles_region,\n",
    "            n_timesteps=n_timesteps\n",
    "        )\n",
    "        \n",
    "        # Output 3: Ce_stats\n",
    "        surface_ce_stats = calculate_statistics(surface_ce, statistics_to_apply=post_proc_cfg[cfg_label].statistics)"
   ]
  },
  {
   "cell_type": "markdown",
   "metadata": {},
   "source": [
    "Create region mesh"
   ]
  },
  {
   "cell_type": "code",
   "execution_count": 7,
   "metadata": {},
   "outputs": [],
   "source": [
    "# TODO"
   ]
  },
  {
   "cell_type": "markdown",
   "metadata": {},
   "source": [
    "Merge region mesh with Ce stats"
   ]
  },
  {
   "cell_type": "code",
   "execution_count": 8,
   "metadata": {},
   "outputs": [],
   "source": [
    "# TODO"
   ]
  }
 ],
 "metadata": {
  "kernelspec": {
   "display_name": "cfdmod-6zl7i90Q-py3.11",
   "language": "python",
   "name": "python3"
  },
  "language_info": {
   "codemirror_mode": {
    "name": "ipython",
    "version": 3
   },
   "file_extension": ".py",
   "mimetype": "text/x-python",
   "name": "python",
   "nbconvert_exporter": "python",
   "pygments_lexer": "ipython3",
   "version": "3.10.11"
  }
 },
 "nbformat": 4,
 "nbformat_minor": 2
}
