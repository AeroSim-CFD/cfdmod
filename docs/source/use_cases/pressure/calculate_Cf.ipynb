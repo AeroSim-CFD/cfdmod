{
 "cells": [
  {
   "cell_type": "markdown",
   "metadata": {},
   "source": [
    "# Generate shape coefficients"
   ]
  },
  {
   "cell_type": "markdown",
   "metadata": {},
   "source": [
    "The following steps are performed to obtain all the artifacts for force coefficient use case:\n",
    "\n",
    "1. Read parameters file\n",
    "2. Read Mesh description\n",
    "   * Its path can be specified\n",
    "   * Or it can be obtained from the simulation configuration file\n",
    "3. Read data for pressure coefficient"
   ]
  },
  {
   "cell_type": "markdown",
   "metadata": {},
   "source": [
    "Read parameters file"
   ]
  },
  {
   "cell_type": "code",
   "execution_count": 11,
   "metadata": {},
   "outputs": [
    {
     "data": {
      "text/plain": [
       "{'measurement_1': CfConfig(bodies={'building': Body(surfaces=[], sub_bodies=SubBodyIntervals(x_intervals=[], y_intervals=[], z_intervals=[0.0, 10.0, 20.0]))}, variables=['Cfx', 'Cfy', 'Cfz'], statistics=['min', 'max', 'std', 'avg', 'skewness', 'kurtosis']),\n",
       " 'measurement_2': CfConfig(bodies={'lanternim': Body(surfaces=['L1_xp', 'L2_yp', 'L3_zp_yp', 'L4_zp_ym', 'L5_ym', 'L6_xm'], sub_bodies=SubBodyIntervals(x_intervals=[], y_intervals=[], z_intervals=[]))}, variables=['Cfx', 'Cfy', 'Cfz'], statistics=['min', 'max', 'std', 'avg', 'skewness', 'kurtosis'])}"
      ]
     },
     "execution_count": 11,
     "metadata": {},
     "output_type": "execute_result"
    }
   ],
   "source": [
    "from cfdmod.use_cases.pressure.force.Cf_config import CfConfig\n",
    "import pathlib\n",
    "\n",
    "config_path=pathlib.Path(\"./fixtures/tests/pressure/Cf_params.yaml\")\n",
    "post_proc_cfg = CfConfig.from_file(config_path)\n",
    "\n",
    "post_proc_cfg"
   ]
  },
  {
   "cell_type": "markdown",
   "metadata": {},
   "source": [
    "Read Mesh from file"
   ]
  },
  {
   "cell_type": "code",
   "execution_count": 12,
   "metadata": {},
   "outputs": [
    {
     "data": {
      "text/plain": [
       "('galpao', (1549, 3), (2915, 3))"
      ]
     },
     "execution_count": 12,
     "metadata": {},
     "output_type": "execute_result"
    }
   ],
   "source": [
    "from nassu.lnas import LagrangianFormat\n",
    "\n",
    "mesh_path=pathlib.Path(\"./fixtures/tests/pressure/galpao/galpao.normalized.lnas\")\n",
    "mesh = LagrangianFormat.from_file(mesh_path)\n",
    "\n",
    "mesh.name, mesh.geometry.vertices.shape, mesh.geometry.triangles.shape"
   ]
  },
  {
   "cell_type": "markdown",
   "metadata": {},
   "source": [
    "Read pressure coefficient data"
   ]
  },
  {
   "cell_type": "code",
   "execution_count": 13,
   "metadata": {},
   "outputs": [
    {
     "data": {
      "text/html": [
       "<div>\n",
       "<style scoped>\n",
       "    .dataframe tbody tr th:only-of-type {\n",
       "        vertical-align: middle;\n",
       "    }\n",
       "\n",
       "    .dataframe tbody tr th {\n",
       "        vertical-align: top;\n",
       "    }\n",
       "\n",
       "    .dataframe thead th {\n",
       "        text-align: right;\n",
       "    }\n",
       "</style>\n",
       "<table border=\"1\" class=\"dataframe\">\n",
       "  <thead>\n",
       "    <tr style=\"text-align: right;\">\n",
       "      <th></th>\n",
       "      <th>time_step</th>\n",
       "      <th>point_idx</th>\n",
       "      <th>cp</th>\n",
       "    </tr>\n",
       "  </thead>\n",
       "  <tbody>\n",
       "    <tr>\n",
       "      <th>0</th>\n",
       "      <td>10000.0</td>\n",
       "      <td>0</td>\n",
       "      <td>0.268273</td>\n",
       "    </tr>\n",
       "    <tr>\n",
       "      <th>1</th>\n",
       "      <td>10000.0</td>\n",
       "      <td>1</td>\n",
       "      <td>0.273546</td>\n",
       "    </tr>\n",
       "    <tr>\n",
       "      <th>2</th>\n",
       "      <td>10000.0</td>\n",
       "      <td>2</td>\n",
       "      <td>0.265319</td>\n",
       "    </tr>\n",
       "    <tr>\n",
       "      <th>3</th>\n",
       "      <td>10000.0</td>\n",
       "      <td>3</td>\n",
       "      <td>0.276913</td>\n",
       "    </tr>\n",
       "    <tr>\n",
       "      <th>4</th>\n",
       "      <td>10000.0</td>\n",
       "      <td>4</td>\n",
       "      <td>0.272593</td>\n",
       "    </tr>\n",
       "    <tr>\n",
       "      <th>...</th>\n",
       "      <td>...</td>\n",
       "      <td>...</td>\n",
       "      <td>...</td>\n",
       "    </tr>\n",
       "    <tr>\n",
       "      <th>294410</th>\n",
       "      <td>10100.0</td>\n",
       "      <td>2910</td>\n",
       "      <td>0.485344</td>\n",
       "    </tr>\n",
       "    <tr>\n",
       "      <th>294411</th>\n",
       "      <td>10100.0</td>\n",
       "      <td>2911</td>\n",
       "      <td>0.474767</td>\n",
       "    </tr>\n",
       "    <tr>\n",
       "      <th>294412</th>\n",
       "      <td>10100.0</td>\n",
       "      <td>2912</td>\n",
       "      <td>0.450817</td>\n",
       "    </tr>\n",
       "    <tr>\n",
       "      <th>294413</th>\n",
       "      <td>10100.0</td>\n",
       "      <td>2913</td>\n",
       "      <td>0.537118</td>\n",
       "    </tr>\n",
       "    <tr>\n",
       "      <th>294414</th>\n",
       "      <td>10100.0</td>\n",
       "      <td>2914</td>\n",
       "      <td>0.532989</td>\n",
       "    </tr>\n",
       "  </tbody>\n",
       "</table>\n",
       "<p>294415 rows × 3 columns</p>\n",
       "</div>"
      ],
      "text/plain": [
       "        time_step  point_idx        cp\n",
       "0         10000.0          0  0.268273\n",
       "1         10000.0          1  0.273546\n",
       "2         10000.0          2  0.265319\n",
       "3         10000.0          3  0.276913\n",
       "4         10000.0          4  0.272593\n",
       "...           ...        ...       ...\n",
       "294410    10100.0       2910  0.485344\n",
       "294411    10100.0       2911  0.474767\n",
       "294412    10100.0       2912  0.450817\n",
       "294413    10100.0       2913  0.537118\n",
       "294414    10100.0       2914  0.532989\n",
       "\n",
       "[294415 rows x 3 columns]"
      ]
     },
     "execution_count": 13,
     "metadata": {},
     "output_type": "execute_result"
    }
   ],
   "source": [
    "import pandas as pd\n",
    "\n",
    "cp_data_path=pathlib.Path(\"./fixtures/tests/pressure/data/cp_t.resampled.hdf\")\n",
    "cp_data = pd.read_hdf(cp_data_path)\n",
    "\n",
    "cp_data_to_use = (\n",
    "    cp_data.to_frame() if isinstance(cp_data, pd.Series) else cp_data\n",
    ")\n",
    "cp_data_to_use"
   ]
  },
  {
   "cell_type": "code",
   "execution_count": 32,
   "metadata": {},
   "outputs": [
    {
     "ename": "ValueError",
     "evalue": "operands could not be broadcast together with shapes (2915,) (2915,3) ",
     "output_type": "error",
     "traceback": [
      "\u001b[1;31m---------------------------------------------------------------------------\u001b[0m",
      "\u001b[1;31mValueError\u001b[0m                                Traceback (most recent call last)",
      "\u001b[1;32ma:\\Aerosim\\Repositories\\cfdmod\\docs\\source\\use_cases\\pressure\\calculate_Cf.ipynb Cell 9\u001b[0m line \u001b[0;36m1\n\u001b[0;32m      <a href='vscode-notebook-cell:/a%3A/Aerosim/Repositories/cfdmod/docs/source/use_cases/pressure/calculate_Cf.ipynb#X11sZmlsZQ%3D%3D?line=7'>8</a>\u001b[0m     surface_cp \u001b[39m=\u001b[39m cp_data[cp_data[\u001b[39m\"\u001b[39m\u001b[39mpoint_idx\u001b[39m\u001b[39m\"\u001b[39m]\u001b[39m.\u001b[39misin(geometry_idx)]\u001b[39m.\u001b[39mcopy()\n\u001b[0;32m      <a href='vscode-notebook-cell:/a%3A/Aerosim/Repositories/cfdmod/docs/source/use_cases/pressure/calculate_Cf.ipynb#X11sZmlsZQ%3D%3D?line=8'>9</a>\u001b[0m     \u001b[39m# areas = mesh.geometry.areas\u001b[39;00m\n\u001b[1;32m---> <a href='vscode-notebook-cell:/a%3A/Aerosim/Repositories/cfdmod/docs/source/use_cases/pressure/calculate_Cf.ipynb#X11sZmlsZQ%3D%3D?line=9'>10</a>\u001b[0m     areas \u001b[39m=\u001b[39m mesh\u001b[39m.\u001b[39;49mgeometry\u001b[39m.\u001b[39;49mareas \u001b[39m*\u001b[39;49m mesh\u001b[39m.\u001b[39;49mgeometry\u001b[39m.\u001b[39;49mnormals\n\u001b[0;32m     <a href='vscode-notebook-cell:/a%3A/Aerosim/Repositories/cfdmod/docs/source/use_cases/pressure/calculate_Cf.ipynb#X11sZmlsZQ%3D%3D?line=11'>12</a>\u001b[0m     \u001b[39mprint\u001b[39m(areas[\u001b[39m0\u001b[39m])\n\u001b[0;32m     <a href='vscode-notebook-cell:/a%3A/Aerosim/Repositories/cfdmod/docs/source/use_cases/pressure/calculate_Cf.ipynb#X11sZmlsZQ%3D%3D?line=12'>13</a>\u001b[0m \u001b[39melse\u001b[39;00m:\n\u001b[0;32m     <a href='vscode-notebook-cell:/a%3A/Aerosim/Repositories/cfdmod/docs/source/use_cases/pressure/calculate_Cf.ipynb#X11sZmlsZQ%3D%3D?line=13'>14</a>\u001b[0m     \u001b[39m# Filter mesh for all surfaces\u001b[39;00m\n",
      "\u001b[1;31mValueError\u001b[0m: operands could not be broadcast together with shapes (2915,) (2915,3) "
     ]
    }
   ],
   "source": [
    "import numpy as np\n",
    "\n",
    "for cfg_label, cfg in post_proc_cfg.items():\n",
    "    for body_label, body_cfg in cfg.bodies.items():\n",
    "        if len(body_cfg.surfaces) == 0:\n",
    "            # Include all surfaces\n",
    "            geometry_idx = np.arange(0, len(mesh.geometry.triangles))\n",
    "            surface_cp = cp_data[cp_data[\"point_idx\"].isin(geometry_idx)].copy()\n",
    "            areas = mesh.geometry._cross_prod() / 2\n",
    "            # areas = mesh.geometry.areas * mesh.geometry.normals\n",
    "            \n",
    "            print(areas[0])\n",
    "        else:\n",
    "            # Filter mesh for all surfaces\n",
    "            geometry_idx = np.array([])\n",
    "            for sfc in body_cfg.surfaces:\n",
    "                if sfc not in mesh.surfaces.keys():\n",
    "                    raise Exception(\"Surface defined in body is not separated in the LNAS file.\")\n",
    "                geometry_idx = np.concatenate((geometry_idx, mesh.surfaces[sfc])) \n",
    "            surface_cp = cp_data[cp_data[\"point_idx\"].isin(geometry_idx)].copy()\n",
    "        print(surface_cp)"
   ]
  }
 ],
 "metadata": {
  "kernelspec": {
   "display_name": "cfdmod-XMkUSlb0-py3.10",
   "language": "python",
   "name": "python3"
  },
  "language_info": {
   "codemirror_mode": {
    "name": "ipython",
    "version": 3
   },
   "file_extension": ".py",
   "mimetype": "text/x-python",
   "name": "python",
   "nbconvert_exporter": "python",
   "pygments_lexer": "ipython3",
   "version": "3.10.11"
  }
 },
 "nbformat": 4,
 "nbformat_minor": 2
}
