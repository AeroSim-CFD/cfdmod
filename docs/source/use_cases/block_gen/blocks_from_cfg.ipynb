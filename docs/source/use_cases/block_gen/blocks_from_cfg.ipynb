{
 "cells": [
  {
   "cell_type": "markdown",
   "metadata": {},
   "source": [
    "##### Get parameters from config .yaml file"
   ]
  },
  {
   "cell_type": "code",
   "execution_count": 1,
   "metadata": {},
   "outputs": [
    {
     "data": {
      "text/plain": [
       "GenerationParams(N_blocks_x=10, N_blocks_y=10, block_params=BlockParams(height=10.0, width=10.0, length=10.0), spacing_params=SpacingParams(spacing_x=10.0, spacing_y=10.0, line_offset=10.0, is_abs=True, offset_direction=<OffsetDirection.x: 'x'>))"
      ]
     },
     "execution_count": 1,
     "metadata": {},
     "output_type": "execute_result"
    }
   ],
   "source": [
    "import pathlib\n",
    "from cfdmod.use_cases.block_gen import *\n",
    "\n",
    "cfg_file = pathlib.Path(\"./fixtures/tests/block_gen/block_params.yaml\")\n",
    "cfg = GenerationParams.from_file(cfg_file)\n",
    "\n",
    "cfg"
   ]
  },
  {
   "cell_type": "markdown",
   "metadata": {},
   "source": [
    "##### Calculate spacings and offset from parameters"
   ]
  },
  {
   "cell_type": "code",
   "execution_count": null,
   "metadata": {},
   "outputs": [],
   "source": [
    "single_line_repeat = (\n",
    "    cfg.N_blocks_y - 1\n",
    "    if cfg.spacing_params.offset_direction == \"y\"\n",
    "    else cfg.N_blocks_x - 1\n",
    ")\n",
    "single_line_spacing = (\n",
    "    cfg.spacing_params.spacing_x + cfg.block_params.length\n",
    "    if cfg.spacing_params.offset_direction == \"x\"\n",
    "    else cfg.spacing_params.spacing_y + cfg.block_params.width\n",
    ")\n",
    "multiple_line_repeat = (\n",
    "    cfg.N_blocks_x - 1\n",
    "    if cfg.spacing_params.offset_direction == \"y\"\n",
    "    else cfg.N_blocks_y - 1\n",
    ")\n",
    "multiple_line_spacing = (\n",
    "    cfg.spacing_params.spacing_x + cfg.block_params.length\n",
    "    if cfg.spacing_params.offset_direction == \"y\"\n",
    "    else cfg.spacing_params.spacing_y + cfg.block_params.width\n",
    ")"
   ]
  },
  {
   "cell_type": "code",
   "execution_count": null,
   "metadata": {},
   "outputs": [],
   "source": [
    "from cfdmod.api.geometry.STL import export_stl\n",
    "import pathlib\n",
    "from cfdmod.use_cases.block_gen import *\n",
    "\n",
    "\n",
    "vertices, triangles = build_single_block(cfg.block_params)\n",
    "\n",
    "\n",
    "\n",
    "single_line_vertices, single_line_triangles = linear_pattern(\n",
    "    vertices,\n",
    "    triangles,\n",
    "    direction=cfg.spacing_params.offset_direction,\n",
    "    n_repeats=single_line_repeat,\n",
    "    spacing_value=single_line_spacing,\n",
    ")\n",
    "\n",
    "full_vertices, full_triangles = linear_pattern(\n",
    "    single_line_vertices,\n",
    "    single_line_triangles,\n",
    "    direction=cfg.perpendicular_direction,\n",
    "    n_repeats=multiple_line_repeat,\n",
    "    spacing_value=multiple_line_spacing,\n",
    "    offset_value=cfg.calculate_spacing(direction=cfg.perpendicular_direction),\n",
    ")\n",
    "\n",
    "export_stl(output_path / \"blocks.stl\", full_vertices, full_triangles)"
   ]
  }
 ],
 "metadata": {
  "kernelspec": {
   "display_name": "cfdmod-XMkUSlb0-py3.10",
   "language": "python",
   "name": "python3"
  },
  "language_info": {
   "codemirror_mode": {
    "name": "ipython",
    "version": 3
   },
   "file_extension": ".py",
   "mimetype": "text/x-python",
   "name": "python",
   "nbconvert_exporter": "python",
   "pygments_lexer": "ipython3",
   "version": "3.10.11"
  },
  "orig_nbformat": 4
 },
 "nbformat": 4,
 "nbformat_minor": 2
}
