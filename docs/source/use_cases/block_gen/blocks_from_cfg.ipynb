{
 "cells": [
  {
   "cell_type": "markdown",
   "metadata": {},
   "source": [
    "# Using a config file"
   ]
  },
  {
   "cell_type": "markdown",
   "metadata": {},
   "source": [
    "## Get parameters from config .yaml file\n",
    "\n",
    "This is the standard use case for generating the roughness blocks.\n",
    "The user inputs the parameters config file containing the necessary parameters.\n",
    "\n",
    "These parameters account for the number of blocks being generated in each direction and also the offset and spacing applied to each row."
   ]
  },
  {
   "cell_type": "code",
   "execution_count": 3,
   "metadata": {},
   "outputs": [
    {
     "data": {
      "text/plain": [
       "GenerationParams(N_blocks_x=10, N_blocks_y=10, block_params=BlockParams(height=10.0, width=10.0, length=10.0), spacing_params=SpacingParams(spacing=(10.0, 10.0), line_offset=10.0, offset_direction=<OffsetDirection.x: 'x'>))"
      ]
     },
     "execution_count": 3,
     "metadata": {},
     "output_type": "execute_result"
    }
   ],
   "source": [
    "import pathlib\n",
    "from cfdmod.use_cases.block_gen import GenerationParams\n",
    "\n",
    "cfg_file = pathlib.Path(\"./fixtures/tests/block_gen/block_params.yaml\")\n",
    "cfg = GenerationParams.from_file(cfg_file)\n",
    "\n",
    "cfg"
   ]
  },
  {
   "cell_type": "markdown",
   "metadata": {},
   "source": [
    "## Build block and linear patterns\n",
    "\n",
    "In order to build all the blocks, linear patterns are applied.\n",
    "The first one applies to create a row in the offset direction.\n",
    "The second one applies to replicate the original row and apply an offset to odd index rows."
   ]
  },
  {
   "cell_type": "code",
   "execution_count": 6,
   "metadata": {},
   "outputs": [
    {
     "name": "stdout",
     "output_type": "stream",
     "text": [
      "Single block: Vertices count: 30 Triangles count: 10\n",
      "Single line Vertices count: 300 Triangles count: 100\n",
      "Replicated lines Vertices count: 3000 Triangles count: 1000\n"
     ]
    }
   ],
   "source": [
    "from cfdmod.use_cases.block_gen import build_single_block, linear_pattern\n",
    "\n",
    "triangles, normals = build_single_block(cfg.block_params)\n",
    "\n",
    "single_line_triangles, single_line_normals = linear_pattern(\n",
    "    triangles,\n",
    "    normals,\n",
    "    direction=cfg.spacing_params.offset_direction.value,\n",
    "    n_repeats=cfg.single_line_blocks,\n",
    "    spacing_value=cfg.single_line_spacing,\n",
    ")\n",
    "\n",
    "full_triangles, full_normals = linear_pattern(\n",
    "    single_line_triangles,\n",
    "    single_line_normals,\n",
    "    direction=cfg.perpendicular_direction.value,\n",
    "    n_repeats=cfg.multi_line_blocks,\n",
    "    spacing_value=cfg.multi_line_spacing,\n",
    "    offset_value=cfg.spacing_params.line_offset,\n",
    ")\n",
    "\n",
    "print(\"Single block:\", f\"Vertices count: {triangles.shape[0] * triangles.shape[1]}\", f\"Triangles count: {len(triangles)}\")\n",
    "print(\"Single line\", f\"Vertices count: {single_line_triangles.shape[0] * single_line_triangles.shape[1]}\", f\"Triangles count: {len(single_line_triangles)}\")\n",
    "print(\"Replicated lines\", f\"Vertices count: {full_triangles.shape[0] * full_triangles.shape[1]}\", f\"Triangles count: {len(full_triangles)}\")"
   ]
  },
  {
   "cell_type": "markdown",
   "metadata": {},
   "source": [
    "## Export generated geometry\n",
    "\n",
    "In order to use the generated geometry, the user must export the triangles and normals, using the geometry API and the STL format (triangles, normals)."
   ]
  },
  {
   "cell_type": "code",
   "execution_count": 3,
   "metadata": {},
   "outputs": [],
   "source": [
    "from cfdmod.api.geometry.STL import export_stl\n",
    "import pathlib\n",
    "\n",
    "output_path = pathlib.Path(\"./output/block_gen\")\n",
    "\n",
    "export_stl(output_path / \"blocks.stl\", full_triangles, full_normals)"
   ]
  }
 ],
 "metadata": {
  "kernelspec": {
   "display_name": "cfdmod-XMkUSlb0-py3.10",
   "language": "python",
   "name": "python3"
  },
  "language_info": {
   "codemirror_mode": {
    "name": "ipython",
    "version": 3
   },
   "file_extension": ".py",
   "mimetype": "text/x-python",
   "name": "python",
   "nbconvert_exporter": "python",
   "pygments_lexer": "ipython3",
   "version": "3.10.11"
  },
  "orig_nbformat": 4
 },
 "nbformat": 4,
 "nbformat_minor": 2
}
