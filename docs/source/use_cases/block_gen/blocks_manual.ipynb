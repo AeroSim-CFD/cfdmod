{
 "cells": [
  {
   "cell_type": "markdown",
   "metadata": {},
   "source": [
    "##### Manually insert generation parameters"
   ]
  },
  {
   "cell_type": "code",
   "execution_count": 1,
   "metadata": {},
   "outputs": [
    {
     "data": {
      "text/plain": [
       "GenerationParams(N_blocks_x=10, N_blocks_y=10, block_params=BlockParams(height=5.0, width=5.0, length=5.0), spacing_params=SpacingParams(spacing_x=2.0, spacing_y=2.0, line_offset=5.0, is_abs=False, offset_direction=<OffsetDirection.x: 'x'>))"
      ]
     },
     "execution_count": 1,
     "metadata": {},
     "output_type": "execute_result"
    }
   ],
   "source": [
    "from cfdmod.use_cases.block_gen import *\n",
    "from cfdmod.use_cases.block_gen import SpacingParams\n",
    "\n",
    "block_params = BlockParams(\n",
    "    height=5,\n",
    "    width=5,\n",
    "    length=5\n",
    ")\n",
    "\n",
    "spacing_params = SpacingParams(\n",
    "    spacing_x=2, \n",
    "    spacing_y=2, \n",
    "    line_offset=5, \n",
    "    is_abs=False, \n",
    "    offset_direction=\"x\"\n",
    ")\n",
    "\n",
    "cfg = GenerationParams(\n",
    "    N_blocks_x=10,\n",
    "    N_blocks_y=10,\n",
    "    block_params=block_params,\n",
    "    spacing_params=spacing_params\n",
    ")\n",
    "\n",
    "cfg"
   ]
  },
  {
   "cell_type": "markdown",
   "metadata": {},
   "source": [
    "##### Calculate spacings and offset from parameters"
   ]
  },
  {
   "cell_type": "code",
   "execution_count": 3,
   "metadata": {},
   "outputs": [
    {
     "data": {
      "text/plain": [
       "(9, 7.0, 9, 7.0)"
      ]
     },
     "execution_count": 3,
     "metadata": {},
     "output_type": "execute_result"
    }
   ],
   "source": [
    "single_line_repeat = (\n",
    "    cfg.N_blocks_y - 1\n",
    "    if cfg.spacing_params.offset_direction == \"y\"\n",
    "    else cfg.N_blocks_x - 1\n",
    ")\n",
    "single_line_spacing = (\n",
    "    cfg.spacing_params.spacing_x + cfg.block_params.length\n",
    "    if cfg.spacing_params.offset_direction == \"x\"\n",
    "    else cfg.spacing_params.spacing_y + cfg.block_params.width\n",
    ")\n",
    "multiple_line_repeat = (\n",
    "    cfg.N_blocks_x - 1\n",
    "    if cfg.spacing_params.offset_direction == \"y\"\n",
    "    else cfg.N_blocks_y - 1\n",
    ")\n",
    "multiple_line_spacing = (\n",
    "    cfg.spacing_params.spacing_x + cfg.block_params.length\n",
    "    if cfg.spacing_params.offset_direction == \"y\"\n",
    "    else cfg.spacing_params.spacing_y + cfg.block_params.width\n",
    ")\n",
    "\n",
    "single_line_repeat, single_line_spacing, multiple_line_repeat, multiple_line_spacing"
   ]
  },
  {
   "cell_type": "markdown",
   "metadata": {},
   "source": [
    "##### Build block and linear patterns"
   ]
  },
  {
   "cell_type": "code",
   "execution_count": 8,
   "metadata": {},
   "outputs": [
    {
     "name": "stdout",
     "output_type": "stream",
     "text": [
      "Single block: Vertices count: 8 Triangles count: 10\n",
      "Single line Vertices count: 80 Triangles count: 100\n",
      "Replicated lines Vertices count: 800 Triangles count: 1000\n"
     ]
    }
   ],
   "source": [
    "vertices, triangles = build_single_block(cfg.block_params)\n",
    "\n",
    "single_line_vertices, single_line_triangles = linear_pattern(\n",
    "    vertices,\n",
    "    triangles,\n",
    "    direction=cfg.spacing_params.offset_direction,\n",
    "    n_repeats=single_line_repeat,\n",
    "    spacing_value=single_line_spacing,\n",
    ")\n",
    "\n",
    "full_vertices, full_triangles = linear_pattern(\n",
    "    single_line_vertices,\n",
    "    single_line_triangles,\n",
    "    direction=cfg.perpendicular_direction,\n",
    "    n_repeats=multiple_line_repeat,\n",
    "    spacing_value=multiple_line_spacing,\n",
    "    offset_value=cfg.calculate_spacing(direction=cfg.perpendicular_direction),\n",
    ")\n",
    "\n",
    "print(\"Single block:\", f\"Vertices count: {len(vertices)}\", f\"Triangles count: {len(triangles)}\")\n",
    "print(\"Single line\", f\"Vertices count: {len(single_line_vertices)}\", f\"Triangles count: {len(single_line_triangles)}\")\n",
    "print(\"Replicated lines\", f\"Vertices count: {len(full_vertices)}\", f\"Triangles count: {len(full_triangles)}\")"
   ]
  },
  {
   "cell_type": "markdown",
   "metadata": {},
   "source": [
    "##### Export generated geometry"
   ]
  },
  {
   "cell_type": "code",
   "execution_count": 9,
   "metadata": {},
   "outputs": [],
   "source": [
    "from cfdmod.api.geometry.STL import export_stl\n",
    "import pathlib\n",
    "\n",
    "output_path = pathlib.Path(\"./output/block_gen\")\n",
    "\n",
    "export_stl(output_path / \"blocks.stl\", full_vertices, full_triangles)"
   ]
  }
 ],
 "metadata": {
  "kernelspec": {
   "display_name": "cfdmod-XMkUSlb0-py3.10",
   "language": "python",
   "name": "python3"
  },
  "language_info": {
   "codemirror_mode": {
    "name": "ipython",
    "version": 3
   },
   "file_extension": ".py",
   "mimetype": "text/x-python",
   "name": "python",
   "nbconvert_exporter": "python",
   "pygments_lexer": "ipython3",
   "version": "3.10.11"
  },
  "orig_nbformat": 4
 },
 "nbformat": 4,
 "nbformat_minor": 2
}
