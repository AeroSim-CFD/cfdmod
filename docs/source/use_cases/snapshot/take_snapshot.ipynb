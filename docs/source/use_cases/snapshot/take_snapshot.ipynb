{
 "cells": [
  {
   "cell_type": "code",
   "execution_count": 1,
   "metadata": {},
   "outputs": [
    {
     "ename": "TypeError",
     "evalue": "SetFocalPoint argument 1: expected a sequence of 3 values, got 6 values",
     "output_type": "error",
     "traceback": [
      "\u001b[0;31m---------------------------------------------------------------------------\u001b[0m",
      "\u001b[0;31mTypeError\u001b[0m                                 Traceback (most recent call last)",
      "Cell \u001b[0;32mIn[1], line 17\u001b[0m\n\u001b[1;32m     15\u001b[0m \u001b[38;5;66;03m# for image_cfg in [img for img in cfg.images if img.scalar_label == \"cp_xtr_min\"]:\u001b[39;00m\n\u001b[1;32m     16\u001b[0m \u001b[38;5;28;01mfor\u001b[39;00m image_cfg \u001b[38;5;129;01min\u001b[39;00m [img \u001b[38;5;28;01mfor\u001b[39;00m img \u001b[38;5;129;01min\u001b[39;00m cfg\u001b[38;5;241m.\u001b[39mimages \u001b[38;5;28;01mif\u001b[39;00m img\u001b[38;5;241m.\u001b[39mscalar_label \u001b[38;5;241m==\u001b[39m \u001b[38;5;124m\"\u001b[39m\u001b[38;5;124mcp_xtr_max\u001b[39m\u001b[38;5;124m\"\u001b[39m]:\n\u001b[0;32m---> 17\u001b[0m     \u001b[43mtake_snapshot\u001b[49m\u001b[43m(\u001b[49m\n\u001b[1;32m     18\u001b[0m \u001b[43m        \u001b[49m\u001b[43mscalar_name\u001b[49m\u001b[38;5;241;43m=\u001b[39;49m\u001b[43mimage_cfg\u001b[49m\u001b[38;5;241;43m.\u001b[39;49m\u001b[43mscalar_label\u001b[49m\u001b[43m,\u001b[49m\n\u001b[1;32m     19\u001b[0m \u001b[43m        \u001b[49m\u001b[43mfile_path\u001b[49m\u001b[38;5;241;43m=\u001b[39;49m\u001b[43mvtp_path\u001b[49m\u001b[43m,\u001b[49m\n\u001b[1;32m     20\u001b[0m \u001b[43m        \u001b[49m\u001b[43moutput_path\u001b[49m\u001b[38;5;241;43m=\u001b[39;49m\u001b[43moutput_path\u001b[49m\u001b[43m \u001b[49m\u001b[38;5;241;43m/\u001b[39;49m\u001b[43m \u001b[49m\u001b[38;5;124;43mf\u001b[39;49m\u001b[38;5;124;43m\"\u001b[39;49m\u001b[38;5;132;43;01m{\u001b[39;49;00m\u001b[43mimage_cfg\u001b[49m\u001b[38;5;241;43m.\u001b[39;49m\u001b[43mimage_label\u001b[49m\u001b[38;5;132;43;01m}\u001b[39;49;00m\u001b[38;5;124;43m.png\u001b[39;49m\u001b[38;5;124;43m\"\u001b[39;49m\u001b[43m,\u001b[49m\n\u001b[1;32m     21\u001b[0m \u001b[43m        \u001b[49m\u001b[43mcolormap_params\u001b[49m\u001b[38;5;241;43m=\u001b[39;49m\u001b[43mcfg\u001b[49m\u001b[38;5;241;43m.\u001b[39;49m\u001b[43mcolormap\u001b[49m\u001b[43m,\u001b[49m\n\u001b[1;32m     22\u001b[0m \u001b[43m        \u001b[49m\u001b[43mprojection_params\u001b[49m\u001b[38;5;241;43m=\u001b[39;49m\u001b[43mcfg\u001b[49m\u001b[38;5;241;43m.\u001b[39;49m\u001b[43mprojection\u001b[49m\u001b[43m,\u001b[49m\n\u001b[1;32m     23\u001b[0m \u001b[43m        \u001b[49m\u001b[43mcamera_params\u001b[49m\u001b[38;5;241;43m=\u001b[39;49m\u001b[43mcfg\u001b[49m\u001b[38;5;241;43m.\u001b[39;49m\u001b[43mcamera\u001b[49m\u001b[43m,\u001b[49m\n\u001b[1;32m     24\u001b[0m \u001b[43m    \u001b[49m\u001b[43m)\u001b[49m\n\u001b[1;32m     25\u001b[0m     process_image(\n\u001b[1;32m     26\u001b[0m         image_path\u001b[38;5;241m=\u001b[39moutput_path \u001b[38;5;241m/\u001b[39m \u001b[38;5;124mf\u001b[39m\u001b[38;5;124m\"\u001b[39m\u001b[38;5;132;01m{\u001b[39;00mimage_cfg\u001b[38;5;241m.\u001b[39mimage_label\u001b[38;5;132;01m}\u001b[39;00m\u001b[38;5;124m.png\u001b[39m\u001b[38;5;124m\"\u001b[39m,\n\u001b[1;32m     27\u001b[0m         output_path\u001b[38;5;241m=\u001b[39moutput_path \u001b[38;5;241m/\u001b[39m \u001b[38;5;124mf\u001b[39m\u001b[38;5;124m\"\u001b[39m\u001b[38;5;132;01m{\u001b[39;00mimage_cfg\u001b[38;5;241m.\u001b[39mimage_label\u001b[38;5;132;01m}\u001b[39;00m\u001b[38;5;124m.png\u001b[39m\u001b[38;5;124m\"\u001b[39m,\n\u001b[1;32m     28\u001b[0m         crop_cfg\u001b[38;5;241m=\u001b[39mcfg\u001b[38;5;241m.\u001b[39mcamera\u001b[38;5;241m.\u001b[39mcrop,\n\u001b[1;32m     29\u001b[0m     )\n",
      "File \u001b[0;32m~/Documentos/Repositories/cfdmod/cfdmod/use_cases/snapshot/camera.py:134\u001b[0m, in \u001b[0;36mtake_snapshot\u001b[0;34m(scalar_name, file_path, output_path, colormap_params, projection_params, camera_params)\u001b[0m\n\u001b[1;32m    131\u001b[0m plotter\u001b[38;5;241m.\u001b[39mcamera\u001b[38;5;241m.\u001b[39mSetParallelProjection(\u001b[38;5;28;01mTrue\u001b[39;00m)\n\u001b[1;32m    133\u001b[0m camera \u001b[38;5;241m=\u001b[39m plotter\u001b[38;5;241m.\u001b[39mcamera\n\u001b[0;32m--> 134\u001b[0m \u001b[43mcamera\u001b[49m\u001b[38;5;241;43m.\u001b[39;49m\u001b[43mSetFocalPoint\u001b[49m\u001b[43m(\u001b[49m\u001b[43mcamera\u001b[49m\u001b[38;5;241;43m.\u001b[39;49m\u001b[43mGetFocalPoint\u001b[49m\u001b[43m(\u001b[49m\u001b[43m)\u001b[49m\u001b[43m \u001b[49m\u001b[38;5;241;43m+\u001b[39;49m\u001b[43m \u001b[49m\u001b[43mcamera_params\u001b[49m\u001b[38;5;241;43m.\u001b[39;49m\u001b[43moffset_position\u001b[49m\u001b[43m)\u001b[49m\n\u001b[1;32m    135\u001b[0m camera\u001b[38;5;241m.\u001b[39mSetPosition(camera\u001b[38;5;241m.\u001b[39mGetPosition() \u001b[38;5;241m+\u001b[39m camera_params\u001b[38;5;241m.\u001b[39moffset_position)\n\u001b[1;32m    137\u001b[0m plotter\u001b[38;5;241m.\u001b[39mcamera\u001b[38;5;241m.\u001b[39mup \u001b[38;5;241m=\u001b[39m camera_params\u001b[38;5;241m.\u001b[39mview_up\n",
      "\u001b[0;31mTypeError\u001b[0m: SetFocalPoint argument 1: expected a sequence of 3 values, got 6 values"
     ]
    }
   ],
   "source": [
    "import pathlib\n",
    "\n",
    "from cfdmod.use_cases.snapshot.camera import take_snapshot\n",
    "from cfdmod.use_cases.snapshot.config import SnapshotConfig\n",
    "from cfdmod.use_cases.snapshot.process_image import process_image\n",
    "\n",
    "project_path = pathlib.Path(\"/home/ubuntu/Documentos/Repositories/insight/Docker/local/volume/PrologisCajamar4_final\")\n",
    "\n",
    "cfg_path = project_path / \"G100\" / \"configs\" / \"snapshot_params.yaml\"\n",
    "cfg = SnapshotConfig.from_file(cfg_path)\n",
    "\n",
    "output_path = project_path / \"G100\" / \"images\"\n",
    "vtp_path = project_path / \"G100\" / \"env_max.vtp\"\n",
    "\n",
    "# for image_cfg in [img for img in cfg.images if img.scalar_label == \"cp_xtr_min\"]:\n",
    "for image_cfg in [img for img in cfg.images if img.scalar_label == \"cp_xtr_max\"]:\n",
    "    take_snapshot(\n",
    "        scalar_name=image_cfg.scalar_label,\n",
    "        file_path=vtp_path,\n",
    "        output_path=output_path / f\"{image_cfg.image_label}.png\",\n",
    "        colormap_params=cfg.colormap,\n",
    "        projection_params=cfg.projection,\n",
    "        camera_params=cfg.camera,\n",
    "    )\n",
    "    process_image(\n",
    "        image_path=output_path / f\"{image_cfg.image_label}.png\",\n",
    "        output_path=output_path / f\"{image_cfg.image_label}.png\",\n",
    "        crop_cfg=cfg.camera.crop,\n",
    "    )"
   ]
  }
 ],
 "metadata": {
  "kernelspec": {
   "display_name": "cfdmod-7yEqALRC-py3.10",
   "language": "python",
   "name": "python3"
  },
  "language_info": {
   "codemirror_mode": {
    "name": "ipython",
    "version": 3
   },
   "file_extension": ".py",
   "mimetype": "text/x-python",
   "name": "python",
   "nbconvert_exporter": "python",
   "pygments_lexer": "ipython3",
   "version": "3.10.12"
  }
 },
 "nbformat": 4,
 "nbformat_minor": 2
}
