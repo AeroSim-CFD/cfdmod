{
 "cells": [
  {
   "cell_type": "markdown",
   "metadata": {},
   "source": [
    "# Snapshot from .vtp"
   ]
  },
  {
   "cell_type": "code",
   "execution_count": 3,
   "metadata": {},
   "outputs": [],
   "source": [
    "import pathlib\n",
    "import warnings\n",
    "\n",
    "from cfdmod.use_cases.snapshot.camera import take_snapshot\n",
    "from cfdmod.use_cases.snapshot.config import LegendConfig, ImageConfig, PartialProjectionConfig, SnapshotConfig\n",
    "from cfdmod.use_cases.snapshot.process_image import process_image\n",
    "from cfdmod.utils import create_folder_path"
   ]
  },
  {
   "cell_type": "markdown",
   "metadata": {},
   "source": [
    "<div style=\"text-align: center\"> edit: </div>"
   ]
  },
  {
   "cell_type": "markdown",
   "metadata": {},
   "source": [
    "- define the paths"
   ]
  },
  {
   "cell_type": "code",
   "execution_count": 19,
   "metadata": {},
   "outputs": [],
   "source": [
    "files_path = pathlib.Path(\"./fixtures/tests/snapshot\")\n",
    "output_path = pathlib.Path(\"./output/images\")\n",
    "snapshot_config_path = files_path / \"snapshot_params_example.yaml\"\n",
    "create_folder_path(output_path)"
   ]
  },
  {
   "cell_type": "markdown",
   "metadata": {},
   "source": [
    "- wind_dirs: a list of strings that represents wind directions, used to create the path to each projection in each image\n",
    "- images: configuration to generate images\n",
    "  - name: name that represents the image\n",
    "  - legend_config: configuration of the label in the image\n",
    "  - projections: a set of key value pair of projections names and partial projection config (only the part thats differs in each projection)"
   ]
  },
  {
   "cell_type": "code",
   "execution_count": 8,
   "metadata": {},
   "outputs": [],
   "source": [
    "wind_dirs = [\"006\", \"036\"]\n",
    "images = [\n",
    "    ImageConfig(\n",
    "        name= f\"{wind_dir}\",\n",
    "        legend_config = LegendConfig(label=\"label\", range=[-100, 100], n_divs=10),\n",
    "        projections={\n",
    "                \"top_projection\": PartialProjectionConfig(file_path=files_path / f\"loads_cupula_top_{wind_dir}.vtp\", scalar=\"max [kgf/m²]\"),\n",
    "                \"left_projection\": PartialProjectionConfig(file_path=files_path / f\"loads_cupula_top_{wind_dir}.vtp\", scalar=\"min [kgf/m²]\"),\n",
    "                \"right_projection\": PartialProjectionConfig(file_path=files_path / f\"loads_cupula_top_{wind_dir}.vtp\", scalar=\"min [kgf/m²]\"),\n",
    "                \"bottom_projection\": PartialProjectionConfig(file_path=files_path / f\"loads_cupula_bottom_{wind_dir}.vtp\", scalar=\"max [kgf/m²]\"),\n",
    "            },\n",
    "        )\n",
    "    for wind_dir in wind_dirs\n",
    "]"
   ]
  },
  {
   "cell_type": "markdown",
   "metadata": {},
   "source": [
    "<div style=\"text-align: center\"> execute: </div>"
   ]
  },
  {
   "cell_type": "markdown",
   "metadata": {},
   "source": [
    "- a base snapshot configuration is created using an YAML file. Each image configuration subscribes some parts, creating the final configuration for the image.\n",
    "- For each image configuration, the snapshot base configuration will be modified according to the settings for the respective image."
   ]
  },
  {
   "cell_type": "code",
   "execution_count": null,
   "metadata": {},
   "outputs": [],
   "source": [
    "snapshot_config = SnapshotConfig.from_file(snapshot_config_path)\n",
    "\n",
    "for image in images:\n",
    "    for projection_key in image.projections:\n",
    "        snapshot_config.name = output_path / image.name\n",
    "        snapshot_config.projections[projection_key].file_path = image.projections[projection_key].file_path\n",
    "        snapshot_config.projections[projection_key].scalar = image.projections[projection_key].scalar\n",
    "        snapshot_config.legend_config.label = image.legend_config.label\n",
    "        snapshot_config.legend_config.range = image.legend_config.range\n",
    "        snapshot_config.legend_config.n_divs = image.legend_config.n_divs\n",
    "        \n",
    "    with warnings.catch_warnings():\n",
    "        warnings.simplefilter(\"ignore\")\n",
    "        take_snapshot(snapshot_config)\n",
    "    process_image(\n",
    "        image_path=output_path / f\"{image.name}.png\",\n",
    "        output_path=output_path / f\"{image.name}.png\",\n",
    "        crop_cfg=snapshot_config.camera.crop,\n",
    "    )"
   ]
  }
 ],
 "metadata": {
  "kernelspec": {
   "display_name": ".venv",
   "language": "python",
   "name": "python3"
  },
  "language_info": {
   "codemirror_mode": {
    "name": "ipython",
    "version": 3
   },
   "file_extension": ".py",
   "mimetype": "text/x-python",
   "name": "python",
   "nbconvert_exporter": "python",
   "pygments_lexer": "ipython3",
   "version": "3.10.11"
  }
 },
 "nbformat": 4,
 "nbformat_minor": 2
}
