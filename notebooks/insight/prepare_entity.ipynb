{
 "cells": [
  {
   "cell_type": "code",
   "execution_count": null,
   "metadata": {},
   "outputs": [],
   "source": [
    "import pandas as pd\n",
    "from lnas import LnasFormat\n",
    "import pathlib\n",
    "\n",
    "entity_dict = {\n",
    "    \"marquise\" : [],\n",
    "    \"without_marquise\" : [],\n",
    "}\n",
    "\n",
    "mesh_path = pathlib.Path(\"../insightv/insight/volume/PrologisCajamar4/G200/mesh/G200.merged.lnas\")\n",
    "mesh = LnasFormat.from_file(mesh_path)\n",
    "\n"
   ]
  }
 ],
 "metadata": {
  "kernelspec": {
   "display_name": "cfdmod-XMkUSlb0-py3.10",
   "language": "python",
   "name": "python3"
  },
  "language_info": {
   "name": "python",
   "version": "3.10.11"
  }
 },
 "nbformat": 4,
 "nbformat_minor": 2
}
