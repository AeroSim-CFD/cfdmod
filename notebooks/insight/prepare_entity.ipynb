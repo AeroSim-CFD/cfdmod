{
 "cells": [
  {
   "cell_type": "code",
   "execution_count": null,
   "metadata": {},
   "outputs": [],
   "source": [
    "import pandas as pd\n",
    "from lnas import LnasFormat\n",
    "import pathlib\n",
    "\n",
    "exclude_sfcs = [\n",
    "    \"000\",\n",
    "    \"001\",\n",
    "    \"b_xm_000_inside\",\n",
    "    \"b_xp_000_inside\",\n",
    "    \"b_xp_001_inside\",\n",
    "    \"b_xp_002_inside\",\n",
    "    \"b_xp_003_inside\",\n",
    "    \"b_xp_004_inside\",\n",
    "    \"b_ym_000_inside\",\n",
    "    \"b_yp_000_inside\",\n",
    "    \"m_000\",\n",
    "    \"m_000_inside\",\n",
    "]\n",
    "\n",
    "mesh_path = pathlib.Path(\"../insightv/insight/volume/PrologisCajamar4/G200/mesh/G200.merged.lnas\")\n",
    "mesh = LnasFormat.from_file(mesh_path)\n",
    "\n",
    "entity_dict = {\n",
    "    \"marquise\": [\"m_000\", \"m_000_inside\"],\n",
    "    \"without_marquise\": [k for k in mesh.surfaces.keys() if k not in exclude_sfcs],\n",
    "}\n",
    "\n",
    "for entity_lbl, sfc_list in entity_dict.items():\n",
    "    for sfc_lbl in sfc_list:\n",
    "        df = pd.DataFrame({sfc_lbl: mesh.surfaces[sfc_lbl]})\n",
    "        df.to_hdf(mesh_path.parent / f\"{entity_lbl}.h5\", key=sfc_lbl, format=\"fixed\", mode=\"a\")\n",
    "        print(df)"
   ]
  }
 ],
 "metadata": {
  "kernelspec": {
   "display_name": "cfdmod-XMkUSlb0-py3.10",
   "language": "python",
   "name": "python3"
  },
  "language_info": {
   "codemirror_mode": {
    "name": "ipython",
    "version": 3
   },
   "file_extension": ".py",
   "mimetype": "text/x-python",
   "name": "python",
   "nbconvert_exporter": "python",
   "pygments_lexer": "ipython3",
   "version": "3.10.11"
  }
 },
 "nbformat": 4,
 "nbformat_minor": 2
}
