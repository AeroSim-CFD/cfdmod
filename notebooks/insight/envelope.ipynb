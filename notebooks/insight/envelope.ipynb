{
 "cells": [
  {
   "cell_type": "code",
   "execution_count": null,
   "metadata": {},
   "outputs": [],
   "source": [
    "import pathlib\n",
    "import pandas as pd\n",
    "\n",
    "project_path = pathlib.Path(\"/mnt/disk01/insight-volume/MontoPirelli\")\n",
    "\n",
    "# directions = [\"000\", \"045\", \"090\", \"135\", \"180\", \"225\", \"270\", \"315\"]\n",
    "directions = [\"045\", \"090\", \"135\", \"180\", \"225\", \"270\", \"315\"]\n",
    "\n",
    "root_cp_path = project_path / \"G100\" / \"cases\" / \"000\" / \"generated\" / \"cp\" / \"default_cp\" / \"f4f9aae9cf8a9da32466908c93ddd63c5a0c26b74ab4ba9ec377e6377c17bed2\" / \"stats_df.h5\"\n",
    "\n",
    "max_cp_path = project_path / \"Env_max\" / \"cases\" / \"cp_max.h5\"\n",
    "min_cp_path = project_path / \"Env_min\" / \"cases\" / \"cp_min.h5\"\n",
    "\n",
    "root_cp_stats = pd.read_hdf(root_cp_path)\n",
    "root_cp_stats.drop(columns=[\"cp_mean\", \"cp_std\", \"cp_mean_qs\"], inplace=True)\n",
    "\n",
    "for direct in directions:\n",
    "    cp_path = project_path / \"G100\" / \"cases\" / direct / \"generated\" / \"cp\" / \"default_cp\" / \"f4f9aae9cf8a9da32466908c93ddd63c5a0c26b74ab4ba9ec377e6377c17bed2\" / \"stats_df.h5\"\n",
    "    cp_stats = pd.read_hdf(cp_path)\n",
    "    cp_stats.drop(columns=[\"cp_mean\", \"cp_std\", \"cp_mean_qs\"], inplace=True)\n",
    "    cp_stats.rename(columns={\"cp_xtr_min\" : f\"cp_xtr_min_{direct}\", \"cp_xtr_max\" : f\"cp_xtr_max_{direct}\"}, inplace=True)\n",
    "    root_cp_stats = pd.merge(root_cp_stats, cp_stats, on=[\"point_idx\"])\n",
    "    \n",
    "root_cp_stats['max_cp'] = root_cp_stats[[col for col in root_cp_stats.columns if \"cp_xtr_max\" in col]].max(axis=1)\n",
    "root_cp_stats['min_cp'] = root_cp_stats[[col for col in root_cp_stats.columns if \"cp_xtr_min\" in col]].min(axis=1)\n",
    "root_cp_stats.drop(columns=[col for col in root_cp_stats.columns if col not in [\"point_idx\", \"max_cp\", \"min_cp\"]], inplace=True)\n",
    "root_cp_stats.rename(columns={\"max_cp\": \"cp_xtr_max\", \"min_cp\": \"cp_xtr_min\"}, inplace=True)\n",
    "root_cp_stats.drop(columns=[\"cp_xtr_min\"]).to_hdf(max_cp_path, key=\"data\")\n",
    "root_cp_stats.drop(columns=[\"cp_xtr_max\"]).to_hdf(min_cp_path, key=\"data\")\n",
    "root_cp_stats"
   ]
  },
  {
   "cell_type": "code",
   "execution_count": null,
   "metadata": {},
   "outputs": [],
   "source": [
    "from cfdmod.use_cases.pressure.cp_config import CpCaseConfig\n",
    "import pathlib\n",
    "\n",
    "cfg_path = pathlib.Path(\"/mnt/disk01/insight-volume/MontoPirelli/Env_max/configs/cp_params.yaml\")\n",
    "post_proc_cfg = CpCaseConfig.from_file(cfg_path)\n",
    "\n",
    "for cfg_lbl, cfg in post_proc_cfg.pressure_coefficient.items():\n",
    "    print(cfg_lbl, cfg.sha256())"
   ]
  },
  {
   "cell_type": "code",
   "execution_count": null,
   "metadata": {},
   "outputs": [],
   "source": [
    "from cfdmod.use_cases.pressure.path_manager import CpPathManager\n",
    "import pathlib\n",
    "from cfdmod.logger import logger\n",
    "from cfdmod.use_cases.pressure.cp_data import process_cp\n",
    "from lnas import LnasFormat\n",
    "import pandas as pd\n",
    "from cfdmod.use_cases.pressure.cp_config import CpCaseConfig\n",
    "from cfdmod.api.vtk.write_vtk import create_polydata_for_cell_data, write_polydata\n",
    "\n",
    "project_path = pathlib.Path(\"/mnt/disk01/insight-volume/MontoPirelli\")\n",
    "\n",
    "case_dict = {\n",
    "    \"Env_max\" : [\"max\"],\n",
    "    \"Env_min\" : [\"min\"],\n",
    "}\n",
    "\n",
    "for block_lbl, case_list in case_dict.items():\n",
    "    for case_lbl in case_list:\n",
    "        case_hash = \"2f1b96a9b483f9ecf91abf484e3c074cd1e803ff2109a610a0824dd9696adea8\" if case_lbl == \"max\" else \"2053c8230ed4e7e68bd6dc6e9d62bf37cdc50a33500fc49d91bce536802e1bc4\"\n",
    "        data_path = project_path / block_lbl / \"cases\" / case_lbl / \"generated\" / \"cp\" / \"default_cp\" / case_hash / f\"cp_{case_lbl}.h5\"\n",
    "        vtp_path = project_path / block_lbl / \"cases\" / case_lbl / \"generated\" / \"cp\" / \"default_cp\" / case_hash / \"stats.vtp\"\n",
    "        stats = pd.read_hdf(data_path)\n",
    "        \n",
    "        mesh_path = project_path / block_lbl / \"mesh\" / \"G100.merged.lnas\"\n",
    "        mesh = LnasFormat.from_file(mesh_path)\n",
    "\n",
    "        polydata = create_polydata_for_cell_data(data=stats, mesh=mesh.geometry)\n",
    "        write_polydata(vtp_path, polydata)"
   ]
  }
 ],
 "metadata": {
  "kernelspec": {
   "display_name": "cfdmod-GCYMzcR2-py3.10",
   "language": "python",
   "name": "python3"
  },
  "language_info": {
   "codemirror_mode": {
    "name": "ipython",
    "version": 3
   },
   "file_extension": ".py",
   "mimetype": "text/x-python",
   "name": "python",
   "nbconvert_exporter": "python",
   "pygments_lexer": "ipython3",
   "version": "3.10.12"
  }
 },
 "nbformat": 4,
 "nbformat_minor": 2
}
