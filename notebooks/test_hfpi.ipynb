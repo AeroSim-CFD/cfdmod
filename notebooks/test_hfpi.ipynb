{
 "cells": [
  {
   "cell_type": "code",
   "execution_count": 1,
   "id": "f5971865",
   "metadata": {},
   "outputs": [],
   "source": [
    "import cfdmod.hfpi_mock as hfpi\n",
    "import pathlib\n",
    "\n",
    "### Report directory\n",
    "base_base = pathlib.Path(\"/mnt/disk01/prd-eng/portfolio-eng/simulation_files/petra_nova_fluidmechanics/comparison/dynamic_analysis\")\n",
    "subproject_path = base_base / \"subproj_main\"\n",
    "structure_path = base_base / \"struct_original\"\n",
    "case_path = subproject_path / \"out\"\n",
    "data_path = subproject_path / \"forces/\"\n",
    "\n",
    "base_folder = pathlib.Path(\"/mnt/disk01/prd-eng/cases/petra_nova_fluidmechanics/engmod_case\")\n",
    "experimental_data_path = base_folder / \"../comparison/force_by_floor/exp_csv/\"\n",
    "\n",
    "modes_csv = structure_path / \"modes.csv\"\n",
    "n_modes = 12\n",
    "floors_csv = structure_path / \"nodes.csv\"\n",
    "phi_csvs = [structure_path / f\"phi_{i}.csv\" for i in range(1, n_modes+1)]\n",
    "\n",
    "case_use = \"000\"\n",
    "\n"
   ]
  },
  {
   "cell_type": "code",
   "execution_count": 2,
   "id": "8d4ff97d",
   "metadata": {},
   "outputs": [
    {
     "data": {
      "text/plain": [
       "(10,)"
      ]
     },
     "execution_count": 2,
     "metadata": {},
     "output_type": "execute_result"
    }
   ],
   "source": [
    "import numpy as np\n",
    "np.zeros((10, 5)).sum(axis=1).shape"
   ]
  },
  {
   "cell_type": "code",
   "execution_count": 3,
   "id": "6d620824",
   "metadata": {},
   "outputs": [],
   "source": [
    "struct_data = hfpi.HFPIStructuralData.build(\n",
    "    modes_csv=modes_csv,\n",
    "    floors_csv=floors_csv,\n",
    "    phi_floors_csvs=phi_csvs,\n",
    ")\n",
    "struct_data.n_active_modes = 3\n",
    "\n",
    "struct_data.normalize_all_mode_shapes()"
   ]
  },
  {
   "cell_type": "code",
   "execution_count": 4,
   "id": "cc448897",
   "metadata": {},
   "outputs": [
    {
     "data": {
      "text/html": [
       "<div>\n",
       "<style scoped>\n",
       "    .dataframe tbody tr th:only-of-type {\n",
       "        vertical-align: middle;\n",
       "    }\n",
       "\n",
       "    .dataframe tbody tr th {\n",
       "        vertical-align: top;\n",
       "    }\n",
       "\n",
       "    .dataframe thead th {\n",
       "        text-align: right;\n",
       "    }\n",
       "</style>\n",
       "<table border=\"1\" class=\"dataframe\">\n",
       "  <thead>\n",
       "    <tr style=\"text-align: right;\">\n",
       "      <th></th>\n",
       "      <th>Z</th>\n",
       "      <th>XR</th>\n",
       "      <th>YR</th>\n",
       "      <th>M</th>\n",
       "      <th>I</th>\n",
       "      <th>R</th>\n",
       "    </tr>\n",
       "  </thead>\n",
       "  <tbody>\n",
       "    <tr>\n",
       "      <th>0</th>\n",
       "      <td>-5.76</td>\n",
       "      <td>4.4477</td>\n",
       "      <td>6.0311</td>\n",
       "      <td>1.410972e+06</td>\n",
       "      <td>5.498984e+08</td>\n",
       "      <td>19.741587</td>\n",
       "    </tr>\n",
       "    <tr>\n",
       "      <th>1</th>\n",
       "      <td>-2.88</td>\n",
       "      <td>6.0944</td>\n",
       "      <td>8.2593</td>\n",
       "      <td>1.459644e+06</td>\n",
       "      <td>5.692838e+08</td>\n",
       "      <td>19.748808</td>\n",
       "    </tr>\n",
       "    <tr>\n",
       "      <th>2</th>\n",
       "      <td>0.90</td>\n",
       "      <td>7.1961</td>\n",
       "      <td>9.6126</td>\n",
       "      <td>1.846879e+06</td>\n",
       "      <td>7.131593e+08</td>\n",
       "      <td>19.650520</td>\n",
       "    </tr>\n",
       "    <tr>\n",
       "      <th>3</th>\n",
       "      <td>6.66</td>\n",
       "      <td>6.9063</td>\n",
       "      <td>7.4595</td>\n",
       "      <td>1.978057e+06</td>\n",
       "      <td>7.730039e+08</td>\n",
       "      <td>19.768399</td>\n",
       "    </tr>\n",
       "    <tr>\n",
       "      <th>4</th>\n",
       "      <td>9.54</td>\n",
       "      <td>6.5190</td>\n",
       "      <td>6.1413</td>\n",
       "      <td>1.709639e+06</td>\n",
       "      <td>6.756887e+08</td>\n",
       "      <td>19.880215</td>\n",
       "    </tr>\n",
       "    <tr>\n",
       "      <th>...</th>\n",
       "      <td>...</td>\n",
       "      <td>...</td>\n",
       "      <td>...</td>\n",
       "      <td>...</td>\n",
       "      <td>...</td>\n",
       "      <td>...</td>\n",
       "    </tr>\n",
       "    <tr>\n",
       "      <th>71</th>\n",
       "      <td>229.68</td>\n",
       "      <td>0.7274</td>\n",
       "      <td>0.7236</td>\n",
       "      <td>2.631326e+05</td>\n",
       "      <td>1.690119e+07</td>\n",
       "      <td>8.014406</td>\n",
       "    </tr>\n",
       "    <tr>\n",
       "      <th>72</th>\n",
       "      <td>232.92</td>\n",
       "      <td>0.7053</td>\n",
       "      <td>0.7512</td>\n",
       "      <td>3.031569e+05</td>\n",
       "      <td>1.977300e+07</td>\n",
       "      <td>8.076117</td>\n",
       "    </tr>\n",
       "    <tr>\n",
       "      <th>73</th>\n",
       "      <td>238.68</td>\n",
       "      <td>0.6542</td>\n",
       "      <td>0.8616</td>\n",
       "      <td>2.889074e+05</td>\n",
       "      <td>1.797592e+07</td>\n",
       "      <td>7.887987</td>\n",
       "    </tr>\n",
       "    <tr>\n",
       "      <th>74</th>\n",
       "      <td>242.10</td>\n",
       "      <td>0.5327</td>\n",
       "      <td>0.9155</td>\n",
       "      <td>4.336076e+05</td>\n",
       "      <td>1.000399e+07</td>\n",
       "      <td>4.803282</td>\n",
       "    </tr>\n",
       "    <tr>\n",
       "      <th>75</th>\n",
       "      <td>253.68</td>\n",
       "      <td>0.1723</td>\n",
       "      <td>1.0642</td>\n",
       "      <td>1.849711e+05</td>\n",
       "      <td>5.771189e+06</td>\n",
       "      <td>5.585740</td>\n",
       "    </tr>\n",
       "  </tbody>\n",
       "</table>\n",
       "<p>76 rows × 6 columns</p>\n",
       "</div>"
      ],
      "text/plain": [
       "         Z      XR      YR             M             I          R\n",
       "0    -5.76  4.4477  6.0311  1.410972e+06  5.498984e+08  19.741587\n",
       "1    -2.88  6.0944  8.2593  1.459644e+06  5.692838e+08  19.748808\n",
       "2     0.90  7.1961  9.6126  1.846879e+06  7.131593e+08  19.650520\n",
       "3     6.66  6.9063  7.4595  1.978057e+06  7.730039e+08  19.768399\n",
       "4     9.54  6.5190  6.1413  1.709639e+06  6.756887e+08  19.880215\n",
       "..     ...     ...     ...           ...           ...        ...\n",
       "71  229.68  0.7274  0.7236  2.631326e+05  1.690119e+07   8.014406\n",
       "72  232.92  0.7053  0.7512  3.031569e+05  1.977300e+07   8.076117\n",
       "73  238.68  0.6542  0.8616  2.889074e+05  1.797592e+07   7.887987\n",
       "74  242.10  0.5327  0.9155  4.336076e+05  1.000399e+07   4.803282\n",
       "75  253.68  0.1723  1.0642  1.849711e+05  5.771189e+06   5.585740\n",
       "\n",
       "[76 rows x 6 columns]"
      ]
     },
     "execution_count": 4,
     "metadata": {},
     "output_type": "execute_result"
    }
   ],
   "source": [
    "struct_data.df_floors"
   ]
  },
  {
   "cell_type": "code",
   "execution_count": 5,
   "id": "df17095c",
   "metadata": {},
   "outputs": [
    {
     "data": {
      "text/html": [
       "<div>\n",
       "<style scoped>\n",
       "    .dataframe tbody tr th:only-of-type {\n",
       "        vertical-align: middle;\n",
       "    }\n",
       "\n",
       "    .dataframe tbody tr th {\n",
       "        vertical-align: top;\n",
       "    }\n",
       "\n",
       "    .dataframe thead th {\n",
       "        text-align: right;\n",
       "    }\n",
       "</style>\n",
       "<table border=\"1\" class=\"dataframe\">\n",
       "  <thead>\n",
       "    <tr style=\"text-align: right;\">\n",
       "      <th></th>\n",
       "      <th>mode</th>\n",
       "      <th>period</th>\n",
       "      <th>frequency</th>\n",
       "      <th>wp</th>\n",
       "    </tr>\n",
       "  </thead>\n",
       "  <tbody>\n",
       "    <tr>\n",
       "      <th>0</th>\n",
       "      <td>1</td>\n",
       "      <td>5.404</td>\n",
       "      <td>0.185048</td>\n",
       "      <td>1.162692</td>\n",
       "    </tr>\n",
       "    <tr>\n",
       "      <th>1</th>\n",
       "      <td>2</td>\n",
       "      <td>4.497</td>\n",
       "      <td>0.222370</td>\n",
       "      <td>1.397195</td>\n",
       "    </tr>\n",
       "    <tr>\n",
       "      <th>2</th>\n",
       "      <td>3</td>\n",
       "      <td>2.248</td>\n",
       "      <td>0.444840</td>\n",
       "      <td>2.795011</td>\n",
       "    </tr>\n",
       "    <tr>\n",
       "      <th>3</th>\n",
       "      <td>4</td>\n",
       "      <td>1.537</td>\n",
       "      <td>0.650618</td>\n",
       "      <td>4.087954</td>\n",
       "    </tr>\n",
       "    <tr>\n",
       "      <th>4</th>\n",
       "      <td>5</td>\n",
       "      <td>1.378</td>\n",
       "      <td>0.725689</td>\n",
       "      <td>4.559641</td>\n",
       "    </tr>\n",
       "    <tr>\n",
       "      <th>5</th>\n",
       "      <td>6</td>\n",
       "      <td>0.862</td>\n",
       "      <td>1.160093</td>\n",
       "      <td>7.289078</td>\n",
       "    </tr>\n",
       "    <tr>\n",
       "      <th>6</th>\n",
       "      <td>7</td>\n",
       "      <td>0.812</td>\n",
       "      <td>1.231527</td>\n",
       "      <td>7.737913</td>\n",
       "    </tr>\n",
       "    <tr>\n",
       "      <th>7</th>\n",
       "      <td>8</td>\n",
       "      <td>0.659</td>\n",
       "      <td>1.517451</td>\n",
       "      <td>9.534424</td>\n",
       "    </tr>\n",
       "    <tr>\n",
       "      <th>8</th>\n",
       "      <td>9</td>\n",
       "      <td>0.563</td>\n",
       "      <td>1.776199</td>\n",
       "      <td>11.160187</td>\n",
       "    </tr>\n",
       "    <tr>\n",
       "      <th>9</th>\n",
       "      <td>10</td>\n",
       "      <td>0.518</td>\n",
       "      <td>1.930502</td>\n",
       "      <td>12.129701</td>\n",
       "    </tr>\n",
       "    <tr>\n",
       "      <th>10</th>\n",
       "      <td>11</td>\n",
       "      <td>0.413</td>\n",
       "      <td>2.421308</td>\n",
       "      <td>15.213524</td>\n",
       "    </tr>\n",
       "    <tr>\n",
       "      <th>11</th>\n",
       "      <td>12</td>\n",
       "      <td>0.382</td>\n",
       "      <td>2.617801</td>\n",
       "      <td>16.448129</td>\n",
       "    </tr>\n",
       "  </tbody>\n",
       "</table>\n",
       "</div>"
      ],
      "text/plain": [
       "    mode  period  frequency         wp\n",
       "0      1   5.404   0.185048   1.162692\n",
       "1      2   4.497   0.222370   1.397195\n",
       "2      3   2.248   0.444840   2.795011\n",
       "3      4   1.537   0.650618   4.087954\n",
       "4      5   1.378   0.725689   4.559641\n",
       "5      6   0.862   1.160093   7.289078\n",
       "6      7   0.812   1.231527   7.737913\n",
       "7      8   0.659   1.517451   9.534424\n",
       "8      9   0.563   1.776199  11.160187\n",
       "9     10   0.518   1.930502  12.129701\n",
       "10    11   0.413   2.421308  15.213524\n",
       "11    12   0.382   2.617801  16.448129"
      ]
     },
     "execution_count": 5,
     "metadata": {},
     "output_type": "execute_result"
    }
   ],
   "source": [
    "struct_data.df_modes"
   ]
  },
  {
   "cell_type": "code",
   "execution_count": 6,
   "id": "ca9a3407",
   "metadata": {},
   "outputs": [
    {
     "data": {
      "text/html": [
       "<div>\n",
       "<style scoped>\n",
       "    .dataframe tbody tr th:only-of-type {\n",
       "        vertical-align: middle;\n",
       "    }\n",
       "\n",
       "    .dataframe tbody tr th {\n",
       "        vertical-align: top;\n",
       "    }\n",
       "\n",
       "    .dataframe thead th {\n",
       "        text-align: right;\n",
       "    }\n",
       "</style>\n",
       "<table border=\"1\" class=\"dataframe\">\n",
       "  <thead>\n",
       "    <tr style=\"text-align: right;\">\n",
       "      <th></th>\n",
       "      <th>DX</th>\n",
       "      <th>DY</th>\n",
       "      <th>RZ</th>\n",
       "    </tr>\n",
       "  </thead>\n",
       "  <tbody>\n",
       "    <tr>\n",
       "      <th>0</th>\n",
       "      <td>-5.985839e-09</td>\n",
       "      <td>1.153542e-07</td>\n",
       "      <td>-2.665220e-11</td>\n",
       "    </tr>\n",
       "    <tr>\n",
       "      <th>1</th>\n",
       "      <td>-3.134956e-08</td>\n",
       "      <td>3.399754e-07</td>\n",
       "      <td>-1.014549e-10</td>\n",
       "    </tr>\n",
       "    <tr>\n",
       "      <th>2</th>\n",
       "      <td>-4.595907e-08</td>\n",
       "      <td>7.626365e-07</td>\n",
       "      <td>-2.029098e-10</td>\n",
       "    </tr>\n",
       "    <tr>\n",
       "      <th>3</th>\n",
       "      <td>3.237426e-07</td>\n",
       "      <td>1.839580e-06</td>\n",
       "      <td>-4.058196e-10</td>\n",
       "    </tr>\n",
       "    <tr>\n",
       "      <th>4</th>\n",
       "      <td>6.203967e-07</td>\n",
       "      <td>2.527850e-06</td>\n",
       "      <td>-5.072745e-10</td>\n",
       "    </tr>\n",
       "    <tr>\n",
       "      <th>...</th>\n",
       "      <td>...</td>\n",
       "      <td>...</td>\n",
       "      <td>...</td>\n",
       "    </tr>\n",
       "    <tr>\n",
       "      <th>71</th>\n",
       "      <td>9.551847e-05</td>\n",
       "      <td>2.584168e-04</td>\n",
       "      <td>-1.288477e-08</td>\n",
       "    </tr>\n",
       "    <tr>\n",
       "      <th>72</th>\n",
       "      <td>9.709000e-05</td>\n",
       "      <td>2.629767e-04</td>\n",
       "      <td>-1.288477e-08</td>\n",
       "    </tr>\n",
       "    <tr>\n",
       "      <th>73</th>\n",
       "      <td>1.004680e-04</td>\n",
       "      <td>2.717976e-04</td>\n",
       "      <td>-1.298623e-08</td>\n",
       "    </tr>\n",
       "    <tr>\n",
       "      <th>74</th>\n",
       "      <td>1.034792e-04</td>\n",
       "      <td>2.731685e-04</td>\n",
       "      <td>-1.288477e-08</td>\n",
       "    </tr>\n",
       "    <tr>\n",
       "      <th>75</th>\n",
       "      <td>1.095416e-04</td>\n",
       "      <td>2.908267e-04</td>\n",
       "      <td>-1.288477e-08</td>\n",
       "    </tr>\n",
       "  </tbody>\n",
       "</table>\n",
       "<p>76 rows × 3 columns</p>\n",
       "</div>"
      ],
      "text/plain": [
       "              DX            DY            RZ\n",
       "0  -5.985839e-09  1.153542e-07 -2.665220e-11\n",
       "1  -3.134956e-08  3.399754e-07 -1.014549e-10\n",
       "2  -4.595907e-08  7.626365e-07 -2.029098e-10\n",
       "3   3.237426e-07  1.839580e-06 -4.058196e-10\n",
       "4   6.203967e-07  2.527850e-06 -5.072745e-10\n",
       "..           ...           ...           ...\n",
       "71  9.551847e-05  2.584168e-04 -1.288477e-08\n",
       "72  9.709000e-05  2.629767e-04 -1.288477e-08\n",
       "73  1.004680e-04  2.717976e-04 -1.298623e-08\n",
       "74  1.034792e-04  2.731685e-04 -1.288477e-08\n",
       "75  1.095416e-04  2.908267e-04 -1.288477e-08\n",
       "\n",
       "[76 rows x 3 columns]"
      ]
     },
     "execution_count": 6,
     "metadata": {},
     "output_type": "execute_result"
    }
   ],
   "source": [
    "struct_data.df_modal_shapes[0]"
   ]
  },
  {
   "cell_type": "code",
   "execution_count": 7,
   "id": "55b9a10c",
   "metadata": {},
   "outputs": [],
   "source": [
    "case_data = hfpi.HFPICaseData(\n",
    "    U_H=45,\n",
    "    height=250.42,\n",
    "    base=90.6,\n",
    "    xi=1,\n",
    ")"
   ]
  },
  {
   "cell_type": "code",
   "execution_count": 8,
   "id": "e2d432a9",
   "metadata": {},
   "outputs": [],
   "source": [
    "\n",
    "cf_x_h5 = data_path / f\"FX_{case_use}.h5\"\n",
    "cf_y_h5 = data_path / f\"FY_{case_use}.h5\"\n",
    "cm_z_h5 = data_path / f\"MZ_{case_use}.h5\"\n",
    "\n",
    "forces_data = hfpi.HFPIForcesData.build(cf_x_h5, cf_y_h5, cm_z_h5)\n",
    "forces_data = forces_data.get_scaled_forces(case_data)\n"
   ]
  },
  {
   "cell_type": "code",
   "execution_count": 9,
   "id": "2250ac17",
   "metadata": {},
   "outputs": [],
   "source": [
    "solver_hfpi = hfpi.HFPISolver(\n",
    "    structural_data=struct_data,\n",
    "    case_data=case_data,\n",
    "    forces=forces_data,\n",
    ")"
   ]
  },
  {
   "cell_type": "code",
   "execution_count": 10,
   "id": "b642cbb1",
   "metadata": {},
   "outputs": [
    {
     "data": {
      "text/plain": [
       "(11251, 75)"
      ]
     },
     "execution_count": 10,
     "metadata": {},
     "output_type": "execute_result"
    }
   ],
   "source": [
    "forces_data.cf_x.shape"
   ]
  },
  {
   "cell_type": "code",
   "execution_count": 11,
   "id": "dad5b927",
   "metadata": {},
   "outputs": [
    {
     "name": "stderr",
     "output_type": "stream",
     "text": [
      "/tmp/ipykernel_130905/1442601783.py:5: UserWarning: FigureCanvasAgg is non-interactive, and thus cannot be shown\n",
      "  fig.show()\n"
     ]
    },
    {
     "data": {
      "image/png": "[encoded data removed]",
      "text/plain": [
       "<Figure size 1200x400 with 2 Axes>"
      ]
     },
     "metadata": {},
     "output_type": "display_data"
    }
   ],
   "source": [
    "fig, axs = hfpi.plot_force_series(forces_data, struct_data, sigma=1, plot_mz=True)\n",
    "\n",
    "axs[1].set_xlim([1e-3, 1e1])\n",
    "\n",
    "fig.show()"
   ]
  },
  {
   "cell_type": "code",
   "execution_count": 12,
   "id": "0b969d40",
   "metadata": {},
   "outputs": [
    {
     "name": "stderr",
     "output_type": "stream",
     "text": [
      "/home/ubuntu/users/waine/repos/cfdmod/cfdmod/hfpi_mock.py:369: RuntimeWarning: overflow encountered in scalar multiply\n",
      "  f_eff = gen_force[i] + a0 * gp_pred + 2 * xi * wp * a2 * vp_pred + wp**2 * gp_pred\n",
      "/home/ubuntu/users/waine/repos/cfdmod/cfdmod/hfpi_mock.py:375: RuntimeWarning: invalid value encountered in scalar subtract\n",
      "  ap[i] = a0 * (gp[i] - gp_pred)\n"
     ]
    },
    {
     "data": {
      "text/plain": [
       "{'x': array([[ 6.44271574e-05,  1.98717626e-04,  4.53429809e-04, ...,\n",
       "          4.82433012e-02,  4.79519622e-02,  4.91813550e-02],\n",
       "        [ 5.88408626e-05,  1.82517433e-04,  4.14745667e-04, ...,\n",
       "          3.65372232e-02,  3.58889499e-02,  3.66627941e-02],\n",
       "        [ 2.25884364e-05,  9.09263973e-05,  1.73588875e-04, ...,\n",
       "         -1.34108984e-01, -1.42797659e-01, -1.48862304e-01],\n",
       "        ...,\n",
       "        [            nan,             nan,             nan, ...,\n",
       "                     nan,             nan,             nan],\n",
       "        [            nan,             nan,             nan, ...,\n",
       "                     nan,             nan,             nan],\n",
       "        [            nan,             nan,             nan, ...,\n",
       "                     nan,             nan,             nan]],\n",
       "       shape=(11251, 76)),\n",
       " 'y': array([[-1.64527888e-04, -4.96328500e-04, -1.09676269e-03, ...,\n",
       "         -3.31228759e-01, -3.35535084e-01, -3.57101654e-01],\n",
       "        [-1.52075819e-04, -4.57695047e-04, -1.00862303e-03, ...,\n",
       "         -2.95363716e-01, -2.98245113e-01, -3.17363742e-01],\n",
       "        [-6.49841502e-05, -1.71876812e-04, -3.04741282e-04, ...,\n",
       "          1.59953752e-01,  1.85642643e-01,  1.98917797e-01],\n",
       "        ...,\n",
       "        [            nan,             nan,             nan, ...,\n",
       "                     nan,             nan,             nan],\n",
       "        [            nan,             nan,             nan, ...,\n",
       "                     nan,             nan,             nan],\n",
       "        [            nan,             nan,             nan, ...,\n",
       "                     nan,             nan,             nan]],\n",
       "       shape=(11251, 76)),\n",
       " 'z': array([[6.64202925e-08, 1.59612472e-07, 3.69722901e-07, ...,\n",
       "         6.96223014e-06, 6.86237218e-06, 6.86237218e-06],\n",
       "        [6.15403233e-08, 1.51335645e-07, 3.47791804e-07, ...,\n",
       "         9.32252499e-06, 9.23227654e-06, 9.23227654e-06],\n",
       "        [3.77368398e-08, 1.64118166e-07, 3.22289388e-07, ...,\n",
       "         7.32364011e-05, 7.32615373e-05, 7.32615373e-05],\n",
       "        ...,\n",
       "        [           nan,            nan,            nan, ...,\n",
       "                    nan,            nan,            nan],\n",
       "        [           nan,            nan,            nan, ...,\n",
       "                    nan,            nan,            nan],\n",
       "        [           nan,            nan,            nan, ...,\n",
       "                    nan,            nan,            nan]],\n",
       "       shape=(11251, 76))}"
      ]
     },
     "execution_count": 12,
     "metadata": {},
     "output_type": "execute_result"
    }
   ],
   "source": [
    "real_displacement = solver_hfpi.get_real_displacement()\n",
    "real_displacement"
   ]
  },
  {
   "cell_type": "code",
   "execution_count": 13,
   "id": "38b574f6",
   "metadata": {},
   "outputs": [
    {
     "data": {
      "text/plain": [
       "[<matplotlib.lines.Line2D at 0x7f58c83aac90>]"
      ]
     },
     "execution_count": 13,
     "metadata": {},
     "output_type": "execute_result"
    },
    {
     "data": {
      "image/png": "[encoded data removed]",
      "text/plain": [
       "<Figure size 640x480 with 1 Axes>"
      ]
     },
     "metadata": {},
     "output_type": "display_data"
    }
   ],
   "source": [
    "import matplotlib.pyplot as plt\n",
    "plt.plot(real_displacement['x'][:,75])"
   ]
  }
 ],
 "metadata": {
  "kernelspec": {
   "display_name": ".venv",
   "language": "python",
   "name": "python3"
  },
  "language_info": {
   "codemirror_mode": {
    "name": "ipython",
    "version": 3
   },
   "file_extension": ".py",
   "mimetype": "text/x-python",
   "name": "python",
   "nbconvert_exporter": "python",
   "pygments_lexer": "ipython3",
   "version": "3.11.9"
  }
 },
 "nbformat": 4,
 "nbformat_minor": 5
}
