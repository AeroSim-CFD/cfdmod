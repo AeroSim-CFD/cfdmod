{
 "cells": [
  {
   "cell_type": "code",
   "execution_count": 1,
   "id": "1e29c47b",
   "metadata": {},
   "outputs": [],
   "source": [
    "from cfdmod.use_cases.hfpi import solver, handler, analysis\n",
    "import pandas as pd\n",
    "import numpy as np\n",
    "import matplotlib.pyplot as plt\n",
    "\n",
    "import pathlib\n",
    "\n",
    "analysis.set_plt_style()\n",
    "\n",
    "### Report directory\n",
    "base_base = pathlib.Path(\"/mnt/disk01/prd-eng/portfolio-eng/simulation_files/petra_nova_fluidmechanics/comparison/dynamic_analysis\")\n",
    "subproject_path = base_base / \"subproj_main\"\n",
    "structure_path = base_base / \"struct_original\"\n",
    "case_path = subproject_path / \"out\"\n",
    "data_path = subproject_path / \"forces/\"\n",
    "\n",
    "base_folder = pathlib.Path(\"/mnt/disk01/prd-eng/cases/petra_nova_fluidmechanics/engmod_case\")\n",
    "experimental_data_path = base_folder / \"../comparison/force_by_floor/exp_csv/\"\n",
    "\n"
   ]
  },
  {
   "cell_type": "code",
   "execution_count": 2,
   "id": "5422c700",
   "metadata": {},
   "outputs": [],
   "source": [
    "### building dimensions\n",
    "H = 250.424\n",
    "Bx = 69.14\n",
    "By = 90.6\n",
    "B = max(Bx, By)\n",
    "\n",
    "dimensions = handler.DimensionSpecs(base=B, height=H)"
   ]
  },
  {
   "cell_type": "code",
   "execution_count": 3,
   "id": "4bf77892",
   "metadata": {},
   "outputs": [],
   "source": [
    "modes_csv = structure_path / \"modes.csv\"\n",
    "\n",
    "n_modes = 12\n",
    "floors_csv = structure_path / \"nodes.csv\"\n",
    "phi_csvs = [structure_path / f\"phi_{i}.csv\" for i in range(1, n_modes+1)]\n",
    "\n",
    "struct_data = solver.HFPIStructuralData.build(\n",
    "    modes_csv=modes_csv,\n",
    "    floors_csv=floors_csv,\n",
    "    phi_floors_csvs=phi_csvs,\n",
    "    max_active_modes=5,\n",
    ")"
   ]
  },
  {
   "cell_type": "code",
   "execution_count": 4,
   "id": "acb42772",
   "metadata": {},
   "outputs": [],
   "source": [
    "directions = [\"000\", \"030\", \"060\", \"090\", \"120\", \"150\", \"180\", \"210\", \"240\", \"270\", \"300\", \"330\"]\n",
    "directions = [\"000\"]\n",
    "float_directions = [float(d) for d in directions]\n",
    "recurrence_periods = [1, 10, 50]\n",
    "xis = [0.01, 0.02]"
   ]
  },
  {
   "cell_type": "code",
   "execution_count": 5,
   "id": "8271869e",
   "metadata": {},
   "outputs": [
    {
     "data": {
      "text/plain": [
       "dict_keys([0.0])"
      ]
     },
     "execution_count": 5,
     "metadata": {},
     "output_type": "execute_result"
    }
   ],
   "source": [
    "directional_forces = {}\n",
    "\n",
    "for d in directions:\n",
    "    cf_x_h5 = data_path / f\"FX_{d}.h5\"\n",
    "    cf_y_h5 = data_path / f\"FY_{d}.h5\"\n",
    "    cm_z_h5 = data_path / f\"MZ_{d}.h5\"\n",
    "    forces_data = solver.HFPIForcesData.build(cf_x_h5, cf_y_h5, cm_z_h5)\n",
    "    directional_forces[float(d)] = forces_data\n",
    "\n",
    "directional_forces.keys()"
   ]
  },
  {
   "cell_type": "code",
   "execution_count": 6,
   "id": "0c46ec51",
   "metadata": {},
   "outputs": [],
   "source": [
    "wind_analytical = handler.WindAnalysis(\n",
    "    directional_velocity_multiplier={d: 1 for d in float_directions},\n",
    "    directional_roughness_cats=pd.DataFrame(),\n",
    ")"
   ]
  },
  {
   "cell_type": "code",
   "execution_count": 7,
   "id": "b9a4f1df",
   "metadata": {},
   "outputs": [],
   "source": [
    "results_save = pathlib.Path(\"/mnt/dev01_fs_shared/waine/repos/cfdmod/output/hfpi_test\")\n",
    "analysis_full = handler.HFPIAnalysisHandler(\n",
    "    wind_analytics=wind_analytical,\n",
    "    dimensions=dimensions,\n",
    "    structural_data=struct_data,\n",
    "    directional_forces=directional_forces,\n",
    "    save_folder=results_save,\n",
    ")"
   ]
  },
  {
   "cell_type": "code",
   "execution_count": 8,
   "id": "2ac08af8",
   "metadata": {},
   "outputs": [],
   "source": [
    "all_parameters = analysis_full.generate_combined_parameters(\n",
    "    directions=float_directions,\n",
    "    recurrence_periods=recurrence_periods,\n",
    "    xis=xis,\n",
    ")\n"
   ]
  },
  {
   "cell_type": "code",
   "execution_count": 9,
   "id": "cd17d621",
   "metadata": {},
   "outputs": [],
   "source": [
    "results = handler.HFPIFullResults.load_all_results(results_folder=results_save, parameters=all_parameters)\n"
   ]
  },
  {
   "cell_type": "code",
   "execution_count": 10,
   "id": "d5619753",
   "metadata": {},
   "outputs": [
    {
     "data": {
      "text/plain": [
       "{1.0: np.float64(1.6701925579261132),\n",
       " 10.0: np.float64(1.6701925579261132),\n",
       " 50.0: np.float64(1.6701925579261132)}"
      ]
     },
     "execution_count": 10,
     "metadata": {},
     "output_type": "execute_result"
    }
   ],
   "source": [
    "max_acceleration = results.filter_by_xi(xi=0.01).get_max_acceleration_by_recurrence_period()\n",
    "\n",
    "max_acceleration"
   ]
  },
  {
   "cell_type": "code",
   "execution_count": 11,
   "id": "d0067b2c",
   "metadata": {},
   "outputs": [
    {
     "data": {
      "text/plain": [
       "{'forces_static':    direction         min_x         min_y         min_z         max_x  \\\n",
       " 0        0.0  58635.030293 -3.001204e+07  2.523949e+08  1.217909e+07   \n",
       " \n",
       "           max_y         max_z        mean_x        mean_y        mean_z  \n",
       " 0 -9.569276e+06  7.614236e+08  5.243778e+06 -1.807239e+07  4.604945e+08  ,\n",
       " 'moments_static':    direction         min_x         min_y         min_z         max_x  \\\n",
       " 0        0.0 -3.273369e+07 -3.065425e+09  2.523949e+08  1.410424e+09   \n",
       " \n",
       "           max_y         max_z        mean_x        mean_y        mean_z  \n",
       " 0 -8.970971e+08  7.614236e+08  6.056521e+08 -1.799981e+09  4.604945e+08  ,\n",
       " 'forces_static_eq':    direction         min_x         min_y         min_z         max_x  \\\n",
       " 0        0.0 -5.645067e+07 -2.737012e+08 -4.744234e+07  7.764443e+07   \n",
       " \n",
       "           max_y         max_z        mean_x        mean_y        mean_z  \n",
       " 0  2.513674e+07  3.928036e+07  1.213746e+07 -1.047267e+08 -5.130986e+06  ,\n",
       " 'moments_static_eq':    direction         min_x         min_y         min_z         max_x  \\\n",
       " 0        0.0 -3.845520e+09 -1.812929e+10 -4.744234e+07  6.909243e+09   \n",
       " \n",
       "           max_y         max_z        mean_x        mean_y        mean_z  \n",
       " 0  1.129149e+09  3.928036e+07  1.887150e+09 -6.858954e+09 -5.130986e+06  }"
      ]
     },
     "execution_count": 11,
     "metadata": {},
     "output_type": "execute_result"
    }
   ],
   "source": [
    "results_use = results.filter_by_xi(0.01).filter_by_recurrence_period(50)\n",
    "\n",
    "peaks = results_use.get_global_peaks_by_direction()\n",
    "peaks"
   ]
  },
  {
   "cell_type": "code",
   "execution_count": 12,
   "id": "b92509ac",
   "metadata": {},
   "outputs": [
    {
     "data": {
      "text/html": [
       "<div>\n",
       "<style scoped>\n",
       "    .dataframe tbody tr th:only-of-type {\n",
       "        vertical-align: middle;\n",
       "    }\n",
       "\n",
       "    .dataframe tbody tr th {\n",
       "        vertical-align: top;\n",
       "    }\n",
       "\n",
       "    .dataframe thead th {\n",
       "        text-align: right;\n",
       "    }\n",
       "</style>\n",
       "<table border=\"1\" class=\"dataframe\">\n",
       "  <thead>\n",
       "    <tr style=\"text-align: right;\">\n",
       "      <th></th>\n",
       "      <th>direction</th>\n",
       "      <th>min_x</th>\n",
       "      <th>min_y</th>\n",
       "      <th>min_z</th>\n",
       "      <th>max_x</th>\n",
       "      <th>max_y</th>\n",
       "      <th>max_z</th>\n",
       "      <th>mean_x</th>\n",
       "      <th>mean_y</th>\n",
       "      <th>mean_z</th>\n",
       "    </tr>\n",
       "  </thead>\n",
       "  <tbody>\n",
       "    <tr>\n",
       "      <th>0</th>\n",
       "      <td>0.0</td>\n",
       "      <td>-5.645067e+07</td>\n",
       "      <td>-2.737012e+08</td>\n",
       "      <td>-4.744234e+07</td>\n",
       "      <td>7.764443e+07</td>\n",
       "      <td>2.513674e+07</td>\n",
       "      <td>3.928036e+07</td>\n",
       "      <td>1.213746e+07</td>\n",
       "      <td>-1.047267e+08</td>\n",
       "      <td>-5.130986e+06</td>\n",
       "    </tr>\n",
       "  </tbody>\n",
       "</table>\n",
       "</div>"
      ],
      "text/plain": [
       "   direction         min_x         min_y         min_z         max_x  \\\n",
       "0        0.0 -5.645067e+07 -2.737012e+08 -4.744234e+07  7.764443e+07   \n",
       "\n",
       "          max_y         max_z        mean_x        mean_y        mean_z  \n",
       "0  2.513674e+07  3.928036e+07  1.213746e+07 -1.047267e+08 -5.130986e+06  "
      ]
     },
     "execution_count": 12,
     "metadata": {},
     "output_type": "execute_result"
    }
   ],
   "source": [
    "peaks[\"forces_static_eq\"]"
   ]
  },
  {
   "cell_type": "code",
   "execution_count": 13,
   "id": "eae92abb",
   "metadata": {},
   "outputs": [
    {
     "data": {
      "text/html": [
       "<div>\n",
       "<style scoped>\n",
       "    .dataframe tbody tr th:only-of-type {\n",
       "        vertical-align: middle;\n",
       "    }\n",
       "\n",
       "    .dataframe tbody tr th {\n",
       "        vertical-align: top;\n",
       "    }\n",
       "\n",
       "    .dataframe thead th {\n",
       "        text-align: right;\n",
       "    }\n",
       "</style>\n",
       "<table border=\"1\" class=\"dataframe\">\n",
       "  <thead>\n",
       "    <tr style=\"text-align: right;\">\n",
       "      <th></th>\n",
       "      <th>direction</th>\n",
       "      <th>min_x</th>\n",
       "      <th>min_y</th>\n",
       "      <th>min_z</th>\n",
       "      <th>max_x</th>\n",
       "      <th>max_y</th>\n",
       "      <th>max_z</th>\n",
       "      <th>mean_x</th>\n",
       "      <th>mean_y</th>\n",
       "      <th>mean_z</th>\n",
       "    </tr>\n",
       "  </thead>\n",
       "  <tbody>\n",
       "    <tr>\n",
       "      <th>0</th>\n",
       "      <td>0.0</td>\n",
       "      <td>58635.030293</td>\n",
       "      <td>-3.001204e+07</td>\n",
       "      <td>2.523949e+08</td>\n",
       "      <td>1.217909e+07</td>\n",
       "      <td>-9.569276e+06</td>\n",
       "      <td>7.614236e+08</td>\n",
       "      <td>5.243778e+06</td>\n",
       "      <td>-1.807239e+07</td>\n",
       "      <td>4.604945e+08</td>\n",
       "    </tr>\n",
       "  </tbody>\n",
       "</table>\n",
       "</div>"
      ],
      "text/plain": [
       "   direction         min_x         min_y         min_z         max_x  \\\n",
       "0        0.0  58635.030293 -3.001204e+07  2.523949e+08  1.217909e+07   \n",
       "\n",
       "          max_y         max_z        mean_x        mean_y        mean_z  \n",
       "0 -9.569276e+06  7.614236e+08  5.243778e+06 -1.807239e+07  4.604945e+08  "
      ]
     },
     "execution_count": 13,
     "metadata": {},
     "output_type": "execute_result"
    }
   ],
   "source": [
    "peaks[\"forces_static\"]"
   ]
  },
  {
   "cell_type": "code",
   "execution_count": 17,
   "id": "49363df3",
   "metadata": {},
   "outputs": [
    {
     "name": "stdout",
     "output_type": "stream",
     "text": [
      "39280362.5432578 761423572.1484375\n",
      "-47442337.21126439 252394934.5546875\n"
     ]
    },
    {
     "data": {
      "image/png": "[encoded data removed]",
      "text/plain": [
       "<Figure size 640x480 with 1 Axes>"
      ]
     },
     "metadata": {},
     "output_type": "display_data"
    }
   ],
   "source": [
    "res_0 = list(results_use.results.values())[0]\n",
    "d = \"z\"\n",
    "\n",
    "plt.plot(\n",
    "    res_0.global_moments_static_eq[d], label=\"eq\"\n",
    ")\n",
    "plt.plot(\n",
    "    res_0.static_results.global_moments_static[d], label=\"static\"\n",
    ")\n",
    "plt.legend()\n",
    "print(max(res_0.global_moments_static_eq[d]), max(res_0.static_results.global_moments_static[d]))\n",
    "print(min(res_0.global_moments_static_eq[d]), min(res_0.static_results.global_moments_static[d]))"
   ]
  }
 ],
 "metadata": {
  "kernelspec": {
   "display_name": ".venv",
   "language": "python",
   "name": "python3"
  },
  "language_info": {
   "codemirror_mode": {
    "name": "ipython",
    "version": 3
   },
   "file_extension": ".py",
   "mimetype": "text/x-python",
   "name": "python",
   "nbconvert_exporter": "python",
   "pygments_lexer": "ipython3",
   "version": "3.11.9"
  }
 },
 "nbformat": 4,
 "nbformat_minor": 5
}
