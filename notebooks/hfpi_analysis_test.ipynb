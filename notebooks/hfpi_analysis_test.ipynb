{
 "cells": [
  {
   "cell_type": "code",
   "execution_count": 1,
   "id": "1e29c47b",
   "metadata": {},
   "outputs": [],
   "source": [
    "from cfdmod.use_cases.hfpi import solver, handler, analysis\n",
    "import pandas as pd\n",
    "import numpy as np\n",
    "import matplotlib.pyplot as plt\n",
    "\n",
    "import pathlib\n",
    "\n",
    "analysis.set_plt_style()\n",
    "\n",
    "### Report directory\n",
    "base_base = pathlib.Path(\"/mnt/disk01/prd-eng/portfolio-eng/simulation_files/petra_nova_fluidmechanics/comparison/dynamic_analysis\")\n",
    "subproject_path = base_base / \"subproj_main\"\n",
    "structure_path = base_base / \"struct_original\"\n",
    "case_path = subproject_path / \"out\"\n",
    "data_path = subproject_path / \"forces/\"\n",
    "\n",
    "base_folder = pathlib.Path(\"/mnt/disk01/prd-eng/cases/petra_nova_fluidmechanics/engmod_case\")\n",
    "experimental_data_path = base_folder / \"../comparison/force_by_floor/exp_csv/\"\n",
    "\n"
   ]
  },
  {
   "cell_type": "code",
   "execution_count": 2,
   "id": "5422c700",
   "metadata": {},
   "outputs": [],
   "source": [
    "### building dimensions\n",
    "H = 250.424\n",
    "Bx = 69.14\n",
    "By = 90.6\n",
    "B = max(Bx, By)\n",
    "\n",
    "dimensions = handler.DimensionSpecs(base=B, height=H)"
   ]
  },
  {
   "cell_type": "code",
   "execution_count": 3,
   "id": "4bf77892",
   "metadata": {},
   "outputs": [],
   "source": [
    "modes_csv = structure_path / \"modes.csv\"\n",
    "\n",
    "n_modes = 12\n",
    "floors_csv = structure_path / \"nodes.csv\"\n",
    "phi_csvs = [structure_path / f\"phi_{i}.csv\" for i in range(1, n_modes+1)]\n",
    "\n",
    "struct_data = solver.HFPIStructuralData.build(\n",
    "    modes_csv=modes_csv,\n",
    "    floors_csv=floors_csv,\n",
    "    phi_floors_csvs=phi_csvs,\n",
    "    max_active_modes=5,\n",
    ")"
   ]
  },
  {
   "cell_type": "code",
   "execution_count": 4,
   "id": "acb42772",
   "metadata": {},
   "outputs": [],
   "source": [
    "directions = [\"000\", \"030\", \"060\", \"090\", \"120\", \"150\", \"180\", \"210\", \"240\", \"270\", \"300\", \"330\"]\n",
    "float_directions = [float(d) for d in directions]\n",
    "recurrence_periods = [1, 10, 50]\n",
    "xis = [0.01, 0.02]"
   ]
  },
  {
   "cell_type": "code",
   "execution_count": 5,
   "id": "8271869e",
   "metadata": {},
   "outputs": [
    {
     "data": {
      "text/plain": [
       "dict_keys([0.0, 30.0, 60.0, 90.0, 120.0, 150.0, 180.0, 210.0, 240.0, 270.0, 300.0, 330.0])"
      ]
     },
     "execution_count": 5,
     "metadata": {},
     "output_type": "execute_result"
    }
   ],
   "source": [
    "directional_forces = {}\n",
    "\n",
    "for d in directions:\n",
    "    cf_x_h5 = data_path / f\"FX_{d}.h5\"\n",
    "    cf_y_h5 = data_path / f\"FY_{d}.h5\"\n",
    "    cm_z_h5 = data_path / f\"MZ_{d}.h5\"\n",
    "    forces_data = solver.HFPIForcesData.build(cf_x_h5, cf_y_h5, cm_z_h5)\n",
    "    directional_forces[float(d)] = forces_data\n",
    "\n",
    "directional_forces.keys()"
   ]
  },
  {
   "cell_type": "code",
   "execution_count": 6,
   "id": "0c46ec51",
   "metadata": {},
   "outputs": [],
   "source": [
    "wind_analytical = handler.WindAnalysis(\n",
    "    directional_velocity_multiplier={d: 1 for d in float_directions},\n",
    "    directional_roughness_cats=pd.DataFrame(),\n",
    ")"
   ]
  },
  {
   "cell_type": "code",
   "execution_count": 7,
   "id": "b9a4f1df",
   "metadata": {},
   "outputs": [],
   "source": [
    "results_save = pathlib.Path(\"/mnt/dev01_fs_shared/waine/repos/cfdmod/output/hfpi_test\")\n",
    "analysis_full = handler.HFPIAnalysisHandler(\n",
    "    wind_analytics=wind_analytical,\n",
    "    dimensions=dimensions,\n",
    "    structural_data=struct_data,\n",
    "    directional_forces=directional_forces,\n",
    "    save_folder=results_save,\n",
    ")"
   ]
  },
  {
   "cell_type": "code",
   "execution_count": 8,
   "id": "2ac08af8",
   "metadata": {},
   "outputs": [],
   "source": [
    "all_parameters = analysis_full.generate_combined_parameters(\n",
    "    directions=float_directions,\n",
    "    recurrence_periods=recurrence_periods,\n",
    "    xis=xis,\n",
    ")\n"
   ]
  },
  {
   "cell_type": "code",
   "execution_count": 9,
   "id": "cd17d621",
   "metadata": {},
   "outputs": [],
   "source": [
    "results = handler.HFPIFullResults.load_all_results(results_folder=results_save, parameters=all_parameters)\n"
   ]
  },
  {
   "cell_type": "code",
   "execution_count": 10,
   "id": "d5619753",
   "metadata": {},
   "outputs": [
    {
     "data": {
      "text/plain": [
       "{1.0: np.float64(1.6701925579261132),\n",
       " 10.0: np.float64(1.6701925579261132),\n",
       " 50.0: np.float64(1.6701925579261132)}"
      ]
     },
     "execution_count": 10,
     "metadata": {},
     "output_type": "execute_result"
    }
   ],
   "source": [
    "max_acceleration = results.filter_by_xi(xi=0.01).get_max_acceleration_by_recurrence_period()\n",
    "\n",
    "max_acceleration"
   ]
  }
 ],
 "metadata": {
  "kernelspec": {
   "display_name": ".venv",
   "language": "python",
   "name": "python3"
  },
  "language_info": {
   "codemirror_mode": {
    "name": "ipython",
    "version": 3
   },
   "file_extension": ".py",
   "mimetype": "text/x-python",
   "name": "python",
   "nbconvert_exporter": "python",
   "pygments_lexer": "ipython3",
   "version": "3.11.9"
  }
 },
 "nbformat": 4,
 "nbformat_minor": 5
}
