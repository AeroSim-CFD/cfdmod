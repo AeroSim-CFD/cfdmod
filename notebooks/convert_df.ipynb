{
 "cells": [
  {
   "cell_type": "code",
   "execution_count": 13,
   "metadata": {},
   "outputs": [
    {
     "data": {
      "text/plain": [
       "1.0029906"
      ]
     },
     "execution_count": 13,
     "metadata": {},
     "output_type": "execute_result"
    }
   ],
   "source": [
    "from cfdmod.utils import convert_dataframe_into_matrix, convert_matrix_into_dataframe\n",
    "from cfdmod.use_cases.pressure.chunking import split_into_chunks\n",
    "import pathlib\n",
    "import pandas as pd\n",
    "\n",
    "# df_path = pathlib.Path(\"fixtures/tests/pressure/data/bodies.galpao.data.resampled.h5\")\n",
    "# df_path = pathlib.Path(\"fixtures/tests/pressure/data/new.points.static_pressure.data.resampled.h5\")\n",
    "df_path = pathlib.Path(\"fixtures/tests/pressure/data/points.static_pressure.data.resampled.h5\")\n",
    "# out_df_path = df_path.parent / f\"new.{df_path.name}\"\n",
    "# if out_df_path.exists():\n",
    "#     out_df_path.unlink()\n",
    "df_read = pd.read_hdf(df_path)\n",
    "df_read[\"rho\"].mean()\n",
    "# matrix = convert_dataframe_into_matrix(df_read)\n",
    "# split_into_chunks(matrix, 10, out_df_path)\n",
    "# matrix.reset_index(inplace=True)\n",
    "# matrix.index = matrix[\"time_step\"]\n",
    "# matrix.drop([\"time_step\"], inplace=True)\n",
    "# matrix"
   ]
  },
  {
   "cell_type": "code",
   "execution_count": 40,
   "metadata": {},
   "outputs": [
    {
     "data": {
      "text/plain": [
       "point_idx\n",
       "0      -1.070327\n",
       "1      -1.076454\n",
       "2      -1.066670\n",
       "3      -1.079342\n",
       "4      -1.076362\n",
       "          ...   \n",
       "2910   -1.323681\n",
       "2911   -1.393316\n",
       "2912   -1.420711\n",
       "2913   -1.306376\n",
       "2914   -1.320147\n",
       "Length: 2915, dtype: float32"
      ]
     },
     "execution_count": 40,
     "metadata": {},
     "output_type": "execute_result"
    }
   ],
   "source": [
    "import pathlib\n",
    "import pandas as pd\n",
    "\n",
    "df_path = pathlib.Path(\"fixtures/tests/pressure/data/new.bodies.galpao.data.resampled.h5\")\n",
    "# df_path = pathlib.Path(\"fixtures/tests/pressure/data/points.static_pressure.data.resampled.h5\")\n",
    "# df_path = pathlib.Path(\"fixtures/tests/pressure/data/points.static_pressure.data.grouped.h5\")\n",
    "# df_path = pathlib.Path(\"fixtures/tests/pressure/data/new.points.static_pressure.data.resampled.h5\")\n",
    "\n",
    "# df_read = pd.read_hdf(df_path)\n",
    "# df_read[\"rho\"].mean()\n",
    "# df_read\n",
    "\n",
    "dfs = []\n",
    "with pd.HDFStore(df_path, mode=\"r\") as df_store:\n",
    "    for k in df_store.keys():\n",
    "        dfs.append(df_store.get(k))\n",
    "\n",
    "full_df = pd.concat(dfs)\n",
    "full_df.drop(columns=[\"time_step\"]).skew()"
   ]
  },
  {
   "cell_type": "code",
   "execution_count": 29,
   "metadata": {},
   "outputs": [
    {
     "name": "stdout",
     "output_type": "stream",
     "text": [
      "-0.25577347408005635\n",
      "-0.25577347408005635\n",
      "-0.25577347408005635\n"
     ]
    }
   ],
   "source": [
    "from cfdmod.utils import convert_dataframe_into_matrix, convert_matrix_into_dataframe\n",
    "from cfdmod.use_cases.pressure.chunking import split_into_chunks\n",
    "import pathlib\n",
    "import pandas as pd\n",
    "\n",
    "# df_path = pathlib.Path(\"fixtures/tests/pressure/data/new.bodies.galpao.data.resampled.h5\")\n",
    "# df_path = pathlib.Path(\"fixtures/tests/pressure/data/new.points.static_pressure.data.resampled.h5\")\n",
    "base_path = pathlib.Path(\"output/pressure/cp/default\")\n",
    "# df_path = pathlib.Path(\"output/pressure/cp/default/divided_time_series.h5\")\n",
    "# df_path = pathlib.Path(\"output/pressure/cp/default/time_series.h5\")\n",
    "\n",
    "dfs = []\n",
    "\n",
    "for file in [\"new_time_series.h5\", \"old_time_series.h5\", \"grouped_time_series.h5\"]:\n",
    "    with pd.HDFStore(base_path / file, mode=\"r\") as df_store:\n",
    "        df = df_store.get(df_store.keys()[0])\n",
    "        # print(df_store.keys()[0], df_store.keys(), df)\n",
    "        dfs.append(df)"
   ]
  }
 ],
 "metadata": {
  "kernelspec": {
   "display_name": "cfdmod-7yEqALRC-py3.10",
   "language": "python",
   "name": "python3"
  },
  "language_info": {
   "codemirror_mode": {
    "name": "ipython",
    "version": 3
   },
   "file_extension": ".py",
   "mimetype": "text/x-python",
   "name": "python",
   "nbconvert_exporter": "python",
   "pygments_lexer": "ipython3",
   "version": "3.10.12"
  }
 },
 "nbformat": 4,
 "nbformat_minor": 2
}
