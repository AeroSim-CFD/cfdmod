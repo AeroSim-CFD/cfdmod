{
 "cells": [
  {
   "cell_type": "code",
   "execution_count": 1,
   "metadata": {},
   "outputs": [],
   "source": [
    "from cfdmod.utils import convert_dataframe_into_matrix, convert_matrix_into_dataframe\n",
    "from cfdmod.use_cases.pressure.chunking import split_into_chunks\n",
    "import pathlib\n",
    "import pandas as pd\n",
    "\n",
    "df_path = pathlib.Path(\"fixtures/tests/pressure/data/bodies.galpao.data.resampled.h5\")\n",
    "out_df_path = df_path.parent / f\"new.{df_path.name}\"\n",
    "\n",
    "df_read = pd.read_hdf(df_path)\n",
    "matrix = convert_dataframe_into_matrix(df_read)\n",
    "split_into_chunks(matrix, 10, out_df_path)"
   ]
  },
  {
   "cell_type": "code",
   "execution_count": 2,
   "metadata": {},
   "outputs": [
    {
     "name": "stdout",
     "output_type": "stream",
     "text": [
      "['/range_010000_010010', '/range_010011_010021', '/range_010022_010032', '/range_010033_010043', '/range_010044_010054', '/range_010055_010065', '/range_010066_010076', '/range_010077_010087', '/range_010088_010098', '/range_010099_010100', '/range_10000_10010', '/range_10011_10021', '/range_10022_10032', '/range_10033_10043', '/range_10044_10054', '/range_10055_10065', '/range_10066_10076', '/range_10077_10087', '/range_10088_10098', '/range_10099_10100']\n"
     ]
    }
   ],
   "source": [
    "from cfdmod.utils import convert_dataframe_into_matrix, convert_matrix_into_dataframe\n",
    "from cfdmod.use_cases.pressure.chunking import split_into_chunks\n",
    "import pathlib\n",
    "import pandas as pd\n",
    "\n",
    "df_path = pathlib.Path(\"fixtures/tests/pressure/data/new.bodies.galpao.data.resampled.h5\")\n",
    "\n",
    "with pd.HDFStore(df_path, mode=\"r\") as df_store:\n",
    "    print(df_store.keys())"
   ]
  }
 ],
 "metadata": {
  "kernelspec": {
   "display_name": "cfdmod-7yEqALRC-py3.10",
   "language": "python",
   "name": "python3"
  },
  "language_info": {
   "codemirror_mode": {
    "name": "ipython",
    "version": 3
   },
   "file_extension": ".py",
   "mimetype": "text/x-python",
   "name": "python",
   "nbconvert_exporter": "python",
   "pygments_lexer": "ipython3",
   "version": "3.10.12"
  }
 },
 "nbformat": 4,
 "nbformat_minor": 2
}
