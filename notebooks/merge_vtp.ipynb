{
 "cells": [
  {
   "cell_type": "code",
   "execution_count": 23,
   "metadata": {},
   "outputs": [],
   "source": [
    "import pathlib\n",
    "\n",
    "folder_path = pathlib.Path(\"./fixtures/tests/join_vtp\")\n",
    "output_path = pathlib.Path(\"./fixtures/tests/join_vtp/combined_polydata.vtp\")\n",
    "\n",
    "file_names = [\n",
    "    \"lanternim.vtp\",\n",
    "    \"marquise_xm_ym.vtp\",\n",
    "    \"marquise_xm_yp.vtp\",\n",
    "    \"marquise_xp_ym.vtp\",\n",
    "    \"marquise_xp_yp.vtp\",\n",
    "]"
   ]
  },
  {
   "cell_type": "code",
   "execution_count": 24,
   "metadata": {},
   "outputs": [
    {
     "data": {
      "text/plain": [
       "1"
      ]
     },
     "execution_count": 24,
     "metadata": {},
     "output_type": "execute_result"
    }
   ],
   "source": [
    "import vtk\n",
    "from cfdmod.api.vtk.write_vtk import read_polydata\n",
    "import math\n",
    "\n",
    "for i, file_n in enumerate(file_names):\n",
    "    file_path = folder_path / file_n\n",
    "    polydata = read_polydata(file_path)\n",
    "\n",
    "    if i == 0:\n",
    "        combined_polydata = vtk.vtkPolyData()\n",
    "        combined_polydata.DeepCopy(polydata)\n",
    "        locator = vtk.vtkCellLocator()\n",
    "        locator.SetDataSet(combined_polydata)\n",
    "        locator.BuildLocator()\n",
    "        continue\n",
    "\n",
    "    cell_data = combined_polydata.GetCellData()\n",
    "    cell_array_names = [cell_data.GetArrayName(i) for i in range(cell_data.GetNumberOfArrays())]\n",
    "\n",
    "    for scalar_lbl in cell_array_names:\n",
    "        # Identify cells with real values\n",
    "        real_value_cells1 = set(\n",
    "            cell_id\n",
    "            for cell_id in range(combined_polydata.GetNumberOfCells())\n",
    "            if not math.isnan(\n",
    "                combined_polydata.GetCellData().GetArray(scalar_lbl).GetValue(cell_id)\n",
    "            )\n",
    "        )\n",
    "\n",
    "        real_value_cells2 = set(\n",
    "            cell_id\n",
    "            for cell_id in range(polydata.GetNumberOfCells())\n",
    "            if not math.isnan(polydata.GetCellData().GetArray(scalar_lbl).GetValue(cell_id))\n",
    "        )\n",
    "\n",
    "        # Merge real-value cells\n",
    "        for cell_id in real_value_cells2:\n",
    "            cell = polydata.GetCell(cell_id)\n",
    "            cell_center = [0.0, 0.0, 0.0]\n",
    "            for i in range(cell.GetNumberOfPoints()):\n",
    "                cell_center = [sum(x) for x in zip(cell_center, cell.GetPoints().GetPoint(i))]\n",
    "            cell_center = [x / cell.GetNumberOfPoints() for x in cell_center]\n",
    "\n",
    "            cell_id1 = locator.FindCell(cell_center)\n",
    "\n",
    "            if cell_id1 != -1:\n",
    "                value = polydata.GetCellData().GetArray(scalar_lbl).GetValue(cell_id)\n",
    "                combined_polydata.GetCellData().GetArray(scalar_lbl).SetValue(cell_id1, value)\n",
    "\n",
    "\n",
    "# Save the final polydata if needed\n",
    "writer = vtk.vtkXMLPolyDataWriter()\n",
    "writer.SetFileName(output_path)\n",
    "writer.SetInputData(combined_polydata)\n",
    "writer.Write()"
   ]
  }
 ],
 "metadata": {
  "kernelspec": {
   "display_name": "cfdmod-7yEqALRC-py3.10",
   "language": "python",
   "name": "python3"
  },
  "language_info": {
   "codemirror_mode": {
    "name": "ipython",
    "version": 3
   },
   "file_extension": ".py",
   "mimetype": "text/x-python",
   "name": "python",
   "nbconvert_exporter": "python",
   "pygments_lexer": "ipython3",
   "version": "3.10.12"
  }
 },
 "nbformat": 4,
 "nbformat_minor": 2
}
