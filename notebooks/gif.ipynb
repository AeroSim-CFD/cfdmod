{
 "cells": [
  {
   "cell_type": "code",
   "execution_count": 3,
   "metadata": {},
   "outputs": [],
   "source": [
    "from PIL import Image\n",
    "import os\n",
    "\n",
    "def create_gif(input_folder, output_file, time_per_frame=100):\n",
    "    images = []\n",
    "    for filename in sorted(os.listdir(input_folder)):\n",
    "        if filename.endswith(\".png\"):\n",
    "            file_path = os.path.join(input_folder, filename)\n",
    "            img = Image.open(file_path)\n",
    "            images.append(img)\n",
    "\n",
    "    # Save the images as a GIF\n",
    "    images[0].save(\n",
    "        output_file,\n",
    "        save_all=True,\n",
    "        append_images=images[1:],\n",
    "        duration=time_per_frame,\n",
    "        loop=0  # 0 means an infinite loop\n",
    "    )\n",
    "\n"
   ]
  },
  {
   "cell_type": "code",
   "execution_count": 1,
   "metadata": {},
   "outputs": [],
   "source": [
    "from PIL import Image, ImageDraw\n",
    "import os\n",
    "\n",
    "def add_watermark(input_folder, output_folder, watermark_path):\n",
    "    # Create output folder if it doesn't exist\n",
    "    if not os.path.exists(output_folder):\n",
    "        os.makedirs(output_folder)\n",
    "\n",
    "    # Iterate through files in the input folder\n",
    "    for root, dirs, files in os.walk(input_folder):\n",
    "        for file in files:\n",
    "            # Check if the file is an image (you can add more image formats if needed)\n",
    "            if file.lower().endswith(('.png', '.jpg', '.jpeg', '.gif')):\n",
    "                input_path = os.path.join(root, file)\n",
    "                output_path = os.path.join(output_folder, file)\n",
    "\n",
    "                # Open the image\n",
    "                with Image.open(input_path) as img:\n",
    "                    # Open the watermark image\n",
    "                    watermark = Image.open(watermark_path)\n",
    "\n",
    "                    # Resize watermark to fit in the top-left corner\n",
    "                    watermark_width = int(img.width / 4)\n",
    "                    watermark_height = int(watermark_width * watermark.height / watermark.width)\n",
    "                    watermark = watermark.resize((watermark_width, watermark_height), Image.ANTIALIAS)\n",
    "\n",
    "                    # Paste the watermark onto the image\n",
    "                    img.paste(watermark, (0, 0), watermark)\n",
    "\n",
    "                    # Save the result\n",
    "                    img.save(output_path)\n",
    "\n"
   ]
  },
  {
   "cell_type": "code",
   "execution_count": 4,
   "metadata": {},
   "outputs": [
    {
     "ename": "FileNotFoundError",
     "evalue": "[Errno 2] No such file or directory: 'path/to/your/folder'",
     "output_type": "error",
     "traceback": [
      "\u001b[0;31m---------------------------------------------------------------------------\u001b[0m",
      "\u001b[0;31mFileNotFoundError\u001b[0m                         Traceback (most recent call last)",
      "\u001b[1;32m/home/ubuntu/Documentos/Repositories/cfdmod/notebooks/gif.ipynb Célula 3\u001b[0m line \u001b[0;36m1\n\u001b[1;32m     <a href='vscode-notebook-cell:/home/ubuntu/Documentos/Repositories/cfdmod/notebooks/gif.ipynb#W2sZmlsZQ%3D%3D?line=10'>11</a>\u001b[0m output_file \u001b[39m=\u001b[39m \u001b[39m\"\u001b[39m\u001b[39moutput.gif\u001b[39m\u001b[39m\"\u001b[39m\n\u001b[1;32m     <a href='vscode-notebook-cell:/home/ubuntu/Documentos/Repositories/cfdmod/notebooks/gif.ipynb#W2sZmlsZQ%3D%3D?line=11'>12</a>\u001b[0m time_per_frame \u001b[39m=\u001b[39m \u001b[39m100\u001b[39m  \u001b[39m# Time in milliseconds per frame\u001b[39;00m\n\u001b[0;32m---> <a href='vscode-notebook-cell:/home/ubuntu/Documentos/Repositories/cfdmod/notebooks/gif.ipynb#W2sZmlsZQ%3D%3D?line=13'>14</a>\u001b[0m create_gif(input_folder, output_file, time_per_frame)\n",
      "\u001b[1;32m/home/ubuntu/Documentos/Repositories/cfdmod/notebooks/gif.ipynb Célula 3\u001b[0m line \u001b[0;36m6\n\u001b[1;32m      <a href='vscode-notebook-cell:/home/ubuntu/Documentos/Repositories/cfdmod/notebooks/gif.ipynb#W2sZmlsZQ%3D%3D?line=3'>4</a>\u001b[0m \u001b[39mdef\u001b[39;00m \u001b[39mcreate_gif\u001b[39m(input_folder, output_file, time_per_frame\u001b[39m=\u001b[39m\u001b[39m100\u001b[39m):\n\u001b[1;32m      <a href='vscode-notebook-cell:/home/ubuntu/Documentos/Repositories/cfdmod/notebooks/gif.ipynb#W2sZmlsZQ%3D%3D?line=4'>5</a>\u001b[0m     images \u001b[39m=\u001b[39m []\n\u001b[0;32m----> <a href='vscode-notebook-cell:/home/ubuntu/Documentos/Repositories/cfdmod/notebooks/gif.ipynb#W2sZmlsZQ%3D%3D?line=5'>6</a>\u001b[0m     \u001b[39mfor\u001b[39;00m filename \u001b[39min\u001b[39;00m \u001b[39msorted\u001b[39m(os\u001b[39m.\u001b[39;49mlistdir(input_folder)):\n\u001b[1;32m      <a href='vscode-notebook-cell:/home/ubuntu/Documentos/Repositories/cfdmod/notebooks/gif.ipynb#W2sZmlsZQ%3D%3D?line=6'>7</a>\u001b[0m         \u001b[39mif\u001b[39;00m filename\u001b[39m.\u001b[39mendswith(\u001b[39m\"\u001b[39m\u001b[39m.png\u001b[39m\u001b[39m\"\u001b[39m):\n\u001b[1;32m      <a href='vscode-notebook-cell:/home/ubuntu/Documentos/Repositories/cfdmod/notebooks/gif.ipynb#W2sZmlsZQ%3D%3D?line=7'>8</a>\u001b[0m             file_path \u001b[39m=\u001b[39m os\u001b[39m.\u001b[39mpath\u001b[39m.\u001b[39mjoin(input_folder, filename)\n",
      "\u001b[0;31mFileNotFoundError\u001b[0m: [Errno 2] No such file or directory: 'path/to/your/folder'"
     ]
    }
   ],
   "source": [
    "# Watermark\n",
    "input_folder = \"path/to/input/folder\"\n",
    "output_folder = \"path/to/output/folder\"\n",
    "watermark_path = \"path/to/watermark.png\"\n",
    "\n",
    "# Add watermark to images in the input folder\n",
    "add_watermark(input_folder, output_folder, watermark_path)\n",
    "\n",
    "# GIF\n",
    "input_folder = \"path/to/your/folder\"\n",
    "output_file = \"output.gif\"\n",
    "time_per_frame = 100  # Time in milliseconds per frame\n",
    "\n",
    "create_gif(input_folder, output_file, time_per_frame)"
   ]
  }
 ],
 "metadata": {
  "kernelspec": {
   "display_name": "cfdmod-7yEqALRC-py3.10",
   "language": "python",
   "name": "python3"
  },
  "language_info": {
   "codemirror_mode": {
    "name": "ipython",
    "version": 3
   },
   "file_extension": ".py",
   "mimetype": "text/x-python",
   "name": "python",
   "nbconvert_exporter": "python",
   "pygments_lexer": "ipython3",
   "version": "3.10.12"
  }
 },
 "nbformat": 4,
 "nbformat_minor": 2
}
