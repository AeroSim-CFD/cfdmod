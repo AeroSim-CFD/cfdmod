{
 "cells": [
  {
   "cell_type": "markdown",
   "metadata": {},
   "source": [
    "Read Mesh"
   ]
  },
  {
   "cell_type": "code",
   "execution_count": 13,
   "metadata": {},
   "outputs": [],
   "source": [
    "from lnas import LnasFormat\n",
    "import pathlib\n",
    "\n",
    "meshes_path = pathlib.Path(\"./fixtures//lnas\")\n",
    "\n",
    "mesh = LnasFormat.from_file(meshes_path / \"G100.lnas\")\n",
    "negative_mesh = LnasFormat.from_file(meshes_path / \"G100_negative.lnas\")"
   ]
  },
  {
   "cell_type": "markdown",
   "metadata": {},
   "source": [
    "Offset body"
   ]
  },
  {
   "cell_type": "code",
   "execution_count": 14,
   "metadata": {},
   "outputs": [
    {
     "name": "stdout",
     "output_type": "stream",
     "text": [
      "-427.4785 -124.554756\n",
      "-245.32094 159.66632\n",
      "837.60004 854.25\n"
     ]
    }
   ],
   "source": [
    "import numpy as np\n",
    "\n",
    "NORMAL_OFFSET = - 0.125\n",
    "\n",
    "\n",
    "for surface_name in negative_mesh.surfaces.keys():\n",
    "    tri_normals = negative_mesh.geometry_from_surface(surface_name).normals.copy()\n",
    "    tri_verts = negative_mesh.geometry_from_surface(surface_name).triangle_vertices.copy()\n",
    "    tri_verts += np.repeat(tri_normals, 3, axis=0).reshape(-1, 3, 3) * NORMAL_OFFSET\n",
    "\n",
    "    new_verts = tri_verts.copy().reshape(-1, 3)\n",
    "    new_verts = np.unique(new_verts, axis=0)\n",
    "\n",
    "    new_triangles = []\n",
    "\n",
    "    for tri in tri_verts:\n",
    "        tri_index = []\n",
    "        for v in tri:\n",
    "            matches = np.all(new_verts == v, axis=1)\n",
    "            indices = np.where(matches)\n",
    "            tri_index.append(indices[0][0])\n",
    "        tri_index.reverse()\n",
    "        new_triangles.append(np.array(tri_index))\n",
    "\n",
    "    new_triangles = np.array(new_triangles, dtype=np.uint32) + len(mesh.geometry.vertices)\n",
    "\n",
    "    new_tri_indices = np.arange(\n",
    "        mesh.geometry.triangles.shape[0], mesh.geometry.triangles.shape[0] + new_triangles.shape[0]\n",
    "    )\n",
    "    mesh.surfaces[surface_name + \"_inside\"] = new_tri_indices\n",
    "\n",
    "    mesh.geometry.vertices = np.concatenate((mesh.geometry.vertices, new_verts))\n",
    "    mesh.geometry.triangles = np.concatenate((mesh.geometry.triangles, new_triangles))\n",
    "\n",
    "    mesh.geometry._update_triangles_vertices()\n",
    "    mesh.geometry._update_normals()\n",
    "    mesh.geometry._update_areas()\n",
    "    mesh.geometry._update_vertices_normals()\n",
    "\n",
    "\n",
    "filename = meshes_path / \"G100.merged.lnas\"\n",
    "export_path = meshes_path / \"G100.merged.stl\"\n",
    "\n",
    "mesh.to_file(filename)\n",
    "geometry = mesh.geometry_from_surface(\"m_000\")\n",
    "# geometry.export_stl(meshes_path / \"m_000_inside.stl\")\n",
    "print(geometry.vertices[:, 0].min(), geometry.vertices[:, 0].max())\n",
    "print(geometry.vertices[:, 1].min(), geometry.vertices[:, 1].max())\n",
    "print(geometry.vertices[:, 2].min(), geometry.vertices[:, 2].max())\n",
    "# mesh.export_stl(export_path)"
   ]
  },
  {
   "cell_type": "code",
   "execution_count": 15,
   "metadata": {},
   "outputs": [
    {
     "name": "stdout",
     "output_type": "stream",
     "text": [
      "-427.4785 -124.554756\n",
      "-245.32094 159.66632\n",
      "837.60004 854.25\n"
     ]
    }
   ],
   "source": [
    "mesh = LnasFormat.from_file(meshes_path / \"G100.merged.lnas\")\n",
    "\n",
    "# mesh.geometry_from_surface(\"m_000_inside\").export_stl(meshes_path / \"m_000_inside.stl\")\n",
    "geometry = mesh.geometry_from_surface(\"m_000_inside\")\n",
    "print(geometry.vertices[:, 0].min(), geometry.vertices[:, 0].max())\n",
    "print(geometry.vertices[:, 1].min(), geometry.vertices[:, 1].max())\n",
    "print(geometry.vertices[:, 2].min(), geometry.vertices[:, 2].max())"
   ]
  }
 ],
 "metadata": {
  "kernelspec": {
   "display_name": "cfdmod-XMkUSlb0-py3.10",
   "language": "python",
   "name": "python3"
  },
  "language_info": {
   "codemirror_mode": {
    "name": "ipython",
    "version": 3
   },
   "file_extension": ".py",
   "mimetype": "text/x-python",
   "name": "python",
   "nbconvert_exporter": "python",
   "pygments_lexer": "ipython3",
   "version": "3.10.12"
  }
 },
 "nbformat": 4,
 "nbformat_minor": 2
}
