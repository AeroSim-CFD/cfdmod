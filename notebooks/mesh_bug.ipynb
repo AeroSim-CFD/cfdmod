{
 "cells": [
  {
   "cell_type": "markdown",
   "metadata": {},
   "source": [
    "### This is a notebook to track a bug found when merging two LnasFormat\n",
    "\n",
    "The bug apparently happens after loading the merged lnas.\n",
    "\n",
    "Expected behavior:\n",
    "- The number of triangles of the merged lnas must be the sum of both lnas triangles count\n",
    "- The number of triangles of a surface from this mesh must be equal after loading\n",
    "\n",
    "Observed behavior:\n",
    "- Full mesh triangles count remain the same after loading from file, and equals to the sum of both lnas\n",
    "- The number of triangles of a surface from this mesh **doubles** after loading\n",
    "\n",
    "Steps to reproduce:\n",
    "- Combine two lnas\n",
    "- Save to file\n",
    "- Load mesh from file\n",
    "- Triangle count for surface 'm_000_inside' is not the same after loading\n"
   ]
  },
  {
   "cell_type": "code",
   "execution_count": 49,
   "metadata": {},
   "outputs": [
    {
     "data": {
      "text/plain": [
       "((41045, 3), (1840, 3))"
      ]
     },
     "execution_count": 49,
     "metadata": {},
     "output_type": "execute_result"
    }
   ],
   "source": [
    "import numpy as np\n",
    "from lnas import LnasFormat\n",
    "import pathlib\n",
    "\n",
    "meshes_path = pathlib.Path(\"./fixtures/lnas\")\n",
    "\n",
    "mesh = LnasFormat.from_file(meshes_path / \"G100.lnas\")\n",
    "negative_mesh = LnasFormat.from_file(meshes_path / \"G100_negative.lnas\")\n",
    "\n",
    "mesh.geometry.triangles.shape, negative_mesh.geometry.triangles.shape "
   ]
  },
  {
   "cell_type": "markdown",
   "metadata": {},
   "source": [
    "Merge lnas"
   ]
  },
  {
   "cell_type": "code",
   "execution_count": 50,
   "metadata": {},
   "outputs": [
    {
     "name": "stdout",
     "output_type": "stream",
     "text": [
      "Number of triangles before export:  (42885, 3)\n",
      "Number of triangles reference surface:  (312, 3)\n"
     ]
    }
   ],
   "source": [
    "NORMAL_OFFSET = - 0.125\n",
    "\n",
    "for surface_name in negative_mesh.surfaces.keys():\n",
    "    tri_normals = negative_mesh.geometry_from_surface(surface_name).normals.copy()\n",
    "    tri_verts = negative_mesh.geometry_from_surface(surface_name).triangle_vertices.copy()\n",
    "    tri_verts += np.repeat(tri_normals, 3, axis=0).reshape(-1, 3, 3) * NORMAL_OFFSET\n",
    "\n",
    "    new_verts = tri_verts.copy().reshape(-1, 3)\n",
    "    new_verts = np.unique(new_verts, axis=0)\n",
    "\n",
    "    new_triangles = []\n",
    "\n",
    "    for tri in tri_verts:\n",
    "        tri_index = []\n",
    "        for v in tri:\n",
    "            matches = np.all(new_verts == v, axis=1)\n",
    "            indices = np.where(matches)\n",
    "            tri_index.append(indices[0][0])\n",
    "        tri_index.reverse()\n",
    "        new_triangles.append(np.array(tri_index))\n",
    "\n",
    "    new_triangles = np.array(new_triangles, dtype=np.uint32) + len(mesh.geometry.vertices)\n",
    "\n",
    "    new_tri_indices = np.arange(\n",
    "        mesh.geometry.triangles.shape[0], mesh.geometry.triangles.shape[0] + new_triangles.shape[0]\n",
    "    )\n",
    "    mesh.surfaces[surface_name + \"_inside\"] = new_tri_indices\n",
    "\n",
    "    mesh.geometry.vertices = np.concatenate((mesh.geometry.vertices, new_verts))\n",
    "    mesh.geometry.triangles = np.concatenate((mesh.geometry.triangles, new_triangles))\n",
    "\n",
    "    mesh.geometry._update_triangles_vertices()\n",
    "    mesh.geometry._update_normals()\n",
    "    mesh.geometry._update_areas()\n",
    "    mesh.geometry._update_vertices_normals()\n",
    "\n",
    "filename = meshes_path / \"G100.merged.lnas\"\n",
    "export_path = meshes_path / \"G100.merged.stl\"\n",
    "\n",
    "mesh.to_file(filename)\n",
    "geometry = mesh.geometry_from_surface(\"m_000_inside\")\n",
    "\n",
    "print(\"Number of triangles before export: \", mesh.geometry.triangles.shape)\n",
    "print(\"Number of triangles reference surface: \", geometry.triangles.shape)"
   ]
  },
  {
   "cell_type": "code",
   "execution_count": 51,
   "metadata": {},
   "outputs": [
    {
     "name": "stdout",
     "output_type": "stream",
     "text": [
      "Number of triangles after loading:  (42885, 3)\n",
      "Number of triangles reference surface:  (624, 3)\n"
     ]
    }
   ],
   "source": [
    "loaded_mesh = LnasFormat.from_file(meshes_path / \"G100.merged.lnas\")\n",
    "loaded_geometry = loaded_mesh.geometry_from_surface(\"m_000_inside\")\n",
    "\n",
    "print(\"Number of triangles after loading: \", loaded_mesh.geometry.triangles.shape)\n",
    "print(\"Number of triangles reference surface: \", loaded_geometry.triangles.shape)"
   ]
  }
 ],
 "metadata": {
  "kernelspec": {
   "display_name": "cfdmod-XMkUSlb0-py3.10",
   "language": "python",
   "name": "python3"
  },
  "language_info": {
   "codemirror_mode": {
    "name": "ipython",
    "version": 3
   },
   "file_extension": ".py",
   "mimetype": "text/x-python",
   "name": "python",
   "nbconvert_exporter": "python",
   "pygments_lexer": "ipython3",
   "version": "3.10.12"
  }
 },
 "nbformat": 4,
 "nbformat_minor": 2
}
