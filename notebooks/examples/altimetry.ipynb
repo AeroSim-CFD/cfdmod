{
 "cells": [
  {
   "cell_type": "markdown",
   "metadata": {},
   "source": [
    "### Altimetry Use Case example"
   ]
  },
  {
   "cell_type": "code",
   "execution_count": 1,
   "metadata": {},
   "outputs": [
    {
     "data": {
      "text/plain": [
       "<cfdmod.use_cases.altimetry.section_vertices.SectionVertices at 0x214db75f810>"
      ]
     },
     "execution_count": 1,
     "metadata": {},
     "output_type": "execute_result"
    }
   ],
   "source": [
    "from cfdmod.use_cases.altimetry.altimetry_section import AltimetrySection\n",
    "from cfdmod.use_cases.altimetry import plot_surface\n",
    "import trimesh\n",
    "import numpy as np\n",
    "import pathlib\n",
    "\n",
    "surface_mesh: trimesh.Trimesh = trimesh.load_mesh(\"C:/Users/55419/Documents/GitHub/cfdmod/fixtures/altimetry/project_example/case_example/terrain.stl\")\n",
    "plane_normal = np.array([1.0,0.0,0.0])\n",
    "plane_origin = np.array([0.0,0.0,820.0])\n",
    "\n",
    "altimetry_section = AltimetrySection(\"example\", plane_origin, plane_normal)\n",
    "data = {}\n",
    "data[\"section A\"] = altimetry_section.slice_surface(surface_mesh)\n",
    "plot_surface(surface_mesh, data, pathlib.Path(\"C:/Users/55419/Documents/GitHub/cfdmod/fixtures/altimetry/project_example/case_example\"))"
   ]
  }
 ],
 "metadata": {
  "kernelspec": {
   "display_name": "cfdmod-6zl7i90Q-py3.11",
   "language": "python",
   "name": "python3"
  },
  "language_info": {
   "codemirror_mode": {
    "name": "ipython",
    "version": 3
   },
   "file_extension": ".py",
   "mimetype": "text/x-python",
   "name": "python",
   "nbconvert_exporter": "python",
   "pygments_lexer": "ipython3",
   "version": "3.11.4"
  },
  "orig_nbformat": 4
 },
 "nbformat": 4,
 "nbformat_minor": 2
}
