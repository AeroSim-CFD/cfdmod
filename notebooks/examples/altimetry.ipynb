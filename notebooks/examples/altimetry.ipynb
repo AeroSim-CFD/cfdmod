{
 "cells": [
  {
   "cell_type": "markdown",
   "metadata": {},
   "source": [
    "### Altimetry Use Case example"
   ]
  },
  {
   "cell_type": "markdown",
   "metadata": {},
   "source": [
    "##### Standard slicing from shed coordinates"
   ]
  },
  {
   "cell_type": "code",
   "execution_count": 5,
   "metadata": {},
   "outputs": [
    {
     "ename": "ValueError",
     "evalue": "string is not a file: A:/Aerosim/Repositories/cfdmod/fixtures/altimetry/project_example/case_example/terrain.stl",
     "output_type": "error",
     "traceback": [
      "\u001b[1;31m---------------------------------------------------------------------------\u001b[0m",
      "\u001b[1;31mValueError\u001b[0m                                Traceback (most recent call last)",
      "\u001b[1;32ma:\\Aerosim\\Repositories\\cfdmod\\notebooks\\examples\\altimetry.ipynb Cell 3\u001b[0m line \u001b[0;36m7\n\u001b[0;32m      <a href='vscode-notebook-cell:/a%3A/Aerosim/Repositories/cfdmod/notebooks/examples/altimetry.ipynb#W1sZmlsZQ%3D%3D?line=3'>4</a>\u001b[0m \u001b[39mimport\u001b[39;00m \u001b[39mpathlib\u001b[39;00m\n\u001b[0;32m      <a href='vscode-notebook-cell:/a%3A/Aerosim/Repositories/cfdmod/notebooks/examples/altimetry.ipynb#W1sZmlsZQ%3D%3D?line=5'>6</a>\u001b[0m output_path \u001b[39m=\u001b[39m pathlib\u001b[39m.\u001b[39mPath(\u001b[39m\"\u001b[39m\u001b[39mA:/Aerosim/Repositories/cfdmod/fixtures/altimetry/project_example/case_example\u001b[39m\u001b[39m\"\u001b[39m)\n\u001b[1;32m----> <a href='vscode-notebook-cell:/a%3A/Aerosim/Repositories/cfdmod/notebooks/examples/altimetry.ipynb#W1sZmlsZQ%3D%3D?line=6'>7</a>\u001b[0m surface_mesh: trimesh\u001b[39m.\u001b[39mTrimesh \u001b[39m=\u001b[39m trimesh\u001b[39m.\u001b[39;49mload_mesh(\u001b[39m\"\u001b[39;49m\u001b[39mA:/Aerosim/Repositories/cfdmod/fixtures/altimetry/project_example/case_example/terrain.stl\u001b[39;49m\u001b[39m\"\u001b[39;49m)\n\u001b[0;32m      <a href='vscode-notebook-cell:/a%3A/Aerosim/Repositories/cfdmod/notebooks/examples/altimetry.ipynb#W1sZmlsZQ%3D%3D?line=8'>9</a>\u001b[0m shed_start \u001b[39m=\u001b[39m np\u001b[39m.\u001b[39marray([\u001b[39m-\u001b[39m\u001b[39m50\u001b[39m,\u001b[39m-\u001b[39m\u001b[39m50\u001b[39m,\u001b[39m820\u001b[39m])\n\u001b[0;32m     <a href='vscode-notebook-cell:/a%3A/Aerosim/Repositories/cfdmod/notebooks/examples/altimetry.ipynb#W1sZmlsZQ%3D%3D?line=9'>10</a>\u001b[0m shed_end \u001b[39m=\u001b[39m np\u001b[39m.\u001b[39marray([\u001b[39m50\u001b[39m,\u001b[39m50\u001b[39m,\u001b[39m820\u001b[39m])\n",
      "File \u001b[1;32mc:\\Users\\Pablo\\AppData\\Local\\pypoetry\\Cache\\virtualenvs\\cfdmod-XMkUSlb0-py3.10\\lib\\site-packages\\trimesh\\exchange\\load.py:206\u001b[0m, in \u001b[0;36mload_mesh\u001b[1;34m(file_obj, file_type, resolver, **kwargs)\u001b[0m\n\u001b[0;32m    182\u001b[0m \u001b[39m\u001b[39m\u001b[39m\"\"\"\u001b[39;00m\n\u001b[0;32m    183\u001b[0m \u001b[39mLoad a mesh file into a Trimesh object\u001b[39;00m\n\u001b[0;32m    184\u001b[0m \n\u001b[1;32m   (...)\u001b[0m\n\u001b[0;32m    197\u001b[0m \u001b[39m  Loaded geometry data\u001b[39;00m\n\u001b[0;32m    198\u001b[0m \u001b[39m\"\"\"\u001b[39;00m\n\u001b[0;32m    200\u001b[0m \u001b[39m# parse the file arguments into clean loadable form\u001b[39;00m\n\u001b[0;32m    201\u001b[0m (file_obj,  \u001b[39m# file- like object\u001b[39;00m\n\u001b[0;32m    202\u001b[0m  file_type,  \u001b[39m# str, what kind of file\u001b[39;00m\n\u001b[0;32m    203\u001b[0m  metadata,  \u001b[39m# dict, any metadata from file name\u001b[39;00m\n\u001b[0;32m    204\u001b[0m  opened,    \u001b[39m# bool, did we open the file ourselves\u001b[39;00m\n\u001b[0;32m    205\u001b[0m  resolver   \u001b[39m# object to load referenced resources\u001b[39;00m\n\u001b[1;32m--> 206\u001b[0m  ) \u001b[39m=\u001b[39m parse_file_args(file_obj\u001b[39m=\u001b[39;49mfile_obj,\n\u001b[0;32m    207\u001b[0m                      file_type\u001b[39m=\u001b[39;49mfile_type,\n\u001b[0;32m    208\u001b[0m                      resolver\u001b[39m=\u001b[39;49mresolver)\n\u001b[0;32m    210\u001b[0m \u001b[39mtry\u001b[39;00m:\n\u001b[0;32m    211\u001b[0m     \u001b[39m# make sure we keep passed kwargs to loader\u001b[39;00m\n\u001b[0;32m    212\u001b[0m     \u001b[39m# but also make sure loader keys override passed keys\u001b[39;00m\n\u001b[0;32m    213\u001b[0m     loader \u001b[39m=\u001b[39m mesh_loaders[file_type]\n",
      "File \u001b[1;32mc:\\Users\\Pablo\\AppData\\Local\\pypoetry\\Cache\\virtualenvs\\cfdmod-XMkUSlb0-py3.10\\lib\\site-packages\\trimesh\\exchange\\load.py:630\u001b[0m, in \u001b[0;36mparse_file_args\u001b[1;34m(file_obj, file_type, resolver, **kwargs)\u001b[0m\n\u001b[0;32m    627\u001b[0m             \u001b[39mraise\u001b[39;00m \u001b[39mValueError\u001b[39;00m(\n\u001b[0;32m    628\u001b[0m                 \u001b[39m'\u001b[39m\u001b[39muse load_remote to load URL: \u001b[39m\u001b[39m{}\u001b[39;00m\u001b[39m'\u001b[39m\u001b[39m.\u001b[39mformat(file_obj))\n\u001b[0;32m    629\u001b[0m         \u001b[39melif\u001b[39;00m file_type \u001b[39mis\u001b[39;00m \u001b[39mNone\u001b[39;00m:\n\u001b[1;32m--> 630\u001b[0m             \u001b[39mraise\u001b[39;00m \u001b[39mValueError\u001b[39;00m(\u001b[39m'\u001b[39m\u001b[39mstring is not a file: \u001b[39m\u001b[39m{}\u001b[39;00m\u001b[39m'\u001b[39m\u001b[39m.\u001b[39mformat(file_obj))\n\u001b[0;32m    632\u001b[0m \u001b[39mif\u001b[39;00m file_type \u001b[39mis\u001b[39;00m \u001b[39mNone\u001b[39;00m:\n\u001b[0;32m    633\u001b[0m     file_type \u001b[39m=\u001b[39m file_obj\u001b[39m.\u001b[39m\u001b[39m__class__\u001b[39m\u001b[39m.\u001b[39m\u001b[39m__name__\u001b[39m\n",
      "\u001b[1;31mValueError\u001b[0m: string is not a file: A:/Aerosim/Repositories/cfdmod/fixtures/altimetry/project_example/case_example/terrain.stl"
     ]
    }
   ],
   "source": [
    "from cfdmod.use_cases.altimetry import AltimetrySection, AltimetryShed, plot_surface, plot_profiles, plot_altimetry_profiles\n",
    "import trimesh\n",
    "import numpy as np\n",
    "import pathlib\n",
    "\n",
    "output_path = pathlib.Path(\"A:/Aerosim/Repositories/cfdmod/fixtures/altimetry/project_example/case_example\")\n",
    "surface_mesh: trimesh.Trimesh = trimesh.load_mesh(\"A:/Aerosim/Repositories/cfdmod/fixtures/altimetry/project_example/case_example/terrain.stl\")\n",
    "\n",
    "shed_start = np.array([-50,-50,820])\n",
    "shed_end = np.array([50,50,820])\n",
    "\n",
    "shed = AltimetryShed(shed_start, shed_end)\n",
    "\n",
    "altimetry_section = AltimetrySection.from_points(\"example\", shed_start, shed_end)\n",
    "altimetry_section.slice_surface(surface_mesh)\n",
    "altimetry_section.include_shed(shed)\n",
    "\n",
    "plot_surface(surface_mesh, [altimetry_section], output_path)\n",
    "plot_profiles([altimetry_section], output_path)\n",
    "plot_altimetry_profiles(altimetry_section, output_path)"
   ]
  },
  {
   "cell_type": "markdown",
   "metadata": {},
   "source": [
    "##### Generic Slicing from plane description"
   ]
  },
  {
   "cell_type": "code",
   "execution_count": 2,
   "metadata": {},
   "outputs": [],
   "source": [
    "from cfdmod.use_cases.altimetry import plot_surface, plot_profiles, AltimetrySection\n",
    "import trimesh\n",
    "import numpy as np\n",
    "import pathlib\n",
    "\n",
    "output_path = pathlib.Path(\"A:/Aerosim/Repositories/cfdmod/fixtures/altimetry/project_example/case_example\")\n",
    "surface_mesh: trimesh.Trimesh = trimesh.load_mesh(\"A:/Aerosim/Repositories/cfdmod/fixtures/altimetry/project_example/case_example/terrain.stl\")\n",
    "\n",
    "plane_normal = np.array([1,0,0])\n",
    "plane_origin = np.array([0,0,820])\n",
    "\n",
    "altimetry_section = AltimetrySection(\"example\", plane_origin, plane_normal)\n",
    "altimetry_section.slice_surface(surface_mesh)\n",
    "\n",
    "plot_surface(surface_mesh, [altimetry_section], output_path)\n",
    "plot_profiles([altimetry_section], output_path)"
   ]
  }
 ],
 "metadata": {
  "kernelspec": {
   "display_name": "cfdmod-6zl7i90Q-py3.11",
   "language": "python",
   "name": "python3"
  },
  "language_info": {
   "codemirror_mode": {
    "name": "ipython",
    "version": 3
   },
   "file_extension": ".py",
   "mimetype": "text/x-python",
   "name": "python",
   "nbconvert_exporter": "python",
   "pygments_lexer": "ipython3",
   "version": "3.10.11"
  },
  "orig_nbformat": 4
 },
 "nbformat": 4,
 "nbformat_minor": 2
}
