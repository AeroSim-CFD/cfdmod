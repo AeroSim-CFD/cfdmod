{
 "cells": [
  {
   "cell_type": "markdown",
   "metadata": {},
   "source": [
    "### Altimetry Use Case example"
   ]
  },
  {
   "cell_type": "markdown",
   "metadata": {},
   "source": [
    "##### Setup altimetry from probe data"
   ]
  },
  {
   "cell_type": "code",
   "execution_count": 2,
   "metadata": {},
   "outputs": [],
   "source": [
    "from cfdmod.use_cases.altimetry import *\n",
    "import pathlib\n",
    "import trimesh\n",
    "from cfdmod.utils import savefig_to_file\n",
    "\n",
    "csv_path = pathlib.Path(\"C:/Users/55419/Documents/GitHub/cfdmod/fixtures/use_cases/altimetry/project_example/case_example/probes.csv\") \n",
    "output_path = pathlib.Path(\"C:/Users/55419/Documents/GitHub/cfdmod/fixtures/use_cases/altimetry/project_example/case_example\")\n",
    "surface_mesh: trimesh.Trimesh = trimesh.load_mesh(\"C:/Users/55419/Documents/GitHub/cfdmod/fixtures/use_cases/altimetry/project_example/case_example/terrain.stl\")\n",
    "\n",
    "probes = AltimetryProbe.from_csv(csv_path)\n",
    "sections = set([p.section_label for p in probes])\n",
    "altimetry_list: list[AltimetrySection] = [] # For debug plotting purposes\n",
    "\n",
    "for sec_label in sections:\n",
    "    section_probes = [p for p in probes if p.section_label == sec_label]\n",
    "    sheds_in_section = set([p.building_label for p in section_probes])\n",
    "    shed_list: list[ShedProfile] = []\n",
    "    \n",
    "    for shed_label in sheds_in_section:\n",
    "        building_probes = sorted(\n",
    "            [p for p in section_probes if p.building_label == shed_label],\n",
    "            key=lambda x: (x.coordinate[0], x.coordinate[1]),\n",
    "        )\n",
    "        shed = Shed(start_coordinate=building_probes[0].coordinate, end_coordinate=building_probes[1].coordinate)\n",
    "        shed_list.append(shed)\n",
    " \n",
    "    altimetry_section = AltimetrySection.from_points(sec_label, shed_list[0].start_coordinate, shed_list[0].end_coordinate)\n",
    "    altimetry_section.slice_surface(surface_mesh)\n",
    "    [altimetry_section.include_shed(s) for s in shed_list]\n",
    "    \n",
    "    filename = output_path / f\"section-{altimetry_section.label}.png\"\n",
    "    fig, ax = plot_altimetry_profiles(altimetry_section)\n",
    "    savefig_to_file(fig, filename)\n",
    "\n",
    "    altimetry_list.append(altimetry_section)\n",
    "    \n",
    "## DEBUG PLOTS\n",
    "# Save figure to output files\n",
    "filename = output_path / \"debug\" / \"surface.png\"\n",
    "fig, ax = plot_surface(surface_mesh, altimetry_list)\n",
    "savefig_to_file(fig, filename)\n",
    "\n",
    "filename = output_path / \"debug\" / \"profiles.png\"\n",
    "fig, ax = plot_profiles(altimetry_list)\n",
    "savefig_to_file(fig, filename)"
   ]
  },
  {
   "cell_type": "markdown",
   "metadata": {},
   "source": [
    "##### Standard slicing from shed coordinates"
   ]
  },
  {
   "cell_type": "code",
   "execution_count": 1,
   "metadata": {},
   "outputs": [
    {
     "ename": "NameError",
     "evalue": "name 'savefig_to_file' is not defined",
     "output_type": "error",
     "traceback": [
      "\u001b[1;31m---------------------------------------------------------------------------\u001b[0m",
      "\u001b[1;31mNameError\u001b[0m                                 Traceback (most recent call last)",
      "\u001b[1;32mc:\\Users\\55419\\Documents\\GitHub\\cfdmod\\notebooks\\examples\\altimetry.ipynb Cell 5\u001b[0m line \u001b[0;36m2\n\u001b[0;32m     <a href='vscode-notebook-cell:/c%3A/Users/55419/Documents/GitHub/cfdmod/notebooks/examples/altimetry.ipynb#W4sZmlsZQ%3D%3D?line=17'>18</a>\u001b[0m filename \u001b[39m=\u001b[39m output_path \u001b[39m/\u001b[39m \u001b[39m\"\u001b[39m\u001b[39mdebug\u001b[39m\u001b[39m\"\u001b[39m \u001b[39m/\u001b[39m \u001b[39m\"\u001b[39m\u001b[39msurface.png\u001b[39m\u001b[39m\"\u001b[39m\n\u001b[0;32m     <a href='vscode-notebook-cell:/c%3A/Users/55419/Documents/GitHub/cfdmod/notebooks/examples/altimetry.ipynb#W4sZmlsZQ%3D%3D?line=18'>19</a>\u001b[0m fig, ax \u001b[39m=\u001b[39m plot_surface(surface_mesh, [altimetry_section])\n\u001b[1;32m---> <a href='vscode-notebook-cell:/c%3A/Users/55419/Documents/GitHub/cfdmod/notebooks/examples/altimetry.ipynb#W4sZmlsZQ%3D%3D?line=19'>20</a>\u001b[0m savefig_to_file(fig, filename)\n\u001b[0;32m     <a href='vscode-notebook-cell:/c%3A/Users/55419/Documents/GitHub/cfdmod/notebooks/examples/altimetry.ipynb#W4sZmlsZQ%3D%3D?line=21'>22</a>\u001b[0m filename \u001b[39m=\u001b[39m output_path \u001b[39m/\u001b[39m \u001b[39m\"\u001b[39m\u001b[39mdebug\u001b[39m\u001b[39m\"\u001b[39m \u001b[39m/\u001b[39m \u001b[39m\"\u001b[39m\u001b[39mprofiles.png\u001b[39m\u001b[39m\"\u001b[39m\n\u001b[0;32m     <a href='vscode-notebook-cell:/c%3A/Users/55419/Documents/GitHub/cfdmod/notebooks/examples/altimetry.ipynb#W4sZmlsZQ%3D%3D?line=22'>23</a>\u001b[0m fig, ax \u001b[39m=\u001b[39m plot_profiles([altimetry_section])\n",
      "\u001b[1;31mNameError\u001b[0m: name 'savefig_to_file' is not defined"
     ]
    }
   ],
   "source": [
    "from cfdmod.use_cases.altimetry import AltimetrySection, Shed, plot_surface, plot_profiles, plot_altimetry_profiles\n",
    "import trimesh\n",
    "import numpy as np\n",
    "import pathlib\n",
    "\n",
    "output_path = pathlib.Path(\"C:/Users/55419/Documents/GitHub/cfdmod/fixtures/use_cases/altimetry/project_example/case_example\")\n",
    "surface_mesh: trimesh.Trimesh = trimesh.load_mesh(\"C:/Users/55419/Documents/GitHub/cfdmod/fixtures/use_cases/altimetry/project_example/case_example/terrain.stl\")\n",
    "\n",
    "shed_start = np.array([-50,-50,820], dtype=np.float32)\n",
    "shed_end = np.array([50,50,820], dtype=np.float32)\n",
    "\n",
    "shed = Shed(start_coordinate=shed_start, end_coordinate=shed_end)\n",
    "\n",
    "altimetry_section = AltimetrySection.from_points(\"example\", shed_start, shed_end)\n",
    "altimetry_section.slice_surface(surface_mesh)\n",
    "altimetry_section.include_shed(shed)\n",
    "\n",
    "filename = output_path / \"debug\" / \"surface.png\"\n",
    "fig, ax = plot_surface(surface_mesh, [altimetry_section])\n",
    "savefig_to_file(fig, filename)\n",
    "\n",
    "filename = output_path / \"debug\" / \"profiles.png\"\n",
    "fig, ax = plot_profiles([altimetry_section])\n",
    "savefig_to_file(fig, filename)\n",
    "\n",
    "filename = output_path / f\"section-{altimetry_section.label}.png\"\n",
    "fig, ax = plot_altimetry_profiles(altimetry_section)\n",
    "savefig_to_file(fig, filename)"
   ]
  },
  {
   "cell_type": "markdown",
   "metadata": {},
   "source": [
    "##### Generic Slicing from plane description"
   ]
  },
  {
   "cell_type": "code",
   "execution_count": 5,
   "metadata": {},
   "outputs": [],
   "source": [
    "from cfdmod.use_cases.altimetry import plot_surface, plot_profiles, AltimetrySection\n",
    "import trimesh\n",
    "import numpy as np\n",
    "import pathlib\n",
    "\n",
    "output_path = pathlib.Path(\"C:/Users/55419/Documents/GitHub/cfdmod/fixtures/use_cases/altimetry/project_example/case_example\")\n",
    "surface_mesh: trimesh.Trimesh = trimesh.load_mesh(\"C:/Users/55419/Documents/GitHub/cfdmod/fixtures/use_cases/altimetry/project_example/case_example/terrain.stl\")\n",
    "\n",
    "plane_normal = np.array([1,0,0])\n",
    "plane_origin = np.array([0,0,820])\n",
    "\n",
    "altimetry_section = AltimetrySection(\"example\", plane_origin, plane_normal)\n",
    "altimetry_section.slice_surface(surface_mesh)\n",
    "\n",
    "filename = output_path / \"debug\" / \"surface.png\"\n",
    "fig, ax = plot_surface(surface_mesh, [altimetry_section])\n",
    "savefig_to_file(fig, filename)\n",
    "\n",
    "filename = output_path / \"debug\" / \"profiles.png\"\n",
    "fig, ax = plot_profiles([altimetry_section])\n",
    "savefig_to_file(fig, filename)"
   ]
  }
 ],
 "metadata": {
  "kernelspec": {
   "display_name": "cfdmod-6zl7i90Q-py3.11",
   "language": "python",
   "name": "python3"
  },
  "language_info": {
   "codemirror_mode": {
    "name": "ipython",
    "version": 3
   },
   "file_extension": ".py",
   "mimetype": "text/x-python",
   "name": "python",
   "nbconvert_exporter": "python",
   "pygments_lexer": "ipython3",
   "version": "3.11.4"
  },
  "orig_nbformat": 4
 },
 "nbformat": 4,
 "nbformat_minor": 2
}
