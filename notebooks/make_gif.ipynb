{
 "cells": [
  {
   "cell_type": "markdown",
   "metadata": {},
   "source": [
    "# Define variables"
   ]
  },
  {
   "cell_type": "code",
   "execution_count": 61,
   "metadata": {},
   "outputs": [],
   "source": [
    "# import pathlib\n",
    "\n",
    "# image_path_dir = pathlib.Path(\"/mnt/disk01/prd-eng/consulting/036-FGEngenhariaPostoNO/animacoes/2d/\")\n",
    "# watermark_path = pathlib.Path(\"/mnt/disk01/prd-eng/consulting/036-FGEngenhariaPostoNO/animacoes/Logo final.png\")\n",
    "# output_path_dir = pathlib.Path(\"/mnt/disk01/prd-eng/consulting/036-FGEngenhariaPostoNO/animacoes/2d_watermark/\")\n",
    "\n",
    "# watermark_position = (30,30)\n",
    "# watermark_scale = .25\n",
    "\n",
    "# crop = (0, 150,0 ,37)"
   ]
  },
  {
   "cell_type": "code",
   "execution_count": 62,
   "metadata": {},
   "outputs": [],
   "source": [
    "import pathlib\n",
    "import os\n",
    "import subprocess\n",
    "\n",
    "watermark_path = pathlib.Path(\"/mnt/disk01/prd-eng/consulting/036-FGEngenhariaPostoNO/animacoes/Logo final.png\")\n",
    "root_path_dir = pathlib.Path(\"/mnt/disk01/prd-eng/consulting/036-FGEngenhariaPostoNO/animacoes/\")\n",
    "images_case = \"3d\"\n",
    "\n",
    "watermark_position = (1200,725)\n",
    "watermark_scale = .25\n",
    "\n",
    "crop_margins = (0, 0,0,0)\n",
    "\n",
    "gif_size_list = [600,800,1200,1800]\n",
    "speed_multiplier_list = [0.5,0.75,1,1.25]\n",
    "\n",
    "watermark_positioning_phase = False"
   ]
  },
  {
   "cell_type": "markdown",
   "metadata": {},
   "source": [
    "# Adds watermarks"
   ]
  },
  {
   "cell_type": "code",
   "execution_count": 63,
   "metadata": {},
   "outputs": [],
   "source": [
    "from PIL import Image\n",
    "import pathlib\n",
    "\n",
    "def add_watermark_to_image(\n",
    "    image: Image, watermark: Image, watermark_position: tuple, \n",
    ") -> Image:\n",
    "    image.paste(watermark, watermark_position, watermark)\n",
    "    return image\n",
    "\n",
    "def rescale_image(image: Image, image_scale: float) -> Image:\n",
    "    new_width = int(image.width*watermark_scale)\n",
    "    new_height = int(image.height*watermark_scale)\n",
    "    image = image.resize((new_width, new_height), Image.Resampling.LANCZOS)\n",
    "    return image\n",
    "\n",
    "def crop_image_margins(\n",
    "    image: pathlib.Path, crop_margins: tuple\n",
    ") -> Image:\n",
    "    w, h =  image.width, image.height\n",
    "    image = image.crop((crop_margins[0], crop_margins[1], w-crop_margins[2], h-crop_margins[3]))\n",
    "    return image"
   ]
  },
  {
   "cell_type": "code",
   "execution_count": null,
   "metadata": {},
   "outputs": [],
   "source": [
    "def process_image(image: Image, watermark: Image, watermark_position: tuple, crop_margins: tuple) -> Image:\n",
    "    image = crop_image_margins(image=image, crop_margins=crop_margins)\n",
    "    image = add_watermark_to_image(image=image, watermark=watermark, watermark_position=watermark_position)\n",
    "    return image"
   ]
  },
  {
   "cell_type": "code",
   "execution_count": 64,
   "metadata": {},
   "outputs": [],
   "source": [
    "def generate_gif_from_images(images_dir: pathlib.Path, gif_dir: pathlib.Path, image_size: int, speed_multiplier: float):\n",
    "    gif_file = gif_dir/f\"{images_dir.stem}_size{image_size}_speed{speed_multiplier}.gif\"\n",
    "    gif_file.unlink(missing_ok=True)\n",
    "    command = f'ffmpeg -pattern_type glob -i \"{images_dir}/*.png\" \\\n",
    "        -filter_complex \"setpts={1/speed_multiplier}*PTS,scale={image_size}:-1,split=2[s0][s1];\\\n",
    "            [s0]palettegen[p];\\\n",
    "            [s1][p]paletteuse=dither=bayer:bayer_scale=5\" \\\n",
    "            {gif_file}'\n",
    "    try:\n",
    "        print(os.getcwd())\n",
    "        subprocess.run(command, shell=True, check=True)\n",
    "    except subprocess.CalledProcessError as e:\n",
    "        print(f\"Error: {e}\")"
   ]
  },
  {
   "cell_type": "code",
   "execution_count": 65,
   "metadata": {},
   "outputs": [],
   "source": [
    "def convert_gif_to_mp4(gif_file_path: pathlib.Path, mp4_file_path:pathlib.Path):\n",
    "    command = f'ffmpeg -i {gif_file_path} -movflags faststart \\\n",
    "        -pix_fmt yuv420p -vf \"scale=trunc(iw/2)*2:trunc(ih/2)*2\" \\\n",
    "        {mp4_file_path}'\n",
    "    try:\n",
    "        print(os.getcwd())\n",
    "        subprocess.run(command, shell=True, check=True)\n",
    "    except subprocess.CalledProcessError as e:\n",
    "        print(f\"Error: {e}\")"
   ]
  },
  {
   "cell_type": "code",
   "execution_count": null,
   "metadata": {},
   "outputs": [],
   "source": [
    "watermark = Image.open(watermark_path)\n",
    "watermark = rescale_image(image=watermark, image_scale=watermark_scale)\n",
    "\n",
    "images_path_dir = root_path_dir/images_case\n",
    "images_with_watermark_path_dir = root_path_dir/f\"{images_case}_watermarked\"\n",
    "images_with_watermark_path_dir.mkdir(parents=True, exist_ok=True)\n",
    "\n",
    "if watermark_positioning_phase:\n",
    "    sample_file = Image.open(next(images_path_dir.iterdir()))\n",
    "    process_image(image=sample_file, watermark=watermark, watermark_position=watermark_position, crop_margins=crop_margins)\n",
    "else:\n",
    "    # crop and add watermark\n",
    "    for item in images_path_dir.iterdir():\n",
    "        if item.is_dir():\n",
    "            continue\n",
    "        else:\n",
    "            try:\n",
    "                print(item.name)\n",
    "                with Image.open(item) as img:\n",
    "                    process_image(image=img, watermark=watermark, watermark_position=watermark_position, crop_margins=crop_margins)\n",
    "                    img.save(images_with_watermark_path_dir/item.name)\n",
    "            except IOError:\n",
    "                continue\n",
    "    \n",
    "    # turn into gif\n",
    "    gif_dir_path = root_path_dir/f\"{images_case}_gifs\"\n",
    "    gif_dir_path.mkdir(parents=True, exist_ok=True)\n",
    "    for image_size in gif_size_list:\n",
    "        for speed_multiplier in speed_multiplier_list:\n",
    "            generate_gif_from_images(images_dir=images_with_watermark_path_dir, \n",
    "                                     gif_dir=gif_dir_path, \n",
    "                                     image_size=image_size, \n",
    "                                     speed_multiplier=speed_multiplier\n",
    "                                    )\n",
    "\n",
    "    # turn gif into mp4\n",
    "    for item in gif_dir_path.iterdir():\n",
    "        if item.is_dir():\n",
    "            continue\n",
    "        elif item.suffix == \".gif\":\n",
    "            mp4_file=item.parent/(item.stem+\".mp4\")\n",
    "            mp4_file.unlink(missing_ok=True)\n",
    "            convert_gif_to_mp4(gif_file_path=item, mp4_file_path=mp4_file)"
   ]
  }
 ],
 "metadata": {
  "kernelspec": {
   "display_name": "cfdmod-teSDwFR1-py3.10",
   "language": "python",
   "name": "python3"
  },
  "language_info": {
   "codemirror_mode": {
    "name": "ipython",
    "version": 3
   },
   "file_extension": ".py",
   "mimetype": "text/x-python",
   "name": "python",
   "nbconvert_exporter": "python",
   "pygments_lexer": "ipython3",
   "version": "3.10.12"
  }
 },
 "nbformat": 4,
 "nbformat_minor": 2
}
