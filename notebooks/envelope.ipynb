{
 "cells": [
  {
   "cell_type": "code",
   "execution_count": 2,
   "id": "b36d54df",
   "metadata": {},
   "outputs": [],
   "source": [
    "from cfdmod.api.vtk.write_vtk import read_polydata, write_polydata, envelope_vtks, drop_all_scalars_except\n",
    "import pathlib\n",
    "\n",
    "\n",
    "base_path = pathlib.Path(\"/mnt/disk01/prd-eng/consulting/048_TelmecCajamar/deliverables/new_diagrams\")\n",
    "directions = [f\"{i:03d}\" for i in range(0, 30, 360)]\n",
    "filenames = [base_path / f\"{d}.vtp\" for d in directions]\n",
    "polydatas = [read_polydata(p) for p in filenames]\n",
    "\n",
    "envelope_min = envelope_vtks(polydatas, \"min\", \"min\")\n",
    "drop_all_scalars_except(envelope_min, \"min\")\n",
    "envelope_max = envelope_vtks(polydatas, \"max\", \"max\")\n",
    "drop_all_scalars_except(envelope_max, \"max\")\n",
    "\n",
    "write_polydata(base_path / \"envelope_max.vtp\",envelope_max)\n",
    "write_polydata(base_path / \"envelope_min.vtp\",envelope_min)\n"
   ]
  }
 ],
 "metadata": {
  "kernelspec": {
   "display_name": ".venv",
   "language": "python",
   "name": "python3"
  },
  "language_info": {
   "codemirror_mode": {
    "name": "ipython",
    "version": 3
   },
   "file_extension": ".py",
   "mimetype": "text/x-python",
   "name": "python",
   "nbconvert_exporter": "python",
   "pygments_lexer": "ipython3",
   "version": "3.11.9"
  }
 },
 "nbformat": 4,
 "nbformat_minor": 5
}
