{
 "cells": [
  {
   "cell_type": "code",
   "execution_count": null,
   "id": "b36d54df",
   "metadata": {},
   "outputs": [],
   "source": [
    "import vtk\n",
    "from cfdmod.api.vtk.write_vtk import read_polydata, write_polydata\n",
    "import vtk\n",
    "\n",
    "import pathlib\n",
    "from typing import Literal\n",
    "\n",
    "def envelope_vtks(polydatas: list[vtk.vtkPolyData], scalar: str, stats:Literal[\"min\", \"max\"]) -> vtk.vtkPolyData:\n",
    "    if stats not in {\"min\", \"max\"}: \n",
    "        raise ValueError(\"stats must be 'min' or 'max'\")\n",
    "    if(len(polydatas) == 0):\n",
    "        raise ValueError(\"Empty input list\")\n",
    "\n",
    "    # Start with a deep copy of the first polydata\n",
    "    envelope_polydata = vtk.vtkPolyData()\n",
    "    envelope_polydata.DeepCopy(polydatas[0])\n",
    "\n",
    "    # Extract the scalar array from the envelope copy (this will be updated)\n",
    "    envelope_array = envelope_polydata.GetCellData().GetArray(scalar)\n",
    "    n_cells = envelope_polydata.GetNumberOfCells()\n",
    "\n",
    "    # Loop through all other polydata\n",
    "    for polydata in polydatas[1:]:\n",
    "        other_array = polydata.GetCellData().GetArray(scalar)\n",
    "        for i in range(n_cells):\n",
    "            current_val = envelope_array.GetValue(i)\n",
    "            new_val = other_array.GetValue(i)\n",
    "            if stats == \"max\":\n",
    "                envelope_array.SetValue(i, max(current_val, new_val))\n",
    "            elif stats == \"min\":\n",
    "                envelope_array.SetValue(i, min(current_val, new_val))\n",
    "\n",
    "    envelope_array.Modified()\n",
    "    return envelope_polydata\n",
    "\n",
    "base_path = pathlib.Path(\"/mnt/disk01/prd-eng/consulting/048_TelmecCajamar/deliverables/new_diagrams\")\n",
    "directions = [f\"{i:03d}\" for i in range(0, 30, 360)]\n",
    "filenames = [base_path / f\"{d}.vtp\" for d in directions]\n",
    "polydatas = [read_polydata(p) for p in filenames]\n",
    "\n",
    "envelope_min = envelope_vtks(polydatas, \"min\", \"min\")\n",
    "envelope_max = envelope_vtks(polydatas, \"max\", \"max\")\n",
    "\n",
    "write_polydata(base_path / \"envelope_max.vtp\",envelope_max)\n",
    "write_polydata(base_path / \"envelope_min.vtp\",envelope_min)\n"
   ]
  }
 ],
 "metadata": {
  "language_info": {
   "name": "python"
  }
 },
 "nbformat": 4,
 "nbformat_minor": 5
}
