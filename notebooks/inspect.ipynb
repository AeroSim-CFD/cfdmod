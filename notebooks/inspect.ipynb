{
 "cells": [
  {
   "cell_type": "code",
   "execution_count": 6,
   "metadata": {},
   "outputs": [
    {
     "data": {
      "text/plain": [
       "(array([246.96504 ,  53.936188, 829.7858  ], dtype=float32),\n",
       " array([[245.51816 ,  52.09891 , 829.8071  ],\n",
       "        [249.9209  ,  54.049076, 829.78485 ],\n",
       "        [245.45605 ,  55.660572, 829.7654  ]], dtype=float32))"
      ]
     },
     "execution_count": 6,
     "metadata": {},
     "output_type": "execute_result"
    }
   ],
   "source": [
    "from lnas import LnasFormat\n",
    "import pathlib\n",
    "import numpy as np\n",
    "\n",
    "mesh_path = pathlib.Path(\"/home/ubuntu/Documentos/Repositories/insight/Docker/local/volume/PrologisCajamar4_prod/G300/mesh/G300.merged.lnas\")\n",
    "mesh = LnasFormat.from_file(mesh_path)\n",
    "\n",
    "np.average(mesh.geometry.triangle_vertices[8101], axis=0), mesh.geometry.triangle_vertices[8101]"
   ]
  },
  {
   "cell_type": "code",
   "execution_count": 11,
   "metadata": {},
   "outputs": [],
   "source": [
    "import pandas as pd\n",
    "import pathlib\n",
    "\n",
    "data_path = pathlib.Path(\"/home/ubuntu/Documentos/Repositories/insight/Docker/local/volume/PrologisCajamar4_new/G300/cases/225/data/cp_t.hdf\")\n",
    "# data_path = pathlib.Path(\"/home/ubuntu/Documentos/Repositories/insight/Docker/local/volume/PrologisCajamar4_new/G300/cases/225/data/points.p_inf_G300_center.data.h5\")\n",
    "\n",
    "data = pd.read_hdf(data_path)\n",
    "data.loc[data[\"point_idx\"] == 8101].to_csv(\"./probe_telhado.csv\", index=False)\n",
    "# data.to_csv(\"./p_inf_G300_center.csv\", index=False)"
   ]
  }
 ],
 "metadata": {
  "kernelspec": {
   "display_name": "cfdmod-7yEqALRC-py3.10",
   "language": "python",
   "name": "python3"
  },
  "language_info": {
   "codemirror_mode": {
    "name": "ipython",
    "version": 3
   },
   "file_extension": ".py",
   "mimetype": "text/x-python",
   "name": "python",
   "nbconvert_exporter": "python",
   "pygments_lexer": "ipython3",
   "version": "3.10.12"
  }
 },
 "nbformat": 4,
 "nbformat_minor": 2
}
