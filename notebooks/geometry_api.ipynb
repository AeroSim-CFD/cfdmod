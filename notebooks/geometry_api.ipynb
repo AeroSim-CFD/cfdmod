{
 "cells": [
  {
   "cell_type": "code",
   "execution_count": 1,
   "metadata": {},
   "outputs": [],
   "source": [
    "import pathlib\n",
    "\n",
    "import pymeshlab\n",
    "from pymeshlab import AbsoluteValue, MeshSet\n",
    "\n",
    "from cfdmod.api.geometry.STL import export_stl, read_stl\n",
    "from lnas import LnasGeometry\n",
    "from lnas.transformations import TransformationsMatrix\n",
    "\n",
    "import numpy as np\n",
    "\n",
    "\n",
    "def apply_remeshing(element_size: float, mesh_path: pathlib.Path, output_path: pathlib.Path):\n",
    "    ms: MeshSet = pymeshlab.MeshSet()\n",
    "    ms.load_new_mesh(str(mesh_path))\n",
    "    ms.meshing_isotropic_explicit_remeshing(\n",
    "        iterations=15, targetlen=AbsoluteValue(element_size), selectedonly=False, featuredeg=180\n",
    "    )\n",
    "    ms.save_current_mesh(str(output_path), binary=True)\n",
    "\n",
    "\n",
    "def correct_normals(mesh_path: pathlib.Path, output_path: pathlib.Path):\n",
    "    ms: MeshSet = pymeshlab.MeshSet()\n",
    "    ms.load_new_mesh(str(mesh_path))\n",
    "    ms.compute_selection_by_condition_per_face(condselect=\"fnz<0\")\n",
    "    ms.meshing_invert_face_orientation(onlyselected=True)\n",
    "    ms.save_current_mesh(str(output_path), binary=True)\n",
    "\n",
    "\n",
    "def translate_mesh(\n",
    "    translation: tuple[float, float, float],\n",
    "    mesh_path: pathlib.Path,\n",
    "    output_path: pathlib.Path,\n",
    "):\n",
    "    triangles, normals = read_stl(mesh_path)\n",
    "    triangles[:, :, 0] += translation[0]\n",
    "    triangles[:, :, 1] += translation[1]\n",
    "    triangles[:, :, 2] += translation[2]\n",
    "    export_stl(output_path, triangles, normals)\n",
    "\n",
    "\n",
    "def rotate_mesh(\n",
    "    rotation: tuple[float, float, float],\n",
    "    fixed_point: tuple[float, float, float],\n",
    "    mesh_path: pathlib.Path,\n",
    "    output_path: pathlib.Path,\n",
    "):\n",
    "    triangles, normals = read_stl(mesh_path)\n",
    "    T = TransformationsMatrix(angle=rotation, fixed_point=fixed_point)\n",
    "    for idx, points in enumerate(triangles):\n",
    "        points = T.apply_points(points)\n",
    "        triangles[idx, :, :] = points\n",
    "\n",
    "    export_stl(output_path, triangles, normals)"
   ]
  },
  {
   "cell_type": "code",
   "execution_count": 2,
   "metadata": {},
   "outputs": [],
   "source": [
    "import numpy as np\n",
    "\n",
    "\n",
    "def slice_surface(\n",
    "    plane_normal: tuple[float, float, float],\n",
    "    plane_origin: tuple[float, float, float],\n",
    "    mesh_path: pathlib.Path,\n",
    "):\n",
    "    distance = np.dot(plane_normal, plane_origin) / np.linalg.norm(plane_normal)\n",
    "    ms: MeshSet = pymeshlab.MeshSet()\n",
    "    ms.load_new_mesh(str(mesh_path.absolute()))\n",
    "    ms.generate_polyline_from_planar_section(\n",
    "        planeaxis=\"Custom Axis\",\n",
    "        customaxis=plane_normal,\n",
    "        planeoffset=distance,\n",
    "        relativeto=\"Origin\",  # 'Bounding box center' 'Bounding box min'\n",
    "        splitsurfacewithsection=True,\n",
    "    )\n",
    "\n",
    "    return ms"
   ]
  },
  {
   "cell_type": "code",
   "execution_count": 3,
   "metadata": {},
   "outputs": [],
   "source": [
    "def get_mesh_coordinates(mesh_path: pathlib.Path) -> tuple[np.ndarray, np.ndarray]:\n",
    "    triangles, normals = read_stl(mesh_path)\n",
    "\n",
    "    return triangles, normals"
   ]
  },
  {
   "cell_type": "code",
   "execution_count": 4,
   "metadata": {},
   "outputs": [],
   "source": [
    "def get_directory_content(dir_root: pathlib.Path):\n",
    "    dir_tree = {}\n",
    "    dir_tree[\"_files\"] = []\n",
    "    for item in dir_root.iterdir():\n",
    "        if item.is_dir():\n",
    "            dir_tree[item] = get_directory_content(item)\n",
    "        elif item.is_file():\n",
    "            dir_tree[\"_files\"].append(item)\n",
    "    return dir_tree"
   ]
  },
  {
   "cell_type": "markdown",
   "metadata": {},
   "source": [
    "## Example usage"
   ]
  },
  {
   "cell_type": "markdown",
   "metadata": {},
   "source": [
    "### Slice surface"
   ]
  },
  {
   "cell_type": "code",
   "execution_count": 19,
   "metadata": {},
   "outputs": [],
   "source": [
    "folder_path = pathlib.Path(\"/mnt/disk01/prd-eng/consulting/033-GolgiCajamar/default/STLs/terrain/\")\n",
    "\n",
    "(x, y) = (0, 0)\n",
    "plane_normal = [x / 1300, y / 1300, 0]\n",
    "plane_origin = [x, y, 0]\n",
    "\n",
    "dir_tree = get_directory_content(folder_path)\n",
    "mesh_list = dir_tree[\"_files\"]\n",
    "for mesh_name in mesh_list:\n",
    "    ms = slice_surface(plane_normal, plane_origin, mesh_path=mesh_name)\n",
    "    for index in [2, 3]:\n",
    "        output_path = mesh_name.parent / f\"{mesh_name.name}-{index-2}.stl\"\n",
    "        ms.set_current_mesh(index)\n",
    "        ms.save_current_mesh(str(output_path.absolute()))"
   ]
  },
  {
   "cell_type": "markdown",
   "metadata": {},
   "source": [
    "### Cut square from surface"
   ]
  },
  {
   "cell_type": "code",
   "execution_count": 4,
   "metadata": {},
   "outputs": [],
   "source": [
    "for i in [2]:\n",
    "    folder_path = pathlib.Path(\n",
    "        f\"/mnt/disk01/prd-eng/consulting/035-GLPBandeirantesGalpoesCeD/default/STLs/\"\n",
    "    )\n",
    "\n",
    "    radius = 1300\n",
    "    center = (0, 0)\n",
    "\n",
    "    dir_tree = get_directory_content(folder_path)\n",
    "    mesh_list = dir_tree[\"_files\"]\n",
    "\n",
    "    for mesh_name in mesh_list:\n",
    "        output_path = mesh_name.parent / f\"{mesh_name.name}-cut.stl\"\n",
    "        c = center\n",
    "        for x, y in (\n",
    "            (c[0], c[1] - radius),\n",
    "            (c[0], c[1] + radius),\n",
    "            (c[0] - radius, c[1]),\n",
    "            (c[0] + radius, c[1]),\n",
    "        ):\n",
    "            plane_normal = [x / radius, y / radius, 0]\n",
    "            plane_origin = [x, y, 0]\n",
    "            ms = slice_surface(plane_normal, plane_origin, mesh_path=mesh_name)\n",
    "            ms.set_current_mesh(3)\n",
    "            ms.save_current_mesh(str(output_path.absolute()))\n",
    "            mesh_name = output_path"
   ]
  },
  {
   "cell_type": "markdown",
   "metadata": {},
   "source": [
    "### Remesh"
   ]
  },
  {
   "cell_type": "code",
   "execution_count": 36,
   "metadata": {},
   "outputs": [],
   "source": [
    "folder_path = pathlib.Path(\n",
    "    \"/home/ubuntu/repos/drives/consulting/Consulting/026 - Prologis Cajamar 4/Arquivos Trabalhados/G100/16-01-2024/lanternim/\"\n",
    ")\n",
    "output_path = pathlib.Path(\n",
    "    \"/home/ubuntu/repos/drives/consulting/Consulting/026 - Prologis Cajamar 4/Arquivos Trabalhados/G100/16-01-2024/lanternim/\"\n",
    ")\n",
    "\n",
    "dir_tree = get_directory_content(folder_path)\n",
    "mesh_list = dir_tree[\"_files\"]\n",
    "for mesh_name in mesh_list:\n",
    "    file_name = mesh_name.name\n",
    "    apply_remeshing(\n",
    "        element_size=0.5,\n",
    "        mesh_path=mesh_name,\n",
    "        output_path=output_path / file_name,\n",
    "    )"
   ]
  },
  {
   "cell_type": "markdown",
   "metadata": {},
   "source": [
    "### Translate"
   ]
  },
  {
   "cell_type": "code",
   "execution_count": 5,
   "metadata": {},
   "outputs": [],
   "source": [
    "folder_path = pathlib.Path(\n",
    "    \"/home/ubuntu/repos/drives/consulting/Consulting/030 - Monto Pirelli Campinas/Arquivos Trabalhados/G100/STLs/final/\"\n",
    ")\n",
    "output_path = pathlib.Path(\n",
    "    \"/mnt/disk01/prd-eng/consulting/030_MontoPirelliCampinas/STLs/STLs_dirs/G100/\"\n",
    ")\n",
    "translation = [-147.102412, 86.014694, 628.2]\n",
    "\n",
    "\n",
    "dir_tree = get_directory_content(folder_path)\n",
    "mesh_list = dir_tree[\"_files\"]\n",
    "for mesh_name in mesh_list:\n",
    "    file_name = mesh_name.name\n",
    "    translate_mesh(\n",
    "        translation=translation,\n",
    "        mesh_path=mesh_name,\n",
    "        output_path=output_path / file_name,\n",
    "    )"
   ]
  },
  {
   "cell_type": "markdown",
   "metadata": {},
   "source": [
    "### Rotate"
   ]
  },
  {
   "cell_type": "code",
   "execution_count": null,
   "metadata": {},
   "outputs": [],
   "source": [
    "folder_path = pathlib.Path(\n",
    "    \"/mnt/disk01/prd-eng/consulting/033-GolgiCajamar/direcoes_adicionais/01/004/constant/triSurface/\"\n",
    ")\n",
    "output_path = pathlib.Path(\n",
    "    \"/mnt/disk01/prd-eng/consulting/033-GolgiCajamar/direcoes_adicionais/01/004/constant/triSurface/out/\"\n",
    ")\n",
    "rotation = np.array([0, 0, -0.0659734457253856])\n",
    "fixed_point = np.array([0, 0, 0])\n",
    "\n",
    "dir_tree = get_directory_content(folder_path)\n",
    "mesh_list = dir_tree[\"_files\"]\n",
    "\n",
    "for mesh_name in mesh_list:\n",
    "    file_name = mesh_name.name\n",
    "    print(output_path / file_name)\n",
    "    rotate_mesh(\n",
    "        rotation=rotation,\n",
    "        fixed_point=fixed_point,\n",
    "        mesh_path=mesh_name,\n",
    "        output_path=output_path / file_name,\n",
    "    )"
   ]
  },
  {
   "cell_type": "markdown",
   "metadata": {},
   "source": [
    "### Point normals downward"
   ]
  },
  {
   "cell_type": "code",
   "execution_count": 12,
   "metadata": {},
   "outputs": [],
   "source": [
    "direction = \"315\"\n",
    "folder_path = pathlib.Path(\n",
    "    f\"/mnt/disk01/prd-eng/consulting/030_MontoPirelliCampinas/artifacts/STLs_files/{direction}/\"\n",
    ")\n",
    "output_path = pathlib.Path(\n",
    "    f\"/mnt/disk01/prd-eng/consulting/030_MontoPirelliCampinas/artifacts/STLs_files/{direction}\"\n",
    ")\n",
    "\n",
    "dir_tree = get_directory_content(folder_path)\n",
    "mesh_list = dir_tree[\"_files\"]\n",
    "for mesh_name in mesh_list:\n",
    "    file_name = mesh_name.name\n",
    "    correct_normals(mesh_path=mesh_name, output_path=output_path / file_name)"
   ]
  },
  {
   "cell_type": "markdown",
   "metadata": {},
   "source": [
    "### Extract stl vertices coordinates and export to csv"
   ]
  },
  {
   "cell_type": "code",
   "execution_count": 12,
   "metadata": {},
   "outputs": [],
   "source": [
    "import pandas as pd\n",
    "\n",
    "stl_path = pathlib.Path(\n",
    "    f\"/mnt/disk01/prd-eng/consulting/036-FGEngenhariaPostoNO/setup/STLs/top_offset.stl\"\n",
    ")\n",
    "output_path = pathlib.Path(\n",
    "    f\"/mnt/disk01/prd-eng/consulting/036-FGEngenhariaPostoNO/simulation_data/artifacts/csvs/\"\n",
    ")\n",
    "\n",
    "triangles, normals = get_mesh_coordinates(stl_path)\n",
    "centers = np.average(triangles, axis=1)\n",
    "\n",
    "columns = [\"x\", \"y\", \"z\"]\n",
    "df = pd.DataFrame(data=centers, columns=columns)\n",
    "df.to_csv(output_path / \"top_offset.csv\", index=None)"
   ]
  },
  {
   "cell_type": "markdown",
   "metadata": {},
   "source": [
    "### Finds the crossing z points on an STL(lnas) corresponding to a list of xy coordinates"
   ]
  },
  {
   "cell_type": "code",
   "execution_count": 15,
   "metadata": {},
   "outputs": [],
   "source": [
    "import pathlib\n",
    "from lnas import LnasFormat\n",
    "import numpy as np\n",
    "import pandas as pd\n",
    "import trimesh\n",
    "\n",
    "root_path = pathlib.Path(f\"/mnt/disk01/prd-eng/consulting/036-FGEngenhariaPostoNO/\")\n",
    "lnas_path = root_path / \"simulation_data/artifacts/lnas/bottom_offset.lnas\"\n",
    "points_path = root_path / \"simulation_data/artifacts/csvs/top_2.csv\"\n",
    "\n",
    "lnas_fmt = LnasFormat.from_file(pathlib.Path(lnas_path))\n",
    "lnas_geo = lnas_fmt.geometry\n",
    "\n",
    "tri_up = lnas_geo.normals[:, 2] > 0.5\n",
    "tri_down = lnas_geo.normals[:, 2] < -0.5\n",
    "tri_up_idxs = np.arange(len(tri_up))[tri_up]\n",
    "tri_down_idxs = np.arange(len(tri_down))[tri_down]\n",
    "\n",
    "lnas_up = lnas_fmt.filter_triangles(tri_up)\n",
    "lnas_down = lnas_fmt.filter_triangles(tri_down)\n",
    "\n",
    "points = pd.read_csv(points_path, sep=\",\")\n",
    "arr_points = np.array([points[d].to_numpy() for d in [\"x\", \"y\", \"z\"]], dtype=np.float32)\n",
    "arr_points = arr_points.swapaxes(0, 1)\n",
    "\n",
    "mesh_up = trimesh.Trimesh(\n",
    "    vertices=lnas_up.geometry.vertices.copy(), faces=lnas_up.geometry.triangles.copy()\n",
    ")\n",
    "mesh_down = trimesh.Trimesh(\n",
    "    vertices=lnas_down.geometry.vertices.copy(), faces=lnas_down.geometry.triangles.copy()\n",
    ")\n",
    "\n",
    "\n",
    "def check_intersection(mesh, ray_origin, ray_direction):\n",
    "    # Create a ray from start_point to end_point\n",
    "    ray = trimesh.ray.ray_triangle.RayMeshIntersector(mesh)\n",
    "    intersects, index_tri, index_ray = ray.intersects_location([ray_origin], [ray_direction])\n",
    "\n",
    "    if intersects.any():\n",
    "        # If any intersection is found, return the indices of triangles intersected\n",
    "        return intersects, index_tri, index_ray\n",
    "    raise ValueError(\"not interecpts\")\n",
    "\n",
    "\n",
    "normals = []\n",
    "\n",
    "for idx, p in enumerate(arr_points):\n",
    "    mesh_use = mesh_up\n",
    "    if p[2] == 10:\n",
    "        mesh_use = mesh_down\n",
    "        normals.append([0, 0, -1])\n",
    "    else:\n",
    "        normals.append([0, 0, 1])\n",
    "    ray_origin = [p[0], p[1], 0]\n",
    "    ray_direction = [0, 0, 1]\n",
    "\n",
    "    ints, tri_int, index_ray = check_intersection(mesh_use, ray_origin, ray_direction)\n",
    "\n",
    "    arr_points[idx, 2] = ints[0, 2]\n",
    "\n",
    "normals = np.array(normals, dtype=np.float32)\n",
    "\n",
    "df_save = points.copy()\n",
    "df_save[\"x\"] = arr_points[:, 0]\n",
    "df_save[\"y\"] = arr_points[:, 1]\n",
    "df_save[\"z\"] = arr_points[:, 2]\n",
    "df_save[\"nx\"] = normals[:, 0]\n",
    "df_save[\"ny\"] = normals[:, 1]\n",
    "df_save[\"nz\"] = normals[:, 2]\n",
    "\n",
    "\n",
    "df_save.to_csv(root_path / \"simulation_data/artifacts/csvs/bottom_offset.csv\", index=False)"
   ]
  }
 ],
 "metadata": {
  "kernelspec": {
   "display_name": "cfdmod-XMkUSlb0-py3.10",
   "language": "python",
   "name": "python3"
  },
  "language_info": {
   "codemirror_mode": {
    "name": "ipython",
    "version": 3
   },
   "file_extension": ".py",
   "mimetype": "text/x-python",
   "name": "python",
   "nbconvert_exporter": "python",
   "pygments_lexer": "ipython3",
   "version": "3.10.11"
  }
 },
 "nbformat": 4,
 "nbformat_minor": 2
}
