{
 "cells": [
  {
   "cell_type": "code",
   "execution_count": 2,
   "metadata": {},
   "outputs": [],
   "source": [
    "import pathlib\n",
    "\n",
    "import pymeshlab\n",
    "from pymeshlab import AbsoluteValue, MeshSet\n",
    "\n",
    "from cfdmod.api.geometry.STL import export_stl, read_stl\n",
    "\n",
    "\n",
    "def apply_remeshing(element_size: float, mesh_path: pathlib.Path, output_path: pathlib.Path):\n",
    "    ms: MeshSet = pymeshlab.MeshSet()\n",
    "    ms.load_new_mesh(mesh_path)\n",
    "    ms.meshing_isotropic_explicit_remeshing(\n",
    "        iterations=15, targetlen=AbsoluteValue(element_size), selectedonly=True\n",
    "    )\n",
    "    ms.save_current_mesh(output_path, binary=False)\n",
    "\n",
    "\n",
    "def translate_mesh(\n",
    "    translation: tuple[float, float, float],\n",
    "    mesh_path: pathlib.Path,\n",
    "    output_path: pathlib.Path,\n",
    "):\n",
    "    triangles, normals = read_stl(mesh_path)\n",
    "    triangles[:, :, 0] += translation[0]\n",
    "    triangles[:, :, 1] += translation[1]\n",
    "    triangles[:, :, 2] += translation[2]\n",
    "    export_stl(output_path, triangles, normals)"
   ]
  },
  {
   "cell_type": "code",
   "execution_count": 41,
   "metadata": {},
   "outputs": [
    {
     "name": "stdout",
     "output_type": "stream",
     "text": [
      "14.14213562373095\n"
     ]
    }
   ],
   "source": [
    "import numpy as np\n",
    "\n",
    "def slice_surface(plane_normal: tuple[float, float, float], plane_origin: tuple[float, float, float], mesh_path: pathlib.Path):\n",
    "    distance = np.dot(plane_normal, plane_origin) / np.linalg.norm(plane_normal)\n",
    "    ms: MeshSet = pymeshlab.MeshSet()\n",
    "    ms.load_new_mesh(str(mesh_path.absolute()))\n",
    "    ms.generate_polyline_from_planar_section(\n",
    "        planeaxis = \"Custom Axis\", \n",
    "        customaxis = plane_normal,\n",
    "        planeoffset = distance,\n",
    "        relativeto = \"Origin\", # 'Bounding box center' 'Bounding box min'\n",
    "        splitsurfacewithsection=True\n",
    "    )\n",
    "\n",
    "    for index in [2,3]:\n",
    "        output_path=mesh_path.parent / f\"{mesh_path.name}-{index-2}.stl\"\n",
    "        ms.set_current_mesh(index)\n",
    "        ms.save_current_mesh(str(output_path.absolute()))\n",
    "    \n",
    "mesh_path = pathlib.Path(\"./fixtures/tests/notebooks/000.stl\")\n",
    "slice_surface(plane_normal = [0,1,1], plane_origin=[0,10,10], mesh_path=mesh_path)"
   ]
  },
  {
   "cell_type": "markdown",
   "metadata": {},
   "source": [
    "### Example usage"
   ]
  },
  {
   "cell_type": "code",
   "execution_count": null,
   "metadata": {},
   "outputs": [],
   "source": [
    "folder_path = pathlib.Path(\"./fixtures/tests/notebooks\")\n",
    "mesh_list = [\"sfc1\", \"sfc2\"]\n",
    "\n",
    "for mesh_name in mesh_list:\n",
    "    slice_surface(plane_normal = [0,1,1], plane_origin=[0,10,10], mesh_path=folder_path / mesh_name)"
   ]
  },
  {
   "cell_type": "code",
   "execution_count": 44,
   "metadata": {},
   "outputs": [
    {
     "name": "stdout",
     "output_type": "stream",
     "text": [
      "fixtures\\tests\\notebooks\\000.stl\n",
      "fixtures\\tests\\notebooks\\000.stl-0.stl\n",
      "fixtures\\tests\\notebooks\\000.stl-1.stl\n"
     ]
    }
   ],
   "source": [
    "folder_path = pathlib.Path(\"./fixtures/tests/notebooks\")\n",
    "\n",
    "for mesh_path in folder_path.iterdir():\n",
    "    if not mesh_path.is_file():\n",
    "        continue\n",
    "    slice_surface(plane_normal = [0,1,1], plane_origin=[0,10,10], mesh_path=folder_path / mesh_name)"
   ]
  }
 ],
 "metadata": {
  "kernelspec": {
   "display_name": "cfdmod-XMkUSlb0-py3.10",
   "language": "python",
   "name": "python3"
  },
  "language_info": {
   "codemirror_mode": {
    "name": "ipython",
    "version": 3
   },
   "file_extension": ".py",
   "mimetype": "text/x-python",
   "name": "python",
   "nbconvert_exporter": "python",
   "pygments_lexer": "ipython3",
   "version": "3.10.11"
  }
 },
 "nbformat": 4,
 "nbformat_minor": 2
}
