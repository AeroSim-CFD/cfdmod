{
 "cells": [
  {
   "cell_type": "code",
   "execution_count": 4,
   "metadata": {},
   "outputs": [],
   "source": [
    "from lnas import LnasFormat\n",
    "import pathlib\n",
    "import numpy as np\n",
    "\n",
    "NORMAL_OFFSET = 0.125\n",
    "\n",
    "mesh_path = pathlib.Path(\"../insight/Docker/local/volume/PrologisCajamar4_full/G100/mesh/G100.lnas\")\n",
    "neg_mesh_path = mesh_path.parent / \"G100_negative.lnas\"\n",
    "output_path = mesh_path.parent / \"G100.merged.lnas\"\n",
    "\n",
    "mesh = LnasFormat.from_file(mesh_path)\n",
    "neg_mesh = LnasFormat.from_file(neg_mesh_path)\n",
    "\n",
    "geometry_negative = neg_mesh.geometry\n",
    "geometry_negative.triangles = np.flip(geometry_negative.triangles, 1)\n",
    "geometry_negative._full_update()\n",
    "geometry_negative.vertices = geometry_negative.vertices + geometry_negative.vertices_normals * NORMAL_OFFSET\n",
    "\n",
    "mesh.join(lnas_fmts=[neg_mesh], surfaces_suffixes=[\"_inside\"])\n",
    "mesh.to_file(output_path)"
   ]
  },
  {
   "cell_type": "code",
   "execution_count": null,
   "metadata": {},
   "outputs": [],
   "source": [
    "import pandas as pd\n",
    "import pathlib\n",
    "\n",
    "data_path = pathlib.Path(\"../insight/Docker/local/volume/PrologisCajamar4_full/G100/cases/013/data/body_data\")\n",
    "\n",
    "body_hist_series = pd.read_hdf(data_path / \"bodies.G100_hs.data.h5\")\n",
    "negative_body_hist_series = pd.read_hdf(data_path / \"bodies.G100_neg_hs.data.h5\")\n",
    "\n",
    "last_index = body_hist_series.point_idx.max()\n",
    "negative_body_hist_series.point_idx += last_index + 1\n",
    "\n",
    "new_df = pd.concat([body_hist_series, negative_body_hist_series]).sort_values(\n",
    "    by=[\"time_step\", \"point_idx\"]\n",
    ")\n",
    "new_df.to_hdf(path_or_buf=data_path / \"bodies.G100.merged.data.h5\", key=\"df\", mode=\"w\")"
   ]
  }
 ],
 "metadata": {
  "kernelspec": {
   "display_name": "cfdmod-7yEqALRC-py3.10",
   "language": "python",
   "name": "python3"
  },
  "language_info": {
   "codemirror_mode": {
    "name": "ipython",
    "version": 3
   },
   "file_extension": ".py",
   "mimetype": "text/x-python",
   "name": "python",
   "nbconvert_exporter": "python",
   "pygments_lexer": "ipython3",
   "version": "3.10.12"
  }
 },
 "nbformat": 4,
 "nbformat_minor": 2
}
