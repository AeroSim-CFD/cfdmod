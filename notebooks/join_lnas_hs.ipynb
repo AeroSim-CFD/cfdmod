{
 "cells": [
  {
   "cell_type": "code",
   "execution_count": 5,
   "metadata": {},
   "outputs": [],
   "source": [
    "from lnas import LnasFormat\n",
    "import pathlib\n",
    "import numpy as np\n",
    "\n",
    "NORMAL_OFFSET = 0.125\n",
    "\n",
    "block_lbl = \"G300\"\n",
    "\n",
    "meshes_path = pathlib.Path(f\"/mnt/dev01_openfoam_data/insight-volume/PrologisCajamar4_new_version/{block_lbl}/mesh\")\n",
    "mesh_path = meshes_path / f\"{block_lbl}.lnas\"\n",
    "neg_mesh_path = mesh_path.parent / f\"{block_lbl}_negative.lnas\"\n",
    "output_path = mesh_path.parent / f\"{block_lbl}.merged.lnas\"\n",
    "\n",
    "mesh = LnasFormat.from_file(mesh_path)\n",
    "neg_mesh = LnasFormat.from_file(neg_mesh_path)\n",
    "\n",
    "geometry_negative = neg_mesh.geometry\n",
    "geometry_negative.triangles = np.flip(geometry_negative.triangles, 1)\n",
    "geometry_negative._full_update()\n",
    "geometry_negative.vertices = geometry_negative.vertices + geometry_negative.vertices_normals * NORMAL_OFFSET\n",
    "\n",
    "mesh.join(lnas_fmts=[neg_mesh], surfaces_suffixes=[\"_inside\"])\n",
    "mesh.to_file(output_path)"
   ]
  },
  {
   "cell_type": "code",
   "execution_count": 7,
   "metadata": {},
   "outputs": [],
   "source": [
    "import pandas as pd\n",
    "import pathlib\n",
    "\n",
    "case_dict = {\n",
    "    \"G100\" : [\"013\", \"058\", \"103\", \"148\", \"193\", \"238\", \"283\", \"328\"],\n",
    "    \"G200\" : [\"000\", \"045\", \"090\", \"135\", \"180\", \"225\", \"270\", \"315\"],\n",
    "    \"G300\" : [\"000\", \"045\", \"090\", \"135\", \"180\", \"225\", \"270\", \"315\"],\n",
    "}\n",
    "\n",
    "for block_lbl, case_list in case_dict.items():\n",
    "    for case_lbl in case_list:\n",
    "        data_path = pathlib.Path(f\"/mnt/dev01_openfoam_data/insight-volume/PrologisCajamar4_new_version/{block_lbl}/cases/{case_lbl}/data/pressure_measure\")\n",
    "\n",
    "        body_hist_series = pd.read_hdf(data_path / f\"bodies.{block_lbl}_hs.data.h5\")\n",
    "        negative_body_hist_series = pd.read_hdf(data_path / f\"bodies.{block_lbl}_neg_hs.data.h5\")\n",
    "\n",
    "        last_index = body_hist_series.point_idx.max()\n",
    "        negative_body_hist_series.point_idx += last_index + 1\n",
    "\n",
    "        new_df = pd.concat([body_hist_series, negative_body_hist_series]).sort_values(\n",
    "            by=[\"time_step\", \"point_idx\"]\n",
    "        )\n",
    "        new_df.to_hdf(path_or_buf=data_path.parent / f\"bodies.{block_lbl}.merged.data.h5\", key=\"df\", mode=\"w\")"
   ]
  }
 ],
 "metadata": {
  "kernelspec": {
   "display_name": "cfdmod-7yEqALRC-py3.10",
   "language": "python",
   "name": "python3"
  },
  "language_info": {
   "codemirror_mode": {
    "name": "ipython",
    "version": 3
   },
   "file_extension": ".py",
   "mimetype": "text/x-python",
   "name": "python",
   "nbconvert_exporter": "python",
   "pygments_lexer": "ipython3",
   "version": "3.10.12"
  }
 },
 "nbformat": 4,
 "nbformat_minor": 2
}
