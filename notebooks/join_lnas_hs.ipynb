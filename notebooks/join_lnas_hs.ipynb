{
 "cells": [
  {
   "cell_type": "code",
   "execution_count": 4,
   "metadata": {},
   "outputs": [],
   "source": [
    "from lnas import LnasFormat\n",
    "import pathlib\n",
    "import numpy as np\n",
    "\n",
    "NORMAL_OFFSET = 0.125\n",
    "\n",
    "block_lbl = \"G100\"\n",
    "\n",
    "meshes_path = pathlib.Path(\n",
    "    \"/home/ubuntu/Documentos/Repositories/insight/Docker/local/volume/divided_cp\"\n",
    ")\n",
    "\n",
    "mesh_path = meshes_path / f\"{block_lbl}.lnas\"\n",
    "neg_mesh_path = mesh_path.parent / f\"{block_lbl}_negative.lnas\"\n",
    "output_path = mesh_path.parent / f\"{block_lbl}.merged.lnas\"\n",
    "\n",
    "mesh = LnasFormat.from_file(mesh_path)\n",
    "neg_mesh = LnasFormat.from_file(neg_mesh_path)\n",
    "\n",
    "geometry_negative = neg_mesh.geometry\n",
    "geometry_negative.triangles = np.flip(geometry_negative.triangles, 1)\n",
    "geometry_negative._full_update()\n",
    "geometry_negative.vertices = (\n",
    "    geometry_negative.vertices + geometry_negative.vertices_normals * NORMAL_OFFSET\n",
    ")\n",
    "\n",
    "mesh.join(lnas_fmts=[neg_mesh], surfaces_suffixes=[\"_inside\"])\n",
    "mesh.to_file(output_path)"
   ]
  },
  {
   "cell_type": "markdown",
   "metadata": {},
   "source": [
    "Join grouped hist series"
   ]
  },
  {
   "cell_type": "code",
   "execution_count": 5,
   "metadata": {},
   "outputs": [
    {
     "name": "stdout",
     "output_type": "stream",
     "text": [
      "['/step0005000', '/step0006000', '/step0007000', '/step0008000', '/step0009000', '/step0010000', '/step0011000', '/step0012000', '/step0013000', '/step0014000', '/step0015000', '/step0016000', '/step0017000', '/step0018000', '/step0019000', '/step0020000']\n"
     ]
    }
   ],
   "source": [
    "import pandas as pd\n",
    "import pathlib\n",
    "\n",
    "data_path = pathlib.Path(\n",
    "    \"/home/ubuntu/Documentos/Repositories/insight/Docker/local/volume/divided_cp\"\n",
    ")\n",
    "block_lbl = \"G100\"\n",
    "\n",
    "(data_path / f\"bodies.{block_lbl}.merged.data.h5\").unlink()\n",
    "\n",
    "with pd.HDFStore(data_path / f\"bodies.{block_lbl}_hs.data.h5\", mode=\"r\") as body_store:\n",
    "    with pd.HDFStore(data_path / f\"bodies.{block_lbl}_neg_hs.data.h5\", mode=\"r\") as neg_body_store:\n",
    "        body_groups = body_store.keys()\n",
    "        neg_body_groups = neg_body_store.keys()\n",
    "\n",
    "        if body_groups != neg_body_groups:\n",
    "            raise Exception(\"Keys for body and negative don't match!\")\n",
    "\n",
    "        for store_group in body_groups:\n",
    "            body_hist_series = body_store.get(store_group)\n",
    "            negative_body_hist_series = neg_body_store.get(store_group)\n",
    "\n",
    "            last_index = body_hist_series.point_idx.max()\n",
    "            negative_body_hist_series.point_idx += last_index + 1\n",
    "\n",
    "            new_df = pd.concat([body_hist_series, negative_body_hist_series]).sort_values(\n",
    "                by=[\"time_step\", \"point_idx\"]\n",
    "            )\n",
    "            new_df.to_hdf(\n",
    "                path_or_buf=data_path / f\"bodies.{block_lbl}.merged.data.h5\",\n",
    "                key=store_group,\n",
    "                mode=\"a\",\n",
    "            )"
   ]
  },
  {
   "cell_type": "markdown",
   "metadata": {},
   "source": [
    "Join complete hist series"
   ]
  },
  {
   "cell_type": "code",
   "execution_count": null,
   "metadata": {},
   "outputs": [],
   "source": [
    "import pandas as pd\n",
    "import pathlib\n",
    "\n",
    "data_path = pathlib.Path(\n",
    "    \"/home/ubuntu/Documentos/Repositories/insight/Docker/local/volume/divided_cp\"\n",
    ")\n",
    "block_lbl = \"G100\"\n",
    "\n",
    "body_hist_series = pd.read_hdf(data_path / f\"bodies.{block_lbl}_hs.data.h5\")\n",
    "negative_body_hist_series = pd.read_hdf(data_path / f\"bodies.{block_lbl}_neg_hs.data.h5\")\n",
    "\n",
    "last_index = body_hist_series.point_idx.max()\n",
    "negative_body_hist_series.point_idx += last_index + 1\n",
    "\n",
    "new_df = pd.concat([body_hist_series, negative_body_hist_series]).sort_values(\n",
    "    by=[\"time_step\", \"point_idx\"]\n",
    ")\n",
    "new_df.to_hdf(\n",
    "    path_or_buf=data_path.parent / f\"bodies.{block_lbl}.merged.data.h5\", key=\"df\", mode=\"w\"\n",
    ")"
   ]
  }
 ],
 "metadata": {
  "kernelspec": {
   "display_name": "cfdmod-7yEqALRC-py3.10",
   "language": "python",
   "name": "python3"
  },
  "language_info": {
   "codemirror_mode": {
    "name": "ipython",
    "version": 3
   },
   "file_extension": ".py",
   "mimetype": "text/x-python",
   "name": "python",
   "nbconvert_exporter": "python",
   "pygments_lexer": "ipython3",
   "version": "3.10.12"
  }
 },
 "nbformat": 4,
 "nbformat_minor": 2
}
