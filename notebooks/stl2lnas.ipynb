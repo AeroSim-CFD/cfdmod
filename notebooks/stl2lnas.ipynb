{
 "cells": [
  {
   "cell_type": "markdown",
   "metadata": {},
   "source": [
    "# Turn lots of stl files into lnas files\n"
   ]
  },
  {
   "cell_type": "markdown",
   "metadata": {},
   "source": [
    "## define main variables and initialize code\n"
   ]
  },
  {
   "cell_type": "code",
   "execution_count": 20,
   "metadata": {},
   "outputs": [],
   "source": [
    "import pathlib\n",
    "from pathlib import Path\n",
    "import subprocess\n",
    "import os\n",
    "\n",
    "import pprint\n",
    "\n",
    "pp = pprint.PrettyPrinter()\n",
    "\n",
    "file_mode_dir_root = pathlib.Path(\n",
    "    \"/mnt/disk01/prd-eng/cases/s1_consulting_nassu_test/035_GLPBandeirantes/setup/STLs/STLs_files\"\n",
    ")\n",
    "dir_mode_dir_root = pathlib.Path(\n",
    "    \"/mnt/disk01/prd-eng/cases/s1_consulting_nassu_test/035_GLPBandeirantes/setup/STLs/STLs_dir\"\n",
    ")\n",
    "output_dir_root = pathlib.Path(\n",
    "    \"/mnt/disk01/prd-eng/cases/s1_consulting_nassu_test/035_GLPBandeirantes/simulation_data/artifacts/lnas/\"\n",
    ")"
   ]
  },
  {
   "cell_type": "markdown",
   "metadata": {},
   "source": [
    "## Functions definitions\n"
   ]
  },
  {
   "cell_type": "markdown",
   "metadata": {},
   "source": [
    "### Auxiliary functions\n"
   ]
  },
  {
   "cell_type": "code",
   "execution_count": 9,
   "metadata": {},
   "outputs": [],
   "source": [
    "def get_directory_content(dir: pathlib.Path) -> dict:\n",
    "    dir_dict = {}\n",
    "    dir_dict[\"_files\"] = []\n",
    "    for path in dir.iterdir():\n",
    "        if path.is_file():\n",
    "            dir_dict[\"_files\"].append(path)\n",
    "        elif path.is_dir():\n",
    "            dir_dict[path] = get_directory_content(path)\n",
    "    return dir_dict"
   ]
  },
  {
   "cell_type": "code",
   "execution_count": 24,
   "metadata": {},
   "outputs": [],
   "source": [
    "def convert_to_lnas(input_dir_root: Path, output_dir_root: Path, input_path: Path, type: str):\n",
    "    relative_path = input_path.relative_to(input_dir_root)\n",
    "    file_name = input_path.stem\n",
    "    output_dir_path = output_dir_root / relative_path\n",
    "    lnas_file = output_dir_path / f\"{file_name}.lnas\"\n",
    "\n",
    "    (output_dir_path).mkdir(parents=True, exist_ok=True)\n",
    "    command = f\"stl2lnas --{type} {str(input_path)} --output {lnas_file} --overwrite\"\n",
    "    try:\n",
    "        print(os.getcwd())\n",
    "        subprocess.run(command, shell=True, check=True)\n",
    "    except subprocess.CalledProcessError as e:\n",
    "        print(f\"Error: {e}\")"
   ]
  },
  {
   "cell_type": "code",
   "execution_count": 4,
   "metadata": {},
   "outputs": [],
   "source": [
    "def recursive_convert_to_lnas_file_mode(\n",
    "    input_dir_root: Path, output_dir_root: Path, dir_tree: dict\n",
    "):\n",
    "    for key in dir_tree:\n",
    "        if key == \"_files\":\n",
    "            for stl_file in dir_tree[\"_files\"]:\n",
    "                convert_to_lnas(input_dir_root, output_dir_root, stl_file, \"file\")\n",
    "        elif key.is_dir():\n",
    "            relative_path = key.relative_to(input_dir_root)\n",
    "            output_subdir_root = output_dir_root / relative_path\n",
    "            recursive_convert_to_lnas_file_mode(key, output_subdir_root, dir_tree[key])"
   ]
  },
  {
   "cell_type": "code",
   "execution_count": 19,
   "metadata": {},
   "outputs": [],
   "source": [
    "def recursive_convert_to_lnas_dir_mode(\n",
    "    input_dir_root: Path, output_dir_root: Path, dir_tree: dict\n",
    "):\n",
    "    for key in dir_tree:\n",
    "        if key == \"_files\":\n",
    "            continue\n",
    "        elif key.is_dir():\n",
    "            if len(dir_tree[key]) == 1:  # '_files' is always defined\n",
    "                convert_to_lnas(input_dir_root, output_dir_root, key, \"dir\")\n",
    "            else:\n",
    "                relative_path = key.relative_to(input_dir_root)\n",
    "                output_subdir_root = output_dir_root / relative_path\n",
    "                recursive_convert_to_lnas_dir_mode(key, output_subdir_root, dir_tree[key])"
   ]
  },
  {
   "cell_type": "markdown",
   "metadata": {},
   "source": [
    "# Execution\n"
   ]
  },
  {
   "cell_type": "code",
   "execution_count": 21,
   "metadata": {},
   "outputs": [],
   "source": [
    "file_mode_dir_tree = get_directory_content(file_mode_dir_root)\n",
    "dir_mode_dir_tree = get_directory_content(dir_mode_dir_root)"
   ]
  },
  {
   "cell_type": "code",
   "execution_count": 25,
   "metadata": {},
   "outputs": [
    {
     "name": "stdout",
     "output_type": "stream",
     "text": [
      "/home/ubuntu/repos/cfdmod/notebooks\n",
      "Overwriting file...\n",
      "Saving...\n",
      "Generated!\n",
      "/home/ubuntu/repos/cfdmod/notebooks\n",
      "Overwriting file...\n",
      "Saving...\n",
      "Generated!\n",
      "/home/ubuntu/repos/cfdmod/notebooks\n",
      "Overwriting file...\n",
      "Saving...\n",
      "Generated!\n",
      "/home/ubuntu/repos/cfdmod/notebooks\n",
      "Overwriting file...\n",
      "Saving...\n",
      "Generated!\n",
      "/home/ubuntu/repos/cfdmod/notebooks\n",
      "Overwriting file...\n",
      "Saving...\n",
      "Generated!\n",
      "/home/ubuntu/repos/cfdmod/notebooks\n",
      "Overwriting file...\n",
      "Saving...\n",
      "Generated!\n",
      "/home/ubuntu/repos/cfdmod/notebooks\n",
      "Overwriting file...\n",
      "Saving...\n",
      "Generated!\n",
      "/home/ubuntu/repos/cfdmod/notebooks\n",
      "Overwriting file...\n",
      "Saving...\n",
      "Generated!\n",
      "/home/ubuntu/repos/cfdmod/notebooks\n",
      "Overwriting file...\n",
      "Saving...\n",
      "Generated!\n",
      "/home/ubuntu/repos/cfdmod/notebooks\n",
      "Overwriting file...\n",
      "Saving...\n",
      "Generated!\n"
     ]
    }
   ],
   "source": [
    "file_mode_cfg_path_tree = recursive_convert_to_lnas_file_mode(\n",
    "    file_mode_dir_root, output_dir_root, file_mode_dir_tree\n",
    ")\n",
    "dir_mode_cfg_path_tree = recursive_convert_to_lnas_dir_mode(\n",
    "    dir_mode_dir_root, output_dir_root, dir_mode_dir_tree\n",
    ")"
   ]
  }
 ],
 "metadata": {
  "kernelspec": {
   "display_name": "cfdmod-XMkUSlb0-py3.10",
   "language": "python",
   "name": "python3"
  },
  "language_info": {
   "codemirror_mode": {
    "name": "ipython",
    "version": 3
   },
   "file_extension": ".py",
   "mimetype": "text/x-python",
   "name": "python",
   "nbconvert_exporter": "python",
   "pygments_lexer": "ipython3",
   "version": "3.10.12"
  }
 },
 "nbformat": 4,
 "nbformat_minor": 2
}
