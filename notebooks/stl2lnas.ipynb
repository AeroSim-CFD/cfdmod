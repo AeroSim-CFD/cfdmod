{
 "cells": [
  {
   "cell_type": "markdown",
   "metadata": {},
   "source": [
    "# Turn lots of stl files into lnas files"
   ]
  },
  {
   "cell_type": "markdown",
   "metadata": {},
   "source": [
    "## define main variables and initialize code"
   ]
  },
  {
   "cell_type": "code",
   "execution_count": 173,
   "metadata": {},
   "outputs": [],
   "source": [
    "import pathlib\n",
    "from pathlib import Path\n",
    "from typing import Dict, List\n",
    "from ruamel.yaml import YAML\n",
    "import subprocess\n",
    "import os\n",
    "\n",
    "import pprint\n",
    "\n",
    "pp = pprint.PrettyPrinter()\n",
    "\n",
    "file_mode_dir_root = pathlib.Path(\"/mnt/d/codigos/dev01_nassu_data/consulting/026-PrologisCajamar4/project_data/STLs_files\")\n",
    "folder_mode_dir_root = pathlib.Path(\"/mnt/d/codigos/dev01_nassu_data/consulting/026-PrologisCajamar4/project_data/STLs_folders\")\n",
    "stl2lnas_repository_path = pathlib.Path(\"/mnt/d/codigos/stl2lnas\")\n",
    "cargo_bin = pathlib.Path(\"/home/aerosim/.cargo/bin/cargo\")\n"
   ]
  },
  {
   "cell_type": "markdown",
   "metadata": {},
   "source": [
    "## Functions definitions"
   ]
  },
  {
   "cell_type": "markdown",
   "metadata": {},
   "source": [
    "### Yaml and file tree handling"
   ]
  },
  {
   "cell_type": "code",
   "execution_count": 131,
   "metadata": {},
   "outputs": [],
   "source": [
    "def save_yaml(filename: Path, data: Dict):\n",
    "    \"\"\"Save YAML into file\n",
    "\n",
    "    Args:\n",
    "        filename (str): File to write into\n",
    "        data (dict): Data to write in form of dict\n",
    "\n",
    "    Raises:\n",
    "        Exception: Unable to read YAML from file\n",
    "    \"\"\"\n",
    "    # Save YAML into file\n",
    "    (filename.parent).mkdir(parents=True, exist_ok=True)\n",
    "    filename = str(filename)\n",
    "    with open(filename, \"w\", encoding=\"utf-8\") as f:\n",
    "        try:\n",
    "            yaml = YAML()\n",
    "            yaml.default_flow_style = None\n",
    "            yaml.preserve_quotes = True\n",
    "            yaml.allow_unicode = True\n",
    "            yaml.dump(data, f)\n",
    "        except Exception as e:\n",
    "            raise Exception(f\"Unable to write YAML into {filename}. Exception {e}\") from e"
   ]
  },
  {
   "cell_type": "markdown",
   "metadata": {},
   "source": [
    "### file mode"
   ]
  },
  {
   "cell_type": "code",
   "execution_count": 180,
   "metadata": {},
   "outputs": [],
   "source": [
    "def generate_cfg_for_stl_file(dir_root: Path, stl_file: Path) -> Path:\n",
    "    cfgs_root = dir_root.parent / \"lnas_cfg\"\n",
    "    output_root = dir_root.parent / \"lnas\"\n",
    "    path_relative = stl_file.relative_to(dir_root)\n",
    "    \n",
    "    yaml_cfg_dict = {}\n",
    "    file_name = stl_file.stem\n",
    "    yaml_cfg_dict[\"name\"] = file_name\n",
    "    yaml_cfg_dict[\"stl\"] = {}\n",
    "    yaml_cfg_dict[\"stl\"][\"files\"] = {}\n",
    "    yaml_cfg_dict[\"stl\"][\"files\"][file_name] = str(stl_file)\n",
    "    yaml_cfg_dict[\"stl\"][\"folders\"] = []\n",
    "    yaml_cfg_dict[\"output\"] = {}\n",
    "    yaml_cfg_dict[\"output\"][\"folder\"] = str(output_root / path_relative.parent / file_name)\n",
    "    config_filename = (cfgs_root / path_relative.parent / (\"convert_\" + file_name + \".yaml\"))\n",
    "    save_yaml(config_filename, data=yaml_cfg_dict)\n",
    "    return config_filename"
   ]
  },
  {
   "cell_type": "code",
   "execution_count": 133,
   "metadata": {},
   "outputs": [],
   "source": [
    "def file_mode_generate_config_files_from_directory(dir_root: Path, dir_tree: Dict) -> Dict:\n",
    "    cfgs_root = dir_root.parent / \"lnas_cfg\"\n",
    "    cfg_files_tree = {}\n",
    "    cfg_files_tree[\"_files\"] = []\n",
    "    for key in dir_tree:\n",
    "        if key == \"_files\":\n",
    "            for stl_file in dir_tree[\"_files\"]:\n",
    "                cfg_files_tree[\"_files\"].append(generate_cfg_for_stl_file(dir_root, stl_file))\n",
    "        elif key.is_dir():\n",
    "            cfg_dir_path_relative = key.relative_to(dir_root)\n",
    "            cfg_dir_path = cfgs_root / cfg_dir_path_relative\n",
    "            cfg_files_tree[cfg_dir_path] = file_mode_generate_config_files_from_directory(dir_root, dir_tree[key])\n",
    "    return cfg_files_tree"
   ]
  },
  {
   "cell_type": "markdown",
   "metadata": {},
   "source": [
    "### folder mode"
   ]
  },
  {
   "cell_type": "code",
   "execution_count": 179,
   "metadata": {},
   "outputs": [],
   "source": [
    "def generate_cfg_for_stl_folder(dir_root: Path, stl_folder: Path) -> Path:\n",
    "    cfgs_root = dir_root.parent / \"lnas_cfg\"\n",
    "    output_root = dir_root.parent / \"lnas\"\n",
    "    path_relative = stl_folder.relative_to(dir_root)\n",
    "    \n",
    "    yaml_cfg_dict = {}\n",
    "    dir_name = stl_folder.stem\n",
    "    yaml_cfg_dict[\"name\"] = dir_name\n",
    "    yaml_cfg_dict[\"stl\"] = {}\n",
    "    yaml_cfg_dict[\"stl\"][\"files\"] = {}\n",
    "    yaml_cfg_dict[\"stl\"][\"folders\"] = []\n",
    "    yaml_cfg_dict[\"stl\"][\"folders\"].append(str(stl_folder))\n",
    "    yaml_cfg_dict[\"output\"] = {}\n",
    "    yaml_cfg_dict[\"output\"][\"folder\"] = str(output_root / path_relative)\n",
    "    config_filename = (cfgs_root / path_relative.parent / (\"convert_\" + dir_name + \".yaml\"))\n",
    "    save_yaml(config_filename, data=yaml_cfg_dict)\n",
    "    return config_filename"
   ]
  },
  {
   "cell_type": "code",
   "execution_count": 190,
   "metadata": {},
   "outputs": [],
   "source": [
    "def folder_mode_generate_config_files_from_directory(dir_root: Path, dir_tree: Dict) -> Dict:\n",
    "    cfgs_root = dir_root.parent / \"lnas_cfg\"\n",
    "    cfg_files_tree = {}\n",
    "    cfg_files_tree[\"_files\"] = []\n",
    "    \n",
    "    for key in dir_tree:\n",
    "        if key == \"_files\":\n",
    "            continue\n",
    "        elif key.is_dir():\n",
    "            cfg_dir_path_relative = key.relative_to(dir_root)\n",
    "            cfg_dir_path = cfgs_root / cfg_dir_path_relative\n",
    "            if len(dir_tree[key]) == 1: # '_files' is always defined\n",
    "                cfg_files_tree[\"_files\"].append(generate_cfg_for_stl_folder(dir_root, key))\n",
    "            else:\n",
    "                cfg_files_tree[cfg_dir_path] = folder_mode_generate_config_files_from_directory(dir_root, dir_tree=dir_tree[key])\n",
    "    return cfg_files_tree"
   ]
  },
  {
   "cell_type": "markdown",
   "metadata": {},
   "source": [
    "### lnas handling"
   ]
  },
  {
   "cell_type": "code",
   "execution_count": 174,
   "metadata": {},
   "outputs": [],
   "source": [
    "def generate_lnas_from_cfg_file(cfg_file: Path):\n",
    "    (cfg_file.parent).mkdir(parents=True, exist_ok=True)\n",
    "    command = f\"{str(cargo_bin)} run --release -- --cfg {str(cfg_file)}\"\n",
    "    try:\n",
    "        print(os.getcwd())\n",
    "        subprocess.run(command, shell=True, check=True)\n",
    "    except subprocess.CalledProcessError as e:\n",
    "        print(f\"Error: {e}\")"
   ]
  },
  {
   "cell_type": "code",
   "execution_count": 177,
   "metadata": {},
   "outputs": [],
   "source": [
    "def generate_lnas_from_cfg_tree(stl2lnas_repository_path: Path, cfg_tree: Dict):\n",
    "    previous_path = Path.cwd()\n",
    "    os.chdir(stl2lnas_repository_path)\n",
    "    for key in cfg_tree:\n",
    "        if key == \"_files\":\n",
    "            for cfg_file in cfg_tree[\"_files\"]:\n",
    "                generate_lnas_from_cfg_file(cfg_file)\n",
    "        elif key.is_dir():\n",
    "            generate_lnas_from_cfg_tree(stl2lnas_repository_path, cfg_tree[key])\n",
    "    os.chdir(previous_path)"
   ]
  },
  {
   "cell_type": "markdown",
   "metadata": {},
   "source": [
    "# Execution"
   ]
  },
  {
   "cell_type": "code",
   "execution_count": 181,
   "metadata": {},
   "outputs": [],
   "source": [
    "file_mode_dir_tree = get_directory_content(file_mode_dir_root)\n",
    "folder_mode_dir_tree = get_directory_content(folder_mode_dir_root)"
   ]
  },
  {
   "cell_type": "code",
   "execution_count": 191,
   "metadata": {},
   "outputs": [],
   "source": [
    "file_mode_cfg_path_tree = file_mode_generate_config_files_from_directory(file_mode_dir_root, file_mode_dir_tree)\n",
    "folder_mode_cfg_path_tree = folder_mode_generate_config_files_from_directory(folder_mode_dir_root, folder_mode_dir_tree)"
   ]
  },
  {
   "cell_type": "code",
   "execution_count": 192,
   "metadata": {},
   "outputs": [
    {
     "name": "stdout",
     "output_type": "stream",
     "text": [
      "/mnt/d/codigos/stl2lnas\n"
     ]
    },
    {
     "name": "stderr",
     "output_type": "stream",
     "text": [
      "    Finished release [optimized] target(s) in 0.38s\n",
      "     Running `target/release/stl2lnas --cfg /mnt/d/codigos/dev01_nassu_data/consulting/026-PrologisCajamar4/project_data/lnas_cfg/convert_G200.yaml`\n"
     ]
    },
    {
     "name": "stdout",
     "output_type": "stream",
     "text": [
      "Saving...\n",
      "Generated!\n",
      "/mnt/d/codigos/stl2lnas\n"
     ]
    },
    {
     "name": "stderr",
     "output_type": "stream",
     "text": [
      "    Finished release [optimized] target(s) in 0.35s\n",
      "     Running `target/release/stl2lnas --cfg /mnt/d/codigos/dev01_nassu_data/consulting/026-PrologisCajamar4/project_data/lnas_cfg/convert_G300.yaml`\n"
     ]
    },
    {
     "name": "stdout",
     "output_type": "stream",
     "text": [
      "Saving...\n",
      "Generated!\n"
     ]
    }
   ],
   "source": [
    "generate_lnas_from_cfg_tree(stl2lnas_repository_path, file_mode_cfg_path_tree)\n",
    "generate_lnas_from_cfg_tree(stl2lnas_repository_path, folder_mode_cfg_path_tree)"
   ]
  }
 ],
 "metadata": {
  "kernelspec": {
   "display_name": "cfdmod-XMkUSlb0-py3.10",
   "language": "python",
   "name": "python3"
  },
  "language_info": {
   "codemirror_mode": {
    "name": "ipython",
    "version": 3
   },
   "file_extension": ".py",
   "mimetype": "text/x-python",
   "name": "python",
   "nbconvert_exporter": "python",
   "pygments_lexer": "ipython3",
   "version": "3.10.13"
  }
 },
 "nbformat": 4,
 "nbformat_minor": 2
}
