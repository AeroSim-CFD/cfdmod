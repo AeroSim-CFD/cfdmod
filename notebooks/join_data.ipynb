{
 "cells": [
  {
   "cell_type": "code",
   "execution_count": 7,
   "metadata": {},
   "outputs": [
    {
     "name": "stdout",
     "output_type": "stream",
     "text": [
      "(987, 3) (1792, 3)\n",
      "          pos_x      pos_y      pos_z  point_index\n",
      "0      0.000000  50.000000  15.000000            0\n",
      "1      2.861201  50.000000  15.000000            1\n",
      "2      0.000000  62.721981  14.469869            2\n",
      "3      0.000000  54.012745  14.832854            3\n",
      "4      0.000000  56.238396  14.740100            4\n",
      "..          ...        ...        ...          ...\n",
      "982   20.077307  95.169220  13.117918          982\n",
      "983  200.870193  96.753693  13.051949          983\n",
      "984  343.538544  85.418785  13.524179          984\n",
      "985   82.020248  64.401810  14.399935          985\n",
      "986  160.058548  69.295067  14.196043          986\n",
      "\n",
      "[987 rows x 4 columns]\n"
     ]
    }
   ],
   "source": [
    "import pathlib\n",
    "\n",
    "import numpy as np\n",
    "from lnas import LnasFormat, LnasGeometry\n",
    "from cfdmod.utils import create_folders_for_file\n",
    "import pandas as pd\n",
    "\n",
    "\n",
    "case_path = pathlib.Path(\"../insight/Docker/local/volume/bucket/old_volume/escalonamento_s1/BL01/Caso_0-test\")\n",
    "\n",
    "for sfc_path in [f for f in (case_path / \"surfaces\").iterdir() if f.is_dir()][:1]:\n",
    "    # print(sfc_path.name)\n",
    "\n",
    "    points = np.fromfile(sfc_path / \"mesh_points.npy\", dtype=np.float32)\n",
    "    points = np.reshape(points, (points.shape[0] // 3, 3))\n",
    "    triangles = np.fromfile(sfc_path / \"mesh_triangles.npy\", dtype=np.int32)\n",
    "    triangles = np.reshape(triangles, (triangles.shape[0] // 3, 3))\n",
    "\n",
    "    lnas_geometry = LnasGeometry(vertices=points, triangles=triangles)\n",
    "    data = pd.read_pickle(sfc_path / \"raw_points.pickle\")\n",
    "    print(points.shape, triangles.shape)\n",
    "    print(data)\n",
    "    # lnas = LnasFormat(\n",
    "    #     version=\"v0.4.3\", name=sfc_path.name, normalization=None, geometry=lnas_geometry, surfaces={}\n",
    "    # )\n",
    "    # lnas.to_file(sfc_path / \"mesh.lnas\")"
   ]
  },
  {
   "cell_type": "code",
   "execution_count": null,
   "metadata": {},
   "outputs": [],
   "source": []
  }
 ],
 "metadata": {
  "kernelspec": {
   "display_name": "cfdmod-7yEqALRC-py3.10",
   "language": "python",
   "name": "python3"
  },
  "language_info": {
   "codemirror_mode": {
    "name": "ipython",
    "version": 3
   },
   "file_extension": ".py",
   "mimetype": "text/x-python",
   "name": "python",
   "nbconvert_exporter": "python",
   "pygments_lexer": "ipython3",
   "version": "3.10.12"
  }
 },
 "nbformat": 4,
 "nbformat_minor": 2
}
