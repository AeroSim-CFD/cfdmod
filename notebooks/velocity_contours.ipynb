{
 "cells": [
  {
   "cell_type": "code",
   "execution_count": null,
   "metadata": {},
   "outputs": [],
   "source": [
    "import pyvista as pv\n",
    "import pathlib\n",
    "\n",
    "case_folder = pathlib.Path(\"/home/ubuntu/Documentos/Repositories/insight/Docker/local/openfoam/028-Lyon/000/case.foam\")\n",
    "reader = pv.POpenFOAMReader(case_folder)\n",
    "\n",
    "reader.case_type = \"decomposed\"\n",
    "mesh = reader.read()\n",
    "internal_mesh = mesh[\"internalMesh\"]\n",
    "\n",
    "sliced_mesh = internal_mesh.slice(normal=[0, 1, 0], origin=[-300, -12.1, 1873.62])\n",
    "contour = sliced_mesh.contour(isosurfaces=24, scalars=\"U\")"
   ]
  },
  {
   "cell_type": "code",
   "execution_count": null,
   "metadata": {},
   "outputs": [],
   "source": [
    "import numpy as np\n",
    "\n",
    "pv.global_theme.cmap = 'turbo'\n",
    "\n",
    "camera_pos = sliced_mesh.center + np.array([0,1000,-1000])\n",
    "camera_foccus = sliced_mesh.center + np.array([0,0,-1000])\n",
    "# camera_foccus = sliced_mesh.center + np.array([0,0,0])\n",
    "\n",
    "plotter = pv.Plotter(off_screen=False, lighting=\"three lights\")\n",
    "\n",
    "camera = plotter.camera\n",
    "camera.SetFocalPoint(camera_foccus)\n",
    "camera.SetPosition(camera_pos)\n",
    "plotter.camera.zoom(0.6)\n",
    "\n",
    "plotter.set_background(color=\"gray\")\n",
    "# line width = 2\n",
    "    \n",
    "# plotter.add_mesh(sliced_mesh, color=\"white\", show_edges=True)  # Replace \"U\" with the desired field name\n",
    "plotter.add_mesh(sliced_mesh, color=\"white\")  # Replace \"U\" with the desired field name\n",
    "plotter.add_mesh(contour, scalars=\"U\", line_width=2)  # Replace \"U\" with the desired field name\n",
    "# plotter.remove_scalar_bar()\n",
    "plotter.show(window_size=[1500, 600])"
   ]
  },
  {
   "cell_type": "code",
   "execution_count": null,
   "metadata": {},
   "outputs": [],
   "source": [
    "import pathlib\n",
    "from cfdmod.utils import create_folders_for_file\n",
    "\n",
    "output_path = pathlib.Path(\"./output/images/screenshot.png\")\n",
    "create_folders_for_file(output_path)\n",
    "plotter.screenshot(output_path)  "
   ]
  }
 ],
 "metadata": {
  "kernelspec": {
   "display_name": "cfdmod-7yEqALRC-py3.10",
   "language": "python",
   "name": "python3"
  },
  "language_info": {
   "codemirror_mode": {
    "name": "ipython",
    "version": 3
   },
   "file_extension": ".py",
   "mimetype": "text/x-python",
   "name": "python",
   "nbconvert_exporter": "python",
   "pygments_lexer": "ipython3",
   "version": "3.10.11"
  }
 },
 "nbformat": 4,
 "nbformat_minor": 2
}
