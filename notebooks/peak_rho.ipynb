{
 "cells": [
  {
   "cell_type": "code",
   "execution_count": 2,
   "metadata": {},
   "outputs": [],
   "source": [
    "import pathlib\n",
    "import pandas as pd\n",
    "\n",
    "for case_lbl in [\"058\", \"238\", \"283\", \"103\", \"328\"]:\n",
    "    data_path = pathlib.Path(f\"/mnt/dev01_openfoam_data/data/{case_lbl}/pressure_inf_probes/points.p_inf_G100_center.data.h5\")\n",
    "    data = pd.read_hdf(data_path)\n",
    "\n",
    "    data[\"rho\"] = data[\"rho\"].mean() + 2 * data[\"rho\"].std()\n",
    "\n",
    "    data.to_hdf(path_or_buf=data_path.parent / \"peak_rho.h5\", key=\"data\")"
   ]
  }
 ],
 "metadata": {
  "kernelspec": {
   "display_name": "cfdmod-EnKwDiIS-py3.10",
   "language": "python",
   "name": "python3"
  },
  "language_info": {
   "codemirror_mode": {
    "name": "ipython",
    "version": 3
   },
   "file_extension": ".py",
   "mimetype": "text/x-python",
   "name": "python",
   "nbconvert_exporter": "python",
   "pygments_lexer": "ipython3",
   "version": "3.10.12"
  }
 },
 "nbformat": 4,
 "nbformat_minor": 2
}
