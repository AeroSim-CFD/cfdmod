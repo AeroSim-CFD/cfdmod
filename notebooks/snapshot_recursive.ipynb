{
 "cells": [
  {
   "cell_type": "code",
   "execution_count": null,
   "metadata": {},
   "outputs": [],
   "source": [
    "import pathlib\n",
    "\n",
    "from cfdmod.use_cases.snapshot.camera import take_snapshot\n",
    "from cfdmod.use_cases.snapshot.config import SnapshotConfig\n",
    "from cfdmod.use_cases.snapshot.process_image import process_image\n",
    "from cfdmod.utils import create_folder_path\n",
    "import warnings\n",
    "\n",
    "project_path = pathlib.Path(\"/home/ubuntu/Documentos/Repositories/insight/Docker/local/volume/PrologisCajamar4_final\")\n",
    "\n",
    "for block_lbl in [\"G100\", \"G200\", \"G300\"]:\n",
    "    cfg_path = project_path / block_lbl / \"configs\" / \"snapshot_params.yaml\"\n",
    "    cfg = SnapshotConfig.from_file(cfg_path)\n",
    "\n",
    "    output_path = project_path / block_lbl / \"images\"\n",
    "    create_folder_path(output_path)\n",
    "    \n",
    "    for polydata_cfg in cfg.polydata:\n",
    "        vtp_path = pathlib.Path(polydata_cfg.file_path)\n",
    "    \n",
    "        for image_cfg in polydata_cfg.images:\n",
    "            with warnings.catch_warnings():\n",
    "                warnings.simplefilter(\"ignore\")\n",
    "                take_snapshot(\n",
    "                    scalar_name=image_cfg.scalar_label,\n",
    "                    file_path=vtp_path,\n",
    "                    output_path=output_path / f\"{image_cfg.image_label}.png\",\n",
    "                    colormap_params=cfg.colormap,\n",
    "                    projection_params=cfg.projection,\n",
    "                    camera_params=cfg.camera,\n",
    "                )\n",
    "            process_image(\n",
    "                image_path=output_path / f\"{image_cfg.image_label}.png\",\n",
    "                output_path=output_path / f\"{image_cfg.image_label}.png\",\n",
    "                crop_cfg=cfg.camera.crop,\n",
    "            )"
   ]
  }
 ],
 "metadata": {
  "kernelspec": {
   "display_name": "cfdmod-7yEqALRC-py3.10",
   "language": "python",
   "name": "python3"
  },
  "language_info": {
   "codemirror_mode": {
    "name": "ipython",
    "version": 3
   },
   "file_extension": ".py",
   "mimetype": "text/x-python",
   "name": "python",
   "nbconvert_exporter": "python",
   "pygments_lexer": "ipython3",
   "version": "3.10.12"
  }
 },
 "nbformat": 4,
 "nbformat_minor": 2
}
