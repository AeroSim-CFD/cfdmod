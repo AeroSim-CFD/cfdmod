{
 "cells": [
  {
   "cell_type": "code",
   "execution_count": 2,
   "metadata": {},
   "outputs": [
    {
     "name": "stdout",
     "output_type": "stream",
     "text": [
      "0034704 /mnt/disk01/prd-eng/consulting/quotation_RCMEstruturas_CCYEQ/results/pilot/000/000/macrs/instantaneous/animation/macrs_0034704.vtm\n"
     ]
    },
    {
     "name": "stderr",
     "output_type": "stream",
     "text": [
      "ERROR:root:Algorithm vtkXMLMultiBlockDataWriter (0x58fc8abccf90) returned failure for request: vtkInformation (0x58fc8cdacc00)\n",
      "\u001b[0m\u001b[31m2024-04-18 15:38:46.923 ( 641.811s) [    763228B66480]       vtkExecutive.cxx:729    ERR| vtkCompositeDataPipeline (0x58fcd46bc520): Algorithm vtkXMLMultiBlockDataWriter (0x58fc8abccf90) returned failure for request: vtkInformation (0x58fc8cdacc00)\n",
      "  Debug: Off\n",
      "  Modified Time: 1220279098\n",
      "  Reference Count: 1\n",
      "  Registered Events: (none)\n",
      "  Request: REQUEST_DATA\n",
      "  FROM_OUTPUT_PORT: -1\n",
      "  ALGORITHM_AFTER_FORWARD: 1\n",
      "  FORWARD_DIRECTION: 0\n",
      "\n",
      "\u001b[0m\n"
     ]
    }
   ],
   "source": [
    "import pyvista as pv\n",
    "import numpy as np\n",
    "import pathlib\n",
    "\n",
    "box_position = np.array([127.815, 70, 2])\n",
    "box_size = np.array([46.5889, 20, 6])\n",
    "\n",
    "bounds = [box_position, box_position + box_size]\n",
    "clip_box = [bounds[0][0], bounds[1][0], bounds[0][1], bounds[1][1], bounds[0][2], bounds[1][2]]\n",
    "\n",
    "results_path = pathlib.Path(\"/mnt/disk01/prd-eng/consulting/quotation_RCMEstruturas_CCYEQ/results/pilot/000/000/macrs/instantaneous/animation\")\n",
    "\n",
    "for file_path in [f for f in results_path.iterdir() if f.is_file() and f.name != \"macrs_0000000.vtm\"][:1]:\n",
    "    index = file_path.name.replace(\".vtm\", \"\").replace(\"macrs_\", \"\")\n",
    "    print(index, file_path)\n",
    "    multiblock = pv.read(file_path)\n",
    "    \n",
    "    clipped_multiblock = pv.MultiBlock()\n",
    "    clipped_block = multiblock.clip_box(clip_box, invert=False)\n",
    "    \n",
    "    # clipped_block.plot()\n",
    "    \n",
    "    clipped_multiblock.as_polydata_blocks(True).save(results_path / \"slices\" / f\"clipped_multiblock_{index}.vtm\")\n",
    "\n",
    "    # sliced_multiblock_y = clipped_multiblock.slice(normal=[0, 1, 0], origin=[420, 81, 48])\n",
    "    # sliced_multiblock_z = clipped_multiblock.slice(normal=[0, 0, 1], origin=[420, 80, 2.75])\n",
    "\n",
    "    # sliced_multiblock_y.save(results_path / \"slices\" / f\"sliced_clipped_multiblock_y_{index}.vtm\")\n",
    "    # sliced_multiblock_z.save(results_path / \"slices\" / f\"sliced_clipped_multiblock_z_{index}.vtm\")"
   ]
  }
 ],
 "metadata": {
  "kernelspec": {
   "display_name": "cfdmod-GCYMzcR2-py3.10",
   "language": "python",
   "name": "python3"
  },
  "language_info": {
   "codemirror_mode": {
    "name": "ipython",
    "version": 3
   },
   "file_extension": ".py",
   "mimetype": "text/x-python",
   "name": "python",
   "nbconvert_exporter": "python",
   "pygments_lexer": "ipython3",
   "version": "3.10.12"
  }
 },
 "nbformat": 4,
 "nbformat_minor": 2
}
