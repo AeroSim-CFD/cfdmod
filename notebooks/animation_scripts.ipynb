{
 "cells": [
  {
   "cell_type": "code",
   "execution_count": null,
   "metadata": {},
   "outputs": [],
   "source": [
    "import pyvista as pv\n",
    "\n",
    "multiblock = pv.MultiBlock()\n",
    "sliced_multiblock = pv.MultiBlock()\n",
    "\n",
    "for name, block in multiblock.items():\n",
    "    sliced_block = block.slice(normal=[1, 0, 0], origin=[0, 0, 0])\n",
    "    sliced_multiblock[name] = sliced_block\n",
    "\n",
    "output_file = \"sliced_multiblock.vtm\"\n",
    "sliced_multiblock.save(output_file)"
   ]
  }
 ],
 "metadata": {
  "kernelspec": {
   "display_name": "cfdmod-GCYMzcR2-py3.10",
   "language": "python",
   "name": "python3"
  },
  "language_info": {
   "name": "python",
   "version": "3.10.12"
  }
 },
 "nbformat": 4,
 "nbformat_minor": 2
}
