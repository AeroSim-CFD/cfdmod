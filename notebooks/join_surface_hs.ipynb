{
 "cells": [
  {
   "cell_type": "markdown",
   "metadata": {},
   "source": [
    "Read Mesh"
   ]
  },
  {
   "cell_type": "code",
   "execution_count": 1,
   "metadata": {},
   "outputs": [],
   "source": [
    "from nassu.lnas import LagrangianFormat\n",
    "import pathlib\n",
    "\n",
    "mesh = LagrangianFormat.from_file(pathlib.Path(\"./output/simulation_test/lnas/G200/G200.transformed.lnas\"))"
   ]
  },
  {
   "cell_type": "markdown",
   "metadata": {},
   "source": [
    "Read historic series"
   ]
  },
  {
   "cell_type": "code",
   "execution_count": 2,
   "metadata": {},
   "outputs": [
    {
     "data": {
      "text/plain": [
       "174184"
      ]
     },
     "execution_count": 2,
     "metadata": {},
     "output_type": "execute_result"
    }
   ],
   "source": [
    "import pandas as pd\n",
    "\n",
    "data_path = pathlib.Path(\"./output/simulation_test/probes/hist_series/series1\")\n",
    "\n",
    "body_hist_series = pd.read_hdf(data_path / \"bodies.G200.data.h5\")\n",
    "sfc1_data = pd.read_hdf(data_path / \"bodies.m1_inferior.data.h5\")\n",
    "sfc2_data = pd.read_hdf(data_path / \"bodies.m2_inferior.data.h5\")\n",
    "sfc3_data = pd.read_hdf(data_path / \"bodies.m3_inferior.data.h5\")\n",
    "\n",
    "last_index = body_hist_series.point_idx.max()\n",
    "sfc1_data.point_idx += last_index + 1\n",
    "\n",
    "last_index = sfc1_data.point_idx.max()\n",
    "sfc2_data.point_idx += last_index + 1\n",
    "\n",
    "last_index = sfc2_data.point_idx.max()\n",
    "sfc3_data.point_idx += last_index + 1\n",
    "\n",
    "len(body_hist_series.index) + len(sfc1_data.index) + len(sfc2_data.index) + len(sfc3_data.index)"
   ]
  },
  {
   "cell_type": "markdown",
   "metadata": {},
   "source": [
    "Offset surface"
   ]
  },
  {
   "cell_type": "code",
   "execution_count": 3,
   "metadata": {},
   "outputs": [],
   "source": [
    "import numpy as np\n",
    "\n",
    "NORMAL_OFFSET = - 0.5\n",
    "\n",
    "for surface_name in [\"m1_main\", \"m2_main\", \"m3_main\"]:\n",
    "    tri_normals = mesh.geometry_from_surface(surface_name).normals.copy()\n",
    "    tri_verts = mesh.geometry_from_surface(surface_name).triangle_vertices.copy()\n",
    "    tri_verts += np.repeat(tri_normals, 3).reshape(-1,3,3) * NORMAL_OFFSET\n",
    "\n",
    "    new_verts = tri_verts.copy().reshape(-1, 3)\n",
    "    new_triangles = []\n",
    "\n",
    "    for tri in tri_verts:\n",
    "        tri_index = []\n",
    "        for v in tri:\n",
    "            matches = np.all(new_verts == v, axis=1)\n",
    "            indices = np.where(matches)\n",
    "            tri_index.append(indices[0][0])\n",
    "        new_triangles.append(np.array(tri_index))\n",
    "\n",
    "    new_triangles = np.array(new_triangles) + len(mesh.geometry.vertices)\n",
    "\n",
    "    mesh.geometry.vertices = np.concatenate((mesh.geometry.vertices, new_verts))\n",
    "    mesh.geometry.triangles = np.concatenate((mesh.geometry.triangles, new_triangles))\n",
    "\n",
    "    mesh.geometry._update_triangles_vertices()\n",
    "    mesh.geometry._update_normals()\n",
    "    mesh.geometry._update_areas()\n",
    "    \n",
    "filename = pathlib.Path(\"./output/simulation_test/lnas/G200/G200.merged.lnas\")\n",
    "mesh.to_file(filename)"
   ]
  },
  {
   "cell_type": "markdown",
   "metadata": {},
   "source": [
    "Join historic series"
   ]
  },
  {
   "cell_type": "code",
   "execution_count": 4,
   "metadata": {},
   "outputs": [],
   "source": [
    "new_df = pd.concat([body_hist_series, sfc1_data, sfc2_data, sfc3_data]).sort_values(by=[\"time_step\", \"point_idx\"])\n",
    "new_df.to_hdf(data_path / \"bodies.G200.merged.data.h5\", key='df', mode='w')"
   ]
  }
 ],
 "metadata": {
  "kernelspec": {
   "display_name": "cfdmod-XMkUSlb0-py3.10",
   "language": "python",
   "name": "python3"
  },
  "language_info": {
   "codemirror_mode": {
    "name": "ipython",
    "version": 3
   },
   "file_extension": ".py",
   "mimetype": "text/x-python",
   "name": "python",
   "nbconvert_exporter": "python",
   "pygments_lexer": "ipython3",
   "version": "3.11.4"
  }
 },
 "nbformat": 4,
 "nbformat_minor": 2
}
