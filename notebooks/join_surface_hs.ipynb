{
 "cells": [
  {
   "cell_type": "markdown",
   "metadata": {},
   "source": [
    "Read Mesh"
   ]
  },
  {
   "cell_type": "code",
   "execution_count": 1,
   "metadata": {},
   "outputs": [],
   "source": [
    "from nassu.lnas import LagrangianFormat\n",
    "import pathlib\n",
    "\n",
    "mesh = LagrangianFormat.from_file(pathlib.Path(\"./output/simulation_test/lnas/G200/G200.lnas\"))"
   ]
  },
  {
   "cell_type": "markdown",
   "metadata": {},
   "source": [
    "Read historic series"
   ]
  },
  {
   "cell_type": "code",
   "execution_count": 2,
   "metadata": {},
   "outputs": [
    {
     "data": {
      "text/plain": [
       "174184"
      ]
     },
     "execution_count": 2,
     "metadata": {},
     "output_type": "execute_result"
    }
   ],
   "source": [
    "import pandas as pd\n",
    "\n",
    "data_path = pathlib.Path(\"./output/simulation_test/probes/hist_series/series1\")\n",
    "\n",
    "body_hist_series = pd.read_hdf(data_path / \"bodies.G200.data.h5\")\n",
    "sfc1_data = pd.read_hdf(data_path / \"bodies.m1_inferior.data.h5\")\n",
    "sfc2_data = pd.read_hdf(data_path / \"bodies.m2_inferior.data.h5\")\n",
    "sfc3_data = pd.read_hdf(data_path / \"bodies.m3_inferior.data.h5\")\n",
    "\n",
    "last_index = body_hist_series.point_idx.max()\n",
    "sfc1_data.point_idx += last_index + 1\n",
    "\n",
    "last_index = sfc1_data.point_idx.max()\n",
    "sfc2_data.point_idx += last_index + 1\n",
    "\n",
    "last_index = sfc2_data.point_idx.max()\n",
    "sfc3_data.point_idx += last_index + 1\n",
    "\n",
    "len(body_hist_series.index) + len(sfc1_data.index) + len(sfc2_data.index) + len(sfc3_data.index)"
   ]
  },
  {
   "cell_type": "markdown",
   "metadata": {},
   "source": [
    "Offset surface"
   ]
  },
  {
   "cell_type": "code",
   "execution_count": 3,
   "metadata": {},
   "outputs": [
    {
     "data": {
      "text/plain": [
       "((21773, 3), (21773, 3))"
      ]
     },
     "execution_count": 3,
     "metadata": {},
     "output_type": "execute_result"
    }
   ],
   "source": [
    "import numpy as np\n",
    "\n",
    "NORMAL_OFFSET = -0.125\n",
    "\n",
    "\n",
    "for surface_name in [\"m1_main\", \"m2_main\", \"m3_main\"]:\n",
    "    tri_normals = mesh.geometry_from_surface(surface_name).normals.copy()\n",
    "    tri_verts = mesh.geometry_from_surface(surface_name).triangle_vertices.copy()\n",
    "    tri_verts += np.repeat(tri_normals, 3, axis=0).reshape(-1, 3, 3) * NORMAL_OFFSET\n",
    "\n",
    "    new_verts = tri_verts.copy().reshape(-1, 3)\n",
    "    new_verts = np.unique(new_verts, axis=0)\n",
    "\n",
    "    new_triangles = []\n",
    "\n",
    "    for tri in tri_verts:\n",
    "        tri_index = []\n",
    "        for v in tri:\n",
    "            matches = np.all(new_verts == v, axis=1)\n",
    "            indices = np.where(matches)\n",
    "            tri_index.append(indices[0][0])\n",
    "        tri_index.reverse()\n",
    "        new_triangles.append(np.array(tri_index))\n",
    "\n",
    "    new_triangles = np.array(new_triangles, dtype=np.uint32) + len(mesh.geometry.vertices)\n",
    "\n",
    "    new_surface_name = surface_name.split(\"_\")[0] + \"_inferior\"\n",
    "    new_tri_indices = np.arange(\n",
    "        mesh.geometry.triangles.shape[0], mesh.geometry.triangles.shape[0] + new_triangles.shape[0]\n",
    "    )\n",
    "    mesh.surfaces[new_surface_name] = new_tri_indices\n",
    "\n",
    "    mesh.geometry.vertices = np.concatenate((mesh.geometry.vertices, new_verts))\n",
    "    mesh.geometry.triangles = np.concatenate((mesh.geometry.triangles, new_triangles))\n",
    "\n",
    "    mesh.geometry._update_triangles_vertices()\n",
    "    mesh.geometry._update_normals()\n",
    "    mesh.geometry._update_areas()\n",
    "    mesh.geometry._update_vertices_normals()\n",
    "\n",
    "\n",
    "filename = pathlib.Path(\"./output/simulation_test/lnas/G200/G200.merged.lnas\")\n",
    "export_path = pathlib.Path(\"./output/simulation_test/lnas/G200/G200.merged.stl\")\n",
    "\n",
    "mesh.to_file(filename)\n",
    "read_mesh = LagrangianFormat.from_file(filename)\n",
    "\n",
    "read_mesh.geometry.triangles.shape, mesh.geometry.triangles.shape"
   ]
  },
  {
   "cell_type": "markdown",
   "metadata": {},
   "source": [
    "Join historic series"
   ]
  },
  {
   "cell_type": "code",
   "execution_count": 4,
   "metadata": {},
   "outputs": [
    {
     "data": {
      "text/html": [
       "<div>\n",
       "<style scoped>\n",
       "    .dataframe tbody tr th:only-of-type {\n",
       "        vertical-align: middle;\n",
       "    }\n",
       "\n",
       "    .dataframe tbody tr th {\n",
       "        vertical-align: top;\n",
       "    }\n",
       "\n",
       "    .dataframe thead th {\n",
       "        text-align: right;\n",
       "    }\n",
       "</style>\n",
       "<table border=\"1\" class=\"dataframe\">\n",
       "  <thead>\n",
       "    <tr style=\"text-align: right;\">\n",
       "      <th></th>\n",
       "      <th>point_idx</th>\n",
       "      <th>rho</th>\n",
       "      <th>ux</th>\n",
       "      <th>uy</th>\n",
       "      <th>uz</th>\n",
       "      <th>time_step</th>\n",
       "    </tr>\n",
       "  </thead>\n",
       "  <tbody>\n",
       "    <tr>\n",
       "      <th>0</th>\n",
       "      <td>0</td>\n",
       "      <td>0.985114</td>\n",
       "      <td>1.346108e-04</td>\n",
       "      <td>0.000040</td>\n",
       "      <td>0.000119</td>\n",
       "      <td>1000.0</td>\n",
       "    </tr>\n",
       "    <tr>\n",
       "      <th>1</th>\n",
       "      <td>1</td>\n",
       "      <td>0.985309</td>\n",
       "      <td>2.115229e-04</td>\n",
       "      <td>-0.000032</td>\n",
       "      <td>0.000112</td>\n",
       "      <td>1000.0</td>\n",
       "    </tr>\n",
       "    <tr>\n",
       "      <th>2</th>\n",
       "      <td>2</td>\n",
       "      <td>0.985323</td>\n",
       "      <td>6.648335e-05</td>\n",
       "      <td>0.000076</td>\n",
       "      <td>0.000031</td>\n",
       "      <td>1000.0</td>\n",
       "    </tr>\n",
       "    <tr>\n",
       "      <th>3</th>\n",
       "      <td>3</td>\n",
       "      <td>0.985529</td>\n",
       "      <td>1.164332e-04</td>\n",
       "      <td>-0.000019</td>\n",
       "      <td>-0.000150</td>\n",
       "      <td>1000.0</td>\n",
       "    </tr>\n",
       "    <tr>\n",
       "      <th>4</th>\n",
       "      <td>4</td>\n",
       "      <td>0.985755</td>\n",
       "      <td>3.335405e-05</td>\n",
       "      <td>-0.000021</td>\n",
       "      <td>-0.000058</td>\n",
       "      <td>1000.0</td>\n",
       "    </tr>\n",
       "    <tr>\n",
       "      <th>...</th>\n",
       "      <td>...</td>\n",
       "      <td>...</td>\n",
       "      <td>...</td>\n",
       "      <td>...</td>\n",
       "      <td>...</td>\n",
       "      <td>...</td>\n",
       "    </tr>\n",
       "    <tr>\n",
       "      <th>21768</th>\n",
       "      <td>21768</td>\n",
       "      <td>1.002900</td>\n",
       "      <td>3.396856e-07</td>\n",
       "      <td>0.000009</td>\n",
       "      <td>0.000014</td>\n",
       "      <td>18500.0</td>\n",
       "    </tr>\n",
       "    <tr>\n",
       "      <th>21769</th>\n",
       "      <td>21769</td>\n",
       "      <td>1.002704</td>\n",
       "      <td>-1.329287e-05</td>\n",
       "      <td>0.000002</td>\n",
       "      <td>0.000029</td>\n",
       "      <td>18500.0</td>\n",
       "    </tr>\n",
       "    <tr>\n",
       "      <th>21770</th>\n",
       "      <td>21770</td>\n",
       "      <td>1.002752</td>\n",
       "      <td>1.921312e-05</td>\n",
       "      <td>0.000011</td>\n",
       "      <td>-0.000033</td>\n",
       "      <td>18500.0</td>\n",
       "    </tr>\n",
       "    <tr>\n",
       "      <th>21771</th>\n",
       "      <td>21771</td>\n",
       "      <td>1.002660</td>\n",
       "      <td>2.029974e-05</td>\n",
       "      <td>0.000016</td>\n",
       "      <td>-0.000010</td>\n",
       "      <td>18500.0</td>\n",
       "    </tr>\n",
       "    <tr>\n",
       "      <th>21772</th>\n",
       "      <td>21772</td>\n",
       "      <td>1.002905</td>\n",
       "      <td>-6.292905e-06</td>\n",
       "      <td>0.000011</td>\n",
       "      <td>0.000014</td>\n",
       "      <td>18500.0</td>\n",
       "    </tr>\n",
       "  </tbody>\n",
       "</table>\n",
       "<p>174184 rows × 6 columns</p>\n",
       "</div>"
      ],
      "text/plain": [
       "       point_idx       rho            ux        uy        uz  time_step\n",
       "0              0  0.985114  1.346108e-04  0.000040  0.000119     1000.0\n",
       "1              1  0.985309  2.115229e-04 -0.000032  0.000112     1000.0\n",
       "2              2  0.985323  6.648335e-05  0.000076  0.000031     1000.0\n",
       "3              3  0.985529  1.164332e-04 -0.000019 -0.000150     1000.0\n",
       "4              4  0.985755  3.335405e-05 -0.000021 -0.000058     1000.0\n",
       "...          ...       ...           ...       ...       ...        ...\n",
       "21768      21768  1.002900  3.396856e-07  0.000009  0.000014    18500.0\n",
       "21769      21769  1.002704 -1.329287e-05  0.000002  0.000029    18500.0\n",
       "21770      21770  1.002752  1.921312e-05  0.000011 -0.000033    18500.0\n",
       "21771      21771  1.002660  2.029974e-05  0.000016 -0.000010    18500.0\n",
       "21772      21772  1.002905 -6.292905e-06  0.000011  0.000014    18500.0\n",
       "\n",
       "[174184 rows x 6 columns]"
      ]
     },
     "execution_count": 4,
     "metadata": {},
     "output_type": "execute_result"
    }
   ],
   "source": [
    "new_df = pd.concat([body_hist_series, sfc1_data, sfc2_data, sfc3_data]).sort_values(\n",
    "    by=[\"time_step\", \"point_idx\"]\n",
    ")\n",
    "new_df.to_hdf(data_path / \"bodies.G200.merged.data.h5\", key=\"df\", mode=\"w\")\n",
    "\n",
    "new_df"
   ]
  }
 ],
 "metadata": {
  "kernelspec": {
   "display_name": "cfdmod-XMkUSlb0-py3.10",
   "language": "python",
   "name": "python3"
  },
  "language_info": {
   "codemirror_mode": {
    "name": "ipython",
    "version": 3
   },
   "file_extension": ".py",
   "mimetype": "text/x-python",
   "name": "python",
   "nbconvert_exporter": "python",
   "pygments_lexer": "ipython3",
   "version": "3.10.11"
  }
 },
 "nbformat": 4,
 "nbformat_minor": 2
}
