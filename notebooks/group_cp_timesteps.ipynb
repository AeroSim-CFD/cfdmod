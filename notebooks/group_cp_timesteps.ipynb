{
 "cells": [
  {
   "cell_type": "code",
   "execution_count": 27,
   "metadata": {},
   "outputs": [
    {
     "name": "stdout",
     "output_type": "stream",
     "text": [
      "8000.0 10695.0 0\n",
      "10700.0 13395.0 1\n",
      "13400.0 16095.0 2\n",
      "16100.0 18795.0 3\n",
      "18800.0 21495.0 4\n",
      "21500.0 24195.0 5\n",
      "24200.0 26895.0 6\n",
      "26900.0 29595.0 7\n",
      "29600.0 32295.0 8\n",
      "32300.0 34995.0 9\n",
      "35000.0 35000.0 10\n"
     ]
    }
   ],
   "source": [
    "import pandas as pd\n",
    "import pathlib\n",
    "\n",
    "number_of_samples = 10\n",
    "\n",
    "# data_path = pathlib.Path(\"../insight/Docker/local/volume/PrologisCajamar4_full/G200/cases/000/data/cp_t.hdf\")\n",
    "# output_path = data_path.parent / \"cp_t.h5\"\n",
    "\n",
    "# data_path = pathlib.Path(\"../insight/Docker/local/volume/PrologisCajamar4_full/G200/cases/000/data/peak_static.h5\")\n",
    "# output_path = data_path.parent / \"static_pressure.h5\"\n",
    "\n",
    "data_path = pathlib.Path(\"../insight/Docker/local/volume/PrologisCajamar4_full/G200/cases/000/data/bodies.G200.merged.data.h5\")\n",
    "output_path = data_path.parent / \"body_data.h5\"\n",
    "\n",
    "original_df = pd.read_hdf(data_path)\n",
    "\n",
    "with pd.HDFStore(output_path,  mode='w') as store:\n",
    "    step = original_df.time_step.nunique() //  number_of_samples\n",
    "    time_arr = original_df.time_step.unique()\n",
    "\n",
    "    for i in range(number_of_samples):\n",
    "        df = original_df.loc[(original_df.time_step >= time_arr[i * step]) & (original_df.time_step <= time_arr[(i + 1) * step - 1])].copy()\n",
    "        print(df.time_step.min(), df.time_step.max(), i)\n",
    "        store.put(f'range_{i}', df)\n",
    "\n",
    "    if time_arr[(i + 1) * step - 1] != time_arr[-1]:\n",
    "        df = original_df.loc[(original_df.time_step >= time_arr[(i + 1) * step]) & (original_df.time_step <= time_arr[-1])].copy()\n",
    "        print(df.time_step.min(), df.time_step.max(),i + 1)\n",
    "        store.put(f'range_{i + 1}', df)"
   ]
  },
  {
   "cell_type": "code",
   "execution_count": 29,
   "metadata": {},
   "outputs": [
    {
     "ename": "TypeError",
     "evalue": "NDFrame.to_hdf() missing 1 required positional argument: 'key'",
     "output_type": "error",
     "traceback": [
      "\u001b[0;31m---------------------------------------------------------------------------\u001b[0m",
      "\u001b[0;31mTypeError\u001b[0m                                 Traceback (most recent call last)",
      "\u001b[1;32m/home/ubuntu/Documentos/Repositories/cfdmod/notebooks/group_cp_timesteps.ipynb Cell 2\u001b[0m line \u001b[0;36m1\n\u001b[1;32m     <a href='vscode-notebook-cell:/home/ubuntu/Documentos/Repositories/cfdmod/notebooks/group_cp_timesteps.ipynb#W1sZmlsZQ%3D%3D?line=12'>13</a>\u001b[0m     df: pd\u001b[39m.\u001b[39mDataFrame \u001b[39m=\u001b[39m df_restored\u001b[39m.\u001b[39mloc[(df_restored\u001b[39m.\u001b[39mpoint_idx \u001b[39m>\u001b[39m\u001b[39m=\u001b[39m points_arr[i \u001b[39m*\u001b[39m step]) \u001b[39m&\u001b[39m (df_restored\u001b[39m.\u001b[39mpoint_idx \u001b[39m<\u001b[39m\u001b[39m=\u001b[39m points_arr[(i \u001b[39m+\u001b[39m \u001b[39m1\u001b[39m) \u001b[39m*\u001b[39m step \u001b[39m-\u001b[39m \u001b[39m1\u001b[39m])]\u001b[39m.\u001b[39mcopy()\n\u001b[1;32m     <a href='vscode-notebook-cell:/home/ubuntu/Documentos/Repositories/cfdmod/notebooks/group_cp_timesteps.ipynb#W1sZmlsZQ%3D%3D?line=13'>14</a>\u001b[0m     \u001b[39m# print(df.point_idx.min(), df.point_idx.max(), i)\u001b[39;00m\n\u001b[0;32m---> <a href='vscode-notebook-cell:/home/ubuntu/Documentos/Repositories/cfdmod/notebooks/group_cp_timesteps.ipynb#W1sZmlsZQ%3D%3D?line=14'>15</a>\u001b[0m     df\u001b[39m.\u001b[39;49mto_hdf(output_path\u001b[39m.\u001b[39;49mparent \u001b[39m/\u001b[39;49m \u001b[39mf\u001b[39;49m\u001b[39m\"\u001b[39;49m\u001b[39m{\u001b[39;49;00mrange_lbl\u001b[39m}\u001b[39;49;00m\u001b[39m.group_\u001b[39;49m\u001b[39m{\u001b[39;49;00mi\u001b[39m}\u001b[39;49;00m\u001b[39m.hdf\u001b[39;49m\u001b[39m\"\u001b[39;49m)\n\u001b[1;32m     <a href='vscode-notebook-cell:/home/ubuntu/Documentos/Repositories/cfdmod/notebooks/group_cp_timesteps.ipynb#W1sZmlsZQ%3D%3D?line=16'>17</a>\u001b[0m \u001b[39mif\u001b[39;00m points_arr[(i \u001b[39m+\u001b[39m \u001b[39m1\u001b[39m) \u001b[39m*\u001b[39m step \u001b[39m-\u001b[39m \u001b[39m1\u001b[39m] \u001b[39m!=\u001b[39m points_arr[\u001b[39m-\u001b[39m\u001b[39m1\u001b[39m]:\n\u001b[1;32m     <a href='vscode-notebook-cell:/home/ubuntu/Documentos/Repositories/cfdmod/notebooks/group_cp_timesteps.ipynb#W1sZmlsZQ%3D%3D?line=17'>18</a>\u001b[0m     df \u001b[39m=\u001b[39m original_df\u001b[39m.\u001b[39mloc[(original_df\u001b[39m.\u001b[39mpoint_idx \u001b[39m>\u001b[39m\u001b[39m=\u001b[39m points_arr[(i \u001b[39m+\u001b[39m \u001b[39m1\u001b[39m) \u001b[39m*\u001b[39m step]) \u001b[39m&\u001b[39m (original_df\u001b[39m.\u001b[39mpoint_idx \u001b[39m<\u001b[39m\u001b[39m=\u001b[39m points_arr[\u001b[39m-\u001b[39m\u001b[39m1\u001b[39m])]\u001b[39m.\u001b[39mcopy()\n",
      "\u001b[0;31mTypeError\u001b[0m: NDFrame.to_hdf() missing 1 required positional argument: 'key'"
     ]
    }
   ],
   "source": [
    "number_of_groups = 10\n",
    "\n",
    "with pd.HDFStore(output_path,  mode='r') as newstore:\n",
    "    for data_lbl in newstore.keys():\n",
    "        df_restored = newstore.select(data_lbl)\n",
    "        \n",
    "        step = df_restored.point_idx.nunique() //  number_of_groups\n",
    "        points_arr = df_restored.point_idx.unique()\n",
    "        \n",
    "        range_lbl = data_lbl.replace(\"/\", \"\")\n",
    "        \n",
    "        for i in range(number_of_groups):\n",
    "            df: pd.DataFrame = df_restored.loc[(df_restored.point_idx >= points_arr[i * step]) & (df_restored.point_idx <= points_arr[(i + 1) * step - 1])].copy()\n",
    "            # print(df.point_idx.min(), df.point_idx.max(), i)\n",
    "            df.to_hdf(output_path.parent / f\"{range_lbl}.group_{i}.hdf\", key=\"data\")\n",
    "            \n",
    "        if points_arr[(i + 1) * step - 1] != points_arr[-1]:\n",
    "            df = original_df.loc[(original_df.point_idx >= points_arr[(i + 1) * step]) & (original_df.point_idx <= points_arr[-1])].copy()\n",
    "            # print(df.point_idx.min(), df.point_idx.max(), i + 1)\n",
    "            df.to_hdf(output_path.parent / f\"{range_lbl}.group_{i + 1}.hdf\", key=\"data\")"
   ]
  }
 ],
 "metadata": {
  "kernelspec": {
   "display_name": "cfdmod-7yEqALRC-py3.10",
   "language": "python",
   "name": "python3"
  },
  "language_info": {
   "codemirror_mode": {
    "name": "ipython",
    "version": 3
   },
   "file_extension": ".py",
   "mimetype": "text/x-python",
   "name": "python",
   "nbconvert_exporter": "python",
   "pygments_lexer": "ipython3",
   "version": "3.10.12"
  }
 },
 "nbformat": 4,
 "nbformat_minor": 2
}
